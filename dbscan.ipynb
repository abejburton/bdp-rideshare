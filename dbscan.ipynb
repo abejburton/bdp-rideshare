{
 "cells": [
  {
   "cell_type": "code",
   "execution_count": 1,
   "id": "42deea39-24b4-4d66-bbe6-7c925ddc360f",
   "metadata": {},
   "outputs": [
    {
     "data": {
      "text/plain": [
       "[('spark.stage.maxConsecutiveAttempts', '10'),\n",
       " ('spark.dynamicAllocation.minExecutors', '1'),\n",
       " ('spark.eventLog.enabled', 'true'),\n",
       " ('spark.submit.pyFiles',\n",
       "  '/root/.ivy2/jars/com.johnsnowlabs.nlp_spark-nlp_2.12-4.4.0.jar,/root/.ivy2/jars/graphframes_graphframes-0.8.2-spark3.1-s_2.12.jar,/root/.ivy2/jars/com.typesafe_config-1.4.2.jar,/root/.ivy2/jars/org.rocksdb_rocksdbjni-6.29.5.jar,/root/.ivy2/jars/com.amazonaws_aws-java-sdk-bundle-1.11.828.jar,/root/.ivy2/jars/com.github.universal-automata_liblevenshtein-3.0.0.jar,/root/.ivy2/jars/com.google.cloud_google-cloud-storage-2.16.0.jar,/root/.ivy2/jars/com.navigamez_greex-1.0.jar,/root/.ivy2/jars/com.johnsnowlabs.nlp_tensorflow-cpu_2.12-0.4.4.jar,/root/.ivy2/jars/it.unimi.dsi_fastutil-7.0.12.jar,/root/.ivy2/jars/org.projectlombok_lombok-1.16.8.jar,/root/.ivy2/jars/com.google.guava_guava-31.1-jre.jar,/root/.ivy2/jars/com.google.guava_failureaccess-1.0.1.jar,/root/.ivy2/jars/com.google.guava_listenablefuture-9999.0-empty-to-avoid-conflict-with-guava.jar,/root/.ivy2/jars/com.google.errorprone_error_prone_annotations-2.16.jar,/root/.ivy2/jars/com.google.j2objc_j2objc-annotations-1.3.jar,/root/.ivy2/jars/com.google.http-client_google-http-client-1.42.3.jar,/root/.ivy2/jars/io.opencensus_opencensus-contrib-http-util-0.31.1.jar,/root/.ivy2/jars/com.google.http-client_google-http-client-jackson2-1.42.3.jar,/root/.ivy2/jars/com.google.http-client_google-http-client-gson-1.42.3.jar,/root/.ivy2/jars/com.google.api-client_google-api-client-2.1.1.jar,/root/.ivy2/jars/commons-codec_commons-codec-1.15.jar,/root/.ivy2/jars/com.google.oauth-client_google-oauth-client-1.34.1.jar,/root/.ivy2/jars/com.google.http-client_google-http-client-apache-v2-1.42.3.jar,/root/.ivy2/jars/com.google.apis_google-api-services-storage-v1-rev20220705-2.0.0.jar,/root/.ivy2/jars/com.google.code.gson_gson-2.10.jar,/root/.ivy2/jars/com.google.cloud_google-cloud-core-2.9.0.jar,/root/.ivy2/jars/com.google.auto.value_auto-value-annotations-1.10.1.jar,/root/.ivy2/jars/com.google.cloud_google-cloud-core-http-2.9.0.jar,/root/.ivy2/jars/com.google.http-client_google-http-client-appengine-1.42.3.jar,/root/.ivy2/jars/com.google.api_gax-httpjson-0.105.1.jar,/root/.ivy2/jars/com.google.cloud_google-cloud-core-grpc-2.9.0.jar,/root/.ivy2/jars/io.grpc_grpc-core-1.51.0.jar,/root/.ivy2/jars/com.google.api_gax-2.20.1.jar,/root/.ivy2/jars/com.google.api_gax-grpc-2.20.1.jar,/root/.ivy2/jars/io.grpc_grpc-alts-1.51.0.jar,/root/.ivy2/jars/io.grpc_grpc-grpclb-1.51.0.jar,/root/.ivy2/jars/org.conscrypt_conscrypt-openjdk-uber-2.5.2.jar,/root/.ivy2/jars/io.grpc_grpc-protobuf-1.51.0.jar,/root/.ivy2/jars/com.google.auth_google-auth-library-credentials-1.13.0.jar,/root/.ivy2/jars/com.google.auth_google-auth-library-oauth2-http-1.13.0.jar,/root/.ivy2/jars/com.google.api_api-common-2.2.2.jar,/root/.ivy2/jars/javax.annotation_javax.annotation-api-1.3.2.jar,/root/.ivy2/jars/io.opencensus_opencensus-api-0.31.1.jar,/root/.ivy2/jars/io.grpc_grpc-context-1.51.0.jar,/root/.ivy2/jars/com.google.api.grpc_proto-google-iam-v1-1.6.22.jar,/root/.ivy2/jars/com.google.protobuf_protobuf-java-3.21.10.jar,/root/.ivy2/jars/com.google.protobuf_protobuf-java-util-3.21.10.jar,/root/.ivy2/jars/com.google.api.grpc_proto-google-common-protos-2.11.0.jar,/root/.ivy2/jars/org.threeten_threetenbp-1.6.4.jar,/root/.ivy2/jars/com.google.api.grpc_proto-google-cloud-storage-v2-2.16.0-alpha.jar,/root/.ivy2/jars/com.google.api.grpc_grpc-google-cloud-storage-v2-2.16.0-alpha.jar,/root/.ivy2/jars/com.google.api.grpc_gapic-google-cloud-storage-v2-2.16.0-alpha.jar,/root/.ivy2/jars/com.fasterxml.jackson.core_jackson-core-2.14.1.jar,/root/.ivy2/jars/com.google.code.findbugs_jsr305-3.0.2.jar,/root/.ivy2/jars/io.grpc_grpc-api-1.51.0.jar,/root/.ivy2/jars/io.grpc_grpc-auth-1.51.0.jar,/root/.ivy2/jars/io.grpc_grpc-stub-1.51.0.jar,/root/.ivy2/jars/org.checkerframework_checker-qual-3.28.0.jar,/root/.ivy2/jars/com.google.api.grpc_grpc-google-iam-v1-1.6.22.jar,/root/.ivy2/jars/io.grpc_grpc-protobuf-lite-1.51.0.jar,/root/.ivy2/jars/com.google.android_annotations-4.1.1.4.jar,/root/.ivy2/jars/org.codehaus.mojo_animal-sniffer-annotations-1.22.jar,/root/.ivy2/jars/io.grpc_grpc-netty-shaded-1.51.0.jar,/root/.ivy2/jars/io.perfmark_perfmark-api-0.26.0.jar,/root/.ivy2/jars/io.grpc_grpc-googleapis-1.51.0.jar,/root/.ivy2/jars/io.grpc_grpc-xds-1.51.0.jar,/root/.ivy2/jars/io.opencensus_opencensus-proto-0.2.0.jar,/root/.ivy2/jars/io.grpc_grpc-services-1.51.0.jar,/root/.ivy2/jars/com.google.re2j_re2j-1.6.jar,/root/.ivy2/jars/dk.brics.automaton_automaton-1.11-8.jar,/root/.ivy2/jars/org.slf4j_slf4j-api-1.7.16.jar'),\n",
       " ('spark.history.fs.logDirectory',\n",
       "  'gs://dataproc-temp-us-central1-635155370842-uzamlpgc/24b513ac-fceb-45d7-87ce-724ecdca7081/spark-job-history'),\n",
       " ('spark.dataproc.sql.joinConditionReorder.enabled', 'true'),\n",
       " ('spark.sql.autoBroadcastJoinThreshold', '191m'),\n",
       " ('spark.kryoserializer.buffer.max', '2000M'),\n",
       " ('spark.serializer', 'org.apache.spark.serializer.KryoSerializer'),\n",
       " ('spark.dataproc.sql.local.rank.pushdown.enabled', 'true'),\n",
       " ('spark.app.id', 'application_1700888021537_0001'),\n",
       " ('spark.driver.maxResultSize', '0'),\n",
       " ('spark.yarn.unmanagedAM.enabled', 'true'),\n",
       " ('spark.ui.filters',\n",
       "  'org.apache.hadoop.yarn.server.webproxy.amfilter.AmIpFilter'),\n",
       " ('spark.eventLog.dir',\n",
       "  'gs://dataproc-temp-us-central1-635155370842-uzamlpgc/24b513ac-fceb-45d7-87ce-724ecdca7081/spark-job-history'),\n",
       " ('spark.metrics.namespace',\n",
       "  'app_name:${spark.app.name}.app_id:${spark.app.id}'),\n",
       " ('spark.org.apache.hadoop.yarn.server.webproxy.amfilter.AmIpFilter.param.PROXY_HOSTS',\n",
       "  'hub-msca-bdp-dphub-students-test-ridhi-m'),\n",
       " ('spark.dataproc.sql.optimizer.leftsemijoin.conversion.enabled', 'true'),\n",
       " ('spark.hadoop.hive.execution.engine', 'mr'),\n",
       " ('spark.executor.id', 'driver'),\n",
       " ('spark.driver.host',\n",
       "  'hub-msca-bdp-dphub-students-test-ridhi-m.c.msca-bdp-student-ap.internal'),\n",
       " ('spark.hadoop.mapreduce.fileoutputcommitter.algorithm.version', '2'),\n",
       " ('spark.dynamicAllocation.maxExecutors', '10000'),\n",
       " ('spark.yarn.dist.pyFiles',\n",
       "  'file:///root/.ivy2/jars/com.johnsnowlabs.nlp_spark-nlp_2.12-4.4.0.jar,file:///root/.ivy2/jars/graphframes_graphframes-0.8.2-spark3.1-s_2.12.jar,file:///root/.ivy2/jars/com.typesafe_config-1.4.2.jar,file:///root/.ivy2/jars/org.rocksdb_rocksdbjni-6.29.5.jar,file:///root/.ivy2/jars/com.amazonaws_aws-java-sdk-bundle-1.11.828.jar,file:///root/.ivy2/jars/com.github.universal-automata_liblevenshtein-3.0.0.jar,file:///root/.ivy2/jars/com.google.cloud_google-cloud-storage-2.16.0.jar,file:///root/.ivy2/jars/com.navigamez_greex-1.0.jar,file:///root/.ivy2/jars/com.johnsnowlabs.nlp_tensorflow-cpu_2.12-0.4.4.jar,file:///root/.ivy2/jars/it.unimi.dsi_fastutil-7.0.12.jar,file:///root/.ivy2/jars/org.projectlombok_lombok-1.16.8.jar,file:///root/.ivy2/jars/com.google.guava_guava-31.1-jre.jar,file:///root/.ivy2/jars/com.google.guava_failureaccess-1.0.1.jar,file:///root/.ivy2/jars/com.google.guava_listenablefuture-9999.0-empty-to-avoid-conflict-with-guava.jar,file:///root/.ivy2/jars/com.google.errorprone_error_prone_annotations-2.16.jar,file:///root/.ivy2/jars/com.google.j2objc_j2objc-annotations-1.3.jar,file:///root/.ivy2/jars/com.google.http-client_google-http-client-1.42.3.jar,file:///root/.ivy2/jars/io.opencensus_opencensus-contrib-http-util-0.31.1.jar,file:///root/.ivy2/jars/com.google.http-client_google-http-client-jackson2-1.42.3.jar,file:///root/.ivy2/jars/com.google.http-client_google-http-client-gson-1.42.3.jar,file:///root/.ivy2/jars/com.google.api-client_google-api-client-2.1.1.jar,file:///root/.ivy2/jars/commons-codec_commons-codec-1.15.jar,file:///root/.ivy2/jars/com.google.oauth-client_google-oauth-client-1.34.1.jar,file:///root/.ivy2/jars/com.google.http-client_google-http-client-apache-v2-1.42.3.jar,file:///root/.ivy2/jars/com.google.apis_google-api-services-storage-v1-rev20220705-2.0.0.jar,file:///root/.ivy2/jars/com.google.code.gson_gson-2.10.jar,file:///root/.ivy2/jars/com.google.cloud_google-cloud-core-2.9.0.jar,file:///root/.ivy2/jars/com.google.auto.value_auto-value-annotations-1.10.1.jar,file:///root/.ivy2/jars/com.google.cloud_google-cloud-core-http-2.9.0.jar,file:///root/.ivy2/jars/com.google.http-client_google-http-client-appengine-1.42.3.jar,file:///root/.ivy2/jars/com.google.api_gax-httpjson-0.105.1.jar,file:///root/.ivy2/jars/com.google.cloud_google-cloud-core-grpc-2.9.0.jar,file:///root/.ivy2/jars/io.grpc_grpc-core-1.51.0.jar,file:///root/.ivy2/jars/com.google.api_gax-2.20.1.jar,file:///root/.ivy2/jars/com.google.api_gax-grpc-2.20.1.jar,file:///root/.ivy2/jars/io.grpc_grpc-alts-1.51.0.jar,file:///root/.ivy2/jars/io.grpc_grpc-grpclb-1.51.0.jar,file:///root/.ivy2/jars/org.conscrypt_conscrypt-openjdk-uber-2.5.2.jar,file:///root/.ivy2/jars/io.grpc_grpc-protobuf-1.51.0.jar,file:///root/.ivy2/jars/com.google.auth_google-auth-library-credentials-1.13.0.jar,file:///root/.ivy2/jars/com.google.auth_google-auth-library-oauth2-http-1.13.0.jar,file:///root/.ivy2/jars/com.google.api_api-common-2.2.2.jar,file:///root/.ivy2/jars/javax.annotation_javax.annotation-api-1.3.2.jar,file:///root/.ivy2/jars/io.opencensus_opencensus-api-0.31.1.jar,file:///root/.ivy2/jars/io.grpc_grpc-context-1.51.0.jar,file:///root/.ivy2/jars/com.google.api.grpc_proto-google-iam-v1-1.6.22.jar,file:///root/.ivy2/jars/com.google.protobuf_protobuf-java-3.21.10.jar,file:///root/.ivy2/jars/com.google.protobuf_protobuf-java-util-3.21.10.jar,file:///root/.ivy2/jars/com.google.api.grpc_proto-google-common-protos-2.11.0.jar,file:///root/.ivy2/jars/org.threeten_threetenbp-1.6.4.jar,file:///root/.ivy2/jars/com.google.api.grpc_proto-google-cloud-storage-v2-2.16.0-alpha.jar,file:///root/.ivy2/jars/com.google.api.grpc_grpc-google-cloud-storage-v2-2.16.0-alpha.jar,file:///root/.ivy2/jars/com.google.api.grpc_gapic-google-cloud-storage-v2-2.16.0-alpha.jar,file:///root/.ivy2/jars/com.fasterxml.jackson.core_jackson-core-2.14.1.jar,file:///root/.ivy2/jars/com.google.code.findbugs_jsr305-3.0.2.jar,file:///root/.ivy2/jars/io.grpc_grpc-api-1.51.0.jar,file:///root/.ivy2/jars/io.grpc_grpc-auth-1.51.0.jar,file:///root/.ivy2/jars/io.grpc_grpc-stub-1.51.0.jar,file:///root/.ivy2/jars/org.checkerframework_checker-qual-3.28.0.jar,file:///root/.ivy2/jars/com.google.api.grpc_grpc-google-iam-v1-1.6.22.jar,file:///root/.ivy2/jars/io.grpc_grpc-protobuf-lite-1.51.0.jar,file:///root/.ivy2/jars/com.google.android_annotations-4.1.1.4.jar,file:///root/.ivy2/jars/org.codehaus.mojo_animal-sniffer-annotations-1.22.jar,file:///root/.ivy2/jars/io.grpc_grpc-netty-shaded-1.51.0.jar,file:///root/.ivy2/jars/io.perfmark_perfmark-api-0.26.0.jar,file:///root/.ivy2/jars/io.grpc_grpc-googleapis-1.51.0.jar,file:///root/.ivy2/jars/io.grpc_grpc-xds-1.51.0.jar,file:///root/.ivy2/jars/io.opencensus_opencensus-proto-0.2.0.jar,file:///root/.ivy2/jars/io.grpc_grpc-services-1.51.0.jar,file:///root/.ivy2/jars/com.google.re2j_re2j-1.6.jar,file:///root/.ivy2/jars/dk.brics.automaton_automaton-1.11-8.jar,file:///root/.ivy2/jars/org.slf4j_slf4j-api-1.7.16.jar'),\n",
       " ('spark.yarn.am.attemptFailuresValidityInterval', '1h'),\n",
       " ('spark.app.name', 'Spark Updated Conf'),\n",
       " ('spark.sql.catalogImplementation', 'hive'),\n",
       " ('spark.cores.max', '8'),\n",
       " ('spark.executorEnv.OPENBLAS_NUM_THREADS', '1'),\n",
       " ('spark.yarn.secondary.jars',\n",
       "  'com.johnsnowlabs.nlp_spark-nlp_2.12-4.4.0.jar,graphframes_graphframes-0.8.2-spark3.1-s_2.12.jar,com.typesafe_config-1.4.2.jar,org.rocksdb_rocksdbjni-6.29.5.jar,com.amazonaws_aws-java-sdk-bundle-1.11.828.jar,com.github.universal-automata_liblevenshtein-3.0.0.jar,com.google.cloud_google-cloud-storage-2.16.0.jar,com.navigamez_greex-1.0.jar,com.johnsnowlabs.nlp_tensorflow-cpu_2.12-0.4.4.jar,it.unimi.dsi_fastutil-7.0.12.jar,org.projectlombok_lombok-1.16.8.jar,com.google.guava_guava-31.1-jre.jar,com.google.guava_failureaccess-1.0.1.jar,com.google.guava_listenablefuture-9999.0-empty-to-avoid-conflict-with-guava.jar,com.google.errorprone_error_prone_annotations-2.16.jar,com.google.j2objc_j2objc-annotations-1.3.jar,com.google.http-client_google-http-client-1.42.3.jar,io.opencensus_opencensus-contrib-http-util-0.31.1.jar,com.google.http-client_google-http-client-jackson2-1.42.3.jar,com.google.http-client_google-http-client-gson-1.42.3.jar,com.google.api-client_google-api-client-2.1.1.jar,commons-codec_commons-codec-1.15.jar,com.google.oauth-client_google-oauth-client-1.34.1.jar,com.google.http-client_google-http-client-apache-v2-1.42.3.jar,com.google.apis_google-api-services-storage-v1-rev20220705-2.0.0.jar,com.google.code.gson_gson-2.10.jar,com.google.cloud_google-cloud-core-2.9.0.jar,com.google.auto.value_auto-value-annotations-1.10.1.jar,com.google.cloud_google-cloud-core-http-2.9.0.jar,com.google.http-client_google-http-client-appengine-1.42.3.jar,com.google.api_gax-httpjson-0.105.1.jar,com.google.cloud_google-cloud-core-grpc-2.9.0.jar,io.grpc_grpc-core-1.51.0.jar,com.google.api_gax-2.20.1.jar,com.google.api_gax-grpc-2.20.1.jar,io.grpc_grpc-alts-1.51.0.jar,io.grpc_grpc-grpclb-1.51.0.jar,org.conscrypt_conscrypt-openjdk-uber-2.5.2.jar,io.grpc_grpc-protobuf-1.51.0.jar,com.google.auth_google-auth-library-credentials-1.13.0.jar,com.google.auth_google-auth-library-oauth2-http-1.13.0.jar,com.google.api_api-common-2.2.2.jar,javax.annotation_javax.annotation-api-1.3.2.jar,io.opencensus_opencensus-api-0.31.1.jar,io.grpc_grpc-context-1.51.0.jar,com.google.api.grpc_proto-google-iam-v1-1.6.22.jar,com.google.protobuf_protobuf-java-3.21.10.jar,com.google.protobuf_protobuf-java-util-3.21.10.jar,com.google.api.grpc_proto-google-common-protos-2.11.0.jar,org.threeten_threetenbp-1.6.4.jar,com.google.api.grpc_proto-google-cloud-storage-v2-2.16.0-alpha.jar,com.google.api.grpc_grpc-google-cloud-storage-v2-2.16.0-alpha.jar,com.google.api.grpc_gapic-google-cloud-storage-v2-2.16.0-alpha.jar,com.fasterxml.jackson.core_jackson-core-2.14.1.jar,com.google.code.findbugs_jsr305-3.0.2.jar,io.grpc_grpc-api-1.51.0.jar,io.grpc_grpc-auth-1.51.0.jar,io.grpc_grpc-stub-1.51.0.jar,org.checkerframework_checker-qual-3.28.0.jar,com.google.api.grpc_grpc-google-iam-v1-1.6.22.jar,io.grpc_grpc-protobuf-lite-1.51.0.jar,com.google.android_annotations-4.1.1.4.jar,org.codehaus.mojo_animal-sniffer-annotations-1.22.jar,io.grpc_grpc-netty-shaded-1.51.0.jar,io.perfmark_perfmark-api-0.26.0.jar,io.grpc_grpc-googleapis-1.51.0.jar,io.grpc_grpc-xds-1.51.0.jar,io.opencensus_opencensus-proto-0.2.0.jar,io.grpc_grpc-services-1.51.0.jar,com.google.re2j_re2j-1.6.jar,dk.brics.automaton_automaton-1.11-8.jar,org.slf4j_slf4j-api-1.7.16.jar'),\n",
       " ('spark.org.apache.hadoop.yarn.server.webproxy.amfilter.AmIpFilter.param.PROXY_URI_BASES',\n",
       "  'http://hub-msca-bdp-dphub-students-test-ridhi-m:8088/proxy/application_1700888021537_0001'),\n",
       " ('spark.repl.local.jars',\n",
       "  'file:///root/.ivy2/jars/com.johnsnowlabs.nlp_spark-nlp_2.12-4.4.0.jar,file:///root/.ivy2/jars/graphframes_graphframes-0.8.2-spark3.1-s_2.12.jar,file:///root/.ivy2/jars/com.typesafe_config-1.4.2.jar,file:///root/.ivy2/jars/org.rocksdb_rocksdbjni-6.29.5.jar,file:///root/.ivy2/jars/com.amazonaws_aws-java-sdk-bundle-1.11.828.jar,file:///root/.ivy2/jars/com.github.universal-automata_liblevenshtein-3.0.0.jar,file:///root/.ivy2/jars/com.google.cloud_google-cloud-storage-2.16.0.jar,file:///root/.ivy2/jars/com.navigamez_greex-1.0.jar,file:///root/.ivy2/jars/com.johnsnowlabs.nlp_tensorflow-cpu_2.12-0.4.4.jar,file:///root/.ivy2/jars/it.unimi.dsi_fastutil-7.0.12.jar,file:///root/.ivy2/jars/org.projectlombok_lombok-1.16.8.jar,file:///root/.ivy2/jars/com.google.guava_guava-31.1-jre.jar,file:///root/.ivy2/jars/com.google.guava_failureaccess-1.0.1.jar,file:///root/.ivy2/jars/com.google.guava_listenablefuture-9999.0-empty-to-avoid-conflict-with-guava.jar,file:///root/.ivy2/jars/com.google.errorprone_error_prone_annotations-2.16.jar,file:///root/.ivy2/jars/com.google.j2objc_j2objc-annotations-1.3.jar,file:///root/.ivy2/jars/com.google.http-client_google-http-client-1.42.3.jar,file:///root/.ivy2/jars/io.opencensus_opencensus-contrib-http-util-0.31.1.jar,file:///root/.ivy2/jars/com.google.http-client_google-http-client-jackson2-1.42.3.jar,file:///root/.ivy2/jars/com.google.http-client_google-http-client-gson-1.42.3.jar,file:///root/.ivy2/jars/com.google.api-client_google-api-client-2.1.1.jar,file:///root/.ivy2/jars/commons-codec_commons-codec-1.15.jar,file:///root/.ivy2/jars/com.google.oauth-client_google-oauth-client-1.34.1.jar,file:///root/.ivy2/jars/com.google.http-client_google-http-client-apache-v2-1.42.3.jar,file:///root/.ivy2/jars/com.google.apis_google-api-services-storage-v1-rev20220705-2.0.0.jar,file:///root/.ivy2/jars/com.google.code.gson_gson-2.10.jar,file:///root/.ivy2/jars/com.google.cloud_google-cloud-core-2.9.0.jar,file:///root/.ivy2/jars/com.google.auto.value_auto-value-annotations-1.10.1.jar,file:///root/.ivy2/jars/com.google.cloud_google-cloud-core-http-2.9.0.jar,file:///root/.ivy2/jars/com.google.http-client_google-http-client-appengine-1.42.3.jar,file:///root/.ivy2/jars/com.google.api_gax-httpjson-0.105.1.jar,file:///root/.ivy2/jars/com.google.cloud_google-cloud-core-grpc-2.9.0.jar,file:///root/.ivy2/jars/io.grpc_grpc-core-1.51.0.jar,file:///root/.ivy2/jars/com.google.api_gax-2.20.1.jar,file:///root/.ivy2/jars/com.google.api_gax-grpc-2.20.1.jar,file:///root/.ivy2/jars/io.grpc_grpc-alts-1.51.0.jar,file:///root/.ivy2/jars/io.grpc_grpc-grpclb-1.51.0.jar,file:///root/.ivy2/jars/org.conscrypt_conscrypt-openjdk-uber-2.5.2.jar,file:///root/.ivy2/jars/io.grpc_grpc-protobuf-1.51.0.jar,file:///root/.ivy2/jars/com.google.auth_google-auth-library-credentials-1.13.0.jar,file:///root/.ivy2/jars/com.google.auth_google-auth-library-oauth2-http-1.13.0.jar,file:///root/.ivy2/jars/com.google.api_api-common-2.2.2.jar,file:///root/.ivy2/jars/javax.annotation_javax.annotation-api-1.3.2.jar,file:///root/.ivy2/jars/io.opencensus_opencensus-api-0.31.1.jar,file:///root/.ivy2/jars/io.grpc_grpc-context-1.51.0.jar,file:///root/.ivy2/jars/com.google.api.grpc_proto-google-iam-v1-1.6.22.jar,file:///root/.ivy2/jars/com.google.protobuf_protobuf-java-3.21.10.jar,file:///root/.ivy2/jars/com.google.protobuf_protobuf-java-util-3.21.10.jar,file:///root/.ivy2/jars/com.google.api.grpc_proto-google-common-protos-2.11.0.jar,file:///root/.ivy2/jars/org.threeten_threetenbp-1.6.4.jar,file:///root/.ivy2/jars/com.google.api.grpc_proto-google-cloud-storage-v2-2.16.0-alpha.jar,file:///root/.ivy2/jars/com.google.api.grpc_grpc-google-cloud-storage-v2-2.16.0-alpha.jar,file:///root/.ivy2/jars/com.google.api.grpc_gapic-google-cloud-storage-v2-2.16.0-alpha.jar,file:///root/.ivy2/jars/com.fasterxml.jackson.core_jackson-core-2.14.1.jar,file:///root/.ivy2/jars/com.google.code.findbugs_jsr305-3.0.2.jar,file:///root/.ivy2/jars/io.grpc_grpc-api-1.51.0.jar,file:///root/.ivy2/jars/io.grpc_grpc-auth-1.51.0.jar,file:///root/.ivy2/jars/io.grpc_grpc-stub-1.51.0.jar,file:///root/.ivy2/jars/org.checkerframework_checker-qual-3.28.0.jar,file:///root/.ivy2/jars/com.google.api.grpc_grpc-google-iam-v1-1.6.22.jar,file:///root/.ivy2/jars/io.grpc_grpc-protobuf-lite-1.51.0.jar,file:///root/.ivy2/jars/com.google.android_annotations-4.1.1.4.jar,file:///root/.ivy2/jars/org.codehaus.mojo_animal-sniffer-annotations-1.22.jar,file:///root/.ivy2/jars/io.grpc_grpc-netty-shaded-1.51.0.jar,file:///root/.ivy2/jars/io.perfmark_perfmark-api-0.26.0.jar,file:///root/.ivy2/jars/io.grpc_grpc-googleapis-1.51.0.jar,file:///root/.ivy2/jars/io.grpc_grpc-xds-1.51.0.jar,file:///root/.ivy2/jars/io.opencensus_opencensus-proto-0.2.0.jar,file:///root/.ivy2/jars/io.grpc_grpc-services-1.51.0.jar,file:///root/.ivy2/jars/com.google.re2j_re2j-1.6.jar,file:///root/.ivy2/jars/dk.brics.automaton_automaton-1.11-8.jar,file:///root/.ivy2/jars/org.slf4j_slf4j-api-1.7.16.jar'),\n",
       " ('spark.sql.cbo.enabled', 'true'),\n",
       " ('spark.executorEnv.PYTHONPATH',\n",
       "  '/usr/lib/spark/python/lib/py4j-0.10.9-src.zip:/usr/lib/spark/python/:<CPS>{{PWD}}/pyspark.zip<CPS>{{PWD}}/py4j-0.10.9-src.zip<CPS>{{PWD}}/com.johnsnowlabs.nlp_spark-nlp_2.12-4.4.0.jar<CPS>{{PWD}}/graphframes_graphframes-0.8.2-spark3.1-s_2.12.jar<CPS>{{PWD}}/com.typesafe_config-1.4.2.jar<CPS>{{PWD}}/org.rocksdb_rocksdbjni-6.29.5.jar<CPS>{{PWD}}/com.amazonaws_aws-java-sdk-bundle-1.11.828.jar<CPS>{{PWD}}/com.github.universal-automata_liblevenshtein-3.0.0.jar<CPS>{{PWD}}/com.google.cloud_google-cloud-storage-2.16.0.jar<CPS>{{PWD}}/com.navigamez_greex-1.0.jar<CPS>{{PWD}}/com.johnsnowlabs.nlp_tensorflow-cpu_2.12-0.4.4.jar<CPS>{{PWD}}/it.unimi.dsi_fastutil-7.0.12.jar<CPS>{{PWD}}/org.projectlombok_lombok-1.16.8.jar<CPS>{{PWD}}/com.google.guava_guava-31.1-jre.jar<CPS>{{PWD}}/com.google.guava_failureaccess-1.0.1.jar<CPS>{{PWD}}/com.google.guava_listenablefuture-9999.0-empty-to-avoid-conflict-with-guava.jar<CPS>{{PWD}}/com.google.errorprone_error_prone_annotations-2.16.jar<CPS>{{PWD}}/com.google.j2objc_j2objc-annotations-1.3.jar<CPS>{{PWD}}/com.google.http-client_google-http-client-1.42.3.jar<CPS>{{PWD}}/io.opencensus_opencensus-contrib-http-util-0.31.1.jar<CPS>{{PWD}}/com.google.http-client_google-http-client-jackson2-1.42.3.jar<CPS>{{PWD}}/com.google.http-client_google-http-client-gson-1.42.3.jar<CPS>{{PWD}}/com.google.api-client_google-api-client-2.1.1.jar<CPS>{{PWD}}/commons-codec_commons-codec-1.15.jar<CPS>{{PWD}}/com.google.oauth-client_google-oauth-client-1.34.1.jar<CPS>{{PWD}}/com.google.http-client_google-http-client-apache-v2-1.42.3.jar<CPS>{{PWD}}/com.google.apis_google-api-services-storage-v1-rev20220705-2.0.0.jar<CPS>{{PWD}}/com.google.code.gson_gson-2.10.jar<CPS>{{PWD}}/com.google.cloud_google-cloud-core-2.9.0.jar<CPS>{{PWD}}/com.google.auto.value_auto-value-annotations-1.10.1.jar<CPS>{{PWD}}/com.google.cloud_google-cloud-core-http-2.9.0.jar<CPS>{{PWD}}/com.google.http-client_google-http-client-appengine-1.42.3.jar<CPS>{{PWD}}/com.google.api_gax-httpjson-0.105.1.jar<CPS>{{PWD}}/com.google.cloud_google-cloud-core-grpc-2.9.0.jar<CPS>{{PWD}}/io.grpc_grpc-core-1.51.0.jar<CPS>{{PWD}}/com.google.api_gax-2.20.1.jar<CPS>{{PWD}}/com.google.api_gax-grpc-2.20.1.jar<CPS>{{PWD}}/io.grpc_grpc-alts-1.51.0.jar<CPS>{{PWD}}/io.grpc_grpc-grpclb-1.51.0.jar<CPS>{{PWD}}/org.conscrypt_conscrypt-openjdk-uber-2.5.2.jar<CPS>{{PWD}}/io.grpc_grpc-protobuf-1.51.0.jar<CPS>{{PWD}}/com.google.auth_google-auth-library-credentials-1.13.0.jar<CPS>{{PWD}}/com.google.auth_google-auth-library-oauth2-http-1.13.0.jar<CPS>{{PWD}}/com.google.api_api-common-2.2.2.jar<CPS>{{PWD}}/javax.annotation_javax.annotation-api-1.3.2.jar<CPS>{{PWD}}/io.opencensus_opencensus-api-0.31.1.jar<CPS>{{PWD}}/io.grpc_grpc-context-1.51.0.jar<CPS>{{PWD}}/com.google.api.grpc_proto-google-iam-v1-1.6.22.jar<CPS>{{PWD}}/com.google.protobuf_protobuf-java-3.21.10.jar<CPS>{{PWD}}/com.google.protobuf_protobuf-java-util-3.21.10.jar<CPS>{{PWD}}/com.google.api.grpc_proto-google-common-protos-2.11.0.jar<CPS>{{PWD}}/org.threeten_threetenbp-1.6.4.jar<CPS>{{PWD}}/com.google.api.grpc_proto-google-cloud-storage-v2-2.16.0-alpha.jar<CPS>{{PWD}}/com.google.api.grpc_grpc-google-cloud-storage-v2-2.16.0-alpha.jar<CPS>{{PWD}}/com.google.api.grpc_gapic-google-cloud-storage-v2-2.16.0-alpha.jar<CPS>{{PWD}}/com.fasterxml.jackson.core_jackson-core-2.14.1.jar<CPS>{{PWD}}/com.google.code.findbugs_jsr305-3.0.2.jar<CPS>{{PWD}}/io.grpc_grpc-api-1.51.0.jar<CPS>{{PWD}}/io.grpc_grpc-auth-1.51.0.jar<CPS>{{PWD}}/io.grpc_grpc-stub-1.51.0.jar<CPS>{{PWD}}/org.checkerframework_checker-qual-3.28.0.jar<CPS>{{PWD}}/com.google.api.grpc_grpc-google-iam-v1-1.6.22.jar<CPS>{{PWD}}/io.grpc_grpc-protobuf-lite-1.51.0.jar<CPS>{{PWD}}/com.google.android_annotations-4.1.1.4.jar<CPS>{{PWD}}/org.codehaus.mojo_animal-sniffer-annotations-1.22.jar<CPS>{{PWD}}/io.grpc_grpc-netty-shaded-1.51.0.jar<CPS>{{PWD}}/io.perfmark_perfmark-api-0.26.0.jar<CPS>{{PWD}}/io.grpc_grpc-googleapis-1.51.0.jar<CPS>{{PWD}}/io.grpc_grpc-xds-1.51.0.jar<CPS>{{PWD}}/io.opencensus_opencensus-proto-0.2.0.jar<CPS>{{PWD}}/io.grpc_grpc-services-1.51.0.jar<CPS>{{PWD}}/com.google.re2j_re2j-1.6.jar<CPS>{{PWD}}/dk.brics.automaton_automaton-1.11-8.jar<CPS>{{PWD}}/org.slf4j_slf4j-api-1.7.16.jar'),\n",
       " ('spark.yarn.dist.jars',\n",
       "  'file:///root/.ivy2/jars/com.johnsnowlabs.nlp_spark-nlp_2.12-4.4.0.jar,file:///root/.ivy2/jars/graphframes_graphframes-0.8.2-spark3.1-s_2.12.jar,file:///root/.ivy2/jars/com.typesafe_config-1.4.2.jar,file:///root/.ivy2/jars/org.rocksdb_rocksdbjni-6.29.5.jar,file:///root/.ivy2/jars/com.amazonaws_aws-java-sdk-bundle-1.11.828.jar,file:///root/.ivy2/jars/com.github.universal-automata_liblevenshtein-3.0.0.jar,file:///root/.ivy2/jars/com.google.cloud_google-cloud-storage-2.16.0.jar,file:///root/.ivy2/jars/com.navigamez_greex-1.0.jar,file:///root/.ivy2/jars/com.johnsnowlabs.nlp_tensorflow-cpu_2.12-0.4.4.jar,file:///root/.ivy2/jars/it.unimi.dsi_fastutil-7.0.12.jar,file:///root/.ivy2/jars/org.projectlombok_lombok-1.16.8.jar,file:///root/.ivy2/jars/com.google.guava_guava-31.1-jre.jar,file:///root/.ivy2/jars/com.google.guava_failureaccess-1.0.1.jar,file:///root/.ivy2/jars/com.google.guava_listenablefuture-9999.0-empty-to-avoid-conflict-with-guava.jar,file:///root/.ivy2/jars/com.google.errorprone_error_prone_annotations-2.16.jar,file:///root/.ivy2/jars/com.google.j2objc_j2objc-annotations-1.3.jar,file:///root/.ivy2/jars/com.google.http-client_google-http-client-1.42.3.jar,file:///root/.ivy2/jars/io.opencensus_opencensus-contrib-http-util-0.31.1.jar,file:///root/.ivy2/jars/com.google.http-client_google-http-client-jackson2-1.42.3.jar,file:///root/.ivy2/jars/com.google.http-client_google-http-client-gson-1.42.3.jar,file:///root/.ivy2/jars/com.google.api-client_google-api-client-2.1.1.jar,file:///root/.ivy2/jars/commons-codec_commons-codec-1.15.jar,file:///root/.ivy2/jars/com.google.oauth-client_google-oauth-client-1.34.1.jar,file:///root/.ivy2/jars/com.google.http-client_google-http-client-apache-v2-1.42.3.jar,file:///root/.ivy2/jars/com.google.apis_google-api-services-storage-v1-rev20220705-2.0.0.jar,file:///root/.ivy2/jars/com.google.code.gson_gson-2.10.jar,file:///root/.ivy2/jars/com.google.cloud_google-cloud-core-2.9.0.jar,file:///root/.ivy2/jars/com.google.auto.value_auto-value-annotations-1.10.1.jar,file:///root/.ivy2/jars/com.google.cloud_google-cloud-core-http-2.9.0.jar,file:///root/.ivy2/jars/com.google.http-client_google-http-client-appengine-1.42.3.jar,file:///root/.ivy2/jars/com.google.api_gax-httpjson-0.105.1.jar,file:///root/.ivy2/jars/com.google.cloud_google-cloud-core-grpc-2.9.0.jar,file:///root/.ivy2/jars/io.grpc_grpc-core-1.51.0.jar,file:///root/.ivy2/jars/com.google.api_gax-2.20.1.jar,file:///root/.ivy2/jars/com.google.api_gax-grpc-2.20.1.jar,file:///root/.ivy2/jars/io.grpc_grpc-alts-1.51.0.jar,file:///root/.ivy2/jars/io.grpc_grpc-grpclb-1.51.0.jar,file:///root/.ivy2/jars/org.conscrypt_conscrypt-openjdk-uber-2.5.2.jar,file:///root/.ivy2/jars/io.grpc_grpc-protobuf-1.51.0.jar,file:///root/.ivy2/jars/com.google.auth_google-auth-library-credentials-1.13.0.jar,file:///root/.ivy2/jars/com.google.auth_google-auth-library-oauth2-http-1.13.0.jar,file:///root/.ivy2/jars/com.google.api_api-common-2.2.2.jar,file:///root/.ivy2/jars/javax.annotation_javax.annotation-api-1.3.2.jar,file:///root/.ivy2/jars/io.opencensus_opencensus-api-0.31.1.jar,file:///root/.ivy2/jars/io.grpc_grpc-context-1.51.0.jar,file:///root/.ivy2/jars/com.google.api.grpc_proto-google-iam-v1-1.6.22.jar,file:///root/.ivy2/jars/com.google.protobuf_protobuf-java-3.21.10.jar,file:///root/.ivy2/jars/com.google.protobuf_protobuf-java-util-3.21.10.jar,file:///root/.ivy2/jars/com.google.api.grpc_proto-google-common-protos-2.11.0.jar,file:///root/.ivy2/jars/org.threeten_threetenbp-1.6.4.jar,file:///root/.ivy2/jars/com.google.api.grpc_proto-google-cloud-storage-v2-2.16.0-alpha.jar,file:///root/.ivy2/jars/com.google.api.grpc_grpc-google-cloud-storage-v2-2.16.0-alpha.jar,file:///root/.ivy2/jars/com.google.api.grpc_gapic-google-cloud-storage-v2-2.16.0-alpha.jar,file:///root/.ivy2/jars/com.fasterxml.jackson.core_jackson-core-2.14.1.jar,file:///root/.ivy2/jars/com.google.code.findbugs_jsr305-3.0.2.jar,file:///root/.ivy2/jars/io.grpc_grpc-api-1.51.0.jar,file:///root/.ivy2/jars/io.grpc_grpc-auth-1.51.0.jar,file:///root/.ivy2/jars/io.grpc_grpc-stub-1.51.0.jar,file:///root/.ivy2/jars/org.checkerframework_checker-qual-3.28.0.jar,file:///root/.ivy2/jars/com.google.api.grpc_grpc-google-iam-v1-1.6.22.jar,file:///root/.ivy2/jars/io.grpc_grpc-protobuf-lite-1.51.0.jar,file:///root/.ivy2/jars/com.google.android_annotations-4.1.1.4.jar,file:///root/.ivy2/jars/org.codehaus.mojo_animal-sniffer-annotations-1.22.jar,file:///root/.ivy2/jars/io.grpc_grpc-netty-shaded-1.51.0.jar,file:///root/.ivy2/jars/io.perfmark_perfmark-api-0.26.0.jar,file:///root/.ivy2/jars/io.grpc_grpc-googleapis-1.51.0.jar,file:///root/.ivy2/jars/io.grpc_grpc-xds-1.51.0.jar,file:///root/.ivy2/jars/io.opencensus_opencensus-proto-0.2.0.jar,file:///root/.ivy2/jars/io.grpc_grpc-services-1.51.0.jar,file:///root/.ivy2/jars/com.google.re2j_re2j-1.6.jar,file:///root/.ivy2/jars/dk.brics.automaton_automaton-1.11-8.jar,file:///root/.ivy2/jars/org.slf4j_slf4j-api-1.7.16.jar'),\n",
       " ('spark.dataproc.sql.parquet.enableFooterCache', 'true'),\n",
       " ('spark.sql.warehouse.dir', 'file:/spark-warehouse'),\n",
       " ('spark.yarn.executor.failuresValidityInterval', '1h'),\n",
       " ('spark.dataproc.metrics.listener.metrics.collector.hostname',\n",
       "  'hub-msca-bdp-dphub-students-test-ridhi-m'),\n",
       " ('spark.yarn.am.memory', '640m'),\n",
       " ('spark.jars.packages',\n",
       "  'com.johnsnowlabs.nlp:spark-nlp_2.12:4.4.0,graphframes:graphframes:0.8.2-spark3.1-s_2.12'),\n",
       " ('spark.executor.instances', '2'),\n",
       " ('spark.dataproc.listeners',\n",
       "  'com.google.cloud.spark.performance.DataprocMetricsListener'),\n",
       " ('spark.driver.memory', '8g'),\n",
       " ('spark.serializer.objectStreamReset', '100'),\n",
       " ('spark.executor.memory', '8g'),\n",
       " ('spark.submit.deployMode', 'client'),\n",
       " ('spark.executor.cores', '8'),\n",
       " ('spark.app.startTime', '1700888229434'),\n",
       " ('spark.sql.cbo.joinReorder.enabled', 'true'),\n",
       " ('spark.shuffle.service.enabled', 'true'),\n",
       " ('spark.scheduler.mode', 'FAIR'),\n",
       " ('spark.sql.adaptive.enabled', 'true'),\n",
       " ('spark.yarn.jars', 'local:/usr/lib/spark/jars/*'),\n",
       " ('spark.scheduler.minRegisteredResourcesRatio', '0.0'),\n",
       " ('spark.driver.port', '37707'),\n",
       " ('spark.master', 'yarn'),\n",
       " ('spark.ui.port', '0'),\n",
       " ('spark.rpc.message.maxSize', '512'),\n",
       " ('spark.rdd.compress', 'True'),\n",
       " ('spark.task.maxFailures', '10'),\n",
       " ('spark.yarn.isPython', 'true'),\n",
       " ('spark.dynamicAllocation.enabled', 'true'),\n",
       " ('spark.ui.proxyBase', '/proxy/application_1700888021537_0001'),\n",
       " ('spark.driver.appUIAddress',\n",
       "  'http://hub-msca-bdp-dphub-students-test-ridhi-m.c.msca-bdp-student-ap.internal:34369'),\n",
       " ('spark.yarn.historyServer.address',\n",
       "  'hub-msca-bdp-dphub-students-test-ridhi-m:18080'),\n",
       " ('spark.ui.showConsoleProgress', 'true')]"
      ]
     },
     "execution_count": 1,
     "metadata": {},
     "output_type": "execute_result"
    }
   ],
   "source": [
    "from pyspark.sql import SparkSession\n",
    "from pyspark.sql import functions as F\n",
    "\n",
    "import matplotlib.pyplot as plt\n",
    "%matplotlib inline\n",
    "\n",
    "spark = SparkSession.builder.appName('unsupervised').getOrCreate()\n",
    "\n",
    "#change configuration settings on Spark \n",
    "conf = spark.sparkContext._conf.setAll([('spark.executor.memory', '8g'), ('spark.app.name', 'Spark Updated Conf'),\\\n",
    "                                        ('spark.executor.cores', '8'), ('spark.cores.max', '8'), ('spark.driver.memory','8g')])\n",
    "\n",
    "spark.sparkContext.getConf().getAll()"
   ]
  },
  {
   "cell_type": "code",
   "execution_count": 2,
   "id": "ecbe9e6d-3697-4765-9f11-26f25c69d3ce",
   "metadata": {},
   "outputs": [],
   "source": [
    "import geopy\n",
    "import dbscan"
   ]
  },
  {
   "cell_type": "code",
   "execution_count": 3,
   "id": "b6c5fdcd-e1af-4e2a-b177-7acc4e3dbec6",
   "metadata": {},
   "outputs": [
    {
     "name": "stderr",
     "output_type": "stream",
     "text": [
      "                                                                                \r"
     ]
    }
   ],
   "source": [
    "# read in rideshare data for all years, concatenate, create appropriate partitioning\n",
    "# we are dropping 2020 because covid will affect the performance of our model\n",
    "\n",
    "df_2018 = spark.read.csv(\"gs://msca-bdp-student-gcs/bdp-rideshare-project/rideshare/processed_data/program_area_time_rides_2018.csv\", inferSchema=True, header=True)\n",
    "df_2019 = spark.read.csv(\"gs://msca-bdp-student-gcs/bdp-rideshare-project/rideshare/processed_data/program_area_time_rides_2019.csv\", inferSchema=True, header=True)\n",
    "df_2021 = spark.read.csv(\"gs://msca-bdp-student-gcs/bdp-rideshare-project/rideshare/processed_data/program_area_time_rides_2021.csv\", inferSchema=True, header=True)\n",
    "df_2022 = spark.read.csv(\"gs://msca-bdp-student-gcs/bdp-rideshare-project/rideshare/processed_data/program_area_time_rides_2022.csv\", inferSchema=True, header=True)\n",
    "df_2023 = spark.read.csv(\"gs://msca-bdp-student-gcs/bdp-rideshare-project/rideshare/processed_data/program_area_time_rides_2023.csv\", inferSchema=True, header=True)\n",
    "\n",
    "# dropping new columns in 2023\n",
    "df_2023 = df_2023.drop('Shared Trip Match','Percent Time Chicago','Percent Distance Chicago')\n",
    "\n",
    "before = df_2018.union(df_2019)\n",
    "after = df_2021.union(df_2022)\n"
   ]
  },
  {
   "cell_type": "code",
   "execution_count": 4,
   "id": "8d149ef9-cefd-4c23-82e0-8f23618102e8",
   "metadata": {},
   "outputs": [
    {
     "name": "stdout",
     "output_type": "stream",
     "text": [
      "+--------------------+-------------------+-------------------+-------+-----+------------+-------------+-----------+------------+----+---+-----+------------+-------------+------------+-------------+-----+------------+----+---+\n",
      "|                  ID|    start_timestamp|      end_timestamp|seconds|miles|pickup_tract|dropoff_tract|pickup_area|dropoff_area|Fare|Tip|total|  pickup_lat|   pickup_lon| dropoff_lat|  dropoff_lon|month|day_of_month|hour|day|\n",
      "+--------------------+-------------------+-------------------+-------+-----+------------+-------------+-----------+------------+----+---+-----+------------+-------------+------------+-------------+-----+------------+----+---+\n",
      "|e516d63949ba04900...|2018-11-22 22:15:00|2018-11-22 22:15:00|    194|  0.7|        null|         null|         41|          41| 2.5|  5| 10.0|41.794090253|-87.592310855|41.794090253|-87.592310855|   11|          22|  22|  5|\n",
      "+--------------------+-------------------+-------------------+-------+-----+------------+-------------+-----------+------------+----+---+-----+------------+-------------+------------+-------------+-----+------------+----+---+\n",
      "only showing top 1 row\n",
      "\n"
     ]
    }
   ],
   "source": [
    "before.show(1)"
   ]
  },
  {
   "cell_type": "code",
   "execution_count": 5,
   "id": "acae673f-ccc0-4b14-828e-bbaac88d357b",
   "metadata": {},
   "outputs": [
    {
     "name": "stdout",
     "output_type": "stream",
     "text": [
      "+--------------------+-------------------+-------------------+-------+-----+------------+-------------+-----------+------------+----+---+-----------------+------------+-------------+------------+-------------+-----+------------+----+---+\n",
      "|                  ID|    start_timestamp|      end_timestamp|seconds|miles|pickup_tract|dropoff_tract|pickup_area|dropoff_area|Fare|Tip|            total|  pickup_lat|   pickup_lon| dropoff_lat|  dropoff_lon|month|day_of_month|hour|day|\n",
      "+--------------------+-------------------+-------------------+-------+-----+------------+-------------+-----------+------------+----+---+-----------------+------------+-------------+------------+-------------+-----+------------+----+---+\n",
      "|fd77b136fa1d4df45...|2021-11-16 17:45:00|2021-11-16 17:45:00|    247|  0.8|        null|         null|         41|          41| 5.0|  0|7.359999999999999|41.794090253|-87.592310855|41.794090253|-87.592310855|   11|          16|  17|  3|\n",
      "+--------------------+-------------------+-------------------+-------+-----+------------+-------------+-----------+------------+----+---+-----------------+------------+-------------+------------+-------------+-----+------------+----+---+\n",
      "only showing top 1 row\n",
      "\n"
     ]
    }
   ],
   "source": [
    "after.show(1)"
   ]
  },
  {
   "cell_type": "code",
   "execution_count": 6,
   "id": "33165f38-fe04-4100-b615-8419b2d12578",
   "metadata": {},
   "outputs": [],
   "source": [
    "#display number of records by partition\n",
    "def displaypartitions(df):\n",
    "    #number of records by partition\n",
    "    num = df.rdd.getNumPartitions()\n",
    "    print(\"Partitions:\", num)\n",
    "    df.withColumn(\"partitionId\", F.spark_partition_id())\\\n",
    "        .groupBy(\"partitionId\")\\\n",
    "        .count()\\\n",
    "        .orderBy(F.asc(\"count\"))\\\n",
    "        .show(num)\n"
   ]
  },
  {
   "cell_type": "code",
   "execution_count": 7,
   "id": "1df809f1-d2ba-444d-b33e-82cb0ff8feb0",
   "metadata": {},
   "outputs": [
    {
     "name": "stdout",
     "output_type": "stream",
     "text": [
      "Partitions: 16\n"
     ]
    },
    {
     "name": "stderr",
     "output_type": "stream",
     "text": [
      "[Stage 17:======================================>                 (11 + 5) / 16]\r"
     ]
    },
    {
     "name": "stdout",
     "output_type": "stream",
     "text": [
      "+-----------+-----+\n",
      "|partitionId|count|\n",
      "+-----------+-----+\n",
      "|          7| 3242|\n",
      "|          6| 3731|\n",
      "|          5| 3982|\n",
      "|          4| 4298|\n",
      "|          3| 4702|\n",
      "|          2| 7344|\n",
      "|          1| 9349|\n",
      "|          0|10993|\n",
      "|         15|12512|\n",
      "|         14|16357|\n",
      "|         13|18177|\n",
      "|         12|20071|\n",
      "|         11|20717|\n",
      "|         10|33168|\n",
      "|          8|38440|\n",
      "|          9|39548|\n",
      "+-----------+-----+\n",
      "\n"
     ]
    },
    {
     "name": "stderr",
     "output_type": "stream",
     "text": [
      "                                                                                \r"
     ]
    }
   ],
   "source": [
    "before.rdd.getNumPartitions()\n",
    "displaypartitions(before)"
   ]
  },
  {
   "cell_type": "code",
   "execution_count": 8,
   "id": "be9e59b7-4ed1-4f5e-ab22-aab8491c06be",
   "metadata": {},
   "outputs": [
    {
     "name": "stdout",
     "output_type": "stream",
     "text": [
      "Partitions: 21\n"
     ]
    },
    {
     "name": "stderr",
     "output_type": "stream",
     "text": [
      "[Stage 22:================================================>       (25 + 4) / 29]\r"
     ]
    },
    {
     "name": "stdout",
     "output_type": "stream",
     "text": [
      "+-----------+-----+\n",
      "|partitionId|count|\n",
      "+-----------+-----+\n",
      "|         15|   82|\n",
      "|         14|  212|\n",
      "|         13|  282|\n",
      "|         12|  434|\n",
      "|         11|  554|\n",
      "|         10|  726|\n",
      "|          9|  967|\n",
      "|          8| 1164|\n",
      "|          7| 1944|\n",
      "|          6| 2307|\n",
      "|          5| 3238|\n",
      "|          4| 5508|\n",
      "|         31| 5795|\n",
      "|          3| 5853|\n",
      "|          2| 9015|\n",
      "|         30|10970|\n",
      "|         29|11178|\n",
      "|          1|11261|\n",
      "|         28|11462|\n",
      "|         27|11731|\n",
      "|          0|11912|\n",
      "+-----------+-----+\n",
      "only showing top 21 rows\n",
      "\n"
     ]
    },
    {
     "name": "stderr",
     "output_type": "stream",
     "text": [
      "                                                                                \r"
     ]
    }
   ],
   "source": [
    "after.rdd.getNumPartitions()\n",
    "displaypartitions(after)"
   ]
  },
  {
   "cell_type": "code",
   "execution_count": 15,
   "id": "410f371d-f9c7-48d5-a795-f1f8ef52eeb0",
   "metadata": {},
   "outputs": [],
   "source": [
    "before = before.repartition(50)\n",
    "after = after.repartition(50)"
   ]
  },
  {
   "cell_type": "markdown",
   "id": "180a1850-dcf4-4e70-a5ff-347e5fe5fbd3",
   "metadata": {},
   "source": [
    "# Feature Engineering"
   ]
  },
  {
   "cell_type": "code",
   "execution_count": 12,
   "id": "b419e72b-6458-4dd5-942f-0bde079c11e5",
   "metadata": {},
   "outputs": [],
   "source": [
    "import numpy as np\n",
    "import pandas as pd\n",
    "import matplotlib.pyplot as plt\n",
    "import matplotlib.cm as cm\n",
    "from sklearn.cluster import DBSCAN\n",
    "from sklearn import metrics\n",
    "from pyspark.sql.functions import col, radians, acos, sin, cos, lit\n",
    "import time\n",
    "from pyspark.ml.feature import VectorAssembler\n",
    "import geopandas as gpd\n",
    "from pyspark.ml.feature import VectorAssembler\n",
    "from pyspark.ml.clustering import KMeans\n",
    "from pyspark.ml import Pipeline\n",
    "from pyspark.ml.feature import StandardScaler\n",
    "from pyspark.ml.evaluation import ClusteringEvaluator"
   ]
  },
  {
   "cell_type": "code",
   "execution_count": 10,
   "id": "87108e84-9d70-4174-ba1b-b60ce5af2ba0",
   "metadata": {},
   "outputs": [],
   "source": [
    "# combining pickup and dropoff location latitudes and longitudes for before and after lyft program data\n",
    "\n",
    "pickAssembler = VectorAssembler(inputCols=[\"pickup_lat\", \"pickup_lon\"], outputCol=\"pickup_features\")\n",
    "dropAssembler = VectorAssembler(inputCols=[\"dropoff_lat\", \"dropoff_lon\"], outputCol=\"dropoff_features\")"
   ]
  },
  {
   "cell_type": "markdown",
   "id": "035a44cd-33b6-4f17-b728-9138787699f0",
   "metadata": {},
   "source": [
    "# Modeling"
   ]
  },
  {
   "cell_type": "code",
   "execution_count": 11,
   "id": "13d8d93a-5637-4871-b9c7-3a44b9ab2a32",
   "metadata": {},
   "outputs": [],
   "source": [
    "from pyspark.ml.clustering import KMeans\n",
    "from pyspark.sql.functions import col\n",
    "\n",
    "\n",
    "# KMeans for pickup features\n",
    "kmeans_pickup = KMeans(seed=1, featuresCol='pickup_features', predictionCol='pickup_cluster')\n",
    "\n",
    "# KMeans for dropoff features\n",
    "kmeans_dropoff = KMeans(seed=1, featuresCol='dropoff_features', predictionCol='dropoff_cluster')\n"
   ]
  },
  {
   "cell_type": "code",
   "execution_count": 13,
   "id": "912fc66b-af5f-400a-bff9-7aab44302897",
   "metadata": {},
   "outputs": [],
   "source": [
    "# Create ML pipeline\n",
    "\n",
    "pipeline_p = Pipeline(stages=[pickAssembler, kmeans_pickup])\n",
    "pipeline_d = Pipeline(stages=[dropAssembler, kmeans_dropoff])"
   ]
  },
  {
   "cell_type": "code",
   "execution_count": 14,
   "id": "325dfded-9703-4997-828c-c86d4a493e57",
   "metadata": {},
   "outputs": [],
   "source": [
    "from pyspark.ml.tuning import ParamGridBuilder, CrossValidator\n",
    "from pyspark.ml.evaluation import ClusteringEvaluator\n",
    "\n",
    "\n",
    "paramGrid = ParamGridBuilder() \\\n",
    "    .addGrid(kmeans_pickup.k, [3, 5, 7, 8, 10, 12, 13, 15]) \\\n",
    "    .addGrid(kmeans_dropoff.k, [3, 5, 7, 8, 10, 12, 13, 15]) \\\n",
    "    .build()\n",
    "\n",
    "# Set up the evaluator\n",
    "evaluator_p = ClusteringEvaluator()\\\n",
    "                          .setFeaturesCol('pickup_features')\\\n",
    "                          .setPredictionCol('pickup_cluster')\n",
    "\n",
    "evaluator_d = ClusteringEvaluator()\\\n",
    "                          .setFeaturesCol('dropoff_features')\\\n",
    "                          .setPredictionCol('dropoff_cluster')\n",
    "# Set up CrossValidator\n",
    "crossval_p = CrossValidator(estimator=pipeline_p,\n",
    "                          estimatorParamMaps=paramGrid,\n",
    "                          evaluator=evaluator_p,\n",
    "                          numFolds=3)\\\n",
    "                          \n",
    "\n",
    "crossval_d = CrossValidator(estimator=pipeline_d,\n",
    "                          estimatorParamMaps=paramGrid,\n",
    "                          evaluator=evaluator_d,\n",
    "                          numFolds=3)\n"
   ]
  },
  {
   "cell_type": "code",
   "execution_count": 15,
   "id": "f5b59f80-c0d6-4bac-9481-644a39a95f16",
   "metadata": {},
   "outputs": [
    {
     "name": "stderr",
     "output_type": "stream",
     "text": [
      "23/11/25 05:04:38 WARN com.github.fommil.netlib.BLAS: Failed to load implementation from: com.github.fommil.netlib.NativeSystemBLAS\n",
      "23/11/25 05:04:38 WARN com.github.fommil.netlib.BLAS: Failed to load implementation from: com.github.fommil.netlib.NativeRefBLAS\n",
      "                                                                                \r"
     ]
    }
   ],
   "source": [
    "# Fit the model\n",
    "cvModel_p = crossval_p.fit(before) \n",
    "cvModel_d = crossval_d.fit(before) \n",
    "\n",
    "# Get the best model from the cross-validation\n",
    "bestPickupModel = cvModel_p.bestModel\n",
    "bestDropoffModel = cvModel_d.bestModel\n",
    "\n",
    "\n",
    "bestKMeansPickup = bestPickupModel.stages[1]  \n",
    "bestKMeansDropoff = bestDropoffModel.stages[1]  \n"
   ]
  },
  {
   "cell_type": "code",
   "execution_count": 16,
   "id": "dfadfe31-66fd-4df6-b574-d3c64e1798c9",
   "metadata": {},
   "outputs": [
    {
     "name": "stdout",
     "output_type": "stream",
     "text": [
      "root\n",
      " |-- ID: string (nullable = true)\n",
      " |-- start_timestamp: timestamp (nullable = true)\n",
      " |-- end_timestamp: timestamp (nullable = true)\n",
      " |-- seconds: integer (nullable = true)\n",
      " |-- miles: double (nullable = true)\n",
      " |-- pickup_tract: long (nullable = true)\n",
      " |-- dropoff_tract: long (nullable = true)\n",
      " |-- pickup_area: integer (nullable = true)\n",
      " |-- dropoff_area: integer (nullable = true)\n",
      " |-- Fare: double (nullable = true)\n",
      " |-- Tip: integer (nullable = true)\n",
      " |-- total: double (nullable = true)\n",
      " |-- pickup_lat: double (nullable = true)\n",
      " |-- pickup_lon: double (nullable = true)\n",
      " |-- dropoff_lat: double (nullable = true)\n",
      " |-- dropoff_lon: double (nullable = true)\n",
      " |-- month: integer (nullable = true)\n",
      " |-- day_of_month: integer (nullable = true)\n",
      " |-- hour: integer (nullable = true)\n",
      " |-- day: integer (nullable = true)\n",
      " |-- pickup_features: vector (nullable = true)\n",
      " |-- pickup_cluster: integer (nullable = false)\n",
      " |-- dropoff_features: vector (nullable = true)\n",
      " |-- dropoff_cluster: integer (nullable = false)\n",
      "\n"
     ]
    }
   ],
   "source": [
    "# Applying the best model on the before data\n",
    "\n",
    "before = pickAssembler.transform(before)\n",
    "before = bestKMeansPickup.transform(before)\n",
    "\n",
    "\n",
    "before = dropAssembler.transform(before)\n",
    "before = bestKMeansDropoff.transform(before)\n",
    "\n",
    "before.printSchema()"
   ]
  },
  {
   "cell_type": "code",
   "execution_count": 17,
   "id": "d50ddb32-27b2-4a39-a193-f30730c2db94",
   "metadata": {},
   "outputs": [
    {
     "name": "stderr",
     "output_type": "stream",
     "text": [
      "                                                                                \r"
     ]
    }
   ],
   "source": [
    "# Fit the model for after data\n",
    "cvModel_p = crossval_p.fit(after) \n",
    "cvModel_d = crossval_d.fit(after) \n",
    "\n",
    "# Get the best model from the cross-validation\n",
    "bestPickupModel = cvModel_p.bestModel\n",
    "bestDropoffModel = cvModel_d.bestModel\n",
    "\n",
    "\n",
    "bestKMeansPickup = bestPickupModel.stages[1]  \n",
    "bestKMeansDropoff = bestDropoffModel.stages[1] "
   ]
  },
  {
   "cell_type": "code",
   "execution_count": 18,
   "id": "afb8a6e4-cb35-4f33-903c-d56ed9fdceb2",
   "metadata": {},
   "outputs": [
    {
     "name": "stdout",
     "output_type": "stream",
     "text": [
      "root\n",
      " |-- ID: string (nullable = true)\n",
      " |-- start_timestamp: timestamp (nullable = true)\n",
      " |-- end_timestamp: timestamp (nullable = true)\n",
      " |-- seconds: integer (nullable = true)\n",
      " |-- miles: double (nullable = true)\n",
      " |-- pickup_tract: long (nullable = true)\n",
      " |-- dropoff_tract: long (nullable = true)\n",
      " |-- pickup_area: integer (nullable = true)\n",
      " |-- dropoff_area: integer (nullable = true)\n",
      " |-- Fare: double (nullable = true)\n",
      " |-- Tip: integer (nullable = true)\n",
      " |-- total: double (nullable = true)\n",
      " |-- pickup_lat: double (nullable = true)\n",
      " |-- pickup_lon: double (nullable = true)\n",
      " |-- dropoff_lat: double (nullable = true)\n",
      " |-- dropoff_lon: double (nullable = true)\n",
      " |-- month: integer (nullable = true)\n",
      " |-- day_of_month: integer (nullable = true)\n",
      " |-- hour: integer (nullable = true)\n",
      " |-- day: integer (nullable = true)\n",
      " |-- pickup_features: vector (nullable = true)\n",
      " |-- pickup_cluster: integer (nullable = false)\n",
      " |-- dropoff_features: vector (nullable = true)\n",
      " |-- dropoff_cluster: integer (nullable = false)\n",
      "\n"
     ]
    }
   ],
   "source": [
    "# Applying the best model on the after data\n",
    "\n",
    "after = pickAssembler.transform(after)\n",
    "after = bestKMeansPickup.transform(after)\n",
    "\n",
    "\n",
    "after = dropAssembler.transform(after)\n",
    "after = bestKMeansDropoff.transform(after)\n",
    "\n",
    "after.printSchema()"
   ]
  },
  {
   "cell_type": "code",
   "execution_count": 19,
   "id": "14783651-c521-4cd9-80c6-a28aff637b9d",
   "metadata": {},
   "outputs": [
    {
     "name": "stdout",
     "output_type": "stream",
     "text": [
      "root\n",
      " |-- ID: string (nullable = true)\n",
      " |-- start_timestamp: timestamp (nullable = true)\n",
      " |-- end_timestamp: timestamp (nullable = true)\n",
      " |-- seconds: integer (nullable = true)\n",
      " |-- miles: double (nullable = true)\n",
      " |-- pickup_tract: long (nullable = true)\n",
      " |-- dropoff_tract: long (nullable = true)\n",
      " |-- pickup_area: integer (nullable = true)\n",
      " |-- dropoff_area: integer (nullable = true)\n",
      " |-- Fare: double (nullable = true)\n",
      " |-- Tip: integer (nullable = true)\n",
      " |-- total: double (nullable = true)\n",
      " |-- pickup_lat: double (nullable = true)\n",
      " |-- pickup_lon: double (nullable = true)\n",
      " |-- dropoff_lat: double (nullable = true)\n",
      " |-- dropoff_lon: double (nullable = true)\n",
      " |-- month: integer (nullable = true)\n",
      " |-- day_of_month: integer (nullable = true)\n",
      " |-- hour: integer (nullable = true)\n",
      " |-- day: integer (nullable = true)\n",
      " |-- pickup_features: vector (nullable = true)\n",
      " |-- pickup_cluster: integer (nullable = false)\n",
      " |-- dropoff_features: vector (nullable = true)\n",
      " |-- dropoff_cluster: integer (nullable = false)\n",
      "\n"
     ]
    }
   ],
   "source": [
    "after.printSchema()"
   ]
  },
  {
   "cell_type": "code",
   "execution_count": 20,
   "id": "36ad1d50-2b2f-4853-99d0-f1dbef25ad7e",
   "metadata": {},
   "outputs": [
    {
     "name": "stdout",
     "output_type": "stream",
     "text": [
      "+--------------+---------------+\n",
      "|pickup_cluster|dropoff_cluster|\n",
      "+--------------+---------------+\n",
      "|             1|              3|\n",
      "|             6|             11|\n",
      "|             5|             13|\n",
      "|             5|             12|\n",
      "|             5|              1|\n",
      "+--------------+---------------+\n",
      "only showing top 5 rows\n",
      "\n"
     ]
    }
   ],
   "source": [
    "after.select('pickup_cluster', 'dropoff_cluster').show(5)"
   ]
  },
  {
   "cell_type": "code",
   "execution_count": 21,
   "id": "dcb98e61-f37f-4cab-ae9e-547c68899ad4",
   "metadata": {},
   "outputs": [
    {
     "name": "stderr",
     "output_type": "stream",
     "text": [
      "                                                                                \r"
     ]
    }
   ],
   "source": [
    "before_pd = before.select('pickup_lon','pickup_lat', 'pickup_cluster').toPandas()\n"
   ]
  },
  {
   "cell_type": "code",
   "execution_count": 22,
   "id": "cbb0387d-9e6f-4ecc-bf42-7ec5a5cb2f9d",
   "metadata": {},
   "outputs": [
    {
     "data": {
      "text/plain": [
       "array([10, 14,  1,  3,  9, 11,  6,  8, 13, 12,  2,  5,  4,  0,  7],\n",
       "      dtype=int32)"
      ]
     },
     "execution_count": 22,
     "metadata": {},
     "output_type": "execute_result"
    }
   ],
   "source": [
    "before_pd['pickup_cluster'].unique()"
   ]
  },
  {
   "cell_type": "code",
   "execution_count": 23,
   "id": "ba09b6be-72c4-42b7-bc6c-50e887008a31",
   "metadata": {},
   "outputs": [
    {
     "data": {
      "text/plain": [
       "<seaborn.axisgrid.FacetGrid at 0x7f54a20efb80>"
      ]
     },
     "execution_count": 23,
     "metadata": {},
     "output_type": "execute_result"
    },
    {
     "data": {
      "image/png": "[encoded data removed]",
      "text/plain": [
       "<Figure size 1110.99x1000 with 1 Axes>"
      ]
     },
     "metadata": {},
     "output_type": "display_data"
    }
   ],
   "source": [
    "import geopandas as gpd\n",
    "from shapely.geometry import Point\n",
    "import seaborn as sns\n",
    "\n",
    "sns.set_style(\"whitegrid\")\n",
    "sns.lmplot(x=\"pickup_lat\", y=\"pickup_lon\",data = before_pd[before_pd['pickup_lat']!=0.0],fit_reg=False,hue='pickup_cluster',height=10,scatter_kws={\"s\":100})\n"
   ]
  },
  {
   "cell_type": "code",
   "execution_count": 24,
   "id": "91b07045-a3b7-45a1-8d59-1a5ea3044dcb",
   "metadata": {},
   "outputs": [
    {
     "name": "stderr",
     "output_type": "stream",
     "text": [
      "                                                                                \r"
     ]
    },
    {
     "data": {
      "text/plain": [
       "array([ 1,  6,  5, 11, 14,  4, 12,  3,  9,  2, 10, 13,  8,  0,  7],\n",
       "      dtype=int32)"
      ]
     },
     "execution_count": 24,
     "metadata": {},
     "output_type": "execute_result"
    }
   ],
   "source": [
    "after_pd = after.select('pickup_lon','pickup_lat', 'pickup_cluster').toPandas()\n",
    "after_pd['pickup_cluster'].unique()"
   ]
  },
  {
   "cell_type": "code",
   "execution_count": 25,
   "id": "b354b23f-c152-4af6-9059-fc27bbe30a4c",
   "metadata": {},
   "outputs": [
    {
     "data": {
      "text/plain": [
       "<seaborn.axisgrid.FacetGrid at 0x7f54a18917f0>"
      ]
     },
     "execution_count": 25,
     "metadata": {},
     "output_type": "execute_result"
    },
    {
     "data": {
      "image/png": "[encoded data removed]",
      "text/plain": [
       "<Figure size 1110.99x1000 with 1 Axes>"
      ]
     },
     "metadata": {},
     "output_type": "display_data"
    }
   ],
   "source": [
    "sns.set_style(\"whitegrid\")\n",
    "sns.lmplot(x=\"pickup_lat\", y=\"pickup_lon\",data = after_pd[after_pd['pickup_lat']!=0.0],fit_reg=False,hue='pickup_cluster',height=10,scatter_kws={\"s\":100})\n"
   ]
  },
  {
   "cell_type": "code",
   "execution_count": 30,
   "id": "dbde458f-1123-4196-ae9f-4ff9eb508170",
   "metadata": {},
   "outputs": [
    {
     "name": "stdout",
     "output_type": "stream",
     "text": [
      "    center_lon  center_lat\n",
      "0   -87.587479   41.805912\n",
      "1   -87.601285   41.790469\n",
      "2   -87.598697   41.783225\n",
      "3   -87.589607   41.797965\n",
      "4   -87.596183   41.808916\n",
      "5   -87.594925   41.778877\n",
      "6   -87.582630   41.783034\n",
      "7   -87.604209   41.813201\n",
      "8   -87.594015   41.790567\n",
      "9   -87.603746   41.797827\n",
      "10  -87.592311   41.794090\n",
      "11  -87.585303   41.801227\n",
      "12  -87.603559   41.783171\n",
      "13  -87.590431   41.790448\n",
      "14  -87.598945   41.797971\n",
      "    center_lon  center_lat\n",
      "0   -87.587479   41.805912\n",
      "1   -87.601285   41.790469\n",
      "2   -87.598697   41.783225\n",
      "3   -87.589607   41.797965\n",
      "4   -87.596183   41.808916\n",
      "5   -87.594925   41.778877\n",
      "6   -87.582630   41.783034\n",
      "7   -87.604209   41.813201\n",
      "8   -87.594015   41.790567\n",
      "9   -87.603746   41.797827\n",
      "10  -87.592311   41.794090\n",
      "11  -87.585303   41.801227\n",
      "12  -87.603559   41.783171\n",
      "13  -87.590431   41.790448\n",
      "14  -87.598945   41.797971\n"
     ]
    }
   ],
   "source": [
    "from geopy.distance import great_circle\n",
    "from shapely.geometry import Point, MultiPoint\n",
    "import pandas as pd\n",
    "\n",
    "\n",
    "# Define the get_centermost_point function\n",
    "def get_centermost_point(cluster):\n",
    "    centroid = (MultiPoint(cluster).centroid.x, MultiPoint(cluster).centroid.y)\n",
    "    centermost_point = min(cluster, key=lambda point: great_circle(point, centroid).m)\n",
    "    return tuple(centermost_point)\n",
    "\n",
    "before_pickup_centers = before_pd.groupby('pickup_cluster')\\\n",
    "                                 .apply(lambda cluster: get_centermost_point(list(zip(cluster['pickup_lon'], cluster['pickup_lat']))))\n",
    "\n",
    "before_pickup_centers = pd.DataFrame(before_pickup_centers.tolist(), columns=['center_lon', 'center_lat'])\n",
    "\n",
    "\n",
    "after_pickup_centers = before_pd.groupby('pickup_cluster')\\\n",
    "                                 .apply(lambda cluster: get_centermost_point(list(zip(cluster['pickup_lon'], cluster['pickup_lat']))))\n",
    "\n",
    "after_pickup_centers = pd.DataFrame(after_pickup_centers.tolist(), columns=['center_lon', 'center_lat'])\n",
    "\n",
    "\n",
    "print(before_pickup_centers)\n",
    "print(after_pickup_centers)\n"
   ]
  },
  {
   "cell_type": "code",
   "execution_count": 35,
   "id": "de26371d-101f-418b-abc8-70f32b371ac0",
   "metadata": {},
   "outputs": [
    {
     "name": "stderr",
     "output_type": "stream",
     "text": [
      "                                                                                \r"
     ]
    }
   ],
   "source": [
    "before_drop = before.select('dropoff_lon','dropoff_lat', 'dropoff_cluster').toPandas()\n",
    "after_drop = after.select('dropoff_lon','dropoff_lat', 'dropoff_cluster').toPandas()"
   ]
  },
  {
   "cell_type": "code",
   "execution_count": 37,
   "id": "3685f0c6-5ac2-464f-a5e4-c0b05d30d5a1",
   "metadata": {},
   "outputs": [
    {
     "name": "stdout",
     "output_type": "stream",
     "text": [
      "    center_lon  center_lat\n",
      "0   -87.589607   41.797965\n",
      "1   -87.582366   41.797153\n",
      "2   -87.603746   41.797827\n",
      "3   -87.594925   41.778877\n",
      "4   -87.596183   41.808916\n",
      "5   -87.601285   41.790469\n",
      "6   -87.587479   41.805912\n",
      "7   -87.608427   41.783101\n",
      "8   -87.598945   41.797971\n",
      "9   -87.594015   41.790567\n",
      "10  -87.582630   41.783034\n",
      "11  -87.592311   41.794090\n",
      "12  -87.590431   41.790448\n",
      "13  -87.585303   41.801227\n",
      "14  -87.598697   41.783225\n",
      "    center_lon  center_lat\n",
      "0   -87.587479   41.805912\n",
      "1   -87.601285   41.790469\n",
      "2   -87.594925   41.778877\n",
      "3   -87.592311   41.794090\n",
      "4   -87.603746   41.797827\n",
      "5   -87.583144   41.790506\n",
      "6   -87.598697   41.783225\n",
      "7   -87.579948   41.776164\n",
      "8   -87.582366   41.797153\n",
      "9   -87.594015   41.790567\n",
      "10  -87.585303   41.801227\n",
      "11  -87.594266   41.801671\n",
      "12  -87.589607   41.797965\n",
      "13  -87.590431   41.790448\n",
      "14  -87.596183   41.808916\n"
     ]
    }
   ],
   "source": [
    "before_dropoff_centers = before_drop.groupby('dropoff_cluster')\\\n",
    "                                 .apply(lambda cluster: get_centermost_point(list(zip(cluster['dropoff_lon'], cluster['dropoff_lat']))))\n",
    "\n",
    "before_dropoff_centers = pd.DataFrame(before_dropoff_centers.tolist(), columns=['center_lon', 'center_lat'])\n",
    "\n",
    "\n",
    "after_dropoff_centers = after_drop.groupby('dropoff_cluster')\\\n",
    "                                 .apply(lambda cluster: get_centermost_point(list(zip(cluster['dropoff_lon'], cluster['dropoff_lat']))))\n",
    "\n",
    "after_dropoff_centers = pd.DataFrame(after_dropoff_centers.tolist(), columns=['center_lon', 'center_lat'])\n",
    "\n",
    "\n",
    "print(before_dropoff_centers)\n",
    "print(after_dropoff_centers)"
   ]
  },
  {
   "cell_type": "code",
   "execution_count": null,
   "id": "27dda7d4-b591-4f34-94e5-b4a1d77601fa",
   "metadata": {},
   "outputs": [],
   "source": [
    "from geopy.geocoders import GoogleV3\n",
    "\n",
    "# Replace 'your_api_key' with your actual Google Maps API key\n",
    "api_key = 'your_api_key'\n",
    "geolocator = GoogleV3(api_key=api_key)\n",
    "\n",
    "def get_address(lat, lon):\n",
    "    location = geolocator.reverse((lat, lon), language='en')\n",
    "    return location.address\n",
    "\n",
    "# Example usage\n",
    "latitude = 37.7749  # Replace with your latitude\n",
    "longitude = -122.4194  # Replace with your longitude\n",
    "\n",
    "address = get_address(latitude, longitude)\n",
    "print(\"Address:\", address)\n"
   ]
  },
  {
   "cell_type": "code",
   "execution_count": 93,
   "id": "ae766a41-28d2-4896-a8db-16a1967bb233",
   "metadata": {},
   "outputs": [
    {
     "data": {
      "image/png": "[encoded data removed]",
      "text/plain": [
       "<Figure size 1000x800 with 1 Axes>"
      ]
     },
     "metadata": {},
     "output_type": "display_data"
    }
   ],
   "source": [
    "import matplotlib.pyplot as plt\n",
    "import seaborn as sns\n",
    "\n",
    "# Sample data\n",
    "sns.set_style(\"whitegrid\")\n",
    "plt.figure(figsize=(10, 8))\n",
    "sns.scatterplot(x=\"pickup_lon\", y=\"pickup_lat\", data=pd_df[pd_df['pickup_lat'] != 0.0], hue='pickup_cluster', s=100)\n",
    "plt.xlim( -87.6132781783, -87.5799482481)\n",
    "plt.ylim(41.7706622278, 41.8132012947)\n",
    "plt.xlabel('Pickup Longitude')\n",
    "plt.ylabel('Pickup Latitude')\n",
    "plt.title('Hexbin Plot of Pickup Clusters')\n",
    "plt.show()\n",
    "\n"
   ]
  },
  {
   "cell_type": "code",
   "execution_count": 83,
   "id": "a6d73735-4cdb-46e0-88d5-fd7f6133b80a",
   "metadata": {},
   "outputs": [
    {
     "name": "stdout",
     "output_type": "stream",
     "text": [
      "41.8132012947\n"
     ]
    },
    {
     "data": {
      "text/plain": [
       "41.7706622278"
      ]
     },
     "execution_count": 83,
     "metadata": {},
     "output_type": "execute_result"
    }
   ],
   "source": [
    "print(before_pd['pickup_lat'].max())\n",
    "before_pd['pickup_lat'].min()"
   ]
  },
  {
   "cell_type": "code",
   "execution_count": 84,
   "id": "5fe5083a-133a-4f74-b1ca-2924d2746dc6",
   "metadata": {},
   "outputs": [
    {
     "name": "stdout",
     "output_type": "stream",
     "text": [
      "-87.5799482481\n"
     ]
    },
    {
     "data": {
      "text/plain": [
       "-87.6132781783"
      ]
     },
     "execution_count": 84,
     "metadata": {},
     "output_type": "execute_result"
    }
   ],
   "source": [
    "print(before_pd['pickup_lon'].max())\n",
    "before_pd['pickup_lon'].min()"
   ]
  },
  {
   "cell_type": "code",
   "execution_count": 88,
   "id": "a9389626-feea-405d-b9c7-1836597b11e9",
   "metadata": {},
   "outputs": [
    {
     "data": {
      "image/png": "[encoded data removed]",
      "text/plain": [
       "<Figure size 1200x800 with 1 Axes>"
      ]
     },
     "metadata": {},
     "output_type": "display_data"
    }
   ],
   "source": [
    "import geopandas as gpd\n",
    "import seaborn as sns\n",
    "import matplotlib.pyplot as plt\n",
    "import numpy as np\n",
    "\n",
    "# Assuming pd_df is your original DataFrame\n",
    "\n",
    "# Set latitude and longitude limits\n",
    "min_lat, max_lat = 41.7706622278, 41.8132012947\n",
    "min_lon, max_lon = -87.6132781783, -87.5799482481\n",
    "\n",
    "# Generate more granular points within the specified range\n",
    "num_points = 1000\n",
    "granular_lat = np.linspace(min_lat, max_lat, num_points)\n",
    "granular_lon = np.linspace(min_lon, max_lon, num_points)\n",
    "\n",
    "# Create a DataFrame with granular data points\n",
    "granular_df = pd.DataFrame({'pickup_lat': granular_lat, 'pickup_lon': granular_lon})\n",
    "\n",
    "# Plot the granular scatter plot\n",
    "sns.set_style(\"whitegrid\")\n",
    "plt.figure(figsize=(12, 8))\n",
    "plot = sns.scatterplot(x=\"pickup_lat\", y=\"pickup_lon\", data=granular_df, s=10, color='blue')\n",
    "\n",
    "# Set x-axis and y-axis labels\n",
    "plt.xlabel(\"Latitude\")\n",
    "plt.ylabel(\"Longitude\")\n",
    "\n",
    "plt.show()\n"
   ]
  },
  {
   "cell_type": "code",
   "execution_count": null,
   "id": "99417bc1-36aa-425f-a0eb-642a4439e9a7",
   "metadata": {},
   "outputs": [],
   "source": []
  },
  {
   "cell_type": "code",
   "execution_count": null,
   "id": "f9d5abcc-5578-4ccb-ae23-f8d6a4be881b",
   "metadata": {},
   "outputs": [],
   "source": []
  },
  {
   "cell_type": "code",
   "execution_count": null,
   "id": "03fa8fa7-9ea0-4547-964c-054dc736e180",
   "metadata": {},
   "outputs": [],
   "source": []
  },
  {
   "cell_type": "code",
   "execution_count": null,
   "id": "2fe5a11e-ff31-4b58-b60c-98d0211ed605",
   "metadata": {},
   "outputs": [],
   "source": []
  },
  {
   "cell_type": "code",
   "execution_count": null,
   "id": "64656000-9c2e-4cdb-990f-5cdee0b9c50a",
   "metadata": {},
   "outputs": [],
   "source": []
  },
  {
   "cell_type": "code",
   "execution_count": null,
   "id": "40f225ab-b1e9-4d8d-a9e4-508a6f8a0ed1",
   "metadata": {},
   "outputs": [],
   "source": []
  },
  {
   "cell_type": "code",
   "execution_count": null,
   "id": "849f26d6-98be-4998-b70d-c27b79910df1",
   "metadata": {},
   "outputs": [],
   "source": []
  },
  {
   "cell_type": "code",
   "execution_count": null,
   "id": "8aff48e2-0d5e-4a85-aa70-a9bc59182f32",
   "metadata": {},
   "outputs": [],
   "source": []
  },
  {
   "cell_type": "code",
   "execution_count": null,
   "id": "c607e905-855a-4e7c-a44b-9c6cd6afb95d",
   "metadata": {},
   "outputs": [],
   "source": []
  },
  {
   "cell_type": "code",
   "execution_count": null,
   "id": "61dd5658-b0a1-4497-9bc6-e60173eccd2f",
   "metadata": {},
   "outputs": [],
   "source": []
  },
  {
   "cell_type": "code",
   "execution_count": null,
   "id": "1f9abe8e-8b16-4a23-9a91-375849e5021a",
   "metadata": {},
   "outputs": [],
   "source": []
  },
  {
   "cell_type": "code",
   "execution_count": null,
   "id": "c6b5c0e7-e065-4ff4-bd79-8291b986366c",
   "metadata": {},
   "outputs": [],
   "source": []
  },
  {
   "cell_type": "code",
   "execution_count": null,
   "id": "6de5f5f2-22f9-46bb-b2f0-7baa01ea265c",
   "metadata": {},
   "outputs": [],
   "source": []
  },
  {
   "cell_type": "code",
   "execution_count": null,
   "id": "a30772a6-6d43-46da-acdc-9589e5d15142",
   "metadata": {},
   "outputs": [],
   "source": []
  },
  {
   "cell_type": "code",
   "execution_count": null,
   "id": "ecdc7b7b-428a-4287-846f-f6625384330a",
   "metadata": {},
   "outputs": [],
   "source": []
  },
  {
   "cell_type": "code",
   "execution_count": null,
   "id": "efe85524-68c9-4035-b5b2-b0553ced93a7",
   "metadata": {},
   "outputs": [],
   "source": []
  },
  {
   "cell_type": "code",
   "execution_count": null,
   "id": "5acaac6c-247c-4239-8073-71d6651ca486",
   "metadata": {},
   "outputs": [],
   "source": []
  },
  {
   "cell_type": "code",
   "execution_count": null,
   "id": "71839c64-aa6a-41a0-b75f-757e04fef2b4",
   "metadata": {},
   "outputs": [],
   "source": []
  },
  {
   "cell_type": "code",
   "execution_count": null,
   "id": "77295d79-89fe-4799-b66c-96c61ec76063",
   "metadata": {},
   "outputs": [],
   "source": []
  },
  {
   "cell_type": "code",
   "execution_count": null,
   "id": "282579a4-cdf6-4931-8538-e0ca31a93e74",
   "metadata": {},
   "outputs": [],
   "source": []
  },
  {
   "cell_type": "code",
   "execution_count": null,
   "id": "e3a6bfbb-0ea0-4513-9ec6-6c7c918950e2",
   "metadata": {},
   "outputs": [],
   "source": []
  },
  {
   "cell_type": "code",
   "execution_count": null,
   "id": "eafa6c3c-8bf9-4105-9a32-97a8fffaed55",
   "metadata": {},
   "outputs": [],
   "source": []
  },
  {
   "cell_type": "code",
   "execution_count": null,
   "id": "b5e57a24-2348-47e8-a61f-781fe609f671",
   "metadata": {},
   "outputs": [],
   "source": []
  },
  {
   "cell_type": "code",
   "execution_count": null,
   "id": "735c122a-dcd4-4bf5-887b-20a17c7ec013",
   "metadata": {},
   "outputs": [],
   "source": []
  },
  {
   "cell_type": "code",
   "execution_count": null,
   "id": "85a5a4ef-9cbd-49d2-9534-7171c73e7816",
   "metadata": {},
   "outputs": [],
   "source": []
  },
  {
   "cell_type": "code",
   "execution_count": null,
   "id": "c1b93a19-a4c5-4671-b474-d1b8edec8e0b",
   "metadata": {},
   "outputs": [],
   "source": []
  },
  {
   "cell_type": "code",
   "execution_count": null,
   "id": "be674640-f95e-4e7d-95bf-62019a35b84b",
   "metadata": {},
   "outputs": [],
   "source": []
  },
  {
   "cell_type": "code",
   "execution_count": null,
   "id": "8a3859f5-cd43-4ada-83c8-10336dbd1347",
   "metadata": {},
   "outputs": [],
   "source": []
  },
  {
   "cell_type": "code",
   "execution_count": null,
   "id": "49f496dd-f5c0-4102-85d7-850f79b69642",
   "metadata": {},
   "outputs": [],
   "source": []
  },
  {
   "cell_type": "code",
   "execution_count": null,
   "id": "a1e07313-4170-44c6-b012-96f9b705366a",
   "metadata": {},
   "outputs": [],
   "source": []
  },
  {
   "cell_type": "code",
   "execution_count": null,
   "id": "fdd80718-d218-4cc0-939e-bce9be7832bf",
   "metadata": {},
   "outputs": [],
   "source": []
  },
  {
   "cell_type": "markdown",
   "id": "77944dd4-141c-40b9-b694-3c7281871727",
   "metadata": {
    "tags": []
   },
   "source": [
    "# this piece of code was depreciated "
   ]
  },
  {
   "cell_type": "code",
   "execution_count": 5,
   "id": "98809f0b-4a5a-4812-9a39-f91406ffecd4",
   "metadata": {},
   "outputs": [
    {
     "name": "stdout",
     "output_type": "stream",
     "text": [
      "Partitions: 534\n"
     ]
    },
    {
     "name": "stderr",
     "output_type": "stream",
     "text": [
      "[Stage 16:=====================================================>(528 + 6) / 534]\r"
     ]
    },
    {
     "name": "stdout",
     "output_type": "stream",
     "text": [
      "+-----------+------+\n",
      "|partitionId| count|\n",
      "+-----------+------+\n",
      "|         33|152646|\n",
      "|        233|328837|\n",
      "|        232|328975|\n",
      "|        231|329131|\n",
      "|        230|329163|\n",
      "|        229|329209|\n",
      "|        227|329245|\n",
      "|        225|329263|\n",
      "|        228|329263|\n",
      "|        224|329311|\n",
      "|        226|329315|\n",
      "|        222|329332|\n",
      "|        223|329344|\n",
      "|        221|329373|\n",
      "|        218|329389|\n",
      "|        219|329390|\n",
      "|        217|329399|\n",
      "|        215|329410|\n",
      "|        216|329410|\n",
      "|        214|329418|\n",
      "|        220|329427|\n",
      "|        213|329428|\n",
      "|        210|329461|\n",
      "|        212|329481|\n",
      "|        211|329505|\n",
      "|        207|329507|\n",
      "|        208|329513|\n",
      "|        209|329519|\n",
      "|        206|329523|\n",
      "|        204|329533|\n",
      "|        203|329555|\n",
      "|        205|329574|\n",
      "|        201|329587|\n",
      "|        202|329591|\n",
      "|        198|329607|\n",
      "|        200|329623|\n",
      "|        196|329624|\n",
      "|        199|329630|\n",
      "|        197|329633|\n",
      "|        195|329646|\n",
      "|        192|329654|\n",
      "|        194|329673|\n",
      "|        193|329678|\n",
      "|        184|329704|\n",
      "|        191|329708|\n",
      "|        190|329712|\n",
      "|        181|329717|\n",
      "|        179|329728|\n",
      "|        178|329730|\n",
      "|        189|329732|\n",
      "|        183|329732|\n",
      "|        188|329739|\n",
      "|        180|329746|\n",
      "|        185|329748|\n",
      "|        187|329786|\n",
      "|        186|329786|\n",
      "|        176|329786|\n",
      "|        177|329787|\n",
      "|        182|329793|\n",
      "|        173|329804|\n",
      "|        174|329805|\n",
      "|        169|329807|\n",
      "|        172|329814|\n",
      "|        171|329819|\n",
      "|        175|329843|\n",
      "|        168|329849|\n",
      "|        167|329861|\n",
      "|        170|329865|\n",
      "|        162|329866|\n",
      "|        163|329871|\n",
      "|        161|329879|\n",
      "|        165|329889|\n",
      "|        164|329892|\n",
      "|        166|329900|\n",
      "|        160|329937|\n",
      "|        158|329956|\n",
      "|        152|329961|\n",
      "|        157|329962|\n",
      "|        154|329965|\n",
      "|        159|329974|\n",
      "|        155|329980|\n",
      "|        153|329985|\n",
      "|        149|329993|\n",
      "|        156|330000|\n",
      "|        148|330005|\n",
      "|        151|330014|\n",
      "|        147|330021|\n",
      "|        150|330027|\n",
      "|        146|330059|\n",
      "|        144|330066|\n",
      "|        137|330070|\n",
      "|        143|330083|\n",
      "|        140|330084|\n",
      "|        145|330084|\n",
      "|        136|330089|\n",
      "|        142|330090|\n",
      "|        139|330099|\n",
      "|        141|330101|\n",
      "|        138|330103|\n",
      "|        134|330116|\n",
      "|        135|330129|\n",
      "|        130|330133|\n",
      "|        133|330135|\n",
      "|        131|330139|\n",
      "|        132|330148|\n",
      "|        129|330159|\n",
      "|        125|330178|\n",
      "|        127|330181|\n",
      "|        122|330186|\n",
      "|        128|330189|\n",
      "|        126|330205|\n",
      "|        119|330208|\n",
      "|        123|330219|\n",
      "|        115|330220|\n",
      "|        118|330227|\n",
      "|        124|330230|\n",
      "|        117|330236|\n",
      "|        120|330243|\n",
      "|        114|330245|\n",
      "|        107|330249|\n",
      "|        121|330252|\n",
      "|        111|330255|\n",
      "|        112|330258|\n",
      "|        116|330268|\n",
      "|        113|330270|\n",
      "|        108|330275|\n",
      "|        103|330282|\n",
      "|        105|330282|\n",
      "|        110|330296|\n",
      "|        102|330297|\n",
      "|        109|330306|\n",
      "|        104|330308|\n",
      "|         94|330338|\n",
      "|        106|330339|\n",
      "|         99|330355|\n",
      "|         95|330363|\n",
      "|        101|330366|\n",
      "|        100|330372|\n",
      "|         98|330383|\n",
      "|         97|330385|\n",
      "|         96|330402|\n",
      "|         86|330413|\n",
      "|         92|330415|\n",
      "|         90|330418|\n",
      "|         88|330418|\n",
      "|         91|330419|\n",
      "|         84|330425|\n",
      "|         87|330426|\n",
      "|         93|330430|\n",
      "|         89|330430|\n",
      "|         85|330436|\n",
      "|         80|330456|\n",
      "|         82|330470|\n",
      "|         78|330471|\n",
      "|         81|330474|\n",
      "|         83|330477|\n",
      "|         77|330494|\n",
      "|         76|330501|\n",
      "|         79|330512|\n",
      "|         74|330524|\n",
      "|         72|330550|\n",
      "|         75|330570|\n",
      "|         70|330570|\n",
      "|         71|330579|\n",
      "|         73|330585|\n",
      "|         68|330622|\n",
      "|         66|330625|\n",
      "|         69|330625|\n",
      "|         65|330642|\n",
      "|         67|330646|\n",
      "|         61|330651|\n",
      "|         64|330653|\n",
      "|         63|330667|\n",
      "|         60|330690|\n",
      "|         55|330704|\n",
      "|         62|330709|\n",
      "|         57|330721|\n",
      "|         56|330724|\n",
      "|         59|330737|\n",
      "|         52|330758|\n",
      "|         53|330762|\n",
      "|         54|330762|\n",
      "|         58|330766|\n",
      "|         50|330782|\n",
      "|         49|330784|\n",
      "|         46|330801|\n",
      "|         47|330805|\n",
      "|         51|330807|\n",
      "|         48|330837|\n",
      "|         43|330868|\n",
      "|         45|330869|\n",
      "|         44|330885|\n",
      "|         42|330918|\n",
      "|         40|330944|\n",
      "|         41|330963|\n",
      "|         39|331028|\n",
      "|         38|331034|\n",
      "|         37|331050|\n",
      "|         36|331114|\n",
      "|         35|331284|\n",
      "|         34|331416|\n",
      "|        533|364094|\n",
      "|        532|364374|\n",
      "|        531|364493|\n",
      "|        527|364581|\n",
      "|        528|364599|\n",
      "|        529|364616|\n",
      "|        530|364617|\n",
      "|        526|364654|\n",
      "|        524|364709|\n",
      "|        525|364756|\n",
      "|        522|364784|\n",
      "|        523|364810|\n",
      "|        519|364899|\n",
      "|        520|364903|\n",
      "|        521|364944|\n",
      "|        518|364957|\n",
      "|        517|364961|\n",
      "|        514|364971|\n",
      "|        515|364988|\n",
      "|        516|365006|\n",
      "|        512|365011|\n",
      "|        513|365051|\n",
      "|        511|365057|\n",
      "|        510|365079|\n",
      "|        508|365083|\n",
      "|        507|365090|\n",
      "|        509|365097|\n",
      "|        506|365122|\n",
      "|        504|365165|\n",
      "|        505|365179|\n",
      "|        503|365224|\n",
      "|        499|365252|\n",
      "|        496|365253|\n",
      "|        501|365255|\n",
      "|        498|365272|\n",
      "|        500|365277|\n",
      "|        502|365278|\n",
      "|        497|365302|\n",
      "|        495|365347|\n",
      "|        492|365377|\n",
      "|        493|365394|\n",
      "|        494|365395|\n",
      "|        491|365409|\n",
      "|        490|365431|\n",
      "|        488|365447|\n",
      "|        489|365454|\n",
      "|        487|365519|\n",
      "|        486|365528|\n",
      "|        485|365536|\n",
      "|        482|365541|\n",
      "|        479|365547|\n",
      "|        478|365552|\n",
      "|        477|365554|\n",
      "|        480|365569|\n",
      "|        483|365574|\n",
      "|        474|365576|\n",
      "|        484|365595|\n",
      "|        475|365602|\n",
      "|        476|365622|\n",
      "|        481|365622|\n",
      "|        473|365650|\n",
      "|        472|365684|\n",
      "|        471|365705|\n",
      "|        469|365750|\n",
      "|        468|365773|\n",
      "|        467|365793|\n",
      "|        470|365801|\n",
      "|        464|365806|\n",
      "|        465|365806|\n",
      "|        463|365828|\n",
      "|        466|365846|\n",
      "|        462|365909|\n",
      "|        461|365965|\n",
      "|        460|365975|\n",
      "|        459|366026|\n",
      "|        456|366051|\n",
      "|        457|366057|\n",
      "|        458|366080|\n",
      "|        454|366105|\n",
      "|        455|366117|\n",
      "|        452|366150|\n",
      "|        453|366160|\n",
      "|        448|366193|\n",
      "|        451|366200|\n",
      "|        450|366214|\n",
      "|        449|366217|\n",
      "|        446|366297|\n",
      "|        447|366320|\n",
      "|        445|366371|\n",
      "|        444|366383|\n",
      "|        443|366422|\n",
      "|        442|366461|\n",
      "|        441|366589|\n",
      "|        440|366617|\n",
      "|        439|366758|\n",
      "|        438|366799|\n",
      "|        437|366883|\n",
      "|        436|366901|\n",
      "|        435|366940|\n",
      "|        434|367122|\n",
      "|         21|380513|\n",
      "|         20|380565|\n",
      "|         19|380749|\n",
      "|         18|381028|\n",
      "|         17|381069|\n",
      "|         16|381243|\n",
      "|         15|381263|\n",
      "|         14|381438|\n",
      "|         13|381470|\n",
      "|         12|381544|\n",
      "|         11|381646|\n",
      "|         10|381711|\n",
      "|          8|381721|\n",
      "|          9|381753|\n",
      "|          7|381759|\n",
      "|          6|381763|\n",
      "|          5|381783|\n",
      "|          4|381827|\n",
      "|          3|381971|\n",
      "|          1|382022|\n",
      "|          2|382029|\n",
      "|          0|382095|\n",
      "|        332|420259|\n",
      "|        333|420346|\n",
      "|        331|420485|\n",
      "|        330|420525|\n",
      "|        329|420707|\n",
      "|        326|421031|\n",
      "|        327|421040|\n",
      "|        328|421052|\n",
      "|        324|421107|\n",
      "|        325|421142|\n",
      "|        323|421374|\n",
      "|        320|421440|\n",
      "|        322|421479|\n",
      "|        321|421531|\n",
      "|        317|421574|\n",
      "|        318|421603|\n",
      "|        319|421610|\n",
      "|        316|421612|\n",
      "|        312|421670|\n",
      "|        310|421675|\n",
      "|        315|421679|\n",
      "|        314|421681|\n",
      "|        313|421687|\n",
      "|        309|421687|\n",
      "|        311|421699|\n",
      "|        308|421751|\n",
      "|        305|421832|\n",
      "|        300|421867|\n",
      "|        306|421897|\n",
      "|        302|421903|\n",
      "|        307|421911|\n",
      "|        304|421918|\n",
      "|        303|421920|\n",
      "|        301|421950|\n",
      "|        299|421972|\n",
      "|        297|421988|\n",
      "|        298|422019|\n",
      "|        295|422072|\n",
      "|        293|422083|\n",
      "|        296|422091|\n",
      "|        294|422095|\n",
      "|        292|422097|\n",
      "|        288|422103|\n",
      "|        290|422114|\n",
      "|        291|422116|\n",
      "|        285|422134|\n",
      "|        286|422155|\n",
      "|        289|422155|\n",
      "|        280|422185|\n",
      "|        287|422193|\n",
      "|        284|422194|\n",
      "|        282|422207|\n",
      "|        281|422218|\n",
      "|        283|422236|\n",
      "|        278|422238|\n",
      "|        276|422255|\n",
      "|        279|422265|\n",
      "|        277|422266|\n",
      "|        275|422305|\n",
      "|        273|422307|\n",
      "|        274|422346|\n",
      "|        272|422350|\n",
      "|        271|422354|\n",
      "|        270|422372|\n",
      "|        269|422415|\n",
      "|        268|422498|\n",
      "|        267|422501|\n",
      "|        266|422508|\n",
      "|        265|422549|\n",
      "|        264|422557|\n",
      "|        263|422591|\n",
      "|        262|422625|\n",
      "|        260|422634|\n",
      "|        259|422671|\n",
      "|        258|422673|\n",
      "|        261|422692|\n",
      "|        257|422694|\n",
      "|        255|422761|\n",
      "|        252|422777|\n",
      "|        250|422788|\n",
      "|        253|422795|\n",
      "|        256|422803|\n",
      "|        254|422807|\n",
      "|        248|422838|\n",
      "|        249|422839|\n",
      "|        251|422841|\n",
      "|        247|422852|\n",
      "|        246|422891|\n",
      "|        242|422904|\n",
      "|        245|422925|\n",
      "|        244|422986|\n",
      "|        243|423003|\n",
      "|        240|423197|\n",
      "|        241|423202|\n",
      "|        238|423231|\n",
      "|        239|423262|\n",
      "|        236|423376|\n",
      "|        237|423402|\n",
      "|        235|423403|\n",
      "|        234|423762|\n",
      "|        433|569570|\n",
      "|        432|570154|\n",
      "|        431|570301|\n",
      "|        430|570372|\n",
      "|        429|570572|\n",
      "|        428|570655|\n",
      "|        426|570763|\n",
      "|        427|570781|\n",
      "|        424|570870|\n",
      "|        425|570872|\n",
      "|        423|570953|\n",
      "|        422|570979|\n",
      "|        421|571069|\n",
      "|        419|571096|\n",
      "|        420|571097|\n",
      "|        418|571127|\n",
      "|        417|571153|\n",
      "|        416|571185|\n",
      "|        415|571201|\n",
      "|        414|571286|\n",
      "|        413|571425|\n",
      "|        412|571449|\n",
      "|        407|571506|\n",
      "|        410|571528|\n",
      "|        411|571532|\n",
      "|        409|571553|\n",
      "|        408|571585|\n",
      "|        406|571595|\n",
      "|        404|571645|\n",
      "|        405|571657|\n",
      "|        403|571742|\n",
      "|        402|571766|\n",
      "|        401|571796|\n",
      "|        399|571842|\n",
      "|        400|571847|\n",
      "|        397|571874|\n",
      "|        398|571913|\n",
      "|        396|571925|\n",
      "|        395|571966|\n",
      "|        394|571983|\n",
      "|        392|571993|\n",
      "|        393|572020|\n",
      "|        391|572123|\n",
      "|        387|572181|\n",
      "|        390|572182|\n",
      "|        389|572183|\n",
      "|        388|572189|\n",
      "|        386|572212|\n",
      "|        385|572244|\n",
      "|        383|572249|\n",
      "|        384|572276|\n",
      "|        382|572302|\n",
      "|        381|572344|\n",
      "|        380|572361|\n",
      "|        379|572382|\n",
      "|        378|572394|\n",
      "|        377|572428|\n",
      "|        376|572438|\n",
      "|        375|572493|\n",
      "|        373|572545|\n",
      "|        374|572565|\n",
      "|        372|572569|\n",
      "|        371|572600|\n",
      "|        370|572604|\n",
      "|        369|572634|\n",
      "|        368|572647|\n",
      "|        365|572742|\n",
      "|        366|572742|\n",
      "|        367|572755|\n",
      "|        364|572798|\n",
      "|        362|572800|\n",
      "|        363|572816|\n",
      "|        361|572868|\n",
      "|        360|572895|\n",
      "|        359|572907|\n",
      "|        358|572924|\n",
      "|        357|572957|\n",
      "|        356|573022|\n",
      "|        354|573102|\n",
      "|        355|573104|\n",
      "|        352|573132|\n",
      "|        353|573145|\n",
      "|        351|573173|\n",
      "|        350|573187|\n",
      "|        348|573262|\n",
      "|        349|573270|\n",
      "|        347|573334|\n",
      "|        346|573372|\n",
      "|        345|573425|\n",
      "|        344|573556|\n",
      "|        343|573584|\n",
      "|        342|573658|\n",
      "|        341|573676|\n",
      "|        340|573781|\n",
      "|        339|573977|\n",
      "|        337|574013|\n",
      "|        338|574040|\n",
      "|        336|574185|\n",
      "|        335|574318|\n",
      "|        334|574727|\n",
      "|         32|610310|\n",
      "|         31|610736|\n",
      "|         30|610951|\n",
      "|         29|611294|\n",
      "|         28|611761|\n",
      "|         27|611933|\n",
      "|         26|612048|\n",
      "|         25|612117|\n",
      "|         24|612529|\n",
      "|         23|613100|\n",
      "|         22|613957|\n",
      "+-----------+------+\n",
      "\n"
     ]
    },
    {
     "name": "stderr",
     "output_type": "stream",
     "text": [
      "                                                                                \r"
     ]
    }
   ],
   "source": [
    "#display number of records by partition\n",
    "def displaypartitions(df):\n",
    "    #number of records by partition\n",
    "    num = df.rdd.getNumPartitions()\n",
    "    print(\"Partitions:\", num)\n",
    "    df.withColumn(\"partitionId\", F.spark_partition_id())\\\n",
    "        .groupBy(\"partitionId\")\\\n",
    "        .count()\\\n",
    "        .orderBy(F.asc(\"count\"))\\\n",
    "        .show(num)\n",
    "\n",
    "df_all.rdd.getNumPartitions()\n",
    "displaypartitions(df_all)"
   ]
  },
  {
   "cell_type": "code",
   "execution_count": 4,
   "id": "6cf0065d-4941-4423-b5a3-967e0b960b60",
   "metadata": {},
   "outputs": [],
   "source": [
    "# repartitioning to 600 partitions\n",
    "df_all = df_all.repartition(600).cache()\n",
    "#displaypartitions(df_all)"
   ]
  },
  {
   "cell_type": "markdown",
   "id": "bc71fd42-d129-4f21-a798-972e664e0daa",
   "metadata": {},
   "source": [
    "**Feature Engineering**\n"
   ]
  },
  {
   "cell_type": "code",
   "execution_count": 5,
   "id": "bd42c068-d06c-4f49-98e8-751942958e03",
   "metadata": {},
   "outputs": [
    {
     "name": "stderr",
     "output_type": "stream",
     "text": [
      "[Stage 17:>                                                         (0 + 1) / 1]\r"
     ]
    },
    {
     "name": "stdout",
     "output_type": "stream",
     "text": [
      "+-------------+\n",
      "|trip_duration|\n",
      "+-------------+\n",
      "|         30.0|\n",
      "|         30.0|\n",
      "|         30.0|\n",
      "|          0.0|\n",
      "|         30.0|\n",
      "|         15.0|\n",
      "|         15.0|\n",
      "|         15.0|\n",
      "|         15.0|\n",
      "|         15.0|\n",
      "|         15.0|\n",
      "|         15.0|\n",
      "|         60.0|\n",
      "|         15.0|\n",
      "|         45.0|\n",
      "|         15.0|\n",
      "|          0.0|\n",
      "|         30.0|\n",
      "|         15.0|\n",
      "|         45.0|\n",
      "+-------------+\n",
      "only showing top 20 rows\n",
      "\n"
     ]
    },
    {
     "name": "stderr",
     "output_type": "stream",
     "text": [
      "                                                                                \r"
     ]
    }
   ],
   "source": [
    "from pyspark.sql import SparkSession\n",
    "from pyspark.sql.functions import col, unix_timestamp\n",
    "\n",
    "df_all = df_all.withColumn(\"start_timestamp\", unix_timestamp(\"start_timestamp\"))\n",
    "df_all = df_all.withColumn(\"end_timestamp\", unix_timestamp(\"end_timestamp\"))\n",
    "\n",
    "# Calculate trip duration in seconds\n",
    "df_all = df_all.withColumn(\"trip_duration\", col(\"end_timestamp\") - col(\"start_timestamp\"))\n",
    "\n",
    "# Convert seconds to minutes\n",
    "df_all = df_all.withColumn(\"trip_duration\", col(\"trip_duration\") / 60)\n",
    "\n",
    "df_all.select('trip_duration').show()\n"
   ]
  },
  {
   "cell_type": "code",
   "execution_count": 4,
   "id": "03b80994-b0de-43e2-ade9-82ed5d8fc6b1",
   "metadata": {},
   "outputs": [
    {
     "name": "stdout",
     "output_type": "stream",
     "text": [
      "+-------------+\n",
      "|trip_duration|\n",
      "+-------------+\n",
      "|          0.0|\n",
      "|          0.0|\n",
      "|          0.0|\n",
      "|          0.0|\n",
      "|          0.0|\n",
      "|          0.0|\n",
      "|          0.0|\n",
      "|          0.0|\n",
      "|          0.0|\n",
      "|          0.0|\n",
      "|          0.0|\n",
      "|          0.0|\n",
      "|         15.0|\n",
      "|         15.0|\n",
      "|          0.0|\n",
      "|          0.0|\n",
      "|         15.0|\n",
      "|          0.0|\n",
      "|          0.0|\n",
      "|          0.0|\n",
      "+-------------+\n",
      "only showing top 20 rows\n",
      "\n"
     ]
    }
   ],
   "source": [
    "from pyspark.sql.functions import col, unix_timestamp\n",
    "\n",
    "df_2018 = df_2018.withColumn(\"start_timestamp\", unix_timestamp(\"start_timestamp\"))\n",
    "df_2018 = df_2018.withColumn(\"end_timestamp\", unix_timestamp(\"end_timestamp\"))\n",
    "\n",
    "# Calculate trip duration in seconds\n",
    "df_2018 = df_2018.withColumn(\"trip_duration\", col(\"end_timestamp\") - col(\"start_timestamp\"))\n",
    "\n",
    "# Convert seconds to minutes\n",
    "df_2018 = df_2018.withColumn(\"trip_duration\", col(\"trip_duration\") / 60)\n",
    "\n",
    "df_2018.select('trip_duration').show()"
   ]
  },
  {
   "cell_type": "code",
   "execution_count": 108,
   "id": "4aef9ce8-cb8d-46d9-a192-a76541afec6c",
   "metadata": {},
   "outputs": [],
   "source": [
    "import numpy as np\n",
    "import pandas as pd\n",
    "import matplotlib.pyplot as plt\n",
    "import matplotlib.cm as cm\n",
    "from sklearn.cluster import DBSCAN\n",
    "from sklearn import metrics\n",
    "from pyspark.sql.functions import col, radians, acos, sin, cos, lit\n",
    "import time\n",
    "from pyspark.ml.feature import VectorAssembler\n"
   ]
  },
  {
   "cell_type": "code",
   "execution_count": 7,
   "id": "e4027b7a-39f5-4aa9-a6cc-937dec6a9952",
   "metadata": {},
   "outputs": [
    {
     "name": "stdout",
     "output_type": "stream",
     "text": [
      "root\n",
      " |-- ID: string (nullable = true)\n",
      " |-- start_timestamp: long (nullable = true)\n",
      " |-- end_timestamp: long (nullable = true)\n",
      " |-- seconds: integer (nullable = true)\n",
      " |-- miles: double (nullable = true)\n",
      " |-- pickup_tract: long (nullable = true)\n",
      " |-- dropoff_tract: long (nullable = true)\n",
      " |-- pickup_area: integer (nullable = true)\n",
      " |-- dropoff_area: integer (nullable = true)\n",
      " |-- Fare: double (nullable = true)\n",
      " |-- Tip: integer (nullable = true)\n",
      " |-- total: double (nullable = true)\n",
      " |-- pickup_lat: double (nullable = true)\n",
      " |-- pickup_lon: double (nullable = true)\n",
      " |-- dropoff_lat: double (nullable = true)\n",
      " |-- dropoff_lon: string (nullable = true)\n",
      " |-- month: integer (nullable = true)\n",
      " |-- day_of_month: integer (nullable = true)\n",
      " |-- hour: integer (nullable = true)\n",
      " |-- day: integer (nullable = true)\n",
      " |-- trip_duration: double (nullable = true)\n",
      "\n"
     ]
    }
   ],
   "source": [
    "df_all.printSchema()"
   ]
  },
  {
   "cell_type": "code",
   "execution_count": 107,
   "id": "34facafd-2864-4ac3-b95f-929cf66e695c",
   "metadata": {},
   "outputs": [
    {
     "name": "stderr",
     "output_type": "stream",
     "text": [
      "                                                                                \r"
     ]
    }
   ],
   "source": [
    "pdf = before.select('ID', 'pickup_lat','pickup_lon', 'dropoff_lat', 'dropoff_lon').toPandas()\n"
   ]
  },
  {
   "cell_type": "code",
   "execution_count": 110,
   "id": "51eeb55b-476f-4012-ae00-9bd096fa70d9",
   "metadata": {},
   "outputs": [
    {
     "data": {
      "text/plain": [
       "246631"
      ]
     },
     "execution_count": 110,
     "metadata": {},
     "output_type": "execute_result"
    }
   ],
   "source": [
    "# Earth's radius in kilometers\n",
    "rad_in_kms = 6371\n",
    "len(pdf)"
   ]
  },
  {
   "cell_type": "code",
   "execution_count": null,
   "id": "8eefb77b-6fd3-46e3-b20b-7c105168ab84",
   "metadata": {},
   "outputs": [],
   "source": [
    "# Fit DBSCAN model for pickup location using scikit-learn\n",
    "epsilon_pickup = 0.5 / rad_in_kms  # Earth's radius in kilometers\n",
    "dbscan_pickup = DBSCAN(eps=0.006, min_samples=10, algorithm='ball_tree', metric='haversine')\n",
    "pickup_features = np.array(pdf[[\"pickup_lon\", \"pickup_lat\"]])\n",
    "pdf[\"pickup_prediction\"] = dbscan_pickup.fit_predict(pickup_features)\n",
    "\n",
    "# Filter out noise points for pickup location (prediction == -1)\n",
    "#pdf = pdf[pdf[\"pickup_prediction\"] != -1]\n"
   ]
  },
  {
   "cell_type": "code",
   "execution_count": 62,
   "id": "fb2f2533-f232-40f2-854b-cecfc222c172",
   "metadata": {},
   "outputs": [],
   "source": [
    "# Fit DBSCAN model for dropoff location using scikit-learn\n",
    "epsilon_dropoff = 1.5 / rad_in_kms  \n",
    "dbscan_dropoff = DBSCAN(eps=0.03, min_samples=10, algorithm='ball_tree', metric='haversine')\n",
    "dropoff_features = np.array(pdf[[\"dropoff_lon\", \"dropoff_lat\"]])\n",
    "pdf[\"dropoff_prediction\"] = dbscan_dropoff.fit_predict(dropoff_features)\n",
    "\n",
    "# Filter out noise points for dropoff location (prediction == -1)\n",
    "#pdf = pdf[pdf[\"dropoff_prediction\"] != -1]\n"
   ]
  },
  {
   "cell_type": "code",
   "execution_count": 80,
   "id": "428508c3-e572-418b-9465-673bd9935d74",
   "metadata": {},
   "outputs": [
    {
     "data": {
      "text/plain": [
       "47641"
      ]
     },
     "execution_count": 80,
     "metadata": {},
     "output_type": "execute_result"
    }
   ],
   "source": [
    "len(pdf)"
   ]
  },
  {
   "cell_type": "code",
   "execution_count": 87,
   "id": "c0de1acf-a9e8-4f5a-8279-86ac2a5e5880",
   "metadata": {},
   "outputs": [
    {
     "data": {
      "image/png": "[encoded data removed]",
      "text/plain": [
       "<Figure size 1000x1500 with 1 Axes>"
      ]
     },
     "metadata": {},
     "output_type": "display_data"
    }
   ],
   "source": [
    "import geopandas as gpd\n",
    "from shapely.geometry import Point\n",
    "\n",
    "geometry = [Point(xy) for xy in zip(pdf['pickup_lon'], pdf['pickup_lat'])]\n",
    "geo_df = gpd.GeoDataFrame(pdf, geometry=geometry)\n",
    "\n",
    "# Plotting\n",
    "fig, ax = plt.subplots(figsize=(10, 15))\n",
    "geo_df.plot(ax=ax, markersize=100, column='pickup_prediction', cmap='Set3', categorical=True, legend=True)\n",
    "\n",
    "leg = ax.get_legend()\n",
    "leg.set_bbox_to_anchor((1.05, 1))  # Adjust the values as needed\n",
    "\n",
    "plt.show()\n"
   ]
  },
  {
   "cell_type": "code",
   "execution_count": 71,
   "id": "9acc55d9-4516-4b8d-a9bc-c1cf3c34fa83",
   "metadata": {},
   "outputs": [
    {
     "data": {
      "image/png": "[encoded data removed]",
      "text/plain": [
       "<Figure size 1000x600 with 1 Axes>"
      ]
     },
     "metadata": {},
     "output_type": "display_data"
    }
   ],
   "source": [
    "import matplotlib.pyplot as plt\n",
    "\n",
    "# Assuming you have a DataFrame named 'pd_df' with pickup cluster information\n",
    "# You can replace 'pickup_longitude', 'pickup_latitude', and 'pickup_cluster' with your actual column names\n",
    "\n",
    "plt.figure(figsize=(10, 6))\n",
    "\n",
    "# Scatter plot colored by cluster\n",
    "scatter = plt.scatter(pdf['pickup_lon'], pdf['pickup_lat'], c=pdf['pickup_prediction'], cmap='Set3', s=100)\n",
    "\n",
    "# Add legend\n",
    "legend = plt.legend(*scatter.legend_elements(), title='Pickup Cluster')\n",
    "plt.gca().add_artist(legend)\n",
    "\n",
    "plt.title('Pickup Points Colored by Cluster')\n",
    "plt.xlabel('Longitude')\n",
    "plt.ylabel('Latitude')\n",
    "plt.show()\n"
   ]
  },
  {
   "cell_type": "code",
   "execution_count": 85,
   "id": "78abe6d4-48af-4c09-9fa4-10f7c8873eb0",
   "metadata": {},
   "outputs": [
    {
     "data": {
      "image/png": "[encoded data removed]",
      "text/plain": [
       "<Figure size 1000x1500 with 1 Axes>"
      ]
     },
     "metadata": {},
     "output_type": "display_data"
    }
   ],
   "source": [
    "import geopandas as gpd\n",
    "import matplotlib.pyplot as plt\n",
    "from shapely.geometry import Point\n",
    "\n",
    "# Assuming 'pickup_prediction' is a categorical variable in your GeoDataFrame\n",
    "pdf['pickup_prediction'] = pdf['pickup_prediction'].astype('category')\n",
    "\n",
    "# Calculate the count of records for each category\n",
    "category_counts = pdf['pickup_prediction'].value_counts()\n",
    "\n",
    "# Create a dictionary mapping each category to its count\n",
    "category_count_dict = dict(zip(category_counts.index, category_counts.values))\n",
    "\n",
    "# Create a new column 'count' in the GeoDataFrame to store the count for each record's category\n",
    "geo_df['count'] = geo_df['pickup_prediction'].map(category_count_dict)\n",
    "\n",
    "# Plotting\n",
    "fig, ax = plt.subplots(figsize=(10, 15))\n",
    "geo_df.plot(ax=ax, markersize=geo_df['count'], column='pickup_prediction', cmap='Set3', categorical=True, legend=True)\n",
    "\n",
    "leg = ax.get_legend()\n",
    "leg.set_bbox_to_anchor((1.05, 1))  # Adjust the values as needed\n",
    "\n",
    "plt.show()"
   ]
  },
  {
   "cell_type": "code",
   "execution_count": null,
   "id": "f079b0c6-d953-411d-a0f2-7739ba0fc207",
   "metadata": {},
   "outputs": [],
   "source": [
    "from pyspark.ml.clustering import KMeans\n",
    "\n",
    "kmeans = KMeans(k=15, seed=1) \n",
    "model = kmeans.fit(df_2018.select('features'))\n",
    "\n",
    "### Vecorizing and getting pickup clusters\n",
    "vecAssembler = VectorAssembler(inputCols=[\"pickup_latitude\", \"pickup_longitude\"], outputCol=\"features\")\n",
    "new_df = vecAssembler.transform(df)\n",
    "df = model.transform(new_df)\n",
    "\n",
    "## assigniung prediction to pickup cluster\n",
    "df = data1_df.withColumnRenamed('prediction', 'pickup_cluster')\n",
    "df = data1_df.drop('features')\n",
    "\n",
    "### Vecorizing and getting dropoff clusters\n",
    "vecAssembler = VectorAssembler(inputCols=[\"dropoff_latitude\", \"dropoff_longitude\"], outputCol=\"features\")\n",
    "new_df = vecAssembler.transform(df)\n",
    "df = model.transform(new_df)\n",
    "\n",
    "## assigniung prediction to dropoff cluster\n",
    "df = data1_df.withColumnRenamed('prediction', 'dropoff_cluster')\n",
    "df = data1_df.drop('features')"
   ]
  },
  {
   "cell_type": "markdown",
   "id": "e9e87c1a-e53b-4764-aa62-1e12399d894f",
   "metadata": {},
   "source": [
    "whether clusters have increased or decreased, distance between clusters, figure out the actual locations, put geo markers on map, closest centroid to key locations and how that changesyea\n",
    "\n",
    "combine before and after\n",
    "\n",
    "movement of centroids over the years\n",
    "\n"
   ]
  }
 ],
 "metadata": {
  "kernelspec": {
   "display_name": "PySpark",
   "language": "python",
   "name": "pyspark"
  },
  "language_info": {
   "codemirror_mode": {
    "name": "ipython",
    "version": 3
   },
   "file_extension": ".py",
   "mimetype": "text/x-python",
   "name": "python",
   "nbconvert_exporter": "python",
   "pygments_lexer": "ipython3",
   "version": "3.8.15"
  }
 },
 "nbformat": 4,
 "nbformat_minor": 5
}
