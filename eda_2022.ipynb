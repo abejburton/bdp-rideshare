{
 "cells": [
  {
   "cell_type": "markdown",
   "id": "4a7647df-f1c2-414e-9da4-055ae9f67e33",
   "metadata": {},
   "source": [
    "### EDA 2022\n"
   ]
  },
  {
   "cell_type": "code",
   "execution_count": null,
   "id": "201288da-86ac-4db0-a56b-4d75e26e1753",
   "metadata": {},
   "outputs": [],
   "source": [
    "from pyspark.sql import SparkSession\n",
    "from pyspark.sql import functions as F\n",
    "\n",
    "import matplotlib.pyplot as plt\n",
    "%matplotlib inline"
   ]
  },
  {
   "cell_type": "code",
   "execution_count": null,
   "id": "3443992c-4530-48f2-a133-fb1dacf4b84f",
   "metadata": {},
   "outputs": [],
   "source": [
    "spark = SparkSession.builder.appName('2022EDA').getOrCreate()\n",
    "\n",
    "#change configuration settings on Spark \n",
    "conf = spark.sparkContext._conf.setAll([('spark.executor.memory', '4g'), ('spark.app.name', 'Spark Updated Conf'), ('spark.executor.cores', '4'), ('spark.cores.max', '4'), ('spark.driver.memory','4g')])\n",
    "\n",
    "#print spark configuration settings\n",
    "spark.sparkContext.getConf().getAll()"
   ]
  },
  {
   "cell_type": "code",
   "execution_count": null,
   "id": "a10a9fef-7517-4947-a7a5-b17db05dbb79",
   "metadata": {},
   "outputs": [],
   "source": [
    "df_2022 = spark.read.csv(\"gs://msca-bdp-student-gcs/bdp-rideshare-project/rideshare/2022\", inferSchema=True, header=True)\n",
    "# figure out how to read in shp file msca-bdp-student-gcs/bdp-rideshare-project/neighborhoods/shp files\n",
    "#df_weather = spark.read.csv(\"gs://msca-bdp-student-gcs/bdp-rideshare-project/weather/chicago 2020-01-01 to 2022-08-31.csv\", inferSchema=True, header=True)\n",
    "df_2022.printSchema()\n",
    "#df_weather.printSchema()"
   ]
  },
  {
   "cell_type": "code",
   "execution_count": null,
   "id": "8138c57a-26d6-44c4-b765-c7b137277044",
   "metadata": {},
   "outputs": [],
   "source": [
    "#display number of records by partition\n",
    "def displaypartitions(df):\n",
    "    #number of records by partition\n",
    "    num = df.rdd.getNumPartitions()\n",
    "    print(\"Partitions:\", num)\n",
    "    df.withColumn(\"partitionId\", F.spark_partition_id())\\\n",
    "        .groupBy(\"partitionId\")\\\n",
    "        .count()\\\n",
    "        .orderBy(F.asc(\"count\"))\\\n",
    "        .show(num)\n",
    "\n",
    "df_2022.rdd.getNumPartitions()"
   ]
  },
  {
   "cell_type": "code",
   "execution_count": null,
   "id": "e70c86dd-041c-4967-b726-c058e32a76b7",
   "metadata": {},
   "outputs": [],
   "source": [
    "displaypartitions(df_2022)"
   ]
  },
  {
   "cell_type": "code",
   "execution_count": null,
   "id": "fe004162-5b22-4a11-9fad-665fa5cdecc0",
   "metadata": {},
   "outputs": [],
   "source": [
    "# df_2022 = df_2022.repartition(10)"
   ]
  },
  {
   "cell_type": "code",
   "execution_count": null,
   "id": "22a6039e-9848-4717-98b6-bc915540357b",
   "metadata": {},
   "outputs": [],
   "source": [
    "df_2022.describe().show()"
   ]
  },
  {
   "cell_type": "code",
   "execution_count": null,
   "id": "c78e4618-8383-4df2-862b-4cb9dbeb20ab",
   "metadata": {},
   "outputs": [],
   "source": [
    "#Find the number of missing values for each column\n",
    "from pyspark.sql.functions import isnan, when, count, col\n",
    "df_2022.select([count(when(df_2022[c].isNull(), c)).alias(c) for c in df_2022.columns]).show()"
   ]
  },
  {
   "cell_type": "code",
   "execution_count": null,
   "id": "ee6f3669-6fc4-404d-8e91-ba819dec25fe",
   "metadata": {},
   "outputs": [],
   "source": [
    "import missingno as msno\n",
    "%matplotlib inline\n",
    "msno.matrix(df_2022.sample(fraction=1/10000).toPandas())"
   ]
  },
  {
   "cell_type": "code",
   "execution_count": null,
   "id": "90aa424e-4efa-47af-9710-0e5d50216fc8",
   "metadata": {},
   "outputs": [],
   "source": [
    "#Approximate number of 2022 trips\n",
    "from pyspark.sql.functions import approxCountDistinct\n",
    "\n",
    "df_2022.select(approxCountDistinct(\"Trip ID\", rsd = 0.01)).show()"
   ]
  },
  {
   "cell_type": "code",
   "execution_count": null,
   "id": "2dd6ea75-5417-4d27-92bb-4d9a24808545",
   "metadata": {},
   "outputs": [],
   "source": [
    "# number of observations with all the data in each column\n",
    "df_2022.dropna(how='any').count()"
   ]
  },
  {
   "cell_type": "code",
   "execution_count": null,
   "id": "46e2e9e5-3581-444c-b149-827a5cbc62f5",
   "metadata": {},
   "outputs": [],
   "source": [
    "# Working with just data that contains full information and check for dupes\n",
    "df_2022 = df_2022.dropna(how='any', subset=['Trip Start Timestamp','Trip End Timestamp','Fare','Dropoff Community Area','Pickup Community Area'])\n",
    "df_2022 = df_2022.dropDuplicates()\n",
    "# df_2022.count()"
   ]
  },
  {
   "cell_type": "code",
   "execution_count": null,
   "id": "6a52d857-bc07-47a7-8cc9-71478bf10e08",
   "metadata": {},
   "outputs": [],
   "source": [
    "df_2022 = df_2022.drop('Trips Pooled','Additional Charges','Shared Trip Authorized','Pickup Centroid Location','Dropoff Centroid Location')\n",
    "df_2022 = df_2022.withColumnRenamed(\"Trip ID\",\"ID\").withColumnRenamed(\"Trip Start Timestamp\",\"start_timestamp\").withColumnRenamed(\"Trip End Timestamp\",\"end_timestamp\").withColumnRenamed(\"Trip Miles\",\\\n",
    "                \"miles\").withColumnRenamed(\"Pickup Census Tract\",\"pickup_tract\").withColumnRenamed(\"Dropoff Census Tract\",\"dropoff_tract\").withColumnRenamed(\"Pickup Community Area\",\"pickup_area\"\\\n",
    "                ).withColumnRenamed(\"Dropoff Community Area\",\"dropoff_area\").withColumnRenamed(\"Trip Total\",\"total\").withColumnRenamed(\"Pickup Centroid Latitude\",\"pickup_lat\").withColumnRenamed(\\\n",
    "                \"Pickup Centroid Longitude\",\"pickup_lon\").withColumnRenamed(\"Pickup Centroid Location\",\"pickup_location\").withColumnRenamed(\"Dropoff Centroid Latitude\",\"dropoff_lat\").withColumnRenamed(\\\n",
    "                \"Dropoff Centroid Longitude\",\"dropoff_lon\").withColumnRenamed(\"Dropoff Centroid Location\",\"dropoff_location\").withColumnRenamed(\"Trip Seconds\",\"seconds\")\n",
    "# fix datatypes\n",
    "df_2022 = df_2022.withColumn('start_timestamp', F.to_timestamp(df_2022['start_timestamp'], 'MM/dd/yyyy hh:mm:ss a')).withColumn('end_timestamp', F.to_timestamp(df_2022['end_timestamp'], 'MM/dd/yyyy hh:mm:ss a'))\n",
    "df_weather = df_weather.withColumn('datetime',F.to_date(df_weather['datetime'], \"yyyy-MM-dd\"))\n"
   ]
  },
  {
   "cell_type": "code",
   "execution_count": null,
   "id": "17ebe569-82bb-49b0-aaaf-ac5062bede35",
   "metadata": {},
   "outputs": [],
   "source": [
    "# add the month column\n",
    "df_2022 = df_2022.withColumn('month', F.month(df_2022.start_timestamp))\n",
    "df_2022 = df_2022.withColumn('day_of_month', F.dayofmonth(df_2022.start_timestamp))\n",
    "df_2022 = df_2022.withColumn('hour', F.hour(df_2022.start_timestamp))\n",
    "df_2022 = df_2022.withColumn('day', F.dayofweek(df_2022.start_timestamp))"
   ]
  },
  {
   "cell_type": "code",
   "execution_count": null,
   "id": "38ae8fc8-7d8b-4560-a6fb-7d84fc672929",
   "metadata": {},
   "outputs": [],
   "source": [
    "sample_df = df_2022.sample(fraction=1/10000).toPandas().loc[:,[\"pickup_area\",\"dropoff_area\",\"total\",\"Fare\",\"Tip\",\"total\",\"miles\",\"seconds\",\"hour\",\"day\",\"month\"]]"
   ]
  },
  {
   "cell_type": "code",
   "execution_count": null,
   "id": "fdd98395-7ec5-413f-975c-db44d2871c46",
   "metadata": {},
   "outputs": [],
   "source": [
    "sample_df.head()"
   ]
  },
  {
   "cell_type": "code",
   "execution_count": null,
   "id": "064352aa-8513-4953-b527-48cc322fdfab",
   "metadata": {},
   "outputs": [],
   "source": [
    "sample_df = sample_df.dropna()\n",
    "sample_df = sample_df.drop_duplicates()"
   ]
  },
  {
   "cell_type": "code",
   "execution_count": null,
   "id": "a81f2984-28da-4dbb-9645-7615f81c1b67",
   "metadata": {},
   "outputs": [],
   "source": [
    "sample_df.head()\n",
    "sample_df = sample_df.drop(columns='total')"
   ]
  },
  {
   "cell_type": "code",
   "execution_count": null,
   "id": "aaa804fd-84c8-4670-a4fe-4027d9fc1510",
   "metadata": {},
   "outputs": [],
   "source": [
    "#import seaborn as sns\n",
    "#sns.set_theme(style=\"ticks\")\n",
    "#sns.pairplot(sample_df)\n",
    "#plt.show()"
   ]
  },
  {
   "cell_type": "code",
   "execution_count": null,
   "id": "a973b0bb-3518-4d17-a53e-6201c08fe814",
   "metadata": {},
   "outputs": [],
   "source": [
    "import seaborn as sns\n",
    "sns.displot(sample_df, x=\"miles\")"
   ]
  },
  {
   "cell_type": "code",
   "execution_count": null,
   "id": "43beea36-d574-484a-909d-11698c9e43c8",
   "metadata": {},
   "outputs": [],
   "source": [
    "sns.displot(sample_df, x=\"seconds\")"
   ]
  },
  {
   "cell_type": "code",
   "execution_count": null,
   "id": "d1a92dc5-2b9b-45cf-b4d0-e5a6732b281f",
   "metadata": {},
   "outputs": [],
   "source": [
    "sns.displot(sample_df, x=\"Fare\")"
   ]
  },
  {
   "cell_type": "code",
   "execution_count": null,
   "id": "42f2cac9-9ba2-4004-b631-64d9c4cc0e4d",
   "metadata": {},
   "outputs": [],
   "source": [
    "sns.displot(sample_df, x=\"Tip\")"
   ]
  },
  {
   "cell_type": "code",
   "execution_count": null,
   "id": "2ae6d6b2-9001-4ded-ba3a-225861cbe451",
   "metadata": {},
   "outputs": [],
   "source": [
    "# get rides that occurred within hyde park\n",
    "# add kenwood and woodlawn to this list - only if the other location is hyde park                    \n",
    "df_hp = df_2022.filter((df_2022.pickup_area == 41) & (df_2022.dropoff_area == 41))\n",
    "df_kw = df_2022.filter(((df_2022.pickup_area == 41) & (df_2022.dropoff_area == 42)) | ((df_2022.pickup_area == 42) & (df_2022.dropoff_area == 41)))\n",
    "df_wl = df_2022.filter(((df_2022.pickup_area == 41) & (df_2022.dropoff_area == 39)) | ((df_2022.pickup_area == 39) & (df_2022.dropoff_area == 41)))\n",
    "df_area = df_hp.union(df_kw).union(df_wl)"
   ]
  },
  {
   "cell_type": "code",
   "execution_count": null,
   "id": "67a9c9c1-dd4e-41b6-9d29-b475a1189268",
   "metadata": {},
   "outputs": [],
   "source": [
    "df_area.show(5)"
   ]
  },
  {
   "cell_type": "code",
   "execution_count": null,
   "id": "2c54ef92-e61e-4827-ad6c-bb8b9405e701",
   "metadata": {},
   "outputs": [],
   "source": [
    "import matplotlib.pyplot as plt\n",
    "df_count_plot = df_area.groupby(\"month\").agg({'ID':'count'}).orderBy(F.col('month').asc()).toPandas() #.plot(x=\"month\",y=\"count(ID)\")\n",
    "ax = df_count_plot.plot(x=\"month\", y=\"count(ID)\")\n",
    "ax.axvline(x=9, color='g', linestyle='--', label='Program Starts, Fall Quarter Begins')\n",
    "ax.axvline(x=6, color='r', linestyle='--', label='Spring Quarter Ends')\n",
    "plt.legend()\n",
    "plt.show()"
   ]
  },
  {
   "cell_type": "code",
   "execution_count": null,
   "id": "a4969a36-7c79-422e-a1b1-cf2017208b55",
   "metadata": {},
   "outputs": [],
   "source": [
    "# rides per hour:\n",
    "rides_per_hour = df_area.groupBy(\"hour\").count().orderBy(\"hour\")\n",
    "\n",
    "# Convert the result to Pandas for local plotting\n",
    "rides_per_hour_pd = rides_per_hour.toPandas()\n",
    "\n",
    "# Plot the data\n",
    "plt.figure(figsize=(10, 6))\n",
    "plt.bar(rides_per_hour_pd[\"hour\"], rides_per_hour_pd[\"count\"], color=\"skyblue\")\n",
    "plt.xlabel(\"Hour of the Day\")\n",
    "plt.ylabel(\"Number of Rides\")\n",
    "plt.title(\"Number of Rides Per Hour\")\n",
    "plt.show()"
   ]
  },
  {
   "cell_type": "code",
   "execution_count": null,
   "id": "880c5d7d-6e3f-4780-80ef-9d993a65eff0",
   "metadata": {},
   "outputs": [],
   "source": [
    "df_area_program = df_area.filter((df_area.fare <= 15.0) & ((df_area.hour >= 17) | (df_area.hour < 4)))"
   ]
  },
  {
   "cell_type": "code",
   "execution_count": null,
   "id": "a1b60972-6242-4259-8209-87d9fe9e750f",
   "metadata": {},
   "outputs": [],
   "source": [
    "from pyspark.sql.functions import approxCountDistinct\n",
    "\n",
    "df_area_program.select(approxCountDistinct(\"ID\", rsd = 0.05)).show()"
   ]
  },
  {
   "cell_type": "code",
   "execution_count": null,
   "id": "4170f6ac-afca-44c9-9e2e-7e78670de3d1",
   "metadata": {},
   "outputs": [],
   "source": [
    "df_count_plot_program = df_area_program.groupby(\"month\").agg({'ID':'count'}).orderBy(F.col('month').asc()).toPandas() #.plot(x=\"month\",y=\"count(ID)\")\n",
    "ax = df_count_plot_program.plot(x=\"month\", y=\"count(ID)\")\n",
    "ax.axvline(x=9, color='g', linestyle='--', label='Program Starts, Fall Quarter Begins')\n",
    "ax.axvline(x=6, color='r', linestyle='--', label='Spring Quarter Ends')\n",
    "plt.legend()\n",
    "plt.show()"
   ]
  },
  {
   "cell_type": "code",
   "execution_count": null,
   "id": "d266e90c-ae57-41cb-99a5-3185b61e60ed",
   "metadata": {},
   "outputs": [],
   "source": [
    "import seaborn as sns\n",
    "\n",
    "df_area_program_pd = df_area_program.toPandas()\n",
    "\n",
    "plt.figure(figsize=(10, 6))\n",
    "sns.histplot(df_area_program_pd['hour'], bins=24, kde=False, color='skyblue')\n",
    "plt.title('Distribution of Pickup Hours for Filtered Rides')\n",
    "plt.xlabel('Hour of Day')\n",
    "plt.ylabel('Number of Rides')\n",
    "plt.show()"
   ]
  },
  {
   "cell_type": "code",
   "execution_count": null,
   "id": "2fda94cd-990c-436b-93b0-979f7e3c8ad3",
   "metadata": {},
   "outputs": [],
   "source": [
    "# basic plots for all rides (not just in the program area)\n",
    "df_2022.groupby(\"month\").agg({'ID':'count'}).orderBy(F.col('month').asc()).toPandas().plot(x=\"month\",y=\"count(ID)\")"
   ]
  },
  {
   "cell_type": "code",
   "execution_count": null,
   "id": "90914451-ac49-44f6-98d5-4eb6b5f8dbf6",
   "metadata": {},
   "outputs": [],
   "source": [
    "df_total = df_2022.groupby(\"pickup_area\").agg({'ID':'count'}).orderBy(F.col('pickup_area').asc()).toPandas()"
   ]
  },
  {
   "cell_type": "code",
   "execution_count": null,
   "id": "748f2fd1-b2d6-47bb-8315-b4034acbbcee",
   "metadata": {},
   "outputs": [],
   "source": [
    "%matplotlib inline\n",
    "plt.figure(figsize=(10, 10))\n",
    "ax = df_total.plot(x=\"pickup_area\",y=\"count(ID)\", kind='bar')\n",
    "plt.xticks(rotation=45, ha='right')\n",
    "plt.legend()\n",
    "plt.show()"
   ]
  },
  {
   "cell_type": "code",
   "execution_count": null,
   "id": "5758417d-edcd-448a-9535-16f5b9c1528a",
   "metadata": {},
   "outputs": [],
   "source": [
    "df_2022.groupby(\"dropoff_area\").agg({'ID':'count'}).orderBy(F.col('dropoff_area').asc()).toPandas().plot(x=\"dropoff_area\",y=\"count(ID)\", kind='bar')"
   ]
  },
  {
   "cell_type": "code",
   "execution_count": null,
   "id": "4876aef0-e741-4302-82d5-24f133f1d762",
   "metadata": {},
   "outputs": [],
   "source": [
    "# storing data on the bucket\n",
    "df_area_program.write.option(\"header\", \"true\").csv(\"gs://msca-bdp-student-gcs/bdp-rideshare-project/rideshare/processed_data/program_area_time_rides_2022.csv\")\n",
    "df_2022.write.option(\"header\", \"true\").csv(\"gs://msca-bdp-student-gcs/bdp-rideshare-project/rideshare/processed_data/rides_2022.csv\")"
   ]
  }
 ],
 "metadata": {
  "kernelspec": {
   "display_name": "PySpark",
   "language": "python",
   "name": "pyspark"
  },
  "language_info": {
   "codemirror_mode": {
    "name": "ipython",
    "version": 3
   },
   "file_extension": ".py",
   "mimetype": "text/x-python",
   "name": "python",
   "nbconvert_exporter": "python",
   "pygments_lexer": "ipython3",
   "version": "3.8.15"
  }
 },
 "nbformat": 4,
 "nbformat_minor": 5
}
