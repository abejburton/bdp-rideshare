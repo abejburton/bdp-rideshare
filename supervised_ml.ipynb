{
 "cells": [
  {
   "cell_type": "markdown",
   "id": "ffbfcaa5-0116-4997-b3ec-80e493185654",
   "metadata": {},
   "source": [
    "# Supervised ML\n",
    "\n",
    "The goal of this model is to predict the ridership that occurs within the University of Chicago Lyft Program Area. We will do this by using as features the ridership counts of other Chicago community areas, as well as using weather. The labels are the daily ridership counts within the program area.\n",
    "\n",
    "We will create the model that functions up until the introduction of the University Lyft program and then look at the difference between the predictions and the actual ridership as a rough estimate of the effect of the program on rideshare usage in the area. We will do this by looking at both the change when the program was introduced, as well as when the program was reduced from 10 rides of up to 15 dollars each, to 7 rides up to 10 dollars. "
   ]
  },
  {
   "cell_type": "code",
   "execution_count": 1,
   "id": "414550d7-9d43-4f5c-8f75-4756974014af",
   "metadata": {},
   "outputs": [
    {
     "data": {
      "text/plain": [
       "[('spark.stage.maxConsecutiveAttempts', '10'),\n",
       " ('spark.dynamicAllocation.minExecutors', '1'),\n",
       " ('spark.eventLog.enabled', 'true'),\n",
       " ('spark.submit.pyFiles',\n",
       "  '/root/.ivy2/jars/com.johnsnowlabs.nlp_spark-nlp_2.12-4.4.0.jar,/root/.ivy2/jars/graphframes_graphframes-0.8.2-spark3.1-s_2.12.jar,/root/.ivy2/jars/com.typesafe_config-1.4.2.jar,/root/.ivy2/jars/org.rocksdb_rocksdbjni-6.29.5.jar,/root/.ivy2/jars/com.amazonaws_aws-java-sdk-bundle-1.11.828.jar,/root/.ivy2/jars/com.github.universal-automata_liblevenshtein-3.0.0.jar,/root/.ivy2/jars/com.google.cloud_google-cloud-storage-2.16.0.jar,/root/.ivy2/jars/com.navigamez_greex-1.0.jar,/root/.ivy2/jars/com.johnsnowlabs.nlp_tensorflow-cpu_2.12-0.4.4.jar,/root/.ivy2/jars/it.unimi.dsi_fastutil-7.0.12.jar,/root/.ivy2/jars/org.projectlombok_lombok-1.16.8.jar,/root/.ivy2/jars/com.google.guava_guava-31.1-jre.jar,/root/.ivy2/jars/com.google.guava_failureaccess-1.0.1.jar,/root/.ivy2/jars/com.google.guava_listenablefuture-9999.0-empty-to-avoid-conflict-with-guava.jar,/root/.ivy2/jars/com.google.errorprone_error_prone_annotations-2.16.jar,/root/.ivy2/jars/com.google.j2objc_j2objc-annotations-1.3.jar,/root/.ivy2/jars/com.google.http-client_google-http-client-1.42.3.jar,/root/.ivy2/jars/io.opencensus_opencensus-contrib-http-util-0.31.1.jar,/root/.ivy2/jars/com.google.http-client_google-http-client-jackson2-1.42.3.jar,/root/.ivy2/jars/com.google.http-client_google-http-client-gson-1.42.3.jar,/root/.ivy2/jars/com.google.api-client_google-api-client-2.1.1.jar,/root/.ivy2/jars/commons-codec_commons-codec-1.15.jar,/root/.ivy2/jars/com.google.oauth-client_google-oauth-client-1.34.1.jar,/root/.ivy2/jars/com.google.http-client_google-http-client-apache-v2-1.42.3.jar,/root/.ivy2/jars/com.google.apis_google-api-services-storage-v1-rev20220705-2.0.0.jar,/root/.ivy2/jars/com.google.code.gson_gson-2.10.jar,/root/.ivy2/jars/com.google.cloud_google-cloud-core-2.9.0.jar,/root/.ivy2/jars/com.google.auto.value_auto-value-annotations-1.10.1.jar,/root/.ivy2/jars/com.google.cloud_google-cloud-core-http-2.9.0.jar,/root/.ivy2/jars/com.google.http-client_google-http-client-appengine-1.42.3.jar,/root/.ivy2/jars/com.google.api_gax-httpjson-0.105.1.jar,/root/.ivy2/jars/com.google.cloud_google-cloud-core-grpc-2.9.0.jar,/root/.ivy2/jars/io.grpc_grpc-core-1.51.0.jar,/root/.ivy2/jars/com.google.api_gax-2.20.1.jar,/root/.ivy2/jars/com.google.api_gax-grpc-2.20.1.jar,/root/.ivy2/jars/io.grpc_grpc-alts-1.51.0.jar,/root/.ivy2/jars/io.grpc_grpc-grpclb-1.51.0.jar,/root/.ivy2/jars/org.conscrypt_conscrypt-openjdk-uber-2.5.2.jar,/root/.ivy2/jars/io.grpc_grpc-protobuf-1.51.0.jar,/root/.ivy2/jars/com.google.auth_google-auth-library-credentials-1.13.0.jar,/root/.ivy2/jars/com.google.auth_google-auth-library-oauth2-http-1.13.0.jar,/root/.ivy2/jars/com.google.api_api-common-2.2.2.jar,/root/.ivy2/jars/javax.annotation_javax.annotation-api-1.3.2.jar,/root/.ivy2/jars/io.opencensus_opencensus-api-0.31.1.jar,/root/.ivy2/jars/io.grpc_grpc-context-1.51.0.jar,/root/.ivy2/jars/com.google.api.grpc_proto-google-iam-v1-1.6.22.jar,/root/.ivy2/jars/com.google.protobuf_protobuf-java-3.21.10.jar,/root/.ivy2/jars/com.google.protobuf_protobuf-java-util-3.21.10.jar,/root/.ivy2/jars/com.google.api.grpc_proto-google-common-protos-2.11.0.jar,/root/.ivy2/jars/org.threeten_threetenbp-1.6.4.jar,/root/.ivy2/jars/com.google.api.grpc_proto-google-cloud-storage-v2-2.16.0-alpha.jar,/root/.ivy2/jars/com.google.api.grpc_grpc-google-cloud-storage-v2-2.16.0-alpha.jar,/root/.ivy2/jars/com.google.api.grpc_gapic-google-cloud-storage-v2-2.16.0-alpha.jar,/root/.ivy2/jars/com.fasterxml.jackson.core_jackson-core-2.14.1.jar,/root/.ivy2/jars/com.google.code.findbugs_jsr305-3.0.2.jar,/root/.ivy2/jars/io.grpc_grpc-api-1.51.0.jar,/root/.ivy2/jars/io.grpc_grpc-auth-1.51.0.jar,/root/.ivy2/jars/io.grpc_grpc-stub-1.51.0.jar,/root/.ivy2/jars/org.checkerframework_checker-qual-3.28.0.jar,/root/.ivy2/jars/com.google.api.grpc_grpc-google-iam-v1-1.6.22.jar,/root/.ivy2/jars/io.grpc_grpc-protobuf-lite-1.51.0.jar,/root/.ivy2/jars/com.google.android_annotations-4.1.1.4.jar,/root/.ivy2/jars/org.codehaus.mojo_animal-sniffer-annotations-1.22.jar,/root/.ivy2/jars/io.grpc_grpc-netty-shaded-1.51.0.jar,/root/.ivy2/jars/io.perfmark_perfmark-api-0.26.0.jar,/root/.ivy2/jars/io.grpc_grpc-googleapis-1.51.0.jar,/root/.ivy2/jars/io.grpc_grpc-xds-1.51.0.jar,/root/.ivy2/jars/io.opencensus_opencensus-proto-0.2.0.jar,/root/.ivy2/jars/io.grpc_grpc-services-1.51.0.jar,/root/.ivy2/jars/com.google.re2j_re2j-1.6.jar,/root/.ivy2/jars/dk.brics.automaton_automaton-1.11-8.jar,/root/.ivy2/jars/org.slf4j_slf4j-api-1.7.16.jar'),\n",
       " ('spark.ui.proxyBase', '/proxy/application_1700881147707_0001'),\n",
       " ('spark.driver.host',\n",
       "  'hub-msca-bdp-dphub-students-test-harshpachisia-m.c.msca-bdp-student-ap.internal'),\n",
       " ('spark.dataproc.sql.joinConditionReorder.enabled', 'true'),\n",
       " ('spark.sql.autoBroadcastJoinThreshold', '191m'),\n",
       " ('spark.eventLog.dir',\n",
       "  'gs://dataproc-temp-us-central1-635155370842-uzamlpgc/6f963ebc-55a3-483f-8657-eb388c77cf9d/spark-job-history'),\n",
       " ('spark.app.id', 'application_1700881147707_0001'),\n",
       " ('spark.kryoserializer.buffer.max', '2000M'),\n",
       " ('spark.serializer', 'org.apache.spark.serializer.KryoSerializer'),\n",
       " ('spark.dataproc.sql.local.rank.pushdown.enabled', 'true'),\n",
       " ('spark.driver.maxResultSize', '0'),\n",
       " ('spark.yarn.unmanagedAM.enabled', 'true'),\n",
       " ('spark.ui.filters',\n",
       "  'org.apache.hadoop.yarn.server.webproxy.amfilter.AmIpFilter'),\n",
       " ('spark.driver.appUIAddress',\n",
       "  'http://hub-msca-bdp-dphub-students-test-harshpachisia-m.c.msca-bdp-student-ap.internal:43227'),\n",
       " ('spark.metrics.namespace',\n",
       "  'app_name:${spark.app.name}.app_id:${spark.app.id}'),\n",
       " ('spark.executor.memory', '4g'),\n",
       " ('spark.dataproc.sql.optimizer.leftsemijoin.conversion.enabled', 'true'),\n",
       " ('spark.hadoop.hive.execution.engine', 'mr'),\n",
       " ('spark.executor.id', 'driver'),\n",
       " ('spark.hadoop.mapreduce.fileoutputcommitter.algorithm.version', '2'),\n",
       " ('spark.dynamicAllocation.maxExecutors', '10000'),\n",
       " ('spark.yarn.dist.pyFiles',\n",
       "  'file:///root/.ivy2/jars/com.johnsnowlabs.nlp_spark-nlp_2.12-4.4.0.jar,file:///root/.ivy2/jars/graphframes_graphframes-0.8.2-spark3.1-s_2.12.jar,file:///root/.ivy2/jars/com.typesafe_config-1.4.2.jar,file:///root/.ivy2/jars/org.rocksdb_rocksdbjni-6.29.5.jar,file:///root/.ivy2/jars/com.amazonaws_aws-java-sdk-bundle-1.11.828.jar,file:///root/.ivy2/jars/com.github.universal-automata_liblevenshtein-3.0.0.jar,file:///root/.ivy2/jars/com.google.cloud_google-cloud-storage-2.16.0.jar,file:///root/.ivy2/jars/com.navigamez_greex-1.0.jar,file:///root/.ivy2/jars/com.johnsnowlabs.nlp_tensorflow-cpu_2.12-0.4.4.jar,file:///root/.ivy2/jars/it.unimi.dsi_fastutil-7.0.12.jar,file:///root/.ivy2/jars/org.projectlombok_lombok-1.16.8.jar,file:///root/.ivy2/jars/com.google.guava_guava-31.1-jre.jar,file:///root/.ivy2/jars/com.google.guava_failureaccess-1.0.1.jar,file:///root/.ivy2/jars/com.google.guava_listenablefuture-9999.0-empty-to-avoid-conflict-with-guava.jar,file:///root/.ivy2/jars/com.google.errorprone_error_prone_annotations-2.16.jar,file:///root/.ivy2/jars/com.google.j2objc_j2objc-annotations-1.3.jar,file:///root/.ivy2/jars/com.google.http-client_google-http-client-1.42.3.jar,file:///root/.ivy2/jars/io.opencensus_opencensus-contrib-http-util-0.31.1.jar,file:///root/.ivy2/jars/com.google.http-client_google-http-client-jackson2-1.42.3.jar,file:///root/.ivy2/jars/com.google.http-client_google-http-client-gson-1.42.3.jar,file:///root/.ivy2/jars/com.google.api-client_google-api-client-2.1.1.jar,file:///root/.ivy2/jars/commons-codec_commons-codec-1.15.jar,file:///root/.ivy2/jars/com.google.oauth-client_google-oauth-client-1.34.1.jar,file:///root/.ivy2/jars/com.google.http-client_google-http-client-apache-v2-1.42.3.jar,file:///root/.ivy2/jars/com.google.apis_google-api-services-storage-v1-rev20220705-2.0.0.jar,file:///root/.ivy2/jars/com.google.code.gson_gson-2.10.jar,file:///root/.ivy2/jars/com.google.cloud_google-cloud-core-2.9.0.jar,file:///root/.ivy2/jars/com.google.auto.value_auto-value-annotations-1.10.1.jar,file:///root/.ivy2/jars/com.google.cloud_google-cloud-core-http-2.9.0.jar,file:///root/.ivy2/jars/com.google.http-client_google-http-client-appengine-1.42.3.jar,file:///root/.ivy2/jars/com.google.api_gax-httpjson-0.105.1.jar,file:///root/.ivy2/jars/com.google.cloud_google-cloud-core-grpc-2.9.0.jar,file:///root/.ivy2/jars/io.grpc_grpc-core-1.51.0.jar,file:///root/.ivy2/jars/com.google.api_gax-2.20.1.jar,file:///root/.ivy2/jars/com.google.api_gax-grpc-2.20.1.jar,file:///root/.ivy2/jars/io.grpc_grpc-alts-1.51.0.jar,file:///root/.ivy2/jars/io.grpc_grpc-grpclb-1.51.0.jar,file:///root/.ivy2/jars/org.conscrypt_conscrypt-openjdk-uber-2.5.2.jar,file:///root/.ivy2/jars/io.grpc_grpc-protobuf-1.51.0.jar,file:///root/.ivy2/jars/com.google.auth_google-auth-library-credentials-1.13.0.jar,file:///root/.ivy2/jars/com.google.auth_google-auth-library-oauth2-http-1.13.0.jar,file:///root/.ivy2/jars/com.google.api_api-common-2.2.2.jar,file:///root/.ivy2/jars/javax.annotation_javax.annotation-api-1.3.2.jar,file:///root/.ivy2/jars/io.opencensus_opencensus-api-0.31.1.jar,file:///root/.ivy2/jars/io.grpc_grpc-context-1.51.0.jar,file:///root/.ivy2/jars/com.google.api.grpc_proto-google-iam-v1-1.6.22.jar,file:///root/.ivy2/jars/com.google.protobuf_protobuf-java-3.21.10.jar,file:///root/.ivy2/jars/com.google.protobuf_protobuf-java-util-3.21.10.jar,file:///root/.ivy2/jars/com.google.api.grpc_proto-google-common-protos-2.11.0.jar,file:///root/.ivy2/jars/org.threeten_threetenbp-1.6.4.jar,file:///root/.ivy2/jars/com.google.api.grpc_proto-google-cloud-storage-v2-2.16.0-alpha.jar,file:///root/.ivy2/jars/com.google.api.grpc_grpc-google-cloud-storage-v2-2.16.0-alpha.jar,file:///root/.ivy2/jars/com.google.api.grpc_gapic-google-cloud-storage-v2-2.16.0-alpha.jar,file:///root/.ivy2/jars/com.fasterxml.jackson.core_jackson-core-2.14.1.jar,file:///root/.ivy2/jars/com.google.code.findbugs_jsr305-3.0.2.jar,file:///root/.ivy2/jars/io.grpc_grpc-api-1.51.0.jar,file:///root/.ivy2/jars/io.grpc_grpc-auth-1.51.0.jar,file:///root/.ivy2/jars/io.grpc_grpc-stub-1.51.0.jar,file:///root/.ivy2/jars/org.checkerframework_checker-qual-3.28.0.jar,file:///root/.ivy2/jars/com.google.api.grpc_grpc-google-iam-v1-1.6.22.jar,file:///root/.ivy2/jars/io.grpc_grpc-protobuf-lite-1.51.0.jar,file:///root/.ivy2/jars/com.google.android_annotations-4.1.1.4.jar,file:///root/.ivy2/jars/org.codehaus.mojo_animal-sniffer-annotations-1.22.jar,file:///root/.ivy2/jars/io.grpc_grpc-netty-shaded-1.51.0.jar,file:///root/.ivy2/jars/io.perfmark_perfmark-api-0.26.0.jar,file:///root/.ivy2/jars/io.grpc_grpc-googleapis-1.51.0.jar,file:///root/.ivy2/jars/io.grpc_grpc-xds-1.51.0.jar,file:///root/.ivy2/jars/io.opencensus_opencensus-proto-0.2.0.jar,file:///root/.ivy2/jars/io.grpc_grpc-services-1.51.0.jar,file:///root/.ivy2/jars/com.google.re2j_re2j-1.6.jar,file:///root/.ivy2/jars/dk.brics.automaton_automaton-1.11-8.jar,file:///root/.ivy2/jars/org.slf4j_slf4j-api-1.7.16.jar'),\n",
       " ('spark.driver.port', '37523'),\n",
       " ('spark.yarn.historyServer.address',\n",
       "  'hub-msca-bdp-dphub-students-test-harshpachisia-m:18080'),\n",
       " ('spark.yarn.am.attemptFailuresValidityInterval', '1h'),\n",
       " ('spark.app.name', 'Spark Updated Conf'),\n",
       " ('spark.sql.catalogImplementation', 'hive'),\n",
       " ('spark.dataproc.metrics.listener.metrics.collector.hostname',\n",
       "  'hub-msca-bdp-dphub-students-test-harshpachisia-m'),\n",
       " ('spark.yarn.secondary.jars',\n",
       "  'com.johnsnowlabs.nlp_spark-nlp_2.12-4.4.0.jar,graphframes_graphframes-0.8.2-spark3.1-s_2.12.jar,com.typesafe_config-1.4.2.jar,org.rocksdb_rocksdbjni-6.29.5.jar,com.amazonaws_aws-java-sdk-bundle-1.11.828.jar,com.github.universal-automata_liblevenshtein-3.0.0.jar,com.google.cloud_google-cloud-storage-2.16.0.jar,com.navigamez_greex-1.0.jar,com.johnsnowlabs.nlp_tensorflow-cpu_2.12-0.4.4.jar,it.unimi.dsi_fastutil-7.0.12.jar,org.projectlombok_lombok-1.16.8.jar,com.google.guava_guava-31.1-jre.jar,com.google.guava_failureaccess-1.0.1.jar,com.google.guava_listenablefuture-9999.0-empty-to-avoid-conflict-with-guava.jar,com.google.errorprone_error_prone_annotations-2.16.jar,com.google.j2objc_j2objc-annotations-1.3.jar,com.google.http-client_google-http-client-1.42.3.jar,io.opencensus_opencensus-contrib-http-util-0.31.1.jar,com.google.http-client_google-http-client-jackson2-1.42.3.jar,com.google.http-client_google-http-client-gson-1.42.3.jar,com.google.api-client_google-api-client-2.1.1.jar,commons-codec_commons-codec-1.15.jar,com.google.oauth-client_google-oauth-client-1.34.1.jar,com.google.http-client_google-http-client-apache-v2-1.42.3.jar,com.google.apis_google-api-services-storage-v1-rev20220705-2.0.0.jar,com.google.code.gson_gson-2.10.jar,com.google.cloud_google-cloud-core-2.9.0.jar,com.google.auto.value_auto-value-annotations-1.10.1.jar,com.google.cloud_google-cloud-core-http-2.9.0.jar,com.google.http-client_google-http-client-appengine-1.42.3.jar,com.google.api_gax-httpjson-0.105.1.jar,com.google.cloud_google-cloud-core-grpc-2.9.0.jar,io.grpc_grpc-core-1.51.0.jar,com.google.api_gax-2.20.1.jar,com.google.api_gax-grpc-2.20.1.jar,io.grpc_grpc-alts-1.51.0.jar,io.grpc_grpc-grpclb-1.51.0.jar,org.conscrypt_conscrypt-openjdk-uber-2.5.2.jar,io.grpc_grpc-protobuf-1.51.0.jar,com.google.auth_google-auth-library-credentials-1.13.0.jar,com.google.auth_google-auth-library-oauth2-http-1.13.0.jar,com.google.api_api-common-2.2.2.jar,javax.annotation_javax.annotation-api-1.3.2.jar,io.opencensus_opencensus-api-0.31.1.jar,io.grpc_grpc-context-1.51.0.jar,com.google.api.grpc_proto-google-iam-v1-1.6.22.jar,com.google.protobuf_protobuf-java-3.21.10.jar,com.google.protobuf_protobuf-java-util-3.21.10.jar,com.google.api.grpc_proto-google-common-protos-2.11.0.jar,org.threeten_threetenbp-1.6.4.jar,com.google.api.grpc_proto-google-cloud-storage-v2-2.16.0-alpha.jar,com.google.api.grpc_grpc-google-cloud-storage-v2-2.16.0-alpha.jar,com.google.api.grpc_gapic-google-cloud-storage-v2-2.16.0-alpha.jar,com.fasterxml.jackson.core_jackson-core-2.14.1.jar,com.google.code.findbugs_jsr305-3.0.2.jar,io.grpc_grpc-api-1.51.0.jar,io.grpc_grpc-auth-1.51.0.jar,io.grpc_grpc-stub-1.51.0.jar,org.checkerframework_checker-qual-3.28.0.jar,com.google.api.grpc_grpc-google-iam-v1-1.6.22.jar,io.grpc_grpc-protobuf-lite-1.51.0.jar,com.google.android_annotations-4.1.1.4.jar,org.codehaus.mojo_animal-sniffer-annotations-1.22.jar,io.grpc_grpc-netty-shaded-1.51.0.jar,io.perfmark_perfmark-api-0.26.0.jar,io.grpc_grpc-googleapis-1.51.0.jar,io.grpc_grpc-xds-1.51.0.jar,io.opencensus_opencensus-proto-0.2.0.jar,io.grpc_grpc-services-1.51.0.jar,com.google.re2j_re2j-1.6.jar,dk.brics.automaton_automaton-1.11-8.jar,org.slf4j_slf4j-api-1.7.16.jar'),\n",
       " ('spark.org.apache.hadoop.yarn.server.webproxy.amfilter.AmIpFilter.param.PROXY_URI_BASES',\n",
       "  'http://hub-msca-bdp-dphub-students-test-harshpachisia-m:8088/proxy/application_1700881147707_0001'),\n",
       " ('spark.executorEnv.OPENBLAS_NUM_THREADS', '1'),\n",
       " ('spark.repl.local.jars',\n",
       "  'file:///root/.ivy2/jars/com.johnsnowlabs.nlp_spark-nlp_2.12-4.4.0.jar,file:///root/.ivy2/jars/graphframes_graphframes-0.8.2-spark3.1-s_2.12.jar,file:///root/.ivy2/jars/com.typesafe_config-1.4.2.jar,file:///root/.ivy2/jars/org.rocksdb_rocksdbjni-6.29.5.jar,file:///root/.ivy2/jars/com.amazonaws_aws-java-sdk-bundle-1.11.828.jar,file:///root/.ivy2/jars/com.github.universal-automata_liblevenshtein-3.0.0.jar,file:///root/.ivy2/jars/com.google.cloud_google-cloud-storage-2.16.0.jar,file:///root/.ivy2/jars/com.navigamez_greex-1.0.jar,file:///root/.ivy2/jars/com.johnsnowlabs.nlp_tensorflow-cpu_2.12-0.4.4.jar,file:///root/.ivy2/jars/it.unimi.dsi_fastutil-7.0.12.jar,file:///root/.ivy2/jars/org.projectlombok_lombok-1.16.8.jar,file:///root/.ivy2/jars/com.google.guava_guava-31.1-jre.jar,file:///root/.ivy2/jars/com.google.guava_failureaccess-1.0.1.jar,file:///root/.ivy2/jars/com.google.guava_listenablefuture-9999.0-empty-to-avoid-conflict-with-guava.jar,file:///root/.ivy2/jars/com.google.errorprone_error_prone_annotations-2.16.jar,file:///root/.ivy2/jars/com.google.j2objc_j2objc-annotations-1.3.jar,file:///root/.ivy2/jars/com.google.http-client_google-http-client-1.42.3.jar,file:///root/.ivy2/jars/io.opencensus_opencensus-contrib-http-util-0.31.1.jar,file:///root/.ivy2/jars/com.google.http-client_google-http-client-jackson2-1.42.3.jar,file:///root/.ivy2/jars/com.google.http-client_google-http-client-gson-1.42.3.jar,file:///root/.ivy2/jars/com.google.api-client_google-api-client-2.1.1.jar,file:///root/.ivy2/jars/commons-codec_commons-codec-1.15.jar,file:///root/.ivy2/jars/com.google.oauth-client_google-oauth-client-1.34.1.jar,file:///root/.ivy2/jars/com.google.http-client_google-http-client-apache-v2-1.42.3.jar,file:///root/.ivy2/jars/com.google.apis_google-api-services-storage-v1-rev20220705-2.0.0.jar,file:///root/.ivy2/jars/com.google.code.gson_gson-2.10.jar,file:///root/.ivy2/jars/com.google.cloud_google-cloud-core-2.9.0.jar,file:///root/.ivy2/jars/com.google.auto.value_auto-value-annotations-1.10.1.jar,file:///root/.ivy2/jars/com.google.cloud_google-cloud-core-http-2.9.0.jar,file:///root/.ivy2/jars/com.google.http-client_google-http-client-appengine-1.42.3.jar,file:///root/.ivy2/jars/com.google.api_gax-httpjson-0.105.1.jar,file:///root/.ivy2/jars/com.google.cloud_google-cloud-core-grpc-2.9.0.jar,file:///root/.ivy2/jars/io.grpc_grpc-core-1.51.0.jar,file:///root/.ivy2/jars/com.google.api_gax-2.20.1.jar,file:///root/.ivy2/jars/com.google.api_gax-grpc-2.20.1.jar,file:///root/.ivy2/jars/io.grpc_grpc-alts-1.51.0.jar,file:///root/.ivy2/jars/io.grpc_grpc-grpclb-1.51.0.jar,file:///root/.ivy2/jars/org.conscrypt_conscrypt-openjdk-uber-2.5.2.jar,file:///root/.ivy2/jars/io.grpc_grpc-protobuf-1.51.0.jar,file:///root/.ivy2/jars/com.google.auth_google-auth-library-credentials-1.13.0.jar,file:///root/.ivy2/jars/com.google.auth_google-auth-library-oauth2-http-1.13.0.jar,file:///root/.ivy2/jars/com.google.api_api-common-2.2.2.jar,file:///root/.ivy2/jars/javax.annotation_javax.annotation-api-1.3.2.jar,file:///root/.ivy2/jars/io.opencensus_opencensus-api-0.31.1.jar,file:///root/.ivy2/jars/io.grpc_grpc-context-1.51.0.jar,file:///root/.ivy2/jars/com.google.api.grpc_proto-google-iam-v1-1.6.22.jar,file:///root/.ivy2/jars/com.google.protobuf_protobuf-java-3.21.10.jar,file:///root/.ivy2/jars/com.google.protobuf_protobuf-java-util-3.21.10.jar,file:///root/.ivy2/jars/com.google.api.grpc_proto-google-common-protos-2.11.0.jar,file:///root/.ivy2/jars/org.threeten_threetenbp-1.6.4.jar,file:///root/.ivy2/jars/com.google.api.grpc_proto-google-cloud-storage-v2-2.16.0-alpha.jar,file:///root/.ivy2/jars/com.google.api.grpc_grpc-google-cloud-storage-v2-2.16.0-alpha.jar,file:///root/.ivy2/jars/com.google.api.grpc_gapic-google-cloud-storage-v2-2.16.0-alpha.jar,file:///root/.ivy2/jars/com.fasterxml.jackson.core_jackson-core-2.14.1.jar,file:///root/.ivy2/jars/com.google.code.findbugs_jsr305-3.0.2.jar,file:///root/.ivy2/jars/io.grpc_grpc-api-1.51.0.jar,file:///root/.ivy2/jars/io.grpc_grpc-auth-1.51.0.jar,file:///root/.ivy2/jars/io.grpc_grpc-stub-1.51.0.jar,file:///root/.ivy2/jars/org.checkerframework_checker-qual-3.28.0.jar,file:///root/.ivy2/jars/com.google.api.grpc_grpc-google-iam-v1-1.6.22.jar,file:///root/.ivy2/jars/io.grpc_grpc-protobuf-lite-1.51.0.jar,file:///root/.ivy2/jars/com.google.android_annotations-4.1.1.4.jar,file:///root/.ivy2/jars/org.codehaus.mojo_animal-sniffer-annotations-1.22.jar,file:///root/.ivy2/jars/io.grpc_grpc-netty-shaded-1.51.0.jar,file:///root/.ivy2/jars/io.perfmark_perfmark-api-0.26.0.jar,file:///root/.ivy2/jars/io.grpc_grpc-googleapis-1.51.0.jar,file:///root/.ivy2/jars/io.grpc_grpc-xds-1.51.0.jar,file:///root/.ivy2/jars/io.opencensus_opencensus-proto-0.2.0.jar,file:///root/.ivy2/jars/io.grpc_grpc-services-1.51.0.jar,file:///root/.ivy2/jars/com.google.re2j_re2j-1.6.jar,file:///root/.ivy2/jars/dk.brics.automaton_automaton-1.11-8.jar,file:///root/.ivy2/jars/org.slf4j_slf4j-api-1.7.16.jar'),\n",
       " ('spark.sql.cbo.enabled', 'true'),\n",
       " ('spark.executorEnv.PYTHONPATH',\n",
       "  '/usr/lib/spark/python/lib/py4j-0.10.9-src.zip:/usr/lib/spark/python/:<CPS>{{PWD}}/pyspark.zip<CPS>{{PWD}}/py4j-0.10.9-src.zip<CPS>{{PWD}}/com.johnsnowlabs.nlp_spark-nlp_2.12-4.4.0.jar<CPS>{{PWD}}/graphframes_graphframes-0.8.2-spark3.1-s_2.12.jar<CPS>{{PWD}}/com.typesafe_config-1.4.2.jar<CPS>{{PWD}}/org.rocksdb_rocksdbjni-6.29.5.jar<CPS>{{PWD}}/com.amazonaws_aws-java-sdk-bundle-1.11.828.jar<CPS>{{PWD}}/com.github.universal-automata_liblevenshtein-3.0.0.jar<CPS>{{PWD}}/com.google.cloud_google-cloud-storage-2.16.0.jar<CPS>{{PWD}}/com.navigamez_greex-1.0.jar<CPS>{{PWD}}/com.johnsnowlabs.nlp_tensorflow-cpu_2.12-0.4.4.jar<CPS>{{PWD}}/it.unimi.dsi_fastutil-7.0.12.jar<CPS>{{PWD}}/org.projectlombok_lombok-1.16.8.jar<CPS>{{PWD}}/com.google.guava_guava-31.1-jre.jar<CPS>{{PWD}}/com.google.guava_failureaccess-1.0.1.jar<CPS>{{PWD}}/com.google.guava_listenablefuture-9999.0-empty-to-avoid-conflict-with-guava.jar<CPS>{{PWD}}/com.google.errorprone_error_prone_annotations-2.16.jar<CPS>{{PWD}}/com.google.j2objc_j2objc-annotations-1.3.jar<CPS>{{PWD}}/com.google.http-client_google-http-client-1.42.3.jar<CPS>{{PWD}}/io.opencensus_opencensus-contrib-http-util-0.31.1.jar<CPS>{{PWD}}/com.google.http-client_google-http-client-jackson2-1.42.3.jar<CPS>{{PWD}}/com.google.http-client_google-http-client-gson-1.42.3.jar<CPS>{{PWD}}/com.google.api-client_google-api-client-2.1.1.jar<CPS>{{PWD}}/commons-codec_commons-codec-1.15.jar<CPS>{{PWD}}/com.google.oauth-client_google-oauth-client-1.34.1.jar<CPS>{{PWD}}/com.google.http-client_google-http-client-apache-v2-1.42.3.jar<CPS>{{PWD}}/com.google.apis_google-api-services-storage-v1-rev20220705-2.0.0.jar<CPS>{{PWD}}/com.google.code.gson_gson-2.10.jar<CPS>{{PWD}}/com.google.cloud_google-cloud-core-2.9.0.jar<CPS>{{PWD}}/com.google.auto.value_auto-value-annotations-1.10.1.jar<CPS>{{PWD}}/com.google.cloud_google-cloud-core-http-2.9.0.jar<CPS>{{PWD}}/com.google.http-client_google-http-client-appengine-1.42.3.jar<CPS>{{PWD}}/com.google.api_gax-httpjson-0.105.1.jar<CPS>{{PWD}}/com.google.cloud_google-cloud-core-grpc-2.9.0.jar<CPS>{{PWD}}/io.grpc_grpc-core-1.51.0.jar<CPS>{{PWD}}/com.google.api_gax-2.20.1.jar<CPS>{{PWD}}/com.google.api_gax-grpc-2.20.1.jar<CPS>{{PWD}}/io.grpc_grpc-alts-1.51.0.jar<CPS>{{PWD}}/io.grpc_grpc-grpclb-1.51.0.jar<CPS>{{PWD}}/org.conscrypt_conscrypt-openjdk-uber-2.5.2.jar<CPS>{{PWD}}/io.grpc_grpc-protobuf-1.51.0.jar<CPS>{{PWD}}/com.google.auth_google-auth-library-credentials-1.13.0.jar<CPS>{{PWD}}/com.google.auth_google-auth-library-oauth2-http-1.13.0.jar<CPS>{{PWD}}/com.google.api_api-common-2.2.2.jar<CPS>{{PWD}}/javax.annotation_javax.annotation-api-1.3.2.jar<CPS>{{PWD}}/io.opencensus_opencensus-api-0.31.1.jar<CPS>{{PWD}}/io.grpc_grpc-context-1.51.0.jar<CPS>{{PWD}}/com.google.api.grpc_proto-google-iam-v1-1.6.22.jar<CPS>{{PWD}}/com.google.protobuf_protobuf-java-3.21.10.jar<CPS>{{PWD}}/com.google.protobuf_protobuf-java-util-3.21.10.jar<CPS>{{PWD}}/com.google.api.grpc_proto-google-common-protos-2.11.0.jar<CPS>{{PWD}}/org.threeten_threetenbp-1.6.4.jar<CPS>{{PWD}}/com.google.api.grpc_proto-google-cloud-storage-v2-2.16.0-alpha.jar<CPS>{{PWD}}/com.google.api.grpc_grpc-google-cloud-storage-v2-2.16.0-alpha.jar<CPS>{{PWD}}/com.google.api.grpc_gapic-google-cloud-storage-v2-2.16.0-alpha.jar<CPS>{{PWD}}/com.fasterxml.jackson.core_jackson-core-2.14.1.jar<CPS>{{PWD}}/com.google.code.findbugs_jsr305-3.0.2.jar<CPS>{{PWD}}/io.grpc_grpc-api-1.51.0.jar<CPS>{{PWD}}/io.grpc_grpc-auth-1.51.0.jar<CPS>{{PWD}}/io.grpc_grpc-stub-1.51.0.jar<CPS>{{PWD}}/org.checkerframework_checker-qual-3.28.0.jar<CPS>{{PWD}}/com.google.api.grpc_grpc-google-iam-v1-1.6.22.jar<CPS>{{PWD}}/io.grpc_grpc-protobuf-lite-1.51.0.jar<CPS>{{PWD}}/com.google.android_annotations-4.1.1.4.jar<CPS>{{PWD}}/org.codehaus.mojo_animal-sniffer-annotations-1.22.jar<CPS>{{PWD}}/io.grpc_grpc-netty-shaded-1.51.0.jar<CPS>{{PWD}}/io.perfmark_perfmark-api-0.26.0.jar<CPS>{{PWD}}/io.grpc_grpc-googleapis-1.51.0.jar<CPS>{{PWD}}/io.grpc_grpc-xds-1.51.0.jar<CPS>{{PWD}}/io.opencensus_opencensus-proto-0.2.0.jar<CPS>{{PWD}}/io.grpc_grpc-services-1.51.0.jar<CPS>{{PWD}}/com.google.re2j_re2j-1.6.jar<CPS>{{PWD}}/dk.brics.automaton_automaton-1.11-8.jar<CPS>{{PWD}}/org.slf4j_slf4j-api-1.7.16.jar'),\n",
       " ('spark.yarn.dist.jars',\n",
       "  'file:///root/.ivy2/jars/com.johnsnowlabs.nlp_spark-nlp_2.12-4.4.0.jar,file:///root/.ivy2/jars/graphframes_graphframes-0.8.2-spark3.1-s_2.12.jar,file:///root/.ivy2/jars/com.typesafe_config-1.4.2.jar,file:///root/.ivy2/jars/org.rocksdb_rocksdbjni-6.29.5.jar,file:///root/.ivy2/jars/com.amazonaws_aws-java-sdk-bundle-1.11.828.jar,file:///root/.ivy2/jars/com.github.universal-automata_liblevenshtein-3.0.0.jar,file:///root/.ivy2/jars/com.google.cloud_google-cloud-storage-2.16.0.jar,file:///root/.ivy2/jars/com.navigamez_greex-1.0.jar,file:///root/.ivy2/jars/com.johnsnowlabs.nlp_tensorflow-cpu_2.12-0.4.4.jar,file:///root/.ivy2/jars/it.unimi.dsi_fastutil-7.0.12.jar,file:///root/.ivy2/jars/org.projectlombok_lombok-1.16.8.jar,file:///root/.ivy2/jars/com.google.guava_guava-31.1-jre.jar,file:///root/.ivy2/jars/com.google.guava_failureaccess-1.0.1.jar,file:///root/.ivy2/jars/com.google.guava_listenablefuture-9999.0-empty-to-avoid-conflict-with-guava.jar,file:///root/.ivy2/jars/com.google.errorprone_error_prone_annotations-2.16.jar,file:///root/.ivy2/jars/com.google.j2objc_j2objc-annotations-1.3.jar,file:///root/.ivy2/jars/com.google.http-client_google-http-client-1.42.3.jar,file:///root/.ivy2/jars/io.opencensus_opencensus-contrib-http-util-0.31.1.jar,file:///root/.ivy2/jars/com.google.http-client_google-http-client-jackson2-1.42.3.jar,file:///root/.ivy2/jars/com.google.http-client_google-http-client-gson-1.42.3.jar,file:///root/.ivy2/jars/com.google.api-client_google-api-client-2.1.1.jar,file:///root/.ivy2/jars/commons-codec_commons-codec-1.15.jar,file:///root/.ivy2/jars/com.google.oauth-client_google-oauth-client-1.34.1.jar,file:///root/.ivy2/jars/com.google.http-client_google-http-client-apache-v2-1.42.3.jar,file:///root/.ivy2/jars/com.google.apis_google-api-services-storage-v1-rev20220705-2.0.0.jar,file:///root/.ivy2/jars/com.google.code.gson_gson-2.10.jar,file:///root/.ivy2/jars/com.google.cloud_google-cloud-core-2.9.0.jar,file:///root/.ivy2/jars/com.google.auto.value_auto-value-annotations-1.10.1.jar,file:///root/.ivy2/jars/com.google.cloud_google-cloud-core-http-2.9.0.jar,file:///root/.ivy2/jars/com.google.http-client_google-http-client-appengine-1.42.3.jar,file:///root/.ivy2/jars/com.google.api_gax-httpjson-0.105.1.jar,file:///root/.ivy2/jars/com.google.cloud_google-cloud-core-grpc-2.9.0.jar,file:///root/.ivy2/jars/io.grpc_grpc-core-1.51.0.jar,file:///root/.ivy2/jars/com.google.api_gax-2.20.1.jar,file:///root/.ivy2/jars/com.google.api_gax-grpc-2.20.1.jar,file:///root/.ivy2/jars/io.grpc_grpc-alts-1.51.0.jar,file:///root/.ivy2/jars/io.grpc_grpc-grpclb-1.51.0.jar,file:///root/.ivy2/jars/org.conscrypt_conscrypt-openjdk-uber-2.5.2.jar,file:///root/.ivy2/jars/io.grpc_grpc-protobuf-1.51.0.jar,file:///root/.ivy2/jars/com.google.auth_google-auth-library-credentials-1.13.0.jar,file:///root/.ivy2/jars/com.google.auth_google-auth-library-oauth2-http-1.13.0.jar,file:///root/.ivy2/jars/com.google.api_api-common-2.2.2.jar,file:///root/.ivy2/jars/javax.annotation_javax.annotation-api-1.3.2.jar,file:///root/.ivy2/jars/io.opencensus_opencensus-api-0.31.1.jar,file:///root/.ivy2/jars/io.grpc_grpc-context-1.51.0.jar,file:///root/.ivy2/jars/com.google.api.grpc_proto-google-iam-v1-1.6.22.jar,file:///root/.ivy2/jars/com.google.protobuf_protobuf-java-3.21.10.jar,file:///root/.ivy2/jars/com.google.protobuf_protobuf-java-util-3.21.10.jar,file:///root/.ivy2/jars/com.google.api.grpc_proto-google-common-protos-2.11.0.jar,file:///root/.ivy2/jars/org.threeten_threetenbp-1.6.4.jar,file:///root/.ivy2/jars/com.google.api.grpc_proto-google-cloud-storage-v2-2.16.0-alpha.jar,file:///root/.ivy2/jars/com.google.api.grpc_grpc-google-cloud-storage-v2-2.16.0-alpha.jar,file:///root/.ivy2/jars/com.google.api.grpc_gapic-google-cloud-storage-v2-2.16.0-alpha.jar,file:///root/.ivy2/jars/com.fasterxml.jackson.core_jackson-core-2.14.1.jar,file:///root/.ivy2/jars/com.google.code.findbugs_jsr305-3.0.2.jar,file:///root/.ivy2/jars/io.grpc_grpc-api-1.51.0.jar,file:///root/.ivy2/jars/io.grpc_grpc-auth-1.51.0.jar,file:///root/.ivy2/jars/io.grpc_grpc-stub-1.51.0.jar,file:///root/.ivy2/jars/org.checkerframework_checker-qual-3.28.0.jar,file:///root/.ivy2/jars/com.google.api.grpc_grpc-google-iam-v1-1.6.22.jar,file:///root/.ivy2/jars/io.grpc_grpc-protobuf-lite-1.51.0.jar,file:///root/.ivy2/jars/com.google.android_annotations-4.1.1.4.jar,file:///root/.ivy2/jars/org.codehaus.mojo_animal-sniffer-annotations-1.22.jar,file:///root/.ivy2/jars/io.grpc_grpc-netty-shaded-1.51.0.jar,file:///root/.ivy2/jars/io.perfmark_perfmark-api-0.26.0.jar,file:///root/.ivy2/jars/io.grpc_grpc-googleapis-1.51.0.jar,file:///root/.ivy2/jars/io.grpc_grpc-xds-1.51.0.jar,file:///root/.ivy2/jars/io.opencensus_opencensus-proto-0.2.0.jar,file:///root/.ivy2/jars/io.grpc_grpc-services-1.51.0.jar,file:///root/.ivy2/jars/com.google.re2j_re2j-1.6.jar,file:///root/.ivy2/jars/dk.brics.automaton_automaton-1.11-8.jar,file:///root/.ivy2/jars/org.slf4j_slf4j-api-1.7.16.jar'),\n",
       " ('spark.dataproc.sql.parquet.enableFooterCache', 'true'),\n",
       " ('spark.driver.memory', '4g'),\n",
       " ('spark.sql.warehouse.dir', 'file:/spark-warehouse'),\n",
       " ('spark.yarn.executor.failuresValidityInterval', '1h'),\n",
       " ('spark.yarn.am.memory', '640m'),\n",
       " ('spark.history.fs.logDirectory',\n",
       "  'gs://dataproc-temp-us-central1-635155370842-uzamlpgc/6f963ebc-55a3-483f-8657-eb388c77cf9d/spark-job-history'),\n",
       " ('spark.cores.max', '4'),\n",
       " ('spark.executor.cores', '4'),\n",
       " ('spark.org.apache.hadoop.yarn.server.webproxy.amfilter.AmIpFilter.param.PROXY_HOSTS',\n",
       "  'hub-msca-bdp-dphub-students-test-harshpachisia-m'),\n",
       " ('spark.jars.packages',\n",
       "  'com.johnsnowlabs.nlp:spark-nlp_2.12:4.4.0,graphframes:graphframes:0.8.2-spark3.1-s_2.12'),\n",
       " ('spark.app.startTime', '1700882226475'),\n",
       " ('spark.executor.instances', '2'),\n",
       " ('spark.dataproc.listeners',\n",
       "  'com.google.cloud.spark.performance.DataprocMetricsListener'),\n",
       " ('spark.serializer.objectStreamReset', '100'),\n",
       " ('spark.submit.deployMode', 'client'),\n",
       " ('spark.sql.cbo.joinReorder.enabled', 'true'),\n",
       " ('spark.shuffle.service.enabled', 'true'),\n",
       " ('spark.scheduler.mode', 'FAIR'),\n",
       " ('spark.sql.adaptive.enabled', 'true'),\n",
       " ('spark.yarn.jars', 'local:/usr/lib/spark/jars/*'),\n",
       " ('spark.scheduler.minRegisteredResourcesRatio', '0.0'),\n",
       " ('spark.master', 'yarn'),\n",
       " ('spark.ui.port', '0'),\n",
       " ('spark.rpc.message.maxSize', '512'),\n",
       " ('spark.rdd.compress', 'True'),\n",
       " ('spark.task.maxFailures', '10'),\n",
       " ('spark.yarn.isPython', 'true'),\n",
       " ('spark.dynamicAllocation.enabled', 'true'),\n",
       " ('spark.ui.showConsoleProgress', 'true')]"
      ]
     },
     "execution_count": 1,
     "metadata": {},
     "output_type": "execute_result"
    }
   ],
   "source": [
    "# read in packages create spark environment\n",
    "from pyspark.sql import SparkSession\n",
    "from pyspark.sql import functions as F\n",
    "\n",
    "import matplotlib.pyplot as plt\n",
    "%matplotlib inline\n",
    "\n",
    "spark = SparkSession.builder.appName('supervised').getOrCreate()\n",
    "\n",
    "#change configuration settings on Spark \n",
    "conf = spark.sparkContext._conf.setAll([('spark.executor.memory', '4g'), ('spark.app.name', 'Spark Updated Conf'), ('spark.executor.cores', '4'), ('spark.cores.max', '4'), ('spark.driver.memory','4g')])\n",
    "\n",
    "#print spark configuration settings\n",
    "spark.sparkContext.getConf().getAll()"
   ]
  },
  {
   "cell_type": "markdown",
   "id": "17ac5c49-7dbc-4aac-a702-1a5ac3ee0097",
   "metadata": {},
   "source": [
    "### Reading in cleaned data, partitioning"
   ]
  },
  {
   "cell_type": "code",
   "execution_count": 24,
   "id": "8bfe115e-abb4-4a36-8508-1bd17ce2c55c",
   "metadata": {},
   "outputs": [
    {
     "name": "stderr",
     "output_type": "stream",
     "text": [
      "                                                                                \r"
     ]
    },
    {
     "name": "stdout",
     "output_type": "stream",
     "text": [
      "+--------------------+-------------------+-------------------+-------+-----+------------+-------------+-----------+------------+----+---+-----+-------------+--------------+-------------+--------------+-----+------------+----+---+\n",
      "|                  ID|    start_timestamp|      end_timestamp|seconds|miles|pickup_tract|dropoff_tract|pickup_area|dropoff_area|Fare|Tip|total|   pickup_lat|    pickup_lon|  dropoff_lat|   dropoff_lon|month|day_of_month|hour|day|\n",
      "+--------------------+-------------------+-------------------+-------+-----+------------+-------------+-----------+------------+----+---+-----+-------------+--------------+-------------+--------------+-----+------------+----+---+\n",
      "|625e77ae6e0ff7191...|2018-11-06 19:00:00|2018-11-06 19:15:00|   1142|  5.8| 17031063400|  17031010400|          6|           1|12.5|  0| 15.0|41.9346591566|-87.6467297286| 42.004764559| -87.659122427|   11|           6|  19|  3|\n",
      "|62945fdb2e70957f0...|2018-11-06 19:00:00|2018-11-06 19:00:00|    341|  1.2| 17031081800|  17031833000|          8|          28| 5.0|  0|  7.5|41.8932163595|-87.6378442095|41.8852813201|-87.6572331997|   11|           6|  19|  3|\n",
      "|6dc03f91e4480d237...|2018-11-06 19:00:00|2018-11-06 19:00:00|    558|  1.2| 17031070400|  17031061500|          7|           6| 7.5|  0| 10.3|41.9289672664|-87.6561568309|41.9452823311|-87.6615450961|   11|           6|  19|  3|\n",
      "|773894079a526afa1...|2018-11-06 19:00:00|2018-11-06 19:30:00|   1047|  2.8| 17031832200|  17031062100|         22|           6|10.0|  2| 14.5|41.9204515116|-87.6799547678|41.9426918444|-87.6517705068|   11|           6|  19|  3|\n",
      "|7acf0a7f2edfbe546...|2018-11-06 19:00:00|2018-11-06 19:00:00|    502|  1.3| 17031839100|  17031081700|         32|           8| 2.5|  0|  5.0|41.8809944707|-87.6327464887|41.8920421365|-87.6318639497|   11|           6|  19|  3|\n",
      "+--------------------+-------------------+-------------------+-------+-----+------------+-------------+-----------+------------+----+---+-----+-------------+--------------+-------------+--------------+-----+------------+----+---+\n",
      "only showing top 5 rows\n",
      "\n"
     ]
    }
   ],
   "source": [
    "# read in rideshare data for all years, concatenate, create appropriate partitioning\n",
    "# we are dropping 2020 because covid will affect the performance of our model\n",
    "\n",
    "df_2018 = spark.read.csv(\"gs://msca-bdp-student-gcs/bdp-rideshare-project/rideshare/processed_data/rides_2018.csv\", inferSchema=True, header=True)\n",
    "df_2019 = spark.read.csv(\"gs://msca-bdp-student-gcs/bdp-rideshare-project/rideshare/processed_data/rides_2019.csv\", inferSchema=True, header=True)\n",
    "df_2021 = spark.read.csv(\"gs://msca-bdp-student-gcs/bdp-rideshare-project/rideshare/processed_data/rides_2021.csv\", inferSchema=True, header=True)\n",
    "df_2022 = spark.read.csv(\"gs://msca-bdp-student-gcs/bdp-rideshare-project/rideshare/processed_data/rides_2022.csv\", inferSchema=True, header=True)\n",
    "df_2023 = spark.read.csv(\"gs://msca-bdp-student-gcs/bdp-rideshare-project/rideshare/processed_data/rides_2023.csv\", inferSchema=True, header=True)\n",
    "\n",
    "# dropping new columns in 2023\n",
    "df_2023 = df_2023.drop('Shared Trip Match','Percent Time Chicago','Percent Distance Chicago')\n",
    "\n",
    "df_all = df_2018.union(df_2019).union(df_2021).union(df_2022).union(df_2023)\n",
    "df_all.show(5)"
   ]
  },
  {
   "cell_type": "code",
   "execution_count": 5,
   "id": "18e30586-4bdd-4217-b55d-e41522df062b",
   "metadata": {},
   "outputs": [
    {
     "name": "stdout",
     "output_type": "stream",
     "text": [
      "Partitions: 544\n"
     ]
    },
    {
     "name": "stderr",
     "output_type": "stream",
     "text": [
      "[Stage 32:=====================================================>(543 + 1) / 544]\r"
     ]
    },
    {
     "name": "stdout",
     "output_type": "stream",
     "text": [
      "+-----------+------+\n",
      "|partitionId| count|\n",
      "+-----------+------+\n",
      "|         42|305254|\n",
      "|         41|305316|\n",
      "|         40|305420|\n",
      "|         38|305471|\n",
      "|         39|305480|\n",
      "|         37|305618|\n",
      "|         36|305676|\n",
      "|         35|305871|\n",
      "|         34|305890|\n",
      "|         33|305962|\n",
      "|         32|305971|\n",
      "|         31|306010|\n",
      "|         29|306031|\n",
      "|         30|306038|\n",
      "|         28|306086|\n",
      "|         27|306127|\n",
      "|         26|306402|\n",
      "|         25|306467|\n",
      "|         24|306633|\n",
      "|         23|306731|\n",
      "|         22|307226|\n",
      "|        243|328837|\n",
      "|        242|328975|\n",
      "|        241|329131|\n",
      "|        240|329163|\n",
      "|        239|329209|\n",
      "|        237|329245|\n",
      "|        235|329263|\n",
      "|        238|329263|\n",
      "|        234|329311|\n",
      "|        236|329315|\n",
      "|        232|329332|\n",
      "|        233|329344|\n",
      "|        231|329373|\n",
      "|        228|329389|\n",
      "|        229|329390|\n",
      "|        227|329399|\n",
      "|        226|329410|\n",
      "|        225|329410|\n",
      "|        224|329418|\n",
      "|        230|329427|\n",
      "|        223|329428|\n",
      "|        220|329461|\n",
      "|        222|329481|\n",
      "|        221|329505|\n",
      "|        217|329507|\n",
      "|        218|329513|\n",
      "|        219|329519|\n",
      "|        216|329523|\n",
      "|        214|329533|\n",
      "|        213|329555|\n",
      "|        215|329574|\n",
      "|        211|329587|\n",
      "|        212|329591|\n",
      "|        208|329607|\n",
      "|        210|329623|\n",
      "|        206|329624|\n",
      "|        209|329630|\n",
      "|        207|329633|\n",
      "|        205|329646|\n",
      "|        202|329654|\n",
      "|        204|329673|\n",
      "|        203|329678|\n",
      "|        194|329704|\n",
      "|        201|329708|\n",
      "|        200|329712|\n",
      "|        191|329717|\n",
      "|        189|329728|\n",
      "|        188|329730|\n",
      "|        193|329732|\n",
      "|        199|329732|\n",
      "|        198|329739|\n",
      "|        190|329746|\n",
      "|        195|329748|\n",
      "|        197|329786|\n",
      "|        196|329786|\n",
      "|        186|329786|\n",
      "|        187|329787|\n",
      "|        192|329793|\n",
      "|        183|329804|\n",
      "|        184|329805|\n",
      "|        179|329807|\n",
      "|        182|329814|\n",
      "|        181|329819|\n",
      "|        185|329843|\n",
      "|        178|329849|\n",
      "|        177|329861|\n",
      "|        180|329865|\n",
      "|        172|329866|\n",
      "|        173|329871|\n",
      "|        171|329879|\n",
      "|        175|329889|\n",
      "|        174|329892|\n",
      "|        176|329900|\n",
      "|        170|329937|\n",
      "|        168|329956|\n",
      "|        162|329961|\n",
      "|        167|329962|\n",
      "|        164|329965|\n",
      "|        169|329974|\n",
      "|        165|329980|\n",
      "|        163|329985|\n",
      "|        159|329993|\n",
      "|        166|330000|\n",
      "|        158|330005|\n",
      "|        161|330014|\n",
      "|        157|330021|\n",
      "|        160|330027|\n",
      "|        156|330059|\n",
      "|        154|330066|\n",
      "|        147|330070|\n",
      "|        153|330083|\n",
      "|        155|330084|\n",
      "|        150|330084|\n",
      "|        146|330089|\n",
      "|        152|330090|\n",
      "|        149|330099|\n",
      "|        151|330101|\n",
      "|        148|330103|\n",
      "|        144|330116|\n",
      "|        145|330129|\n",
      "|        140|330133|\n",
      "|        143|330135|\n",
      "|        141|330139|\n",
      "|        142|330148|\n",
      "|        139|330159|\n",
      "|        135|330178|\n",
      "|        137|330181|\n",
      "|        132|330186|\n",
      "|        138|330189|\n",
      "|        136|330205|\n",
      "|        129|330208|\n",
      "|        133|330219|\n",
      "|        125|330220|\n",
      "|        128|330227|\n",
      "|        134|330230|\n",
      "|        127|330236|\n",
      "|        130|330243|\n",
      "|        124|330245|\n",
      "|        117|330249|\n",
      "|        131|330252|\n",
      "|        121|330255|\n",
      "|        122|330258|\n",
      "|        126|330268|\n",
      "|        123|330270|\n",
      "|        118|330275|\n",
      "|        115|330282|\n",
      "|        113|330282|\n",
      "|        120|330296|\n",
      "|        112|330297|\n",
      "|        119|330306|\n",
      "|        114|330308|\n",
      "|        104|330338|\n",
      "|        116|330339|\n",
      "|        109|330355|\n",
      "|        105|330363|\n",
      "|        111|330366|\n",
      "|        110|330372|\n",
      "|        108|330383|\n",
      "|        107|330385|\n",
      "|        106|330402|\n",
      "|         96|330413|\n",
      "|        102|330415|\n",
      "|        100|330418|\n",
      "|         98|330418|\n",
      "|        101|330419|\n",
      "|         94|330425|\n",
      "|         97|330426|\n",
      "|        103|330430|\n",
      "|         99|330430|\n",
      "|         95|330436|\n",
      "|         90|330456|\n",
      "|         92|330470|\n",
      "|         88|330471|\n",
      "|         91|330474|\n",
      "|         93|330477|\n",
      "|         87|330494|\n",
      "|         86|330501|\n",
      "|         89|330512|\n",
      "|         84|330524|\n",
      "|         82|330550|\n",
      "|         80|330570|\n",
      "|         85|330570|\n",
      "|         81|330579|\n",
      "|         83|330585|\n",
      "|         78|330622|\n",
      "|         79|330625|\n",
      "|         76|330625|\n",
      "|         75|330642|\n",
      "|         77|330646|\n",
      "|         71|330651|\n",
      "|         74|330653|\n",
      "|         73|330667|\n",
      "|         70|330690|\n",
      "|         65|330704|\n",
      "|         72|330709|\n",
      "|         67|330721|\n",
      "|         66|330724|\n",
      "|         69|330737|\n",
      "|         62|330758|\n",
      "|         63|330762|\n",
      "|         64|330762|\n",
      "|         68|330766|\n",
      "|         60|330782|\n",
      "|         59|330784|\n",
      "|         56|330801|\n",
      "|         57|330805|\n",
      "|         61|330807|\n",
      "|         58|330837|\n",
      "|         53|330868|\n",
      "|         55|330869|\n",
      "|         54|330885|\n",
      "|         52|330918|\n",
      "|         50|330944|\n",
      "|         51|330963|\n",
      "|         49|331028|\n",
      "|         48|331034|\n",
      "|         47|331050|\n",
      "|         46|331114|\n",
      "|         45|331284|\n",
      "|         44|331416|\n",
      "|        543|364094|\n",
      "|        542|364374|\n",
      "|        541|364493|\n",
      "|        537|364581|\n",
      "|        538|364599|\n",
      "|        539|364616|\n",
      "|        540|364617|\n",
      "|        536|364654|\n",
      "|        534|364709|\n",
      "|        535|364756|\n",
      "|        532|364784|\n",
      "|        533|364810|\n",
      "|        529|364899|\n",
      "|        530|364903|\n",
      "|        531|364944|\n",
      "|        528|364957|\n",
      "|        527|364961|\n",
      "|        524|364971|\n",
      "|        525|364988|\n",
      "|        526|365006|\n",
      "|        522|365011|\n",
      "|        523|365051|\n",
      "|        521|365057|\n",
      "|        520|365079|\n",
      "|        518|365083|\n",
      "|        517|365090|\n",
      "|        519|365097|\n",
      "|        516|365122|\n",
      "|        514|365165|\n",
      "|        515|365179|\n",
      "|        513|365224|\n",
      "|        509|365252|\n",
      "|        506|365253|\n",
      "|        511|365255|\n",
      "|        508|365272|\n",
      "|        510|365277|\n",
      "|        512|365278|\n",
      "|        507|365302|\n",
      "|        505|365347|\n",
      "|        502|365377|\n",
      "|        503|365394|\n",
      "|        504|365395|\n",
      "|        501|365409|\n",
      "|        500|365431|\n",
      "|        498|365447|\n",
      "|        499|365454|\n",
      "|        497|365519|\n",
      "|        496|365528|\n",
      "|        495|365536|\n",
      "|        492|365541|\n",
      "|        489|365547|\n",
      "|        488|365552|\n",
      "|        487|365554|\n",
      "|        490|365569|\n",
      "|        493|365574|\n",
      "|        484|365576|\n",
      "|        494|365595|\n",
      "|        485|365602|\n",
      "|        486|365622|\n",
      "|        491|365622|\n",
      "|        483|365650|\n",
      "|        482|365684|\n",
      "|        481|365705|\n",
      "|        479|365750|\n",
      "|        478|365773|\n",
      "|        477|365793|\n",
      "|        480|365801|\n",
      "|        475|365806|\n",
      "|        474|365806|\n",
      "|        473|365828|\n",
      "|        476|365846|\n",
      "|        472|365909|\n",
      "|        471|365965|\n",
      "|        470|365975|\n",
      "|        469|366026|\n",
      "|        466|366051|\n",
      "|        467|366057|\n",
      "|        468|366080|\n",
      "|        464|366105|\n",
      "|        465|366117|\n",
      "|        462|366150|\n",
      "|        463|366160|\n",
      "|        458|366193|\n",
      "|        461|366200|\n",
      "|        460|366214|\n",
      "|        459|366217|\n",
      "|        456|366297|\n",
      "|        457|366320|\n",
      "|        455|366371|\n",
      "|        454|366383|\n",
      "|        453|366422|\n",
      "|        452|366461|\n",
      "|        451|366589|\n",
      "|        450|366617|\n",
      "|        449|366758|\n",
      "|        448|366799|\n",
      "|        447|366883|\n",
      "|        446|366901|\n",
      "|        445|366940|\n",
      "|        444|367122|\n",
      "|         21|380513|\n",
      "|         20|380565|\n",
      "|         19|380749|\n",
      "|         18|381028|\n",
      "|         17|381069|\n",
      "|         16|381243|\n",
      "|         15|381263|\n",
      "|         14|381438|\n",
      "|         13|381470|\n",
      "|         12|381544|\n",
      "|         11|381646|\n",
      "|         10|381711|\n",
      "|          8|381721|\n",
      "|          9|381753|\n",
      "|          7|381759|\n",
      "|          6|381763|\n",
      "|          5|381783|\n",
      "|          4|381827|\n",
      "|          3|381971|\n",
      "|          1|382022|\n",
      "|          2|382029|\n",
      "|          0|382095|\n",
      "|        342|420259|\n",
      "|        343|420346|\n",
      "|        341|420485|\n",
      "|        340|420525|\n",
      "|        339|420707|\n",
      "|        336|421031|\n",
      "|        337|421040|\n",
      "|        338|421052|\n",
      "|        334|421107|\n",
      "|        335|421142|\n",
      "|        333|421374|\n",
      "|        330|421440|\n",
      "|        332|421479|\n",
      "|        331|421531|\n",
      "|        327|421574|\n",
      "|        328|421603|\n",
      "|        329|421610|\n",
      "|        326|421612|\n",
      "|        322|421670|\n",
      "|        320|421675|\n",
      "|        325|421679|\n",
      "|        324|421681|\n",
      "|        319|421687|\n",
      "|        323|421687|\n",
      "|        321|421699|\n",
      "|        318|421751|\n",
      "|        315|421832|\n",
      "|        310|421867|\n",
      "|        316|421897|\n",
      "|        312|421903|\n",
      "|        317|421911|\n",
      "|        314|421918|\n",
      "|        313|421920|\n",
      "|        311|421950|\n",
      "|        309|421972|\n",
      "|        307|421988|\n",
      "|        308|422019|\n",
      "|        305|422072|\n",
      "|        303|422083|\n",
      "|        306|422091|\n",
      "|        304|422095|\n",
      "|        302|422097|\n",
      "|        298|422103|\n",
      "|        300|422114|\n",
      "|        301|422116|\n",
      "|        295|422134|\n",
      "|        299|422155|\n",
      "|        296|422155|\n",
      "|        290|422185|\n",
      "|        297|422193|\n",
      "|        294|422194|\n",
      "|        292|422207|\n",
      "|        291|422218|\n",
      "|        293|422236|\n",
      "|        288|422238|\n",
      "|        286|422255|\n",
      "|        289|422265|\n",
      "|        287|422266|\n",
      "|        285|422305|\n",
      "|        283|422307|\n",
      "|        284|422346|\n",
      "|        282|422350|\n",
      "|        281|422354|\n",
      "|        280|422372|\n",
      "|        279|422415|\n",
      "|        278|422498|\n",
      "|        277|422501|\n",
      "|        276|422508|\n",
      "|        275|422549|\n",
      "|        274|422557|\n",
      "|        273|422591|\n",
      "|        272|422625|\n",
      "|        270|422634|\n",
      "|        269|422671|\n",
      "|        268|422673|\n",
      "|        271|422692|\n",
      "|        267|422694|\n",
      "|        265|422761|\n",
      "|        262|422777|\n",
      "|        260|422788|\n",
      "|        263|422795|\n",
      "|        266|422803|\n",
      "|        264|422807|\n",
      "|        258|422838|\n",
      "|        259|422839|\n",
      "|        261|422841|\n",
      "|        257|422852|\n",
      "|        256|422891|\n",
      "|        252|422904|\n",
      "|        255|422925|\n",
      "|        254|422986|\n",
      "|        253|423003|\n",
      "|        250|423197|\n",
      "|        251|423202|\n",
      "|        248|423231|\n",
      "|        249|423262|\n",
      "|        246|423376|\n",
      "|        247|423402|\n",
      "|        245|423403|\n",
      "|        244|423762|\n",
      "|         43|457702|\n",
      "|        443|569570|\n",
      "|        442|570154|\n",
      "|        441|570301|\n",
      "|        440|570372|\n",
      "|        439|570572|\n",
      "|        438|570655|\n",
      "|        436|570763|\n",
      "|        437|570781|\n",
      "|        434|570870|\n",
      "|        435|570872|\n",
      "|        433|570953|\n",
      "|        432|570979|\n",
      "|        431|571069|\n",
      "|        429|571096|\n",
      "|        430|571097|\n",
      "|        428|571127|\n",
      "|        427|571153|\n",
      "|        426|571185|\n",
      "|        425|571201|\n",
      "|        424|571286|\n",
      "|        423|571425|\n",
      "|        422|571449|\n",
      "|        417|571506|\n",
      "|        420|571528|\n",
      "|        421|571532|\n",
      "|        419|571553|\n",
      "|        418|571585|\n",
      "|        416|571595|\n",
      "|        414|571645|\n",
      "|        415|571657|\n",
      "|        413|571742|\n",
      "|        412|571766|\n",
      "|        411|571796|\n",
      "|        409|571842|\n",
      "|        410|571847|\n",
      "|        407|571874|\n",
      "|        408|571913|\n",
      "|        406|571925|\n",
      "|        405|571966|\n",
      "|        404|571983|\n",
      "|        402|571993|\n",
      "|        403|572020|\n",
      "|        401|572123|\n",
      "|        397|572181|\n",
      "|        400|572182|\n",
      "|        399|572183|\n",
      "|        398|572189|\n",
      "|        396|572212|\n",
      "|        395|572244|\n",
      "|        393|572249|\n",
      "|        394|572276|\n",
      "|        392|572302|\n",
      "|        391|572344|\n",
      "|        390|572361|\n",
      "|        389|572382|\n",
      "|        388|572394|\n",
      "|        387|572428|\n",
      "|        386|572438|\n",
      "|        385|572493|\n",
      "|        383|572545|\n",
      "|        384|572565|\n",
      "|        382|572569|\n",
      "|        381|572600|\n",
      "|        380|572604|\n",
      "|        379|572634|\n",
      "|        378|572647|\n",
      "|        375|572742|\n",
      "|        376|572742|\n",
      "|        377|572755|\n",
      "|        374|572798|\n",
      "|        372|572800|\n",
      "|        373|572816|\n",
      "|        371|572868|\n",
      "|        370|572895|\n",
      "|        369|572907|\n",
      "|        368|572924|\n",
      "|        367|572957|\n",
      "|        366|573022|\n",
      "|        364|573102|\n",
      "|        365|573104|\n",
      "|        362|573132|\n",
      "|        363|573145|\n",
      "|        361|573173|\n",
      "|        360|573187|\n",
      "|        358|573262|\n",
      "|        359|573270|\n",
      "|        357|573334|\n",
      "|        356|573372|\n",
      "|        355|573425|\n",
      "|        354|573556|\n",
      "|        353|573584|\n",
      "|        352|573658|\n",
      "|        351|573676|\n",
      "|        350|573781|\n",
      "|        349|573977|\n",
      "|        347|574013|\n",
      "|        348|574040|\n",
      "|        346|574185|\n",
      "|        345|574318|\n",
      "|        344|574727|\n",
      "+-----------+------+\n",
      "\n"
     ]
    },
    {
     "name": "stderr",
     "output_type": "stream",
     "text": [
      "                                                                                \r"
     ]
    }
   ],
   "source": [
    "#display number of records by partition\n",
    "def displaypartitions(df):\n",
    "    #number of records by partition\n",
    "    num = df.rdd.getNumPartitions()\n",
    "    print(\"Partitions:\", num)\n",
    "    df.withColumn(\"partitionId\", F.spark_partition_id())\\\n",
    "        .groupBy(\"partitionId\")\\\n",
    "        .count()\\\n",
    "        .orderBy(F.asc(\"count\"))\\\n",
    "        .show(num)\n",
    "\n",
    "df_all.rdd.getNumPartitions()\n",
    "displaypartitions(df_all)\n"
   ]
  },
  {
   "cell_type": "code",
   "execution_count": 25,
   "id": "abf8091a-9662-4378-8fe5-b2ece46a6a14",
   "metadata": {},
   "outputs": [],
   "source": [
    "# repartitioning to 600 partitions, seems to be balanced now. \n",
    "df_all = df_all.repartition(600)\n",
    "#displaypartitions(df_all)"
   ]
  },
  {
   "cell_type": "code",
   "execution_count": 26,
   "id": "9c7c7fa9-7a39-46eb-93fd-c7006d01c03e",
   "metadata": {},
   "outputs": [],
   "source": [
    "# we will need a year column in this model\n",
    "df_all = df_all.withColumn('year', F.year(df_all.start_timestamp))"
   ]
  },
  {
   "cell_type": "code",
   "execution_count": 8,
   "id": "fae5317c-df84-47ae-a003-440c01c25d07",
   "metadata": {},
   "outputs": [
    {
     "name": "stdout",
     "output_type": "stream",
     "text": [
      "root\n",
      " |-- ID: string (nullable = true)\n",
      " |-- start_timestamp: timestamp (nullable = true)\n",
      " |-- end_timestamp: timestamp (nullable = true)\n",
      " |-- seconds: integer (nullable = true)\n",
      " |-- miles: double (nullable = true)\n",
      " |-- pickup_tract: long (nullable = true)\n",
      " |-- dropoff_tract: long (nullable = true)\n",
      " |-- pickup_area: integer (nullable = true)\n",
      " |-- dropoff_area: integer (nullable = true)\n",
      " |-- Fare: double (nullable = true)\n",
      " |-- Tip: integer (nullable = true)\n",
      " |-- total: double (nullable = true)\n",
      " |-- pickup_lat: double (nullable = true)\n",
      " |-- pickup_lon: double (nullable = true)\n",
      " |-- dropoff_lat: double (nullable = true)\n",
      " |-- dropoff_lon: string (nullable = true)\n",
      " |-- month: integer (nullable = true)\n",
      " |-- day_of_month: integer (nullable = true)\n",
      " |-- hour: integer (nullable = true)\n",
      " |-- day: integer (nullable = true)\n",
      " |-- year: integer (nullable = true)\n",
      "\n"
     ]
    }
   ],
   "source": [
    "df_all.printSchema()"
   ]
  },
  {
   "cell_type": "markdown",
   "id": "59c15480-30c0-48c8-b9a5-6aa122ff1325",
   "metadata": {},
   "source": [
    "## Next steps\n",
    "\n",
    "I'm assuming we are predicting using the full dataset and not restricting ourselves to being within the program hours.\n",
    "\n",
    "I started writing code that goes through the steps that I think will probably be necessary. The code is unfinished because I ran out of time to test in all or formally think through the problems I was seeing. Feel free to change things or make your own assumptions.\n",
    "\n",
    "Here is the process that I was thinking of. I was trying all this on a sample dataframe so I could code faster.\n",
    "1. Get Daily counts for each community area\n",
    "2. pivot so that there is a column for each community area (y is when hyde park or woodlawn or kenwood are 1, otherwise the column is a feature)\n",
    "3. merge with daily weather data\n",
    "4. separate out y (counts for every day in program area) and X (column of counts for each community area outside of the program area)\n",
    "5. filter for pre-program rides.\n",
    "- Research which model works best and which one is the most parallelizable\n",
    "6. create supervised model on all that data\n",
    "7. predict the next month or so of counts after sept 29 2021\n",
    "8. Graph predictions versus reality\n",
    "9. maybe do the same thing in 2023 once data is available"
   ]
  },
  {
   "cell_type": "code",
   "execution_count": 41,
   "id": "540c7bff-6eac-40c2-a9fe-9b6843f7d546",
   "metadata": {},
   "outputs": [],
   "source": [
    "# take a sample to test these operations out on first\n",
    "#sample_df = df_all.sample(fraction=1/1000000)\n",
    "\n",
    "# get only the columns needed for the model\n",
    "selected_columns = [\"pickup_area\",\"dropoff_area\",\"day\",\"month\",\"year\",\"ID\"]\n",
    "selected_df = df_all.select(selected_columns)"
   ]
  },
  {
   "cell_type": "markdown",
   "id": "bdccfb9c-6f47-4d6a-a42b-ad7a1f707f4a",
   "metadata": {},
   "source": [
    "**Daily counts for each community area**"
   ]
  },
  {
   "cell_type": "markdown",
   "id": "d23b5405-6491-43ed-90fb-cf7aa2056553",
   "metadata": {},
   "source": [
    "we had to group by pickup area and dropoff area seperately- daily counts of number of trips to that particular community area when it was either a pickup or dropoff area"
   ]
  },
  {
   "cell_type": "code",
   "execution_count": 46,
   "id": "14b0b19a-36ad-4e17-bf30-1e9fcdaea452",
   "metadata": {},
   "outputs": [],
   "source": [
    "# Calculate daily counts for pickup areas\n",
    "pickup_counts = selected_df.groupby('day', 'month', 'year', 'pickup_area').count().withColumnRenamed('count', 'pickup_count')\n",
    "pickup_counts = pickup_counts.withColumnRenamed('pickup_area', 'area')"
   ]
  },
  {
   "cell_type": "code",
   "execution_count": 47,
   "id": "388446e2-2cd4-4bb8-bfa0-f204b1359427",
   "metadata": {},
   "outputs": [],
   "source": [
    "# Calculate daily counts for dropoff areas\n",
    "dropoff_counts = selected_df.groupby('day', 'month', 'year', 'dropoff_area').count().withColumnRenamed('count', 'dropoff_count')\n",
    "dropoff_counts = dropoff_counts.withColumnRenamed('dropoff_area', 'area')"
   ]
  },
  {
   "cell_type": "code",
   "execution_count": 48,
   "id": "3e028095-2ff1-4e5f-aa03-7dafe417168e",
   "metadata": {},
   "outputs": [
    {
     "name": "stderr",
     "output_type": "stream",
     "text": [
      "[Stage 413:================================================>   (132 + 10) / 142]\r"
     ]
    },
    {
     "name": "stdout",
     "output_type": "stream",
     "text": [
      "+---+-----+----+----+-----------------+------------------+------------+\n",
      "|day|month|year|area|sum(pickup_count)|sum(dropoff_count)|total_counts|\n",
      "+---+-----+----+----+-----------------+------------------+------------+\n",
      "|  6|   11|2018|  40|             4020|              3638|        7658|\n",
      "|  2|   11|2018|  67|             2938|              2666|        5604|\n",
      "|  2|   11|2018|  29|             5383|              5348|       10731|\n",
      "|  6|   12|2018|  43|             9437|              8841|       18278|\n",
      "|  7|    2|2019|  28|           119193|            125444|      244637|\n",
      "|  5|    1|2019|  24|            81650|             75753|      157403|\n",
      "|  4|    8|2019|  71|             4619|              4354|        8973|\n",
      "|  6|    5|2019|  25|            15544|             14777|       30321|\n",
      "|  7|    2|2019|  43|            10001|              9494|       19495|\n",
      "|  6|    4|2019|  48|             1595|              1655|        3250|\n",
      "+---+-----+----+----+-----------------+------------------+------------+\n",
      "only showing top 10 rows\n",
      "\n"
     ]
    },
    {
     "name": "stderr",
     "output_type": "stream",
     "text": [
      "                                                                                \r"
     ]
    }
   ],
   "source": [
    "pickup_counts = pickup_counts.withColumn('dropoff_count', F.lit(0))\n",
    "dropoff_counts = dropoff_counts.withColumn('pickup_count', F.lit(0))\n",
    "\n",
    "# ensuring same column order\n",
    "pickup_counts = pickup_counts.select('day', 'month', 'year', 'area', 'pickup_count', 'dropoff_count')\n",
    "dropoff_counts = dropoff_counts.select('day', 'month', 'year', 'area', 'pickup_count', 'dropoff_count')\n",
    "\n",
    "# Union the pickup and dropoff dataframes\n",
    "combined_df = pickup_counts.union(dropoff_counts)\n",
    "\n",
    "# Group by day, month, year, and area, summing up the counts\n",
    "daily_counts_by_area = combined_df.groupby('day', 'month', 'year', 'area').sum('pickup_count', 'dropoff_count')\n",
    "\n",
    "# the relatively smaller numbers are mostly a result of the sample size, should be fine when we \n",
    "# make it to the entire dataframe\n",
    "daily_counts_by_area = daily_counts_by_area.withColumn('total_counts', F.col('sum(pickup_count)') + F.col('sum(dropoff_count)'))\n",
    "daily_counts_by_area.drop('sum(pickup_count)','sum(dropoff_count)')\n",
    "daily_counts_by_area.show(10)"
   ]
  },
  {
   "cell_type": "markdown",
   "id": "6b68b7b0-9db1-47c2-a896-f1875023ed66",
   "metadata": {},
   "source": [
    "Pivoting the dataset for community areas"
   ]
  },
  {
   "cell_type": "code",
   "execution_count": 49,
   "id": "d57f2088-9ca6-4cc8-a8fe-0cca835fecf9",
   "metadata": {},
   "outputs": [
    {
     "name": "stderr",
     "output_type": "stream",
     "text": [
      "                                                                                \r"
     ]
    },
    {
     "name": "stdout",
     "output_type": "stream",
     "text": [
      "+---+-----+----+-----+-----+-----+-----+-----+------+------+------+----+----+----+----+----+-----+-----+-----+----+----+-----+----+-----+-----+-----+------+-----+----+-----+------+-----+-----+-----+------+-----+-----+-----+----+----+-----+-----+----+-----+-----+-----+-----+----+----+----+----+-----+----+----+----+----+----+---+-----+----+----+----+-----+----+----+----+----+----+-----+----+-----+-----+----+-----+----+----+----+----+-----+-----+\n",
      "|day|month|year|    1|    2|    3|    4|    5|     6|     7|     8|   9|  10|  11|  12|  13|   14|   15|   16|  17|  18|   19|  20|   21|   22|   23|    24|   25|  26|   27|    28|   29|   30|   31|    32|   33|   34|   35|  36|  37|   38|   39|  40|   41|   42|   43|   44|  45|  46|  47|  48|   49|  50|  51|  52|  53|  54| 55|   56|  57|  58|  59|   60|  61|  62|  63|  64|  65|   66|  67|   68|   69|  70|   71|  72|  73|  74|  75|   76|   77|\n",
      "+---+-----+----+-----+-----+-----+-----+-----+------+------+------+----+----+----+----+----+-----+-----+-----+----+----+-----+----+-----+-----+-----+------+-----+----+-----+------+-----+-----+-----+------+-----+-----+-----+----+----+-----+-----+----+-----+-----+-----+-----+----+----+----+----+-----+----+----+----+----+----+---+-----+----+----+----+-----+----+----+----+----+----+-----+----+-----+-----+----+-----+----+----+----+----+-----+-----+\n",
      "|  2|    7|2021| 9005| 7260|17397| 7642| 7999| 47541| 33715|117551| 521|2660|2410|1168|1936| 5671| 5780| 8063|2010| 913| 6787|2356| 7659|21888| 7997| 36890|12275|3120| 4611| 53566| 7252| 5243| 8074| 64260|16000| 3827| 5687|1408| 671| 5674| 3668|2866| 9282| 5301| 9215| 6354|1275|3264| 461|1337| 4831|1325|1588| 472|2478| 835|255|11814|1417|3425|1885| 4057|4469|1062|2325| 917|2063| 4523|3978| 4877| 6248|2526| 5897|1059|2890| 387|1875|36306|12384|\n",
      "|  5|   10|2021|12199| 9107|24884|10934|12710| 62904| 55515|180042| 674|3314|3259|1323|3077| 7226| 7209|10819|2898|1116| 8828|3030|11178|34577|10307| 59723|14084|3590| 5678| 99556| 8672| 7147|12736|104048|24877| 3684| 7049|1553| 824| 6866| 5464|3602|21490| 8095|10986| 8677|1848|3884| 560|2047| 6449|2113|2097| 622|2949| 898|326|15899|2444|4881|2795| 5363|6014|1560|3048|1163|2742| 5662|4618| 5772| 7720|3439| 7108|1518|3534| 550|2453|47198|16199|\n",
      "|  2|    7|2023|  452|  347|  900|  431|  381|  2452|  1759|  6299|  27| 131| 135|  59| 113|  331|  309|  460| 114|  44|  345| 130|  398| 1214|  403|  1923|  633| 156|  200|  3404|  379|  264|  452|  4042| 1131|  196|  349|  62|  47|  280|  231| 167|  632|  336|  452|  372|  84| 165|  37|  90|  317|  86| 114|  23| 157|  38| 17|  755|  83| 200| 121|  206| 244|  55| 149|  54|  99|  233| 220|  282|  355| 136|  342|  74| 202|  24| 119| 1999|  624|\n",
      "|  6|    1|2022|13941|10289|29467|13586|15451| 94575| 80801|210493|1000|3892|3486|1586|2974| 8731| 9212|13110|3319|1318|10251|3698|13416|46027|12440| 79758|17915|4286| 6360|118913|10588| 8039|15913| 93354|22282| 4688| 8157|1862|1026| 8014| 6155|4489|25584| 9771|13227|10423|2183|4636| 739|2299| 7620|2338|2513| 752|3682|1190|487|10984|2607|5532|3128| 6166|6861|1899|3610|1470|3237| 7135|5899| 7034| 9444|3664| 9049|1921|4355| 746|2923|31392|19582|\n",
      "|  4|   12|2022|13534|10789|26607|13908|14898| 73450| 56285|192604|1031|4105|3962|1865|3414| 8913| 9367|13438|3610|1451|10446|3656|13370|41366|12193| 65188|17799|4458| 7188|124088|11197| 8620|15505|123219|29952| 5589| 8510|2051|1159| 9143| 6917|4444|25007|10275|14128|11708|2262|5106| 862|2495| 8716|2723|2908| 753|4145|1309|439|17321|2865|5458|3348| 5973|7057|1971|3514|1572|3215| 7133|5790| 7826| 9908|4047| 9907|2026|4732| 695|3250|49998|18831|\n",
      "|  1|    8|2022|13296| 9439|32329|13087|15270|105985| 73132|228688|1446|4394|3636|1833|2587| 9013| 8194|13321|3025|1106| 9205|3234|14227|46734|10686| 76607|14257|3440| 5457|101705| 7272| 7232|16326|101827|32238| 8668| 8570|1524| 928| 6713| 5401|3969|17821| 7527|11246| 7882|1540|3706| 520|1768| 6252|1636|1870| 700|3050| 903|280|22217|1966|4391|2438| 6302|5531|1702|3129|1605|2887| 5693|4800| 5282| 7928|2816| 7186|1695|3311| 955|2488|55147|20351|\n",
      "|  7|    1|2022|18806|12136|42743|19325|22814|172792|143120|352533|1718|5127|4171|2165|3057|11874|10871|16888|3747|1437|11811|4244|18677|72617|14263|127816|19298|4748| 6853|141436|10020| 8756|20224|120688|34626| 7479| 9024|2030|1129| 8667| 6848|4660|28835|11337|14475|10306|2194|4961| 667|2345| 7874|2120|2467| 710|3958|1205|346| 9587|2493|5522|3424| 7502|6996|1920|3879|1636|3363| 7526|6009| 6965|10058|3664| 9436|2334|4479|1115|3095|27717|26732|\n",
      "|  4|    7|2023|  463|  365|  965|  463|  444|  2559|  1962|  7393|  34| 127| 131|  59| 112|  341|  302|  429|  97|  56|  403| 132|  443| 1310|  433|  2120|  759| 192|  267|  4459|  391|  336|  526|  4889| 1197|  239|  321|  56|  46|  344|  243| 175|  792|  343|  541|  363|  83| 191|  31|  84|  375| 132|  92|  28| 155|  41| 13|  700|  90| 197| 120|  223| 256|  69| 149|  41| 109|  247| 257|  267|  370| 152|  375|  74| 194|  25| 124| 1821|  609|\n",
      "|  2|   12|2018|19802|15539|43393|21356|23301|117250| 90763|301912|1100|4603|4795|2425|4764|12802|11522|19919|4383|1636|14022|5417|21532|68183|16957|110900|18190|4607| 8161|171992|12190|11649|23754|198173|29469| 8323|13998|2705|1938|12021|10056|5742|27483|10491|15387|11743|2257|5055| 782|2719| 8513|2142|2348| 713|3407| 864|430|21408|3815|8522|4970|11152|9706|2631|5835|2237|4789| 8749|6969| 8467|11051|4597| 9713|2362|4425| 929|3084|51232|28031|\n",
      "|  3|    5|2023|16807|13341|33578|15704|15697| 86879| 63584|227565| 929|4833|4777|2111|4279|10515|10783|15338|4314|2029|13129|4497|14692|42292|15713| 69735|23553|6249| 9546|138643|14677|11315|17235|155372|44067| 9692|12508|2625|1687|11341| 9104|6239|43562|16333|18605|14355|2980|6865|1210|3395|11945|3708|3893|1018|5759|1775|633|24394|3771|7014|4114| 7801|9179|2355|5080|2115|4261| 9532|8674|10757|14098|5573|14056|2570|6896| 842|4693|71329|22182|\n",
      "|  3|    4|2021|10752| 7700|17863| 8097| 8166| 44654| 31723| 88534| 462|2339|2907| 982|2451| 6301| 6522| 8472|2233|1073| 8403|2923| 8328|22146|10603| 36694|18019|4651| 6295| 52198|10596| 6663| 9319| 47537|11252| 3260| 7161|1718| 942| 7237| 4423|3662|11469| 7158|12603| 8795|1757|4851| 675|2046| 7168|1849|2450| 576|3634|1059|260| 7632|1939|4179|2405| 4556|6223|1398|2987|1097|2590| 6248|5597| 7130| 8685|3223| 8347|1322|3891| 432|2563|15590|12931|\n",
      "|  5|    6|2023|18451|14352|36525|18935|20186|117204| 90040|294778|1256|5320|5346|2493|4144|11275|11802|17490|4709|1878|13671|5098|17893|55472|17084| 92824|26242|6684|10091|173452|15695|11370|20425|191290|51359| 7999|12958|2871|1842|12451| 9709|6780|35207|14715|20536|15518|3404|7328|1271|3774|12771|4065|4041|1064|6282|1765|679|30124|3856|6929|4332| 8925|9870|2420|4868|2239|4358|10023|8958|11184|15503|5661|14911|2880|7158|1015|4907|82087|25320|\n",
      "|  5|    5|2021|11218| 8218|19190| 9168|10185| 52738| 43469|121878| 623|2684|2927|1140|2395| 6527| 7022| 9465|2317|1118| 8419|2878| 9256|27314|10519| 47596|16945|4436| 6204| 65966|10314| 6442|10467| 61026|14390| 3246| 6851|1672| 952| 7261| 4677|3774|12909| 7149|12641| 8868|1756|4445| 633|2014| 6898|1690|2256| 556|3487|1025|298|12786|1859|4265|2512| 4701|6010|1440|2950|1087|2530| 6310|5523| 6606| 8666|3082| 8409|1446|3907| 453|2599|30137|14018|\n",
      "|  7|   12|2022|23637|14853|58130|25327|30532|208802|152553|414877|2300|6833|5894|2958|4240|14899|14723|22845|5023|1855|15093|5562|25574|90194|18059|148096|25837|6463| 9180|176444|13566|10724|27875|164483|41645| 9796|11170|2773|1570|11916| 9239|6316|36135|15092|19341|15278|2961|6456| 812|3017|10799|3019|3245|1041|5472|1697|510|19533|3201|7159|4301| 9625|8666|2587|4921|2288|4379| 9689|8330| 9378|13109|4768|13450|3104|6268|1498|4847|48063|35303|\n",
      "|  6|    6|2021|12371| 8913|24889|11603|13836| 86502| 71364|199110| 988|3458|3230|1648|2548| 7349| 7707|11729|2636|1114| 8371|3000|11113|39300|10637| 72459|16010|4238| 5986| 91405| 9266| 6328|12768| 85373|22234| 5523| 7431|1743| 965| 7506| 5138|3736|15434| 7379|11968| 8401|1773|4176| 562|1845| 6354|1716|2192| 532|3307| 970|295|11939|2007|4147|2444| 5603|5676|1520|2841|1217|2649| 6014|5326| 6131| 8192|3181| 8166|1683|3668| 530|2565|32995|17873|\n",
      "|  5|    7|2019|19329|14198|47419|22225|26378|133951|124257|379055|1178|5080|4944|2693|4217|11916|11382|20303|4299|1760|13068|5321|23236|77784|16224|134828|18868|4342| 8478|207091|12300|11208|24766|241322|48453|11700|16106|2933|1651|12022| 9580|5574|27064|10211|15156|11706|2465|5030| 743|2539| 8769|2205|2576| 883|3502| 863|433|24153|3681|7892|4599|11856|9344|2679|5295|2469|4613| 8268|6481| 8123|10662|4611| 9820|2479|4919| 921|3009|62043|30475|\n",
      "|  3|   11|2022|15880|12131|31078|14865|15863| 73919| 60160|214459| 959|4542|4438|1943|4045| 9870|10023|14586|4147|1719|11962|4314|14547|42118|14140| 67054|20024|4836| 7883|133125|12585|10273|16786|148457|35501| 5557|10284|2489|1280|10137| 8355|5071|39935|14530|16406|13048|2599|5804| 962|2849| 9968|3281|3300| 941|4640|1404|545|22147|3389|6356|3749| 6760|8016|2197|4209|1791|3813| 8234|6939| 9057|11424|4844|11041|2208|5570| 876|3765|63512|20986|\n",
      "|  4|    2|2023|15458|11260|28204|14529|14833| 74643| 58242|189020| 864|4181|4240|1726|4031| 9422| 9329|13571|3771|1497|11336|4042|14024|40407|13643| 66096|20899|5449| 8260|129142|13489| 9685|14687|133399|24428| 4547| 9962|2307|1329| 9933| 8143|5676|41225|14456|16586|13385|2594|6035|1137|2847|10257|3385|3169| 804|4796|1549|533|15089|3033|5810|3539| 6367|7949|1994|4156|1693|3454| 8092|7348| 9805|12322|4483|11787|2050|5439| 787|3873|46148|19838|\n",
      "|  7|    8|2021|13207| 8601|31275|12881|16570|120202| 93666|276189|1505|4087|3534|1915|2381| 7736| 7730|12612|3000|1148| 8430|2967|12685|46681| 9949| 92253|13850|3553| 5375|107196|11734| 6516|16970|106287|36191| 8910| 9610|2405| 906| 6761| 4566|3477|12634| 6054|10065| 7393|1464|3282| 502|1532| 5394|1252|1742| 509|2678| 795|242| 9243|1740|4256|2552| 6477|5170|1405|2820|1161|2612| 5330|4320| 4849| 6729|2833| 6585|1588|2992| 798|2370|26502|20381|\n",
      "|  6|    2|2021|13911| 9972|22922|11569|11977| 68007| 55550|135886| 760|3083|3241|1270|2707| 7962| 8118|11141|2829|1274| 9956|3524|11010|32483|12558| 59532|20673|5550| 7129| 73369|12222| 7617|12828| 57966|14662| 2978| 8001|1928|1169| 8170| 5241|4483|13561| 8155|14385|10377|2016|5580| 822|2450| 8428|2214|2879| 650|4344|1145|363| 8688|2171|5180|2843| 5245|7489|1767|3403|1369|3128| 7447|6572| 7860|10370|3904| 9873|1713|4660| 554|2927|19113|16875|\n",
      "+---+-----+----+-----+-----+-----+-----+-----+------+------+------+----+----+----+----+----+-----+-----+-----+----+----+-----+----+-----+-----+-----+------+-----+----+-----+------+-----+-----+-----+------+-----+-----+-----+----+----+-----+-----+----+-----+-----+-----+-----+----+----+----+----+-----+----+----+----+----+----+---+-----+----+----+----+-----+----+----+----+----+----+-----+----+-----+-----+----+-----+----+----+----+----+-----+-----+\n",
      "only showing top 20 rows\n",
      "\n"
     ]
    }
   ],
   "source": [
    "#keep datetime as part of the pivot. \n",
    "\n",
    "# pivot so that each community area is a column\n",
    "# one row for each day, each column represents a community area (with its entry being daily count of rides for that area).\n",
    "\n",
    "# Pivot the DataFrame\n",
    "pivoted_df = daily_counts_by_area.groupBy(\"day\", \"month\", \"year\").pivot(\"area\").sum(\"total_counts\")\n",
    "\n",
    "# Show the results\n",
    "pivoted_df.show()"
   ]
  },
  {
   "cell_type": "markdown",
   "id": "a0df4c64-d1e4-48d1-a5fe-ec6bf18f65fe",
   "metadata": {},
   "source": [
    "Read in weather data, merge with rideshare data"
   ]
  },
  {
   "cell_type": "code",
   "execution_count": 12,
   "id": "b501c963-15c8-4341-b9c6-7d2f07cc5015",
   "metadata": {},
   "outputs": [
    {
     "name": "stderr",
     "output_type": "stream",
     "text": [
      "                                                                                \r"
     ]
    }
   ],
   "source": [
    "df_weather_1 = spark.read.csv(\"gs://msca-bdp-student-gcs/bdp-rideshare-project/weather/chicago 2018-01-01 to 2020-01-01.csv\", inferSchema=True, header=True)\n",
    "df_weather_2 = spark.read.csv(\"gs://msca-bdp-student-gcs/bdp-rideshare-project/weather/chicago 2020-01-01 to 2022-08-31.csv\", inferSchema=True, header=True)\n",
    "df_weather_3 = spark.read.csv(\"gs://msca-bdp-student-gcs/bdp-rideshare-project/weather/chicago 2022-09-01 to 2022-12-31.csv\", inferSchema=True, header=True)\n",
    "df_weather_4 = spark.read.csv(\"gs://msca-bdp-student-gcs/bdp-rideshare-project/weather/chicago 2023-01-01 to 2023-11-22.csv\", inferSchema=True, header=True)\n",
    "df_weather = df_weather_1.union(df_weather_2).union(df_weather_3).union(df_weather_4)"
   ]
  },
  {
   "cell_type": "code",
   "execution_count": 50,
   "id": "2858a6da-ef1b-4561-b8e2-f93073b8e803",
   "metadata": {},
   "outputs": [
    {
     "name": "stdout",
     "output_type": "stream",
     "text": [
      "root\n",
      " |-- name: string (nullable = true)\n",
      " |-- datetime: date (nullable = true)\n",
      " |-- temp: double (nullable = true)\n",
      " |-- precip: double (nullable = true)\n",
      " |-- snow: double (nullable = true)\n",
      " |-- snowdepth: double (nullable = true)\n",
      " |-- sunset: string (nullable = true)\n",
      "\n",
      "root\n",
      " |-- day: integer (nullable = true)\n",
      " |-- month: integer (nullable = true)\n",
      " |-- year: integer (nullable = true)\n",
      " |-- 1: long (nullable = true)\n",
      " |-- 2: long (nullable = true)\n",
      " |-- 3: long (nullable = true)\n",
      " |-- 4: long (nullable = true)\n",
      " |-- 5: long (nullable = true)\n",
      " |-- 6: long (nullable = true)\n",
      " |-- 7: long (nullable = true)\n",
      " |-- 8: long (nullable = true)\n",
      " |-- 9: long (nullable = true)\n",
      " |-- 10: long (nullable = true)\n",
      " |-- 11: long (nullable = true)\n",
      " |-- 12: long (nullable = true)\n",
      " |-- 13: long (nullable = true)\n",
      " |-- 14: long (nullable = true)\n",
      " |-- 15: long (nullable = true)\n",
      " |-- 16: long (nullable = true)\n",
      " |-- 17: long (nullable = true)\n",
      " |-- 18: long (nullable = true)\n",
      " |-- 19: long (nullable = true)\n",
      " |-- 20: long (nullable = true)\n",
      " |-- 21: long (nullable = true)\n",
      " |-- 22: long (nullable = true)\n",
      " |-- 23: long (nullable = true)\n",
      " |-- 24: long (nullable = true)\n",
      " |-- 25: long (nullable = true)\n",
      " |-- 26: long (nullable = true)\n",
      " |-- 27: long (nullable = true)\n",
      " |-- 28: long (nullable = true)\n",
      " |-- 29: long (nullable = true)\n",
      " |-- 30: long (nullable = true)\n",
      " |-- 31: long (nullable = true)\n",
      " |-- 32: long (nullable = true)\n",
      " |-- 33: long (nullable = true)\n",
      " |-- 34: long (nullable = true)\n",
      " |-- 35: long (nullable = true)\n",
      " |-- 36: long (nullable = true)\n",
      " |-- 37: long (nullable = true)\n",
      " |-- 38: long (nullable = true)\n",
      " |-- 39: long (nullable = true)\n",
      " |-- 40: long (nullable = true)\n",
      " |-- 41: long (nullable = true)\n",
      " |-- 42: long (nullable = true)\n",
      " |-- 43: long (nullable = true)\n",
      " |-- 44: long (nullable = true)\n",
      " |-- 45: long (nullable = true)\n",
      " |-- 46: long (nullable = true)\n",
      " |-- 47: long (nullable = true)\n",
      " |-- 48: long (nullable = true)\n",
      " |-- 49: long (nullable = true)\n",
      " |-- 50: long (nullable = true)\n",
      " |-- 51: long (nullable = true)\n",
      " |-- 52: long (nullable = true)\n",
      " |-- 53: long (nullable = true)\n",
      " |-- 54: long (nullable = true)\n",
      " |-- 55: long (nullable = true)\n",
      " |-- 56: long (nullable = true)\n",
      " |-- 57: long (nullable = true)\n",
      " |-- 58: long (nullable = true)\n",
      " |-- 59: long (nullable = true)\n",
      " |-- 60: long (nullable = true)\n",
      " |-- 61: long (nullable = true)\n",
      " |-- 62: long (nullable = true)\n",
      " |-- 63: long (nullable = true)\n",
      " |-- 64: long (nullable = true)\n",
      " |-- 65: long (nullable = true)\n",
      " |-- 66: long (nullable = true)\n",
      " |-- 67: long (nullable = true)\n",
      " |-- 68: long (nullable = true)\n",
      " |-- 69: long (nullable = true)\n",
      " |-- 70: long (nullable = true)\n",
      " |-- 71: long (nullable = true)\n",
      " |-- 72: long (nullable = true)\n",
      " |-- 73: long (nullable = true)\n",
      " |-- 74: long (nullable = true)\n",
      " |-- 75: long (nullable = true)\n",
      " |-- 76: long (nullable = true)\n",
      " |-- 77: long (nullable = true)\n",
      "\n"
     ]
    }
   ],
   "source": [
    "df_weather = df_weather.select('name', 'datetime', 'temp','precip','snow','snowdepth','sunset')\n",
    "df_weather = df_weather.withColumn('sunset', F.concat(F.hour(df_weather.sunset),F.minute(df_weather.sunset)))\n",
    "df_weather.printSchema()\n",
    "pivoted_df.printSchema()\n",
    "# name, datetime, temp, precip, snow, snowdepth, sunset.\n",
    "# merge on datetime- keep datetime as part of the pivot. "
   ]
  },
  {
   "cell_type": "code",
   "execution_count": 52,
   "id": "7aba8bfb-6be3-4af5-86ac-39666270bfb9",
   "metadata": {},
   "outputs": [
    {
     "name": "stdout",
     "output_type": "stream",
     "text": [
      "+-------+----------+----+------+----+---------+------+\n",
      "|   name|  datetime|temp|precip|snow|snowdepth|sunset|\n",
      "+-------+----------+----+------+----+---------+------+\n",
      "|chicago|2018-01-01|-2.7|   0.0| 0.0|      0.6|  1630|\n",
      "|chicago|2018-01-02|-0.7|   0.0| 0.0|      0.3|  1631|\n",
      "+-------+----------+----+------+----+---------+------+\n",
      "only showing top 2 rows\n",
      "\n"
     ]
    }
   ],
   "source": [
    "df_weather.show(2)"
   ]
  },
  {
   "cell_type": "code",
   "execution_count": 53,
   "id": "bb54fa3a-399b-4b9d-b67d-6726a362cf9f",
   "metadata": {},
   "outputs": [
    {
     "name": "stderr",
     "output_type": "stream",
     "text": [
      "[Stage 538:==========================================>            (26 + 8) / 34]\r"
     ]
    },
    {
     "name": "stdout",
     "output_type": "stream",
     "text": [
      "+---+-----+----+-----+----+-----+-----+-----+-----+-----+------+---+----+----+----+----+----+----+-----+----+----+----+----+-----+-----+-----+-----+-----+----+----+-----+----+----+-----+------+-----+----+----+----+---+----+----+----+-----+----+-----+----+----+----+---+----+----+----+----+---+----+---+---+-----+----+----+----+----+----+----+----+----+----+----+----+----+----+----+----+----+----+---+----+-----+-----+----------+\n",
      "|day|month|year|    1|   2|    3|    4|    5|    6|    7|     8|  9|  10|  11|  12|  13|  14|  15|   16|  17|  18|  19|  20|   21|   22|   23|   24|   25|  26|  27|   28|  29|  30|   31|    32|   33|  34|  35|  36| 37|  38|  39|  40|   41|  42|   43|  44|  45|  46| 47|  48|  49|  50|  51| 52|  53| 54| 55|   56|  57|  58|  59|  60|  61|  62|  63|  64|  65|  66|  67|  68|  69|  70|  71|  72|  73| 74|  75|   76|   77|  datetime|\n",
      "+---+-----+----+-----+----+-----+-----+-----+-----+-----+------+---+----+----+----+----+----+----+-----+----+----+----+----+-----+-----+-----+-----+-----+----+----+-----+----+----+-----+------+-----+----+----+----+---+----+----+----+-----+----+-----+----+----+----+---+----+----+----+----+---+----+---+---+-----+----+----+----+----+----+----+----+----+----+----+----+----+----+----+----+----+----+---+----+-----+-----+----------+\n",
      "|  5|   10|2021|12199|9107|24884|10934|12710|62904|55515|180042|674|3314|3259|1323|3077|7226|7209|10819|2898|1116|8828|3030|11178|34577|10307|59723|14084|3590|5678|99556|8672|7147|12736|104048|24877|3684|7049|1553|824|6866|5464|3602|21490|8095|10986|8677|1848|3884|560|2047|6449|2113|2097|622|2949|898|326|15899|2444|4881|2795|5363|6014|1560|3048|1163|2742|5662|4618|5772|7720|3439|7108|1518|3534|550|2453|47198|16199|2021-10-05|\n",
      "|  2|    7|2021| 9005|7260|17397| 7642| 7999|47541|33715|117551|521|2660|2410|1168|1936|5671|5780| 8063|2010| 913|6787|2356| 7659|21888| 7997|36890|12275|3120|4611|53566|7252|5243| 8074| 64260|16000|3827|5687|1408|671|5674|3668|2866| 9282|5301| 9215|6354|1275|3264|461|1337|4831|1325|1588|472|2478|835|255|11814|1417|3425|1885|4057|4469|1062|2325| 917|2063|4523|3978|4877|6248|2526|5897|1059|2890|387|1875|36306|12384|2021-07-02|\n",
      "+---+-----+----+-----+----+-----+-----+-----+-----+-----+------+---+----+----+----+----+----+----+-----+----+----+----+----+-----+-----+-----+-----+-----+----+----+-----+----+----+-----+------+-----+----+----+----+---+----+----+----+-----+----+-----+----+----+----+---+----+----+----+----+---+----+---+---+-----+----+----+----+----+----+----+----+----+----+----+----+----+----+----+----+----+----+---+----+-----+-----+----------+\n",
      "only showing top 2 rows\n",
      "\n"
     ]
    },
    {
     "name": "stderr",
     "output_type": "stream",
     "text": [
      "                                                                                \r"
     ]
    }
   ],
   "source": [
    "from pyspark.sql.functions import concat_ws, to_date, lpad\n",
    "\n",
    "# pad the days and months with zeros for converting to datetime\n",
    "padded_month = lpad(pivoted_df[\"month\"], 2, \"0\")\n",
    "padded_day = lpad(pivoted_df[\"day\"], 2, \"0\")\n",
    "\n",
    "# concatenate columns and create datetime column for merging\n",
    "date_string_column = concat_ws(\"-\", pivoted_df[\"year\"], padded_month, padded_day)\n",
    "pivoted_df = pivoted_df.withColumn('datetime',F.to_date(date_string_column,'yyy-MM-dd'))\n",
    "pivoted_df.show(2)"
   ]
  },
  {
   "cell_type": "code",
   "execution_count": 58,
   "id": "4d80ab44-61f4-4ef0-9209-7c05710e9023",
   "metadata": {},
   "outputs": [
    {
     "name": "stderr",
     "output_type": "stream",
     "text": [
      "                                                                                \r"
     ]
    },
    {
     "name": "stdout",
     "output_type": "stream",
     "text": [
      "+---+-----+----+-----+----+-----+-----+-----+-----+-----+------+---+----+----+----+----+----+----+-----+----+----+----+----+-----+-----+-----+-----+-----+----+----+-----+----+----+-----+------+-----+----+----+----+---+----+----+----+-----+----+-----+----+----+----+---+----+----+----+----+---+----+---+---+-----+----+----+----+----+----+----+----+----+----+----+----+----+----+----+----+----+----+---+----+-----+-----+----------+---------+\n",
      "|day|month|year|    1|   2|    3|    4|    5|    6|    7|     8|  9|  10|  11|  12|  13|  14|  15|   16|  17|  18|  19|  20|   21|   22|   23|   24|   25|  26|  27|   28|  29|  30|   31|    32|   33|  34|  35|  36| 37|  38|  39|  40|   41|  42|   43|  44|  45|  46| 47|  48|  49|  50|  51| 52|  53| 54| 55|   56|  57|  58|  59|  60|  61|  62|  63|  64|  65|  66|  67|  68|  69|  70|  71|  72|  73| 74|  75|   76|   77|  datetime|area_sums|\n",
      "+---+-----+----+-----+----+-----+-----+-----+-----+-----+------+---+----+----+----+----+----+----+-----+----+----+----+----+-----+-----+-----+-----+-----+----+----+-----+----+----+-----+------+-----+----+----+----+---+----+----+----+-----+----+-----+----+----+----+---+----+----+----+----+---+----+---+---+-----+----+----+----+----+----+----+----+----+----+----+----+----+----+----+----+----+----+---+----+-----+-----+----------+---------+\n",
      "|  5|   10|2021|12199|9107|24884|10934|12710|62904|55515|180042|674|3314|3259|1323|3077|7226|7209|10819|2898|1116|8828|3030|11178|34577|10307|59723|14084|3590|5678|99556|8672|7147|12736|104048|24877|3684|7049|1553|824|6866|5464|3602|21490|8095|10986|8677|1848|3884|560|2047|6449|2113|2097|622|2949|898|326|15899|2444|4881|2795|5363|6014|1560|3048|1163|2742|5662|4618|5772|7720|3439|7108|1518|3534|550|2453|47198|16199|2021-10-05|    35049|\n",
      "|  2|    7|2021| 9005|7260|17397| 7642| 7999|47541|33715|117551|521|2660|2410|1168|1936|5671|5780| 8063|2010| 913|6787|2356| 7659|21888| 7997|36890|12275|3120|4611|53566|7252|5243| 8074| 64260|16000|3827|5687|1408|671|5674|3668|2866| 9282|5301| 9215|6354|1275|3264|461|1337|4831|1325|1588|472|2478|835|255|11814|1417|3425|1885|4057|4469|1062|2325| 917|2063|4523|3978|4877|6248|2526|5897|1059|2890|387|1875|36306|12384|2021-07-02|    18251|\n",
      "+---+-----+----+-----+----+-----+-----+-----+-----+-----+------+---+----+----+----+----+----+----+-----+----+----+----+----+-----+-----+-----+-----+-----+----+----+-----+----+----+-----+------+-----+----+----+----+---+----+----+----+-----+----+-----+----+----+----+---+----+----+----+----+---+----+---+---+-----+----+----+----+----+----+----+----+----+----+----+----+----+----+----+----+----+----+---+----+-----+-----+----------+---------+\n",
      "only showing top 2 rows\n",
      "\n"
     ]
    }
   ],
   "source": [
    "# create the program area sum column\n",
    "pivoted_df = pivoted_df.withColumn('area_sums', pivoted_df['39'] + pivoted_df['41'] + pivoted_df['42'])\n",
    "pivoted_df.show(2)"
   ]
  },
  {
   "cell_type": "code",
   "execution_count": 59,
   "id": "408996cf-b9ff-4f5c-b6c8-8a5211eb3a2c",
   "metadata": {},
   "outputs": [
    {
     "name": "stderr",
     "output_type": "stream",
     "text": [
      "                                                                                \r"
     ]
    },
    {
     "name": "stdout",
     "output_type": "stream",
     "text": [
      "+----------+-----+----+-----+----+-----+-----+-----+-----+-----+------+---+----+----+----+----+----+----+-----+----+----+----+----+-----+-----+-----+-----+-----+----+----+-----+----+----+-----+------+-----+----+----+----+---+----+----+-----+----+----+----+---+----+----+----+----+---+----+---+---+-----+----+----+----+----+----+----+----+----+----+----+----+----+----+----+----+----+----+---+----+-----+-----+---------+-------+----+------+----+---------+------+\n",
      "|  datetime|month|year|    1|   2|    3|    4|    5|    6|    7|     8|  9|  10|  11|  12|  13|  14|  15|   16|  17|  18|  19|  20|   21|   22|   23|   24|   25|  26|  27|   28|  29|  30|   31|    32|   33|  34|  35|  36| 37|  38|  40|   43|  44|  45|  46| 47|  48|  49|  50|  51| 52|  53| 54| 55|   56|  57|  58|  59|  60|  61|  62|  63|  64|  65|  66|  67|  68|  69|  70|  71|  72|  73| 74|  75|   76|   77|area_sums|   name|temp|precip|snow|snowdepth|sunset|\n",
      "+----------+-----+----+-----+----+-----+-----+-----+-----+-----+------+---+----+----+----+----+----+----+-----+----+----+----+----+-----+-----+-----+-----+-----+----+----+-----+----+----+-----+------+-----+----+----+----+---+----+----+-----+----+----+----+---+----+----+----+----+---+----+---+---+-----+----+----+----+----+----+----+----+----+----+----+----+----+----+----+----+----+----+---+----+-----+-----+---------+-------+----+------+----+---------+------+\n",
      "|2021-10-05|   10|2021|12199|9107|24884|10934|12710|62904|55515|180042|674|3314|3259|1323|3077|7226|7209|10819|2898|1116|8828|3030|11178|34577|10307|59723|14084|3590|5678|99556|8672|7147|12736|104048|24877|3684|7049|1553|824|6866|3602|10986|8677|1848|3884|560|2047|6449|2113|2097|622|2949|898|326|15899|2444|4881|2795|5363|6014|1560|3048|1163|2742|5662|4618|5772|7720|3439|7108|1518|3534|550|2453|47198|16199|    35049|chicago|66.6|   0.0| 0.0|      0.0|  1824|\n",
      "|2021-07-02|    7|2021| 9005|7260|17397| 7642| 7999|47541|33715|117551|521|2660|2410|1168|1936|5671|5780| 8063|2010| 913|6787|2356| 7659|21888| 7997|36890|12275|3120|4611|53566|7252|5243| 8074| 64260|16000|3827|5687|1408|671|5674|2866| 9215|6354|1275|3264|461|1337|4831|1325|1588|472|2478|835|255|11814|1417|3425|1885|4057|4469|1062|2325| 917|2063|4523|3978|4877|6248|2526|5897|1059|2890|387|1875|36306|12384|    18251|chicago|66.6|   0.0| 0.0|      0.0|  2029|\n",
      "+----------+-----+----+-----+----+-----+-----+-----+-----+-----+------+---+----+----+----+----+----+----+-----+----+----+----+----+-----+-----+-----+-----+-----+----+----+-----+----+----+-----+------+-----+----+----+----+---+----+----+-----+----+----+----+---+----+----+----+----+---+----+---+---+-----+----+----+----+----+----+----+----+----+----+----+----+----+----+----+----+----+----+---+----+-----+-----+---------+-------+----+------+----+---------+------+\n",
      "only showing top 2 rows\n",
      "\n"
     ]
    }
   ],
   "source": [
    "# Drop day and the community areas that were summed earlier, will use year and month in regression\n",
    "pivoted_df = pivoted_df.drop('day','39','41','42')\n",
    "\n",
    "df_weather = df_weather.withColumn('datetime', F.to_date('datetime', 'yyyy-MM-dd'))\n",
    "\n",
    "# Perform the left join with weather data\n",
    "merged_df = pivoted_df.join(df_weather, on='datetime', how='left')\n",
    "merged_df.show(2)"
   ]
  },
  {
   "cell_type": "code",
   "execution_count": 61,
   "id": "e325a6ba-0463-43db-8275-5708fb3817bc",
   "metadata": {},
   "outputs": [
    {
     "name": "stderr",
     "output_type": "stream",
     "text": [
      "[Stage 696:==============================================>        (45 + 8) / 53]\r"
     ]
    },
    {
     "name": "stdout",
     "output_type": "stream",
     "text": [
      "+-----+----+-----+----+-----+-----+-----+-----+-----+------+---+----+----+----+----+----+----+-----+----+----+----+----+-----+-----+-----+-----+-----+----+----+-----+----+----+-----+------+-----+----+----+----+---+----+----+-----+----+----+----+---+----+----+----+----+---+----+---+---+-----+----+----+----+----+----+----+----+----+----+----+----+----+----+----+----+----+----+---+----+-----+-----+---------+----+------+----+---------+------+\n",
      "|month|year|    1|   2|    3|    4|    5|    6|    7|     8|  9|  10|  11|  12|  13|  14|  15|   16|  17|  18|  19|  20|   21|   22|   23|   24|   25|  26|  27|   28|  29|  30|   31|    32|   33|  34|  35|  36| 37|  38|  40|   43|  44|  45|  46| 47|  48|  49|  50|  51| 52|  53| 54| 55|   56|  57|  58|  59|  60|  61|  62|  63|  64|  65|  66|  67|  68|  69|  70|  71|  72|  73| 74|  75|   76|   77|area_sums|temp|precip|snow|snowdepth|sunset|\n",
      "+-----+----+-----+----+-----+-----+-----+-----+-----+------+---+----+----+----+----+----+----+-----+----+----+----+----+-----+-----+-----+-----+-----+----+----+-----+----+----+-----+------+-----+----+----+----+---+----+----+-----+----+----+----+---+----+----+----+----+---+----+---+---+-----+----+----+----+----+----+----+----+----+----+----+----+----+----+----+----+----+----+---+----+-----+-----+---------+----+------+----+---------+------+\n",
      "|   10|2021|12199|9107|24884|10934|12710|62904|55515|180042|674|3314|3259|1323|3077|7226|7209|10819|2898|1116|8828|3030|11178|34577|10307|59723|14084|3590|5678|99556|8672|7147|12736|104048|24877|3684|7049|1553|824|6866|3602|10986|8677|1848|3884|560|2047|6449|2113|2097|622|2949|898|326|15899|2444|4881|2795|5363|6014|1560|3048|1163|2742|5662|4618|5772|7720|3439|7108|1518|3534|550|2453|47198|16199|    35049|66.6|   0.0| 0.0|      0.0|  1824|\n",
      "|    7|2021| 9005|7260|17397| 7642| 7999|47541|33715|117551|521|2660|2410|1168|1936|5671|5780| 8063|2010| 913|6787|2356| 7659|21888| 7997|36890|12275|3120|4611|53566|7252|5243| 8074| 64260|16000|3827|5687|1408|671|5674|2866| 9215|6354|1275|3264|461|1337|4831|1325|1588|472|2478|835|255|11814|1417|3425|1885|4057|4469|1062|2325| 917|2063|4523|3978|4877|6248|2526|5897|1059|2890|387|1875|36306|12384|    18251|66.6|   0.0| 0.0|      0.0|  2029|\n",
      "+-----+----+-----+----+-----+-----+-----+-----+-----+------+---+----+----+----+----+----+----+-----+----+----+----+----+-----+-----+-----+-----+-----+----+----+-----+----+----+-----+------+-----+----+----+----+---+----+----+-----+----+----+----+---+----+----+----+----+---+----+---+---+-----+----+----+----+----+----+----+----+----+----+----+----+----+----+----+----+----+----+---+----+-----+-----+---------+----+------+----+---------+------+\n",
      "only showing top 2 rows\n",
      "\n"
     ]
    },
    {
     "name": "stderr",
     "output_type": "stream",
     "text": [
      "                                                                                \r"
     ]
    }
   ],
   "source": [
    "merged_df = merged_df.drop('datetime','name') #since no longer needed. \n",
    "merged_df.show(2)"
   ]
  },
  {
   "cell_type": "code",
   "execution_count": 62,
   "id": "a2e0d72f-0152-4cf8-83b4-777997cbac56",
   "metadata": {},
   "outputs": [
    {
     "name": "stderr",
     "output_type": "stream",
     "text": [
      "                                                                                \r"
     ]
    }
   ],
   "source": [
    "# write completed data to a GCS bucket so we don't have to rerun things\n",
    "merged_df.write.option(\"header\", \"true\").csv(\"gs://msca-bdp-student-gcs/bdp-rideshare-project/rideshare/processed_data/supervised_dataset.csv\")"
   ]
  },
  {
   "cell_type": "markdown",
   "id": "4e6dadc9-db41-4492-adaa-be633c0c4afa",
   "metadata": {},
   "source": [
    "# ML Model Psuedo Code\n",
    "\n",
    "Assumes a dataframe df_merged where the the columns are daily program ride counts followed by daily ride counts for other community areas. Then the daily weather columns with datetime dropped after the merge. \n",
    "\n",
    "I folowed fairly closely the ML from one of Ashish's notebooks. I didn't do cross validation yet because I wanted to know how long it takes to run a single regression. "
   ]
  },
  {
   "cell_type": "code",
   "execution_count": 2,
   "id": "52bce528-7f87-4a2d-9e10-c764fefc2e52",
   "metadata": {},
   "outputs": [
    {
     "name": "stderr",
     "output_type": "stream",
     "text": [
      "                                                                                \r"
     ]
    }
   ],
   "source": [
    "# skip all the above and just run this line to get the final dataset loaded in to use with the ML model\n",
    "merged_df = spark.read.csv(\"gs://msca-bdp-student-gcs/bdp-rideshare-project/rideshare/processed_data/supervised_dataset.csv\", inferSchema=True, header=True)"
   ]
  },
  {
   "cell_type": "code",
   "execution_count": 25,
   "id": "975dadc7-cb0c-4e75-89fb-b73b8e7ba743",
   "metadata": {},
   "outputs": [],
   "source": [
    "from pyspark.ml.regression import LinearRegression\n",
    "from pyspark.ml.feature import StringIndexer,OneHotEncoder, IndexToString, VectorAssembler\n",
    "from pyspark.ml.feature import VectorAssembler\n",
    "from pyspark.sql.types import FloatType\n",
    "from pyspark.ml.evaluation import RegressionEvaluator\n",
    "from pyspark.ml.tuning import CrossValidator, ParamGridBuilder, CrossValidatorModel"
   ]
  },
  {
   "cell_type": "code",
   "execution_count": 37,
   "id": "e0b37ea7-3f52-4698-8d63-114d69164046",
   "metadata": {},
   "outputs": [],
   "source": [
    "# input features are everythin but the area_sums column which is what we are trying to predict\n",
    "input_features = ['month','year','1','2','3','4','5','6','7','8', '9', '10', '11', '12', '13', '14', '15', '16', '17', '18', '19', '20','21','22','23','24','25',\n",
    " '26','27','28','29','30','31','32','33','34','35','36','37','38','40','43','44','45','46','47','48','49','50','51','52','53','54','55','56','57','58','59','60','61','62','63','64','65','66',\n",
    " '67','68','69','70','71','72','73','74','75','76','77','temp','precip','snow','snowdepth','sunset']\n",
    "\n",
    "# adding the handleInvalid = 'skip' allows this to run- double check what it is doing\n",
    "vectorAssembler = VectorAssembler(inputCols=input_features,\n",
    "                                  outputCol=\"features\", handleInvalid='skip')\n",
    "#df = vectorAssembler.transform(merged_df)\n",
    "#df.show(5)\n",
    "#train_df, test_df =  df.randomSplit([0.7, 0.3],0.0)\n",
    "\n",
    "# splitting first and then doing vector assembly to avoid errors\n",
    "train_df, test_df = merged_df.randomSplit([.7,.3],seed=1234)\n",
    "train_df = vectorAssembler.transform(merged_df)\n",
    "test_df = vectorAssembler.transform(merged_df)"
   ]
  },
  {
   "cell_type": "code",
   "execution_count": 38,
   "id": "d8f33707-8e4b-423f-a9f3-ae1a86396725",
   "metadata": {},
   "outputs": [
    {
     "name": "stdout",
     "output_type": "stream",
     "text": [
      "+-----+----+-----+-----+-----+-----+-----+------+------+------+----+----+----+----+----+-----+-----+-----+----+----+-----+----+-----+-----+-----+------+-----+----+----+------+-----+-----+-----+------+-----+-----+-----+----+----+-----+----+-----+-----+----+----+---+----+-----+----+----+---+----+----+---+-----+----+----+----+-----+-----+----+----+----+----+----+----+-----+-----+----+-----+----+----+----+----+-----+-----+---------+----+------+----+---------+------+--------------------+\n",
      "|month|year|    1|    2|    3|    4|    5|     6|     7|     8|   9|  10|  11|  12|  13|   14|   15|   16|  17|  18|   19|  20|   21|   22|   23|    24|   25|  26|  27|    28|   29|   30|   31|    32|   33|   34|   35|  36|  37|   38|  40|   43|   44|  45|  46| 47|  48|   49|  50|  51| 52|  53|  54| 55|   56|  57|  58|  59|   60|   61|  62|  63|  64|  65|  66|  67|   68|   69|  70|   71|  72|  73|  74|  75|   76|   77|area_sums|temp|precip|snow|snowdepth|sunset|            features|\n",
      "+-----+----+-----+-----+-----+-----+-----+------+------+------+----+----+----+----+----+-----+-----+-----+----+----+-----+----+-----+-----+-----+------+-----+----+----+------+-----+-----+-----+------+-----+-----+-----+----+----+-----+----+-----+-----+----+----+---+----+-----+----+----+---+----+----+---+-----+----+----+----+-----+-----+----+----+----+----+----+----+-----+-----+----+-----+----+----+----+----+-----+-----+---------+----+------+----+---------+------+--------------------+\n",
      "|    5|2023|20624|12186|43716|20834|24268|162621|124428|349861|1891|5961|5315|2420|3545|11996|11808|20304|4335|1883|12870|4582|23057|79210|15456|126355|22474|6185|8700|168618|12442| 9944|27138|163969|62533|14016|11585|2357|1704|10542|5737|16982|12335|2561|5906|827|2906|10091|2656|2934|966|5344|1495|451|15716|2894|6264|3833| 9832| 8138|2262|4335|2275|4104|8617|7700| 8655|12326|4414|12336|2659|5940|1177|4281|46058|29906|    69142|70.6|  0.04| 0.0|      0.0|  1955|[5.0,2023.0,20624...|\n",
      "|    3|2022|14687|11577|27583|12893|13752| 66236| 53145|183453| 806|4062|4117|1644|3787| 9117| 9500|13253|3896|1587|11592|4124|13275|38027|14137| 62550|20880|5178|7796|110517|13492| 9435|14935|127734|29327| 5405| 9674|2186|1296| 9594|5521|15945|12546|2443|5746|984|2473| 9490|2786|3284|727|4526|1455|503|14315|3080|6199|3259| 6588| 8203|2049|4219|1605|3757|8415|7133| 9272|11558|4297|10821|1822|5049| 644|3306|49424|18553|    53400|32.5|   0.0| 0.0|      0.6|  1743|[3.0,2022.0,14687...|\n",
      "|    2|2019|20787|15438|40744|21558|24225|111325| 96909|318159| 929|4641|4688|2196|5649|12778|11848|19664|4770|1629|14328|5488|20945|66953|17200|115609|20071|5028|9581|207877|14573|12685|24987|234357|33800| 8021|16379|2872|2127|13472|6667|17059|13425|2581|5697|930|2868|10446|2948|2686|850|3981|1025|502|17966|4362|9076|5138|12068|10928|2810|6052|2339|5122|9382|8360|10490|12661|5026|11440|2133|5427| 779|3490|47135|27578|    62289|43.4|   0.0| 0.0|      0.8|   178|[2.0,2019.0,20787...|\n",
      "|    8|2021|10265| 7825|19319| 9169|10210| 53276| 45180|148170| 619|2883|2777|1256|2275| 6134| 6327| 9156|2268|1098| 7498|2560| 8826|27317| 9234| 49074|14017|3608|5455| 75915| 8427| 5848|10170| 82074|20560| 4672| 7423|1523| 845| 6572|3402|10459| 7821|1630|3624|611|1670| 5650|1617|1869|494|2894| 873|268|13781|1950|4050|2232| 4781| 5411|1336|2607|1090|2371|5290|4519| 5513| 6982|2956| 6882|1437|3233| 435|2300|40044|13375|    22360|77.1|   0.0| 0.0|      0.0|   203|[8.0,2021.0,10265...|\n",
      "|   11|2021|13303| 8395|28113|11644|13194| 92033| 66378|199483|1149|3613|3246|1488|2366| 8071| 7243|11571|2521|1004| 8151|2891|12715|41766| 9589| 68719|12257|3070|4350| 87701| 6175| 5995|14830| 88191|27226| 5414| 5787|1357| 707| 5792|3054| 9727| 6829|1222|3108|397|1429| 4835|1534|1474|469|2458| 746|285|16331|1673|3780|2345| 5188| 4594|1321|2824|1178|2406|4714|4063| 4586| 6621|2254| 5829|1365|2692| 778|2055|48696|18708|    34078|41.5|   0.0| 0.0|      0.0|  1744|[11.0,2021.0,1330...|\n",
      "+-----+----+-----+-----+-----+-----+-----+------+------+------+----+----+----+----+----+-----+-----+-----+----+----+-----+----+-----+-----+-----+------+-----+----+----+------+-----+-----+-----+------+-----+-----+-----+----+----+-----+----+-----+-----+----+----+---+----+-----+----+----+---+----+----+---+-----+----+----+----+-----+-----+----+----+----+----+----+----+-----+-----+----+-----+----+----+----+----+-----+-----+---------+----+------+----+---------+------+--------------------+\n",
      "only showing top 5 rows\n",
      "\n"
     ]
    },
    {
     "name": "stderr",
     "output_type": "stream",
     "text": [
      "                                                                                \r"
     ]
    }
   ],
   "source": [
    "train_df.show(5)"
   ]
  },
  {
   "cell_type": "code",
   "execution_count": 39,
   "id": "bd8be7aa-1cc7-4753-bf08-6142797364c3",
   "metadata": {},
   "outputs": [
    {
     "name": "stderr",
     "output_type": "stream",
     "text": [
      "                                                                                \r"
     ]
    },
    {
     "name": "stdout",
     "output_type": "stream",
     "text": [
      "Coefficients: [-66.72841290960203,2096.320335854964,0.07737454071173874,0.035134305792045864,0.02137694958199008,0.0543922732894695,0.020625005325430445,0.0022373637819797197,0.0032653293629435007,0.0037847522795157107,0.04699003465926484,0.2534178310079206,0.2393992387806387,0.2968434471731084,0.6882574683561236,0.09583256594707623,0.06473861640623363,0.04318527565506878,0.5697475959137256,0.574714192173466,0.004413737015360228,0.028274619319269237,0.04111630162648094,0.008932993003971074,-0.013839727437326598,0.0013968887010071549,-0.0964834011376087,-0.30392121119556476,-0.038722182947819254,0.02048313918158278,-0.07767640509988266,0.06659548001348663,0.06074265323601359,0.012613139708165286,0.04981127572149861,0.09864269630223645,-0.015143088242105246,-0.1503136291113701,0.33173139285575554,-0.0172261863312499,0.22590390768630747,-0.023426737812655345,0.11547744828368202,0.5731906872508918,-0.08754040754088893,1.8322526823373078,0.03800847680519966,0.173872133558346,2.0806163697074402,0.5325202252129942,1.6821108759369527,0.30845171318047204,1.5226396725235583,12.347864399088158,0.13106118338815512,0.39207633377214685,-0.04000036888192165,-0.0225008361790106,0.003608515083226439,-0.055959138022776696,-0.05291477415454662,-0.025588456866900068,0.2844497998831903,-0.13434447564990956,-0.14620285259905053,-0.049103510458409334,0.0,0.10826560623822525,0.11727927561902557,0.054669499102892725,0.0,0.2929657321292788,0.6694017600382829,0.5385129182304533,0.13319120464051154,0.032883092922174464,-99.29774235141461,2658.4623994564195,4985.141235046448,-233.6913182121664,2.0731723198515137]\n",
      "Intercept: -4244491.790612886\n",
      "RMSE: 5753.785752\n",
      "r2: 0.906565\n",
      "+---------------------------------------------------------------------------------------------------------------------------------------------------------------------------------------------------------------------------------------------------------------------------------------------------------------------------------------------------------------------------------------------------------------------------------------------------------------------------------------------------------------------------------------------------------------------------------------------------------------+---------+------------------+\n",
      "|features                                                                                                                                                                                                                                                                                                                                                                                                                                                                                                                                                                                                       |area_sums|prediction        |\n",
      "+---------------------------------------------------------------------------------------------------------------------------------------------------------------------------------------------------------------------------------------------------------------------------------------------------------------------------------------------------------------------------------------------------------------------------------------------------------------------------------------------------------------------------------------------------------------------------------------------------------------+---------+------------------+\n",
      "|[5.0,2023.0,20624.0,12186.0,43716.0,20834.0,24268.0,162621.0,124428.0,349861.0,1891.0,5961.0,5315.0,2420.0,3545.0,11996.0,11808.0,20304.0,4335.0,1883.0,12870.0,4582.0,23057.0,79210.0,15456.0,126355.0,22474.0,6185.0,8700.0,168618.0,12442.0,9944.0,27138.0,163969.0,62533.0,14016.0,11585.0,2357.0,1704.0,10542.0,5737.0,16982.0,12335.0,2561.0,5906.0,827.0,2906.0,10091.0,2656.0,2934.0,966.0,5344.0,1495.0,451.0,15716.0,2894.0,6264.0,3833.0,9832.0,8138.0,2262.0,4335.0,2275.0,4104.0,8617.0,7700.0,8655.0,12326.0,4414.0,12336.0,2659.0,5940.0,1177.0,4281.0,46058.0,29906.0,70.6,0.04,0.0,0.0,1955.0]|69142    |60879.9144059401  |\n",
      "|[3.0,2022.0,14687.0,11577.0,27583.0,12893.0,13752.0,66236.0,53145.0,183453.0,806.0,4062.0,4117.0,1644.0,3787.0,9117.0,9500.0,13253.0,3896.0,1587.0,11592.0,4124.0,13275.0,38027.0,14137.0,62550.0,20880.0,5178.0,7796.0,110517.0,13492.0,9435.0,14935.0,127734.0,29327.0,5405.0,9674.0,2186.0,1296.0,9594.0,5521.0,15945.0,12546.0,2443.0,5746.0,984.0,2473.0,9490.0,2786.0,3284.0,727.0,4526.0,1455.0,503.0,14315.0,3080.0,6199.0,3259.0,6588.0,8203.0,2049.0,4219.0,1605.0,3757.0,8415.0,7133.0,9272.0,11558.0,4297.0,10821.0,1822.0,5049.0,644.0,3306.0,49424.0,18553.0,32.5,0.0,0.0,0.6,1743.0]            |53400    |51058.53343227692 |\n",
      "|[2.0,2019.0,20787.0,15438.0,40744.0,21558.0,24225.0,111325.0,96909.0,318159.0,929.0,4641.0,4688.0,2196.0,5649.0,12778.0,11848.0,19664.0,4770.0,1629.0,14328.0,5488.0,20945.0,66953.0,17200.0,115609.0,20071.0,5028.0,9581.0,207877.0,14573.0,12685.0,24987.0,234357.0,33800.0,8021.0,16379.0,2872.0,2127.0,13472.0,6667.0,17059.0,13425.0,2581.0,5697.0,930.0,2868.0,10446.0,2948.0,2686.0,850.0,3981.0,1025.0,502.0,17966.0,4362.0,9076.0,5138.0,12068.0,10928.0,2810.0,6052.0,2339.0,5122.0,9382.0,8360.0,10490.0,12661.0,5026.0,11440.0,2133.0,5427.0,779.0,3490.0,47135.0,27578.0,43.4,0.0,0.0,0.8,178.0]  |62289    |51955.70422972739 |\n",
      "|[8.0,2021.0,10265.0,7825.0,19319.0,9169.0,10210.0,53276.0,45180.0,148170.0,619.0,2883.0,2777.0,1256.0,2275.0,6134.0,6327.0,9156.0,2268.0,1098.0,7498.0,2560.0,8826.0,27317.0,9234.0,49074.0,14017.0,3608.0,5455.0,75915.0,8427.0,5848.0,10170.0,82074.0,20560.0,4672.0,7423.0,1523.0,845.0,6572.0,3402.0,10459.0,7821.0,1630.0,3624.0,611.0,1670.0,5650.0,1617.0,1869.0,494.0,2894.0,873.0,268.0,13781.0,1950.0,4050.0,2232.0,4781.0,5411.0,1336.0,2607.0,1090.0,2371.0,5290.0,4519.0,5513.0,6982.0,2956.0,6882.0,1437.0,3233.0,435.0,2300.0,40044.0,13375.0,77.1,0.0,0.0,0.0,203.0]                           |22360    |21939.092428480275|\n",
      "|[11.0,2021.0,13303.0,8395.0,28113.0,11644.0,13194.0,92033.0,66378.0,199483.0,1149.0,3613.0,3246.0,1488.0,2366.0,8071.0,7243.0,11571.0,2521.0,1004.0,8151.0,2891.0,12715.0,41766.0,9589.0,68719.0,12257.0,3070.0,4350.0,87701.0,6175.0,5995.0,14830.0,88191.0,27226.0,5414.0,5787.0,1357.0,707.0,5792.0,3054.0,9727.0,6829.0,1222.0,3108.0,397.0,1429.0,4835.0,1534.0,1474.0,469.0,2458.0,746.0,285.0,16331.0,1673.0,3780.0,2345.0,5188.0,4594.0,1321.0,2824.0,1178.0,2406.0,4714.0,4063.0,4586.0,6621.0,2254.0,5829.0,1365.0,2692.0,778.0,2055.0,48696.0,18708.0,41.5,0.0,0.0,0.0,1744.0]                      |34078    |32300.32284839358 |\n",
      "+---------------------------------------------------------------------------------------------------------------------------------------------------------------------------------------------------------------------------------------------------------------------------------------------------------------------------------------------------------------------------------------------------------------------------------------------------------------------------------------------------------------------------------------------------------------------------------------------------------------+---------+------------------+\n",
      "only showing top 5 rows\n",
      "\n"
     ]
    }
   ],
   "source": [
    "# i'm not sure if train_df and test_df is right here, look into this\n",
    "train_df = train_df.na.drop()  # Remove rows with null values\n",
    "\n",
    "# Train Model\n",
    "from pyspark.ml.regression import LinearRegression\n",
    "\n",
    "#Elastic Net\n",
    "lr = LinearRegression(featuresCol = 'features', labelCol='area_sums', regParam=0.3, elasticNetParam=0.8, maxIter=10)\n",
    "lrm = lr.fit(train_df)\n",
    "\n",
    "#coefficients\n",
    "print(\"Coefficients: \" + str(lrm.coefficients))\n",
    "print(\"Intercept: \" + str(lrm.intercept))\n",
    "\n",
    "#model summary\n",
    "print(\"RMSE: %f\" % lrm.summary.rootMeanSquaredError)\n",
    "print(\"r2: %f\" % lrm.summary.r2)\n",
    "\n",
    "# Run the classifier on the test set\n",
    "predictions = lrm.transform(test_df)\n",
    "predictions.select('features','area_sums','prediction').show(5,truncate=False)"
   ]
  },
  {
   "cell_type": "code",
   "execution_count": 40,
   "id": "e904f1bc-2143-439c-a6fd-e30ef8cfac28",
   "metadata": {},
   "outputs": [
    {
     "name": "stderr",
     "output_type": "stream",
     "text": [
      "                                                                                \r"
     ]
    },
    {
     "name": "stdout",
     "output_type": "stream",
     "text": [
      "RMSE: 5753.786\n"
     ]
    },
    {
     "name": "stderr",
     "output_type": "stream",
     "text": [
      "                                                                                \r"
     ]
    },
    {
     "name": "stdout",
     "output_type": "stream",
     "text": [
      "MSE: 33106050.484\n"
     ]
    },
    {
     "name": "stderr",
     "output_type": "stream",
     "text": [
      "                                                                                \r"
     ]
    },
    {
     "name": "stdout",
     "output_type": "stream",
     "text": [
      "MAE: 4626.275\n"
     ]
    },
    {
     "name": "stderr",
     "output_type": "stream",
     "text": [
      "[Stage 65:===========================================>              (6 + 2) / 8]\r"
     ]
    },
    {
     "name": "stdout",
     "output_type": "stream",
     "text": [
      "r2: 0.907\n"
     ]
    },
    {
     "name": "stderr",
     "output_type": "stream",
     "text": [
      "                                                                                \r"
     ]
    }
   ],
   "source": [
    "#print evaluation metrics\n",
    "e = RegressionEvaluator(labelCol='area_sums', predictionCol= 'prediction', metricName= 'rmse')\n",
    "\n",
    "# Root Mean Square Error\n",
    "rmse = e.evaluate(predictions)\n",
    "print(\"RMSE: %.3f\" % rmse)\n",
    "\n",
    "# Mean Square Error\n",
    "mse = e.evaluate(predictions, {e.metricName: \"mse\"})\n",
    "print(\"MSE: %.3f\" % mse)\n",
    "\n",
    "# Mean Absolute Error\n",
    "mae = e.evaluate(predictions, {e.metricName: \"mae\"})\n",
    "print(\"MAE: %.3f\" % mae)\n",
    "\n",
    "# r2 - coefficient of determination\n",
    "r2 = e.evaluate(predictions, {e.metricName: \"r2\"})\n",
    "print(\"r2: %.3f\" %r2)"
   ]
  },
  {
   "cell_type": "markdown",
   "id": "4a8f0db1-4c39-4a3f-a340-303747b3ae29",
   "metadata": {},
   "source": [
    "# pseudocode if we want to do cross validation"
   ]
  },
  {
   "cell_type": "code",
   "execution_count": null,
   "id": "a2a0a967-aa2f-4a97-bb0d-811bf528eb0a",
   "metadata": {},
   "outputs": [],
   "source": [
    "#taken from ashish's notebook- to check if we need to convert anything to labels\n",
    "def labelForResults(s):\n",
    "    if s == 'Fail':\n",
    "        return 0.0\n",
    "    elif s == 'Pass w/ Conditions' or s == 'Pass':\n",
    "        return 1.0\n",
    "    else:\n",
    "        return -1.0\n",
    "    \n",
    "#add labels to the original dataset    \n",
    "label = UserDefinedFunction(labelForResults, DoubleType())\n",
    "labeledData = df.select(df.Violations,label(df.Results).alias('label')).where('label >= 0')\n",
    "labeledData.show(10, truncate=False)"
   ]
  },
  {
   "cell_type": "code",
   "execution_count": 45,
   "id": "115c0a40-ec37-419a-ae05-4115adad625f",
   "metadata": {},
   "outputs": [
    {
     "name": "stderr",
     "output_type": "stream",
     "text": [
      "23/11/25 03:43:39 WARN org.apache.spark.sql.execution.CacheManager: Asked to cache already cached data.\n",
      "23/11/25 03:43:39 WARN org.apache.spark.sql.execution.CacheManager: Asked to cache already cached data.\n"
     ]
    },
    {
     "ename": "IllegalArgumentException",
     "evalue": "label does not exist. Available: month, year, 1, 2, 3, 4, 5, 6, 7, 8, 9, 10, 11, 12, 13, 14, 15, 16, 17, 18, 19, 20, 21, 22, 23, 24, 25, 26, 27, 28, 29, 30, 31, 32, 33, 34, 35, 36, 37, 38, 40, 43, 44, 45, 46, 47, 48, 49, 50, 51, 52, 53, 54, 55, 56, 57, 58, 59, 60, 61, 62, 63, 64, 65, 66, 67, 68, 69, 70, 71, 72, 73, 74, 75, 76, 77, area_sums, temp, precip, snow, snowdepth, sunset, features, CrossValidator_82ced15f4dc7_rand, prediction",
     "output_type": "error",
     "traceback": [
      "\u001b[0;31m---------------------------------------------------------------------------\u001b[0m",
      "\u001b[0;31mIllegalArgumentException\u001b[0m                  Traceback (most recent call last)",
      "Cell \u001b[0;32mIn[45], line 14\u001b[0m\n\u001b[1;32m      8\u001b[0m crossval \u001b[38;5;241m=\u001b[39m CrossValidator(estimator\u001b[38;5;241m=\u001b[39mlr,\n\u001b[1;32m      9\u001b[0m                           estimatorParamMaps\u001b[38;5;241m=\u001b[39mparamGrid,\n\u001b[1;32m     10\u001b[0m                           evaluator\u001b[38;5;241m=\u001b[39mRegressionEvaluator(),\n\u001b[1;32m     11\u001b[0m                           numFolds\u001b[38;5;241m=\u001b[39m\u001b[38;5;241m10\u001b[39m) \n\u001b[1;32m     13\u001b[0m \u001b[38;5;66;03m# Run cross-validation, and choose the best set of parameters.\u001b[39;00m\n\u001b[0;32m---> 14\u001b[0m cvModel \u001b[38;5;241m=\u001b[39m \u001b[43mcrossval\u001b[49m\u001b[38;5;241;43m.\u001b[39;49m\u001b[43mfit\u001b[49m\u001b[43m(\u001b[49m\u001b[43mtrain_df\u001b[49m\u001b[43m)\u001b[49m\n",
      "File \u001b[0;32m/usr/lib/spark/python/pyspark/ml/base.py:161\u001b[0m, in \u001b[0;36mEstimator.fit\u001b[0;34m(self, dataset, params)\u001b[0m\n\u001b[1;32m    159\u001b[0m         \u001b[38;5;28;01mreturn\u001b[39;00m \u001b[38;5;28mself\u001b[39m\u001b[38;5;241m.\u001b[39mcopy(params)\u001b[38;5;241m.\u001b[39m_fit(dataset)\n\u001b[1;32m    160\u001b[0m     \u001b[38;5;28;01melse\u001b[39;00m:\n\u001b[0;32m--> 161\u001b[0m         \u001b[38;5;28;01mreturn\u001b[39;00m \u001b[38;5;28;43mself\u001b[39;49m\u001b[38;5;241;43m.\u001b[39;49m\u001b[43m_fit\u001b[49m\u001b[43m(\u001b[49m\u001b[43mdataset\u001b[49m\u001b[43m)\u001b[49m\n\u001b[1;32m    162\u001b[0m \u001b[38;5;28;01melse\u001b[39;00m:\n\u001b[1;32m    163\u001b[0m     \u001b[38;5;28;01mraise\u001b[39;00m \u001b[38;5;167;01mValueError\u001b[39;00m(\u001b[38;5;124m\"\u001b[39m\u001b[38;5;124mParams must be either a param map or a list/tuple of param maps, \u001b[39m\u001b[38;5;124m\"\u001b[39m\n\u001b[1;32m    164\u001b[0m                      \u001b[38;5;124m\"\u001b[39m\u001b[38;5;124mbut got \u001b[39m\u001b[38;5;132;01m%s\u001b[39;00m\u001b[38;5;124m.\u001b[39m\u001b[38;5;124m\"\u001b[39m \u001b[38;5;241m%\u001b[39m \u001b[38;5;28mtype\u001b[39m(params))\n",
      "File \u001b[0;32m/usr/lib/spark/python/pyspark/ml/tuning.py:687\u001b[0m, in \u001b[0;36mCrossValidator._fit\u001b[0;34m(self, dataset)\u001b[0m\n\u001b[1;32m    684\u001b[0m train \u001b[38;5;241m=\u001b[39m datasets[i][\u001b[38;5;241m0\u001b[39m]\u001b[38;5;241m.\u001b[39mcache()\n\u001b[1;32m    686\u001b[0m tasks \u001b[38;5;241m=\u001b[39m _parallelFitTasks(est, train, eva, validation, epm, collectSubModelsParam)\n\u001b[0;32m--> 687\u001b[0m \u001b[38;5;28;01mfor\u001b[39;00m j, metric, subModel \u001b[38;5;129;01min\u001b[39;00m pool\u001b[38;5;241m.\u001b[39mimap_unordered(\u001b[38;5;28;01mlambda\u001b[39;00m f: f(), tasks):\n\u001b[1;32m    688\u001b[0m     metrics[j] \u001b[38;5;241m+\u001b[39m\u001b[38;5;241m=\u001b[39m (metric \u001b[38;5;241m/\u001b[39m nFolds)\n\u001b[1;32m    689\u001b[0m     \u001b[38;5;28;01mif\u001b[39;00m collectSubModelsParam:\n",
      "File \u001b[0;32m/opt/conda/miniconda3/lib/python3.8/multiprocessing/pool.py:868\u001b[0m, in \u001b[0;36mIMapIterator.next\u001b[0;34m(self, timeout)\u001b[0m\n\u001b[1;32m    866\u001b[0m \u001b[38;5;28;01mif\u001b[39;00m success:\n\u001b[1;32m    867\u001b[0m     \u001b[38;5;28;01mreturn\u001b[39;00m value\n\u001b[0;32m--> 868\u001b[0m \u001b[38;5;28;01mraise\u001b[39;00m value\n",
      "File \u001b[0;32m/opt/conda/miniconda3/lib/python3.8/multiprocessing/pool.py:125\u001b[0m, in \u001b[0;36mworker\u001b[0;34m(inqueue, outqueue, initializer, initargs, maxtasks, wrap_exception)\u001b[0m\n\u001b[1;32m    123\u001b[0m job, i, func, args, kwds \u001b[38;5;241m=\u001b[39m task\n\u001b[1;32m    124\u001b[0m \u001b[38;5;28;01mtry\u001b[39;00m:\n\u001b[0;32m--> 125\u001b[0m     result \u001b[38;5;241m=\u001b[39m (\u001b[38;5;28;01mTrue\u001b[39;00m, \u001b[43mfunc\u001b[49m\u001b[43m(\u001b[49m\u001b[38;5;241;43m*\u001b[39;49m\u001b[43margs\u001b[49m\u001b[43m,\u001b[49m\u001b[43m \u001b[49m\u001b[38;5;241;43m*\u001b[39;49m\u001b[38;5;241;43m*\u001b[39;49m\u001b[43mkwds\u001b[49m\u001b[43m)\u001b[49m)\n\u001b[1;32m    126\u001b[0m \u001b[38;5;28;01mexcept\u001b[39;00m \u001b[38;5;167;01mException\u001b[39;00m \u001b[38;5;28;01mas\u001b[39;00m e:\n\u001b[1;32m    127\u001b[0m     \u001b[38;5;28;01mif\u001b[39;00m wrap_exception \u001b[38;5;129;01mand\u001b[39;00m func \u001b[38;5;129;01mis\u001b[39;00m \u001b[38;5;129;01mnot\u001b[39;00m _helper_reraises_exception:\n",
      "File \u001b[0;32m/usr/lib/spark/python/pyspark/ml/tuning.py:687\u001b[0m, in \u001b[0;36mCrossValidator._fit.<locals>.<lambda>\u001b[0;34m(f)\u001b[0m\n\u001b[1;32m    684\u001b[0m train \u001b[38;5;241m=\u001b[39m datasets[i][\u001b[38;5;241m0\u001b[39m]\u001b[38;5;241m.\u001b[39mcache()\n\u001b[1;32m    686\u001b[0m tasks \u001b[38;5;241m=\u001b[39m _parallelFitTasks(est, train, eva, validation, epm, collectSubModelsParam)\n\u001b[0;32m--> 687\u001b[0m \u001b[38;5;28;01mfor\u001b[39;00m j, metric, subModel \u001b[38;5;129;01min\u001b[39;00m pool\u001b[38;5;241m.\u001b[39mimap_unordered(\u001b[38;5;28;01mlambda\u001b[39;00m f: \u001b[43mf\u001b[49m\u001b[43m(\u001b[49m\u001b[43m)\u001b[49m, tasks):\n\u001b[1;32m    688\u001b[0m     metrics[j] \u001b[38;5;241m+\u001b[39m\u001b[38;5;241m=\u001b[39m (metric \u001b[38;5;241m/\u001b[39m nFolds)\n\u001b[1;32m    689\u001b[0m     \u001b[38;5;28;01mif\u001b[39;00m collectSubModelsParam:\n",
      "File \u001b[0;32m/usr/lib/spark/python/pyspark/ml/tuning.py:74\u001b[0m, in \u001b[0;36m_parallelFitTasks.<locals>.singleTask\u001b[0;34m()\u001b[0m\n\u001b[1;32m     69\u001b[0m index, model \u001b[38;5;241m=\u001b[39m \u001b[38;5;28mnext\u001b[39m(modelIter)\n\u001b[1;32m     70\u001b[0m \u001b[38;5;66;03m# TODO: duplicate evaluator to take extra params from input\u001b[39;00m\n\u001b[1;32m     71\u001b[0m \u001b[38;5;66;03m#  Note: Supporting tuning params in evaluator need update method\u001b[39;00m\n\u001b[1;32m     72\u001b[0m \u001b[38;5;66;03m#  `MetaAlgorithmReadWrite.getAllNestedStages`, make it return\u001b[39;00m\n\u001b[1;32m     73\u001b[0m \u001b[38;5;66;03m#  all nested stages and evaluators\u001b[39;00m\n\u001b[0;32m---> 74\u001b[0m metric \u001b[38;5;241m=\u001b[39m \u001b[43meva\u001b[49m\u001b[38;5;241;43m.\u001b[39;49m\u001b[43mevaluate\u001b[49m\u001b[43m(\u001b[49m\u001b[43mmodel\u001b[49m\u001b[38;5;241;43m.\u001b[39;49m\u001b[43mtransform\u001b[49m\u001b[43m(\u001b[49m\u001b[43mvalidation\u001b[49m\u001b[43m,\u001b[49m\u001b[43m \u001b[49m\u001b[43mepm\u001b[49m\u001b[43m[\u001b[49m\u001b[43mindex\u001b[49m\u001b[43m]\u001b[49m\u001b[43m)\u001b[49m\u001b[43m)\u001b[49m\n\u001b[1;32m     75\u001b[0m \u001b[38;5;28;01mreturn\u001b[39;00m index, metric, model \u001b[38;5;28;01mif\u001b[39;00m collectSubModel \u001b[38;5;28;01melse\u001b[39;00m \u001b[38;5;28;01mNone\u001b[39;00m\n",
      "File \u001b[0;32m/usr/lib/spark/python/pyspark/ml/evaluation.py:84\u001b[0m, in \u001b[0;36mEvaluator.evaluate\u001b[0;34m(self, dataset, params)\u001b[0m\n\u001b[1;32m     82\u001b[0m         \u001b[38;5;28;01mreturn\u001b[39;00m \u001b[38;5;28mself\u001b[39m\u001b[38;5;241m.\u001b[39mcopy(params)\u001b[38;5;241m.\u001b[39m_evaluate(dataset)\n\u001b[1;32m     83\u001b[0m     \u001b[38;5;28;01melse\u001b[39;00m:\n\u001b[0;32m---> 84\u001b[0m         \u001b[38;5;28;01mreturn\u001b[39;00m \u001b[38;5;28;43mself\u001b[39;49m\u001b[38;5;241;43m.\u001b[39;49m\u001b[43m_evaluate\u001b[49m\u001b[43m(\u001b[49m\u001b[43mdataset\u001b[49m\u001b[43m)\u001b[49m\n\u001b[1;32m     85\u001b[0m \u001b[38;5;28;01melse\u001b[39;00m:\n\u001b[1;32m     86\u001b[0m     \u001b[38;5;28;01mraise\u001b[39;00m \u001b[38;5;167;01mValueError\u001b[39;00m(\u001b[38;5;124m\"\u001b[39m\u001b[38;5;124mParams must be a param map but got \u001b[39m\u001b[38;5;132;01m%s\u001b[39;00m\u001b[38;5;124m.\u001b[39m\u001b[38;5;124m\"\u001b[39m \u001b[38;5;241m%\u001b[39m \u001b[38;5;28mtype\u001b[39m(params))\n",
      "File \u001b[0;32m/usr/lib/spark/python/pyspark/ml/evaluation.py:120\u001b[0m, in \u001b[0;36mJavaEvaluator._evaluate\u001b[0;34m(self, dataset)\u001b[0m\n\u001b[1;32m    106\u001b[0m \u001b[38;5;250m\u001b[39m\u001b[38;5;124;03m\"\"\"\u001b[39;00m\n\u001b[1;32m    107\u001b[0m \u001b[38;5;124;03mEvaluates the output.\u001b[39;00m\n\u001b[1;32m    108\u001b[0m \n\u001b[0;32m   (...)\u001b[0m\n\u001b[1;32m    117\u001b[0m \u001b[38;5;124;03m    evaluation metric\u001b[39;00m\n\u001b[1;32m    118\u001b[0m \u001b[38;5;124;03m\"\"\"\u001b[39;00m\n\u001b[1;32m    119\u001b[0m \u001b[38;5;28mself\u001b[39m\u001b[38;5;241m.\u001b[39m_transfer_params_to_java()\n\u001b[0;32m--> 120\u001b[0m \u001b[38;5;28;01mreturn\u001b[39;00m \u001b[38;5;28;43mself\u001b[39;49m\u001b[38;5;241;43m.\u001b[39;49m\u001b[43m_java_obj\u001b[49m\u001b[38;5;241;43m.\u001b[39;49m\u001b[43mevaluate\u001b[49m\u001b[43m(\u001b[49m\u001b[43mdataset\u001b[49m\u001b[38;5;241;43m.\u001b[39;49m\u001b[43m_jdf\u001b[49m\u001b[43m)\u001b[49m\n",
      "File \u001b[0;32m/usr/lib/spark/python/lib/py4j-0.10.9-src.zip/py4j/java_gateway.py:1304\u001b[0m, in \u001b[0;36mJavaMember.__call__\u001b[0;34m(self, *args)\u001b[0m\n\u001b[1;32m   1298\u001b[0m command \u001b[38;5;241m=\u001b[39m proto\u001b[38;5;241m.\u001b[39mCALL_COMMAND_NAME \u001b[38;5;241m+\u001b[39m\\\n\u001b[1;32m   1299\u001b[0m     \u001b[38;5;28mself\u001b[39m\u001b[38;5;241m.\u001b[39mcommand_header \u001b[38;5;241m+\u001b[39m\\\n\u001b[1;32m   1300\u001b[0m     args_command \u001b[38;5;241m+\u001b[39m\\\n\u001b[1;32m   1301\u001b[0m     proto\u001b[38;5;241m.\u001b[39mEND_COMMAND_PART\n\u001b[1;32m   1303\u001b[0m answer \u001b[38;5;241m=\u001b[39m \u001b[38;5;28mself\u001b[39m\u001b[38;5;241m.\u001b[39mgateway_client\u001b[38;5;241m.\u001b[39msend_command(command)\n\u001b[0;32m-> 1304\u001b[0m return_value \u001b[38;5;241m=\u001b[39m \u001b[43mget_return_value\u001b[49m\u001b[43m(\u001b[49m\n\u001b[1;32m   1305\u001b[0m \u001b[43m    \u001b[49m\u001b[43manswer\u001b[49m\u001b[43m,\u001b[49m\u001b[43m \u001b[49m\u001b[38;5;28;43mself\u001b[39;49m\u001b[38;5;241;43m.\u001b[39;49m\u001b[43mgateway_client\u001b[49m\u001b[43m,\u001b[49m\u001b[43m \u001b[49m\u001b[38;5;28;43mself\u001b[39;49m\u001b[38;5;241;43m.\u001b[39;49m\u001b[43mtarget_id\u001b[49m\u001b[43m,\u001b[49m\u001b[43m \u001b[49m\u001b[38;5;28;43mself\u001b[39;49m\u001b[38;5;241;43m.\u001b[39;49m\u001b[43mname\u001b[49m\u001b[43m)\u001b[49m\n\u001b[1;32m   1307\u001b[0m \u001b[38;5;28;01mfor\u001b[39;00m temp_arg \u001b[38;5;129;01min\u001b[39;00m temp_args:\n\u001b[1;32m   1308\u001b[0m     temp_arg\u001b[38;5;241m.\u001b[39m_detach()\n",
      "File \u001b[0;32m/usr/lib/spark/python/pyspark/sql/utils.py:117\u001b[0m, in \u001b[0;36mcapture_sql_exception.<locals>.deco\u001b[0;34m(*a, **kw)\u001b[0m\n\u001b[1;32m    113\u001b[0m converted \u001b[38;5;241m=\u001b[39m convert_exception(e\u001b[38;5;241m.\u001b[39mjava_exception)\n\u001b[1;32m    114\u001b[0m \u001b[38;5;28;01mif\u001b[39;00m \u001b[38;5;129;01mnot\u001b[39;00m \u001b[38;5;28misinstance\u001b[39m(converted, UnknownException):\n\u001b[1;32m    115\u001b[0m     \u001b[38;5;66;03m# Hide where the exception came from that shows a non-Pythonic\u001b[39;00m\n\u001b[1;32m    116\u001b[0m     \u001b[38;5;66;03m# JVM exception message.\u001b[39;00m\n\u001b[0;32m--> 117\u001b[0m     \u001b[38;5;28;01mraise\u001b[39;00m converted \u001b[38;5;28;01mfrom\u001b[39;00m \u001b[38;5;28;01mNone\u001b[39;00m\n\u001b[1;32m    118\u001b[0m \u001b[38;5;28;01melse\u001b[39;00m:\n\u001b[1;32m    119\u001b[0m     \u001b[38;5;28;01mraise\u001b[39;00m\n",
      "\u001b[0;31mIllegalArgumentException\u001b[0m: label does not exist. Available: month, year, 1, 2, 3, 4, 5, 6, 7, 8, 9, 10, 11, 12, 13, 14, 15, 16, 17, 18, 19, 20, 21, 22, 23, 24, 25, 26, 27, 28, 29, 30, 31, 32, 33, 34, 35, 36, 37, 38, 40, 43, 44, 45, 46, 47, 48, 49, 50, 51, 52, 53, 54, 55, 56, 57, 58, 59, 60, 61, 62, 63, 64, 65, 66, 67, 68, 69, 70, 71, 72, 73, 74, 75, 76, 77, area_sums, temp, precip, snow, snowdepth, sunset, features, CrossValidator_82ced15f4dc7_rand, prediction"
     ]
    }
   ],
   "source": [
    "# an open question for me is that in Ashish's code and online examples, the model is fit and tested on the same full dataset. which is confusing to me\n",
    "# I would think you would fit on training and transform the test set. Something to look into.\n",
    "\n",
    "# look to adjust the parameters regparam and elastic net\n",
    "\n",
    "paramGrid = ParamGridBuilder().addGrid(lr.regParam, [0.1, 0.01]).addGrid(\n",
    "    lr.elasticNetParam, [0.2, 0.4,0.6, 0.8,1.0]).build() \n",
    "crossval = CrossValidator(estimator=lr,\n",
    "                          estimatorParamMaps=paramGrid,\n",
    "                          evaluator=RegressionEvaluator(),\n",
    "                          numFolds=10) \n",
    "\n",
    "# Run cross-validation, and choose the best set of parameters.\n",
    "cvModel = crossval.fit(train_df)\n"
   ]
  },
  {
   "cell_type": "code",
   "execution_count": null,
   "id": "7296e8c3-ddff-4124-bf9d-01755471bda1",
   "metadata": {},
   "outputs": [],
   "source": [
    "\n",
    "# Save the model in a location so we don't have to rerun this\n",
    "model_path = \"gs://msca-bdp-student-gcs/bdp-rideshare-project/models/supervised_model/\"\n",
    "cvModel.write().save(model_path)\n",
    "\n",
    "# Read the model back in\n",
    "cvModelRead = CrossValidatorModel.read().load(model_path)\n",
    "\n",
    "# Make predictions on test documents. cvModel uses the best model found (lrModel).\n",
    "predictions = cvModel.transform(test_df)"
   ]
  }
 ],
 "metadata": {
  "kernelspec": {
   "display_name": "PySpark",
   "language": "python",
   "name": "pyspark"
  },
  "language_info": {
   "codemirror_mode": {
    "name": "ipython",
    "version": 3
   },
   "file_extension": ".py",
   "mimetype": "text/x-python",
   "name": "python",
   "nbconvert_exporter": "python",
   "pygments_lexer": "ipython3",
   "version": "3.8.15"
  }
 },
 "nbformat": 4,
 "nbformat_minor": 5
}
