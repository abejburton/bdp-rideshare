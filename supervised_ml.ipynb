{
 "cells": [
  {
   "cell_type": "markdown",
   "id": "ffbfcaa5-0116-4997-b3ec-80e493185654",
   "metadata": {},
   "source": [
    "# Supervised ML\n",
    "\n",
    "The goal of this model is to predict the ridership that occurs within the University of Chicago Lyft Program Area. We will do this by using as features the ridership counts of other Chicago community areas, as well as using weather. The labels are the daily ridership counts within the program area.\n",
    "\n",
    "We will create the model that functions up until the introduction of the University Lyft program and then look at the difference between the predictions and the actual ridership as a rough estimate of the effect of the program on rideshare usage in the area. We will do this by looking at both the change when the program was introduced, as well as when the program was reduced from 10 rides of up to 15 dollars each, to 7 rides up to 10 dollars. "
   ]
  },
  {
   "cell_type": "code",
   "execution_count": 1,
   "id": "414550d7-9d43-4f5c-8f75-4756974014af",
   "metadata": {},
   "outputs": [
    {
     "data": {
      "text/plain": [
       "[('spark.app.startTime', '1700954655159'),\n",
       " ('spark.dynamicAllocation.minExecutors', '1'),\n",
       " ('spark.stage.maxConsecutiveAttempts', '10'),\n",
       " ('spark.submit.pyFiles',\n",
       "  '/root/.ivy2/jars/com.johnsnowlabs.nlp_spark-nlp_2.12-4.4.0.jar,/root/.ivy2/jars/graphframes_graphframes-0.8.2-spark3.1-s_2.12.jar,/root/.ivy2/jars/com.typesafe_config-1.4.2.jar,/root/.ivy2/jars/org.rocksdb_rocksdbjni-6.29.5.jar,/root/.ivy2/jars/com.amazonaws_aws-java-sdk-bundle-1.11.828.jar,/root/.ivy2/jars/com.github.universal-automata_liblevenshtein-3.0.0.jar,/root/.ivy2/jars/com.google.cloud_google-cloud-storage-2.16.0.jar,/root/.ivy2/jars/com.navigamez_greex-1.0.jar,/root/.ivy2/jars/com.johnsnowlabs.nlp_tensorflow-cpu_2.12-0.4.4.jar,/root/.ivy2/jars/it.unimi.dsi_fastutil-7.0.12.jar,/root/.ivy2/jars/org.projectlombok_lombok-1.16.8.jar,/root/.ivy2/jars/com.google.guava_guava-31.1-jre.jar,/root/.ivy2/jars/com.google.guava_failureaccess-1.0.1.jar,/root/.ivy2/jars/com.google.guava_listenablefuture-9999.0-empty-to-avoid-conflict-with-guava.jar,/root/.ivy2/jars/com.google.errorprone_error_prone_annotations-2.16.jar,/root/.ivy2/jars/com.google.j2objc_j2objc-annotations-1.3.jar,/root/.ivy2/jars/com.google.http-client_google-http-client-1.42.3.jar,/root/.ivy2/jars/io.opencensus_opencensus-contrib-http-util-0.31.1.jar,/root/.ivy2/jars/com.google.http-client_google-http-client-jackson2-1.42.3.jar,/root/.ivy2/jars/com.google.http-client_google-http-client-gson-1.42.3.jar,/root/.ivy2/jars/com.google.api-client_google-api-client-2.1.1.jar,/root/.ivy2/jars/commons-codec_commons-codec-1.15.jar,/root/.ivy2/jars/com.google.oauth-client_google-oauth-client-1.34.1.jar,/root/.ivy2/jars/com.google.http-client_google-http-client-apache-v2-1.42.3.jar,/root/.ivy2/jars/com.google.apis_google-api-services-storage-v1-rev20220705-2.0.0.jar,/root/.ivy2/jars/com.google.code.gson_gson-2.10.jar,/root/.ivy2/jars/com.google.cloud_google-cloud-core-2.9.0.jar,/root/.ivy2/jars/com.google.auto.value_auto-value-annotations-1.10.1.jar,/root/.ivy2/jars/com.google.cloud_google-cloud-core-http-2.9.0.jar,/root/.ivy2/jars/com.google.http-client_google-http-client-appengine-1.42.3.jar,/root/.ivy2/jars/com.google.api_gax-httpjson-0.105.1.jar,/root/.ivy2/jars/com.google.cloud_google-cloud-core-grpc-2.9.0.jar,/root/.ivy2/jars/io.grpc_grpc-core-1.51.0.jar,/root/.ivy2/jars/com.google.api_gax-2.20.1.jar,/root/.ivy2/jars/com.google.api_gax-grpc-2.20.1.jar,/root/.ivy2/jars/io.grpc_grpc-alts-1.51.0.jar,/root/.ivy2/jars/io.grpc_grpc-grpclb-1.51.0.jar,/root/.ivy2/jars/org.conscrypt_conscrypt-openjdk-uber-2.5.2.jar,/root/.ivy2/jars/io.grpc_grpc-protobuf-1.51.0.jar,/root/.ivy2/jars/com.google.auth_google-auth-library-credentials-1.13.0.jar,/root/.ivy2/jars/com.google.auth_google-auth-library-oauth2-http-1.13.0.jar,/root/.ivy2/jars/com.google.api_api-common-2.2.2.jar,/root/.ivy2/jars/javax.annotation_javax.annotation-api-1.3.2.jar,/root/.ivy2/jars/io.opencensus_opencensus-api-0.31.1.jar,/root/.ivy2/jars/io.grpc_grpc-context-1.51.0.jar,/root/.ivy2/jars/com.google.api.grpc_proto-google-iam-v1-1.6.22.jar,/root/.ivy2/jars/com.google.protobuf_protobuf-java-3.21.10.jar,/root/.ivy2/jars/com.google.protobuf_protobuf-java-util-3.21.10.jar,/root/.ivy2/jars/com.google.api.grpc_proto-google-common-protos-2.11.0.jar,/root/.ivy2/jars/org.threeten_threetenbp-1.6.4.jar,/root/.ivy2/jars/com.google.api.grpc_proto-google-cloud-storage-v2-2.16.0-alpha.jar,/root/.ivy2/jars/com.google.api.grpc_grpc-google-cloud-storage-v2-2.16.0-alpha.jar,/root/.ivy2/jars/com.google.api.grpc_gapic-google-cloud-storage-v2-2.16.0-alpha.jar,/root/.ivy2/jars/com.fasterxml.jackson.core_jackson-core-2.14.1.jar,/root/.ivy2/jars/com.google.code.findbugs_jsr305-3.0.2.jar,/root/.ivy2/jars/io.grpc_grpc-api-1.51.0.jar,/root/.ivy2/jars/io.grpc_grpc-auth-1.51.0.jar,/root/.ivy2/jars/io.grpc_grpc-stub-1.51.0.jar,/root/.ivy2/jars/org.checkerframework_checker-qual-3.28.0.jar,/root/.ivy2/jars/com.google.api.grpc_grpc-google-iam-v1-1.6.22.jar,/root/.ivy2/jars/io.grpc_grpc-protobuf-lite-1.51.0.jar,/root/.ivy2/jars/com.google.android_annotations-4.1.1.4.jar,/root/.ivy2/jars/org.codehaus.mojo_animal-sniffer-annotations-1.22.jar,/root/.ivy2/jars/io.grpc_grpc-netty-shaded-1.51.0.jar,/root/.ivy2/jars/io.perfmark_perfmark-api-0.26.0.jar,/root/.ivy2/jars/io.grpc_grpc-googleapis-1.51.0.jar,/root/.ivy2/jars/io.grpc_grpc-xds-1.51.0.jar,/root/.ivy2/jars/io.opencensus_opencensus-proto-0.2.0.jar,/root/.ivy2/jars/io.grpc_grpc-services-1.51.0.jar,/root/.ivy2/jars/com.google.re2j_re2j-1.6.jar,/root/.ivy2/jars/dk.brics.automaton_automaton-1.11-8.jar,/root/.ivy2/jars/org.slf4j_slf4j-api-1.7.16.jar'),\n",
       " ('spark.eventLog.enabled', 'true'),\n",
       " ('spark.eventLog.dir',\n",
       "  'gs://dataproc-temp-us-central1-635155370842-uzamlpgc/a9d11564-c085-445e-af02-531d1b67672c/spark-job-history'),\n",
       " ('spark.dataproc.sql.joinConditionReorder.enabled', 'true'),\n",
       " ('spark.sql.autoBroadcastJoinThreshold', '191m'),\n",
       " ('spark.yarn.historyServer.address',\n",
       "  'hub-msca-bdp-dphub-students-test-abejburton-m:18080'),\n",
       " ('spark.kryoserializer.buffer.max', '2000M'),\n",
       " ('spark.history.fs.logDirectory',\n",
       "  'gs://dataproc-temp-us-central1-635155370842-uzamlpgc/a9d11564-c085-445e-af02-531d1b67672c/spark-job-history'),\n",
       " ('spark.serializer', 'org.apache.spark.serializer.KryoSerializer'),\n",
       " ('spark.dataproc.sql.local.rank.pushdown.enabled', 'true'),\n",
       " ('spark.driver.maxResultSize', '0'),\n",
       " ('spark.yarn.unmanagedAM.enabled', 'true'),\n",
       " ('spark.ui.filters',\n",
       "  'org.apache.hadoop.yarn.server.webproxy.amfilter.AmIpFilter'),\n",
       " ('spark.metrics.namespace',\n",
       "  'app_name:${spark.app.name}.app_id:${spark.app.id}'),\n",
       " ('spark.executor.memory', '4g'),\n",
       " ('spark.dataproc.sql.optimizer.leftsemijoin.conversion.enabled', 'true'),\n",
       " ('spark.hadoop.hive.execution.engine', 'mr'),\n",
       " ('spark.executor.id', 'driver'),\n",
       " ('spark.dataproc.metrics.listener.metrics.collector.hostname',\n",
       "  'hub-msca-bdp-dphub-students-test-abejburton-m'),\n",
       " ('spark.driver.host',\n",
       "  'hub-msca-bdp-dphub-students-test-abejburton-m.c.msca-bdp-student-ap.internal'),\n",
       " ('spark.org.apache.hadoop.yarn.server.webproxy.amfilter.AmIpFilter.param.PROXY_HOSTS',\n",
       "  'hub-msca-bdp-dphub-students-test-abejburton-m'),\n",
       " ('spark.hadoop.mapreduce.fileoutputcommitter.algorithm.version', '2'),\n",
       " ('spark.dynamicAllocation.maxExecutors', '10000'),\n",
       " ('spark.yarn.dist.pyFiles',\n",
       "  'file:///root/.ivy2/jars/com.johnsnowlabs.nlp_spark-nlp_2.12-4.4.0.jar,file:///root/.ivy2/jars/graphframes_graphframes-0.8.2-spark3.1-s_2.12.jar,file:///root/.ivy2/jars/com.typesafe_config-1.4.2.jar,file:///root/.ivy2/jars/org.rocksdb_rocksdbjni-6.29.5.jar,file:///root/.ivy2/jars/com.amazonaws_aws-java-sdk-bundle-1.11.828.jar,file:///root/.ivy2/jars/com.github.universal-automata_liblevenshtein-3.0.0.jar,file:///root/.ivy2/jars/com.google.cloud_google-cloud-storage-2.16.0.jar,file:///root/.ivy2/jars/com.navigamez_greex-1.0.jar,file:///root/.ivy2/jars/com.johnsnowlabs.nlp_tensorflow-cpu_2.12-0.4.4.jar,file:///root/.ivy2/jars/it.unimi.dsi_fastutil-7.0.12.jar,file:///root/.ivy2/jars/org.projectlombok_lombok-1.16.8.jar,file:///root/.ivy2/jars/com.google.guava_guava-31.1-jre.jar,file:///root/.ivy2/jars/com.google.guava_failureaccess-1.0.1.jar,file:///root/.ivy2/jars/com.google.guava_listenablefuture-9999.0-empty-to-avoid-conflict-with-guava.jar,file:///root/.ivy2/jars/com.google.errorprone_error_prone_annotations-2.16.jar,file:///root/.ivy2/jars/com.google.j2objc_j2objc-annotations-1.3.jar,file:///root/.ivy2/jars/com.google.http-client_google-http-client-1.42.3.jar,file:///root/.ivy2/jars/io.opencensus_opencensus-contrib-http-util-0.31.1.jar,file:///root/.ivy2/jars/com.google.http-client_google-http-client-jackson2-1.42.3.jar,file:///root/.ivy2/jars/com.google.http-client_google-http-client-gson-1.42.3.jar,file:///root/.ivy2/jars/com.google.api-client_google-api-client-2.1.1.jar,file:///root/.ivy2/jars/commons-codec_commons-codec-1.15.jar,file:///root/.ivy2/jars/com.google.oauth-client_google-oauth-client-1.34.1.jar,file:///root/.ivy2/jars/com.google.http-client_google-http-client-apache-v2-1.42.3.jar,file:///root/.ivy2/jars/com.google.apis_google-api-services-storage-v1-rev20220705-2.0.0.jar,file:///root/.ivy2/jars/com.google.code.gson_gson-2.10.jar,file:///root/.ivy2/jars/com.google.cloud_google-cloud-core-2.9.0.jar,file:///root/.ivy2/jars/com.google.auto.value_auto-value-annotations-1.10.1.jar,file:///root/.ivy2/jars/com.google.cloud_google-cloud-core-http-2.9.0.jar,file:///root/.ivy2/jars/com.google.http-client_google-http-client-appengine-1.42.3.jar,file:///root/.ivy2/jars/com.google.api_gax-httpjson-0.105.1.jar,file:///root/.ivy2/jars/com.google.cloud_google-cloud-core-grpc-2.9.0.jar,file:///root/.ivy2/jars/io.grpc_grpc-core-1.51.0.jar,file:///root/.ivy2/jars/com.google.api_gax-2.20.1.jar,file:///root/.ivy2/jars/com.google.api_gax-grpc-2.20.1.jar,file:///root/.ivy2/jars/io.grpc_grpc-alts-1.51.0.jar,file:///root/.ivy2/jars/io.grpc_grpc-grpclb-1.51.0.jar,file:///root/.ivy2/jars/org.conscrypt_conscrypt-openjdk-uber-2.5.2.jar,file:///root/.ivy2/jars/io.grpc_grpc-protobuf-1.51.0.jar,file:///root/.ivy2/jars/com.google.auth_google-auth-library-credentials-1.13.0.jar,file:///root/.ivy2/jars/com.google.auth_google-auth-library-oauth2-http-1.13.0.jar,file:///root/.ivy2/jars/com.google.api_api-common-2.2.2.jar,file:///root/.ivy2/jars/javax.annotation_javax.annotation-api-1.3.2.jar,file:///root/.ivy2/jars/io.opencensus_opencensus-api-0.31.1.jar,file:///root/.ivy2/jars/io.grpc_grpc-context-1.51.0.jar,file:///root/.ivy2/jars/com.google.api.grpc_proto-google-iam-v1-1.6.22.jar,file:///root/.ivy2/jars/com.google.protobuf_protobuf-java-3.21.10.jar,file:///root/.ivy2/jars/com.google.protobuf_protobuf-java-util-3.21.10.jar,file:///root/.ivy2/jars/com.google.api.grpc_proto-google-common-protos-2.11.0.jar,file:///root/.ivy2/jars/org.threeten_threetenbp-1.6.4.jar,file:///root/.ivy2/jars/com.google.api.grpc_proto-google-cloud-storage-v2-2.16.0-alpha.jar,file:///root/.ivy2/jars/com.google.api.grpc_grpc-google-cloud-storage-v2-2.16.0-alpha.jar,file:///root/.ivy2/jars/com.google.api.grpc_gapic-google-cloud-storage-v2-2.16.0-alpha.jar,file:///root/.ivy2/jars/com.fasterxml.jackson.core_jackson-core-2.14.1.jar,file:///root/.ivy2/jars/com.google.code.findbugs_jsr305-3.0.2.jar,file:///root/.ivy2/jars/io.grpc_grpc-api-1.51.0.jar,file:///root/.ivy2/jars/io.grpc_grpc-auth-1.51.0.jar,file:///root/.ivy2/jars/io.grpc_grpc-stub-1.51.0.jar,file:///root/.ivy2/jars/org.checkerframework_checker-qual-3.28.0.jar,file:///root/.ivy2/jars/com.google.api.grpc_grpc-google-iam-v1-1.6.22.jar,file:///root/.ivy2/jars/io.grpc_grpc-protobuf-lite-1.51.0.jar,file:///root/.ivy2/jars/com.google.android_annotations-4.1.1.4.jar,file:///root/.ivy2/jars/org.codehaus.mojo_animal-sniffer-annotations-1.22.jar,file:///root/.ivy2/jars/io.grpc_grpc-netty-shaded-1.51.0.jar,file:///root/.ivy2/jars/io.perfmark_perfmark-api-0.26.0.jar,file:///root/.ivy2/jars/io.grpc_grpc-googleapis-1.51.0.jar,file:///root/.ivy2/jars/io.grpc_grpc-xds-1.51.0.jar,file:///root/.ivy2/jars/io.opencensus_opencensus-proto-0.2.0.jar,file:///root/.ivy2/jars/io.grpc_grpc-services-1.51.0.jar,file:///root/.ivy2/jars/com.google.re2j_re2j-1.6.jar,file:///root/.ivy2/jars/dk.brics.automaton_automaton-1.11-8.jar,file:///root/.ivy2/jars/org.slf4j_slf4j-api-1.7.16.jar'),\n",
       " ('spark.yarn.am.attemptFailuresValidityInterval', '1h'),\n",
       " ('spark.app.name', 'Spark Updated Conf'),\n",
       " ('spark.sql.catalogImplementation', 'hive'),\n",
       " ('spark.executorEnv.OPENBLAS_NUM_THREADS', '1'),\n",
       " ('spark.yarn.secondary.jars',\n",
       "  'com.johnsnowlabs.nlp_spark-nlp_2.12-4.4.0.jar,graphframes_graphframes-0.8.2-spark3.1-s_2.12.jar,com.typesafe_config-1.4.2.jar,org.rocksdb_rocksdbjni-6.29.5.jar,com.amazonaws_aws-java-sdk-bundle-1.11.828.jar,com.github.universal-automata_liblevenshtein-3.0.0.jar,com.google.cloud_google-cloud-storage-2.16.0.jar,com.navigamez_greex-1.0.jar,com.johnsnowlabs.nlp_tensorflow-cpu_2.12-0.4.4.jar,it.unimi.dsi_fastutil-7.0.12.jar,org.projectlombok_lombok-1.16.8.jar,com.google.guava_guava-31.1-jre.jar,com.google.guava_failureaccess-1.0.1.jar,com.google.guava_listenablefuture-9999.0-empty-to-avoid-conflict-with-guava.jar,com.google.errorprone_error_prone_annotations-2.16.jar,com.google.j2objc_j2objc-annotations-1.3.jar,com.google.http-client_google-http-client-1.42.3.jar,io.opencensus_opencensus-contrib-http-util-0.31.1.jar,com.google.http-client_google-http-client-jackson2-1.42.3.jar,com.google.http-client_google-http-client-gson-1.42.3.jar,com.google.api-client_google-api-client-2.1.1.jar,commons-codec_commons-codec-1.15.jar,com.google.oauth-client_google-oauth-client-1.34.1.jar,com.google.http-client_google-http-client-apache-v2-1.42.3.jar,com.google.apis_google-api-services-storage-v1-rev20220705-2.0.0.jar,com.google.code.gson_gson-2.10.jar,com.google.cloud_google-cloud-core-2.9.0.jar,com.google.auto.value_auto-value-annotations-1.10.1.jar,com.google.cloud_google-cloud-core-http-2.9.0.jar,com.google.http-client_google-http-client-appengine-1.42.3.jar,com.google.api_gax-httpjson-0.105.1.jar,com.google.cloud_google-cloud-core-grpc-2.9.0.jar,io.grpc_grpc-core-1.51.0.jar,com.google.api_gax-2.20.1.jar,com.google.api_gax-grpc-2.20.1.jar,io.grpc_grpc-alts-1.51.0.jar,io.grpc_grpc-grpclb-1.51.0.jar,org.conscrypt_conscrypt-openjdk-uber-2.5.2.jar,io.grpc_grpc-protobuf-1.51.0.jar,com.google.auth_google-auth-library-credentials-1.13.0.jar,com.google.auth_google-auth-library-oauth2-http-1.13.0.jar,com.google.api_api-common-2.2.2.jar,javax.annotation_javax.annotation-api-1.3.2.jar,io.opencensus_opencensus-api-0.31.1.jar,io.grpc_grpc-context-1.51.0.jar,com.google.api.grpc_proto-google-iam-v1-1.6.22.jar,com.google.protobuf_protobuf-java-3.21.10.jar,com.google.protobuf_protobuf-java-util-3.21.10.jar,com.google.api.grpc_proto-google-common-protos-2.11.0.jar,org.threeten_threetenbp-1.6.4.jar,com.google.api.grpc_proto-google-cloud-storage-v2-2.16.0-alpha.jar,com.google.api.grpc_grpc-google-cloud-storage-v2-2.16.0-alpha.jar,com.google.api.grpc_gapic-google-cloud-storage-v2-2.16.0-alpha.jar,com.fasterxml.jackson.core_jackson-core-2.14.1.jar,com.google.code.findbugs_jsr305-3.0.2.jar,io.grpc_grpc-api-1.51.0.jar,io.grpc_grpc-auth-1.51.0.jar,io.grpc_grpc-stub-1.51.0.jar,org.checkerframework_checker-qual-3.28.0.jar,com.google.api.grpc_grpc-google-iam-v1-1.6.22.jar,io.grpc_grpc-protobuf-lite-1.51.0.jar,com.google.android_annotations-4.1.1.4.jar,org.codehaus.mojo_animal-sniffer-annotations-1.22.jar,io.grpc_grpc-netty-shaded-1.51.0.jar,io.perfmark_perfmark-api-0.26.0.jar,io.grpc_grpc-googleapis-1.51.0.jar,io.grpc_grpc-xds-1.51.0.jar,io.opencensus_opencensus-proto-0.2.0.jar,io.grpc_grpc-services-1.51.0.jar,com.google.re2j_re2j-1.6.jar,dk.brics.automaton_automaton-1.11-8.jar,org.slf4j_slf4j-api-1.7.16.jar'),\n",
       " ('spark.org.apache.hadoop.yarn.server.webproxy.amfilter.AmIpFilter.param.PROXY_URI_BASES',\n",
       "  'http://hub-msca-bdp-dphub-students-test-abejburton-m:8088/proxy/application_1700954437945_0001'),\n",
       " ('spark.repl.local.jars',\n",
       "  'file:///root/.ivy2/jars/com.johnsnowlabs.nlp_spark-nlp_2.12-4.4.0.jar,file:///root/.ivy2/jars/graphframes_graphframes-0.8.2-spark3.1-s_2.12.jar,file:///root/.ivy2/jars/com.typesafe_config-1.4.2.jar,file:///root/.ivy2/jars/org.rocksdb_rocksdbjni-6.29.5.jar,file:///root/.ivy2/jars/com.amazonaws_aws-java-sdk-bundle-1.11.828.jar,file:///root/.ivy2/jars/com.github.universal-automata_liblevenshtein-3.0.0.jar,file:///root/.ivy2/jars/com.google.cloud_google-cloud-storage-2.16.0.jar,file:///root/.ivy2/jars/com.navigamez_greex-1.0.jar,file:///root/.ivy2/jars/com.johnsnowlabs.nlp_tensorflow-cpu_2.12-0.4.4.jar,file:///root/.ivy2/jars/it.unimi.dsi_fastutil-7.0.12.jar,file:///root/.ivy2/jars/org.projectlombok_lombok-1.16.8.jar,file:///root/.ivy2/jars/com.google.guava_guava-31.1-jre.jar,file:///root/.ivy2/jars/com.google.guava_failureaccess-1.0.1.jar,file:///root/.ivy2/jars/com.google.guava_listenablefuture-9999.0-empty-to-avoid-conflict-with-guava.jar,file:///root/.ivy2/jars/com.google.errorprone_error_prone_annotations-2.16.jar,file:///root/.ivy2/jars/com.google.j2objc_j2objc-annotations-1.3.jar,file:///root/.ivy2/jars/com.google.http-client_google-http-client-1.42.3.jar,file:///root/.ivy2/jars/io.opencensus_opencensus-contrib-http-util-0.31.1.jar,file:///root/.ivy2/jars/com.google.http-client_google-http-client-jackson2-1.42.3.jar,file:///root/.ivy2/jars/com.google.http-client_google-http-client-gson-1.42.3.jar,file:///root/.ivy2/jars/com.google.api-client_google-api-client-2.1.1.jar,file:///root/.ivy2/jars/commons-codec_commons-codec-1.15.jar,file:///root/.ivy2/jars/com.google.oauth-client_google-oauth-client-1.34.1.jar,file:///root/.ivy2/jars/com.google.http-client_google-http-client-apache-v2-1.42.3.jar,file:///root/.ivy2/jars/com.google.apis_google-api-services-storage-v1-rev20220705-2.0.0.jar,file:///root/.ivy2/jars/com.google.code.gson_gson-2.10.jar,file:///root/.ivy2/jars/com.google.cloud_google-cloud-core-2.9.0.jar,file:///root/.ivy2/jars/com.google.auto.value_auto-value-annotations-1.10.1.jar,file:///root/.ivy2/jars/com.google.cloud_google-cloud-core-http-2.9.0.jar,file:///root/.ivy2/jars/com.google.http-client_google-http-client-appengine-1.42.3.jar,file:///root/.ivy2/jars/com.google.api_gax-httpjson-0.105.1.jar,file:///root/.ivy2/jars/com.google.cloud_google-cloud-core-grpc-2.9.0.jar,file:///root/.ivy2/jars/io.grpc_grpc-core-1.51.0.jar,file:///root/.ivy2/jars/com.google.api_gax-2.20.1.jar,file:///root/.ivy2/jars/com.google.api_gax-grpc-2.20.1.jar,file:///root/.ivy2/jars/io.grpc_grpc-alts-1.51.0.jar,file:///root/.ivy2/jars/io.grpc_grpc-grpclb-1.51.0.jar,file:///root/.ivy2/jars/org.conscrypt_conscrypt-openjdk-uber-2.5.2.jar,file:///root/.ivy2/jars/io.grpc_grpc-protobuf-1.51.0.jar,file:///root/.ivy2/jars/com.google.auth_google-auth-library-credentials-1.13.0.jar,file:///root/.ivy2/jars/com.google.auth_google-auth-library-oauth2-http-1.13.0.jar,file:///root/.ivy2/jars/com.google.api_api-common-2.2.2.jar,file:///root/.ivy2/jars/javax.annotation_javax.annotation-api-1.3.2.jar,file:///root/.ivy2/jars/io.opencensus_opencensus-api-0.31.1.jar,file:///root/.ivy2/jars/io.grpc_grpc-context-1.51.0.jar,file:///root/.ivy2/jars/com.google.api.grpc_proto-google-iam-v1-1.6.22.jar,file:///root/.ivy2/jars/com.google.protobuf_protobuf-java-3.21.10.jar,file:///root/.ivy2/jars/com.google.protobuf_protobuf-java-util-3.21.10.jar,file:///root/.ivy2/jars/com.google.api.grpc_proto-google-common-protos-2.11.0.jar,file:///root/.ivy2/jars/org.threeten_threetenbp-1.6.4.jar,file:///root/.ivy2/jars/com.google.api.grpc_proto-google-cloud-storage-v2-2.16.0-alpha.jar,file:///root/.ivy2/jars/com.google.api.grpc_grpc-google-cloud-storage-v2-2.16.0-alpha.jar,file:///root/.ivy2/jars/com.google.api.grpc_gapic-google-cloud-storage-v2-2.16.0-alpha.jar,file:///root/.ivy2/jars/com.fasterxml.jackson.core_jackson-core-2.14.1.jar,file:///root/.ivy2/jars/com.google.code.findbugs_jsr305-3.0.2.jar,file:///root/.ivy2/jars/io.grpc_grpc-api-1.51.0.jar,file:///root/.ivy2/jars/io.grpc_grpc-auth-1.51.0.jar,file:///root/.ivy2/jars/io.grpc_grpc-stub-1.51.0.jar,file:///root/.ivy2/jars/org.checkerframework_checker-qual-3.28.0.jar,file:///root/.ivy2/jars/com.google.api.grpc_grpc-google-iam-v1-1.6.22.jar,file:///root/.ivy2/jars/io.grpc_grpc-protobuf-lite-1.51.0.jar,file:///root/.ivy2/jars/com.google.android_annotations-4.1.1.4.jar,file:///root/.ivy2/jars/org.codehaus.mojo_animal-sniffer-annotations-1.22.jar,file:///root/.ivy2/jars/io.grpc_grpc-netty-shaded-1.51.0.jar,file:///root/.ivy2/jars/io.perfmark_perfmark-api-0.26.0.jar,file:///root/.ivy2/jars/io.grpc_grpc-googleapis-1.51.0.jar,file:///root/.ivy2/jars/io.grpc_grpc-xds-1.51.0.jar,file:///root/.ivy2/jars/io.opencensus_opencensus-proto-0.2.0.jar,file:///root/.ivy2/jars/io.grpc_grpc-services-1.51.0.jar,file:///root/.ivy2/jars/com.google.re2j_re2j-1.6.jar,file:///root/.ivy2/jars/dk.brics.automaton_automaton-1.11-8.jar,file:///root/.ivy2/jars/org.slf4j_slf4j-api-1.7.16.jar'),\n",
       " ('spark.sql.cbo.enabled', 'true'),\n",
       " ('spark.executorEnv.PYTHONPATH',\n",
       "  '/usr/lib/spark/python/lib/py4j-0.10.9-src.zip:/usr/lib/spark/python/:<CPS>{{PWD}}/pyspark.zip<CPS>{{PWD}}/py4j-0.10.9-src.zip<CPS>{{PWD}}/com.johnsnowlabs.nlp_spark-nlp_2.12-4.4.0.jar<CPS>{{PWD}}/graphframes_graphframes-0.8.2-spark3.1-s_2.12.jar<CPS>{{PWD}}/com.typesafe_config-1.4.2.jar<CPS>{{PWD}}/org.rocksdb_rocksdbjni-6.29.5.jar<CPS>{{PWD}}/com.amazonaws_aws-java-sdk-bundle-1.11.828.jar<CPS>{{PWD}}/com.github.universal-automata_liblevenshtein-3.0.0.jar<CPS>{{PWD}}/com.google.cloud_google-cloud-storage-2.16.0.jar<CPS>{{PWD}}/com.navigamez_greex-1.0.jar<CPS>{{PWD}}/com.johnsnowlabs.nlp_tensorflow-cpu_2.12-0.4.4.jar<CPS>{{PWD}}/it.unimi.dsi_fastutil-7.0.12.jar<CPS>{{PWD}}/org.projectlombok_lombok-1.16.8.jar<CPS>{{PWD}}/com.google.guava_guava-31.1-jre.jar<CPS>{{PWD}}/com.google.guava_failureaccess-1.0.1.jar<CPS>{{PWD}}/com.google.guava_listenablefuture-9999.0-empty-to-avoid-conflict-with-guava.jar<CPS>{{PWD}}/com.google.errorprone_error_prone_annotations-2.16.jar<CPS>{{PWD}}/com.google.j2objc_j2objc-annotations-1.3.jar<CPS>{{PWD}}/com.google.http-client_google-http-client-1.42.3.jar<CPS>{{PWD}}/io.opencensus_opencensus-contrib-http-util-0.31.1.jar<CPS>{{PWD}}/com.google.http-client_google-http-client-jackson2-1.42.3.jar<CPS>{{PWD}}/com.google.http-client_google-http-client-gson-1.42.3.jar<CPS>{{PWD}}/com.google.api-client_google-api-client-2.1.1.jar<CPS>{{PWD}}/commons-codec_commons-codec-1.15.jar<CPS>{{PWD}}/com.google.oauth-client_google-oauth-client-1.34.1.jar<CPS>{{PWD}}/com.google.http-client_google-http-client-apache-v2-1.42.3.jar<CPS>{{PWD}}/com.google.apis_google-api-services-storage-v1-rev20220705-2.0.0.jar<CPS>{{PWD}}/com.google.code.gson_gson-2.10.jar<CPS>{{PWD}}/com.google.cloud_google-cloud-core-2.9.0.jar<CPS>{{PWD}}/com.google.auto.value_auto-value-annotations-1.10.1.jar<CPS>{{PWD}}/com.google.cloud_google-cloud-core-http-2.9.0.jar<CPS>{{PWD}}/com.google.http-client_google-http-client-appengine-1.42.3.jar<CPS>{{PWD}}/com.google.api_gax-httpjson-0.105.1.jar<CPS>{{PWD}}/com.google.cloud_google-cloud-core-grpc-2.9.0.jar<CPS>{{PWD}}/io.grpc_grpc-core-1.51.0.jar<CPS>{{PWD}}/com.google.api_gax-2.20.1.jar<CPS>{{PWD}}/com.google.api_gax-grpc-2.20.1.jar<CPS>{{PWD}}/io.grpc_grpc-alts-1.51.0.jar<CPS>{{PWD}}/io.grpc_grpc-grpclb-1.51.0.jar<CPS>{{PWD}}/org.conscrypt_conscrypt-openjdk-uber-2.5.2.jar<CPS>{{PWD}}/io.grpc_grpc-protobuf-1.51.0.jar<CPS>{{PWD}}/com.google.auth_google-auth-library-credentials-1.13.0.jar<CPS>{{PWD}}/com.google.auth_google-auth-library-oauth2-http-1.13.0.jar<CPS>{{PWD}}/com.google.api_api-common-2.2.2.jar<CPS>{{PWD}}/javax.annotation_javax.annotation-api-1.3.2.jar<CPS>{{PWD}}/io.opencensus_opencensus-api-0.31.1.jar<CPS>{{PWD}}/io.grpc_grpc-context-1.51.0.jar<CPS>{{PWD}}/com.google.api.grpc_proto-google-iam-v1-1.6.22.jar<CPS>{{PWD}}/com.google.protobuf_protobuf-java-3.21.10.jar<CPS>{{PWD}}/com.google.protobuf_protobuf-java-util-3.21.10.jar<CPS>{{PWD}}/com.google.api.grpc_proto-google-common-protos-2.11.0.jar<CPS>{{PWD}}/org.threeten_threetenbp-1.6.4.jar<CPS>{{PWD}}/com.google.api.grpc_proto-google-cloud-storage-v2-2.16.0-alpha.jar<CPS>{{PWD}}/com.google.api.grpc_grpc-google-cloud-storage-v2-2.16.0-alpha.jar<CPS>{{PWD}}/com.google.api.grpc_gapic-google-cloud-storage-v2-2.16.0-alpha.jar<CPS>{{PWD}}/com.fasterxml.jackson.core_jackson-core-2.14.1.jar<CPS>{{PWD}}/com.google.code.findbugs_jsr305-3.0.2.jar<CPS>{{PWD}}/io.grpc_grpc-api-1.51.0.jar<CPS>{{PWD}}/io.grpc_grpc-auth-1.51.0.jar<CPS>{{PWD}}/io.grpc_grpc-stub-1.51.0.jar<CPS>{{PWD}}/org.checkerframework_checker-qual-3.28.0.jar<CPS>{{PWD}}/com.google.api.grpc_grpc-google-iam-v1-1.6.22.jar<CPS>{{PWD}}/io.grpc_grpc-protobuf-lite-1.51.0.jar<CPS>{{PWD}}/com.google.android_annotations-4.1.1.4.jar<CPS>{{PWD}}/org.codehaus.mojo_animal-sniffer-annotations-1.22.jar<CPS>{{PWD}}/io.grpc_grpc-netty-shaded-1.51.0.jar<CPS>{{PWD}}/io.perfmark_perfmark-api-0.26.0.jar<CPS>{{PWD}}/io.grpc_grpc-googleapis-1.51.0.jar<CPS>{{PWD}}/io.grpc_grpc-xds-1.51.0.jar<CPS>{{PWD}}/io.opencensus_opencensus-proto-0.2.0.jar<CPS>{{PWD}}/io.grpc_grpc-services-1.51.0.jar<CPS>{{PWD}}/com.google.re2j_re2j-1.6.jar<CPS>{{PWD}}/dk.brics.automaton_automaton-1.11-8.jar<CPS>{{PWD}}/org.slf4j_slf4j-api-1.7.16.jar'),\n",
       " ('spark.yarn.dist.jars',\n",
       "  'file:///root/.ivy2/jars/com.johnsnowlabs.nlp_spark-nlp_2.12-4.4.0.jar,file:///root/.ivy2/jars/graphframes_graphframes-0.8.2-spark3.1-s_2.12.jar,file:///root/.ivy2/jars/com.typesafe_config-1.4.2.jar,file:///root/.ivy2/jars/org.rocksdb_rocksdbjni-6.29.5.jar,file:///root/.ivy2/jars/com.amazonaws_aws-java-sdk-bundle-1.11.828.jar,file:///root/.ivy2/jars/com.github.universal-automata_liblevenshtein-3.0.0.jar,file:///root/.ivy2/jars/com.google.cloud_google-cloud-storage-2.16.0.jar,file:///root/.ivy2/jars/com.navigamez_greex-1.0.jar,file:///root/.ivy2/jars/com.johnsnowlabs.nlp_tensorflow-cpu_2.12-0.4.4.jar,file:///root/.ivy2/jars/it.unimi.dsi_fastutil-7.0.12.jar,file:///root/.ivy2/jars/org.projectlombok_lombok-1.16.8.jar,file:///root/.ivy2/jars/com.google.guava_guava-31.1-jre.jar,file:///root/.ivy2/jars/com.google.guava_failureaccess-1.0.1.jar,file:///root/.ivy2/jars/com.google.guava_listenablefuture-9999.0-empty-to-avoid-conflict-with-guava.jar,file:///root/.ivy2/jars/com.google.errorprone_error_prone_annotations-2.16.jar,file:///root/.ivy2/jars/com.google.j2objc_j2objc-annotations-1.3.jar,file:///root/.ivy2/jars/com.google.http-client_google-http-client-1.42.3.jar,file:///root/.ivy2/jars/io.opencensus_opencensus-contrib-http-util-0.31.1.jar,file:///root/.ivy2/jars/com.google.http-client_google-http-client-jackson2-1.42.3.jar,file:///root/.ivy2/jars/com.google.http-client_google-http-client-gson-1.42.3.jar,file:///root/.ivy2/jars/com.google.api-client_google-api-client-2.1.1.jar,file:///root/.ivy2/jars/commons-codec_commons-codec-1.15.jar,file:///root/.ivy2/jars/com.google.oauth-client_google-oauth-client-1.34.1.jar,file:///root/.ivy2/jars/com.google.http-client_google-http-client-apache-v2-1.42.3.jar,file:///root/.ivy2/jars/com.google.apis_google-api-services-storage-v1-rev20220705-2.0.0.jar,file:///root/.ivy2/jars/com.google.code.gson_gson-2.10.jar,file:///root/.ivy2/jars/com.google.cloud_google-cloud-core-2.9.0.jar,file:///root/.ivy2/jars/com.google.auto.value_auto-value-annotations-1.10.1.jar,file:///root/.ivy2/jars/com.google.cloud_google-cloud-core-http-2.9.0.jar,file:///root/.ivy2/jars/com.google.http-client_google-http-client-appengine-1.42.3.jar,file:///root/.ivy2/jars/com.google.api_gax-httpjson-0.105.1.jar,file:///root/.ivy2/jars/com.google.cloud_google-cloud-core-grpc-2.9.0.jar,file:///root/.ivy2/jars/io.grpc_grpc-core-1.51.0.jar,file:///root/.ivy2/jars/com.google.api_gax-2.20.1.jar,file:///root/.ivy2/jars/com.google.api_gax-grpc-2.20.1.jar,file:///root/.ivy2/jars/io.grpc_grpc-alts-1.51.0.jar,file:///root/.ivy2/jars/io.grpc_grpc-grpclb-1.51.0.jar,file:///root/.ivy2/jars/org.conscrypt_conscrypt-openjdk-uber-2.5.2.jar,file:///root/.ivy2/jars/io.grpc_grpc-protobuf-1.51.0.jar,file:///root/.ivy2/jars/com.google.auth_google-auth-library-credentials-1.13.0.jar,file:///root/.ivy2/jars/com.google.auth_google-auth-library-oauth2-http-1.13.0.jar,file:///root/.ivy2/jars/com.google.api_api-common-2.2.2.jar,file:///root/.ivy2/jars/javax.annotation_javax.annotation-api-1.3.2.jar,file:///root/.ivy2/jars/io.opencensus_opencensus-api-0.31.1.jar,file:///root/.ivy2/jars/io.grpc_grpc-context-1.51.0.jar,file:///root/.ivy2/jars/com.google.api.grpc_proto-google-iam-v1-1.6.22.jar,file:///root/.ivy2/jars/com.google.protobuf_protobuf-java-3.21.10.jar,file:///root/.ivy2/jars/com.google.protobuf_protobuf-java-util-3.21.10.jar,file:///root/.ivy2/jars/com.google.api.grpc_proto-google-common-protos-2.11.0.jar,file:///root/.ivy2/jars/org.threeten_threetenbp-1.6.4.jar,file:///root/.ivy2/jars/com.google.api.grpc_proto-google-cloud-storage-v2-2.16.0-alpha.jar,file:///root/.ivy2/jars/com.google.api.grpc_grpc-google-cloud-storage-v2-2.16.0-alpha.jar,file:///root/.ivy2/jars/com.google.api.grpc_gapic-google-cloud-storage-v2-2.16.0-alpha.jar,file:///root/.ivy2/jars/com.fasterxml.jackson.core_jackson-core-2.14.1.jar,file:///root/.ivy2/jars/com.google.code.findbugs_jsr305-3.0.2.jar,file:///root/.ivy2/jars/io.grpc_grpc-api-1.51.0.jar,file:///root/.ivy2/jars/io.grpc_grpc-auth-1.51.0.jar,file:///root/.ivy2/jars/io.grpc_grpc-stub-1.51.0.jar,file:///root/.ivy2/jars/org.checkerframework_checker-qual-3.28.0.jar,file:///root/.ivy2/jars/com.google.api.grpc_grpc-google-iam-v1-1.6.22.jar,file:///root/.ivy2/jars/io.grpc_grpc-protobuf-lite-1.51.0.jar,file:///root/.ivy2/jars/com.google.android_annotations-4.1.1.4.jar,file:///root/.ivy2/jars/org.codehaus.mojo_animal-sniffer-annotations-1.22.jar,file:///root/.ivy2/jars/io.grpc_grpc-netty-shaded-1.51.0.jar,file:///root/.ivy2/jars/io.perfmark_perfmark-api-0.26.0.jar,file:///root/.ivy2/jars/io.grpc_grpc-googleapis-1.51.0.jar,file:///root/.ivy2/jars/io.grpc_grpc-xds-1.51.0.jar,file:///root/.ivy2/jars/io.opencensus_opencensus-proto-0.2.0.jar,file:///root/.ivy2/jars/io.grpc_grpc-services-1.51.0.jar,file:///root/.ivy2/jars/com.google.re2j_re2j-1.6.jar,file:///root/.ivy2/jars/dk.brics.automaton_automaton-1.11-8.jar,file:///root/.ivy2/jars/org.slf4j_slf4j-api-1.7.16.jar'),\n",
       " ('spark.dataproc.sql.parquet.enableFooterCache', 'true'),\n",
       " ('spark.driver.memory', '4g'),\n",
       " ('spark.sql.warehouse.dir', 'file:/spark-warehouse'),\n",
       " ('spark.yarn.executor.failuresValidityInterval', '1h'),\n",
       " ('spark.ui.proxyBase', '/proxy/application_1700954437945_0001'),\n",
       " ('spark.yarn.am.memory', '640m'),\n",
       " ('spark.cores.max', '4'),\n",
       " ('spark.executor.cores', '4'),\n",
       " ('spark.jars.packages',\n",
       "  'com.johnsnowlabs.nlp:spark-nlp_2.12:4.4.0,graphframes:graphframes:0.8.2-spark3.1-s_2.12'),\n",
       " ('spark.executor.instances', '2'),\n",
       " ('spark.dataproc.listeners',\n",
       "  'com.google.cloud.spark.performance.DataprocMetricsListener'),\n",
       " ('spark.serializer.objectStreamReset', '100'),\n",
       " ('spark.submit.deployMode', 'client'),\n",
       " ('spark.app.id', 'application_1700954437945_0001'),\n",
       " ('spark.sql.cbo.joinReorder.enabled', 'true'),\n",
       " ('spark.shuffle.service.enabled', 'true'),\n",
       " ('spark.scheduler.mode', 'FAIR'),\n",
       " ('spark.sql.adaptive.enabled', 'true'),\n",
       " ('spark.yarn.jars', 'local:/usr/lib/spark/jars/*'),\n",
       " ('spark.scheduler.minRegisteredResourcesRatio', '0.0'),\n",
       " ('spark.master', 'yarn'),\n",
       " ('spark.ui.port', '0'),\n",
       " ('spark.driver.appUIAddress',\n",
       "  'http://hub-msca-bdp-dphub-students-test-abejburton-m.c.msca-bdp-student-ap.internal:46861'),\n",
       " ('spark.rpc.message.maxSize', '512'),\n",
       " ('spark.rdd.compress', 'True'),\n",
       " ('spark.driver.port', '44505'),\n",
       " ('spark.task.maxFailures', '10'),\n",
       " ('spark.yarn.isPython', 'true'),\n",
       " ('spark.dynamicAllocation.enabled', 'true'),\n",
       " ('spark.ui.showConsoleProgress', 'true')]"
      ]
     },
     "execution_count": 1,
     "metadata": {},
     "output_type": "execute_result"
    }
   ],
   "source": [
    "# read in packages create spark environment\n",
    "from pyspark.sql import SparkSession\n",
    "from pyspark.sql import functions as F\n",
    "\n",
    "import matplotlib.pyplot as plt\n",
    "%matplotlib inline\n",
    "\n",
    "spark = SparkSession.builder.appName('supervised').getOrCreate()\n",
    "\n",
    "#change configuration settings on Spark \n",
    "conf = spark.sparkContext._conf.setAll([('spark.executor.memory', '4g'), ('spark.app.name', 'Spark Updated Conf'), ('spark.executor.cores', '4'), ('spark.cores.max', '4'), ('spark.driver.memory','4g')])\n",
    "\n",
    "#print spark configuration settings\n",
    "spark.sparkContext.getConf().getAll()"
   ]
  },
  {
   "cell_type": "markdown",
   "id": "17ac5c49-7dbc-4aac-a702-1a5ac3ee0097",
   "metadata": {},
   "source": [
    "### Reading in cleaned data, partitioning"
   ]
  },
  {
   "cell_type": "code",
   "execution_count": 2,
   "id": "8bfe115e-abb4-4a36-8508-1bd17ce2c55c",
   "metadata": {},
   "outputs": [
    {
     "name": "stderr",
     "output_type": "stream",
     "text": [
      "                                                                                \r"
     ]
    },
    {
     "name": "stdout",
     "output_type": "stream",
     "text": [
      "+--------------------+-------------------+-------------------+-------+-----+------------+-------------+-----------+------------+----+---+-----+-------------+--------------+-------------+--------------+-----+------------+----+---+\n",
      "|                  ID|    start_timestamp|      end_timestamp|seconds|miles|pickup_tract|dropoff_tract|pickup_area|dropoff_area|Fare|Tip|total|   pickup_lat|    pickup_lon|  dropoff_lat|   dropoff_lon|month|day_of_month|hour|day|\n",
      "+--------------------+-------------------+-------------------+-------+-----+------------+-------------+-----------+------------+----+---+-----+-------------+--------------+-------------+--------------+-----+------------+----+---+\n",
      "|625e77ae6e0ff7191...|2018-11-06 19:00:00|2018-11-06 19:15:00|   1142|  5.8| 17031063400|  17031010400|          6|           1|12.5|  0| 15.0|41.9346591566|-87.6467297286| 42.004764559| -87.659122427|   11|           6|  19|  3|\n",
      "|62945fdb2e70957f0...|2018-11-06 19:00:00|2018-11-06 19:00:00|    341|  1.2| 17031081800|  17031833000|          8|          28| 5.0|  0|  7.5|41.8932163595|-87.6378442095|41.8852813201|-87.6572331997|   11|           6|  19|  3|\n",
      "|6dc03f91e4480d237...|2018-11-06 19:00:00|2018-11-06 19:00:00|    558|  1.2| 17031070400|  17031061500|          7|           6| 7.5|  0| 10.3|41.9289672664|-87.6561568309|41.9452823311|-87.6615450961|   11|           6|  19|  3|\n",
      "|773894079a526afa1...|2018-11-06 19:00:00|2018-11-06 19:30:00|   1047|  2.8| 17031832200|  17031062100|         22|           6|10.0|  2| 14.5|41.9204515116|-87.6799547678|41.9426918444|-87.6517705068|   11|           6|  19|  3|\n",
      "|7acf0a7f2edfbe546...|2018-11-06 19:00:00|2018-11-06 19:00:00|    502|  1.3| 17031839100|  17031081700|         32|           8| 2.5|  0|  5.0|41.8809944707|-87.6327464887|41.8920421365|-87.6318639497|   11|           6|  19|  3|\n",
      "+--------------------+-------------------+-------------------+-------+-----+------------+-------------+-----------+------------+----+---+-----+-------------+--------------+-------------+--------------+-----+------------+----+---+\n",
      "only showing top 5 rows\n",
      "\n"
     ]
    }
   ],
   "source": [
    "# read in rideshare data for all years, concatenate, create appropriate partitioning\n",
    "# we are dropping 2020 because covid will affect the performance of our model\n",
    "\n",
    "df_2018 = spark.read.csv(\"gs://msca-bdp-student-gcs/bdp-rideshare-project/rideshare/processed_data/rides_2018.csv\", inferSchema=True, header=True)\n",
    "df_2019 = spark.read.csv(\"gs://msca-bdp-student-gcs/bdp-rideshare-project/rideshare/processed_data/rides_2019.csv\", inferSchema=True, header=True)\n",
    "df_2021 = spark.read.csv(\"gs://msca-bdp-student-gcs/bdp-rideshare-project/rideshare/processed_data/rides_2021.csv\", inferSchema=True, header=True)\n",
    "df_2022 = spark.read.csv(\"gs://msca-bdp-student-gcs/bdp-rideshare-project/rideshare/processed_data/rides_2022.csv\", inferSchema=True, header=True)\n",
    "df_2023 = spark.read.csv(\"gs://msca-bdp-student-gcs/bdp-rideshare-project/rideshare/processed_data/rides_2023.csv\", inferSchema=True, header=True)\n",
    "\n",
    "# dropping new columns in 2023\n",
    "df_2023 = df_2023.drop('Shared Trip Match','Percent Time Chicago','Percent Distance Chicago')\n",
    "\n",
    "df_all = df_2018.union(df_2019).union(df_2021).union(df_2022).union(df_2023)\n",
    "df_all.show(5)"
   ]
  },
  {
   "cell_type": "code",
   "execution_count": 5,
   "id": "18e30586-4bdd-4217-b55d-e41522df062b",
   "metadata": {},
   "outputs": [
    {
     "name": "stdout",
     "output_type": "stream",
     "text": [
      "Partitions: 544\n"
     ]
    },
    {
     "name": "stderr",
     "output_type": "stream",
     "text": [
      "[Stage 32:=====================================================>(543 + 1) / 544]\r"
     ]
    },
    {
     "name": "stdout",
     "output_type": "stream",
     "text": [
      "+-----------+------+\n",
      "|partitionId| count|\n",
      "+-----------+------+\n",
      "|         42|305254|\n",
      "|         41|305316|\n",
      "|         40|305420|\n",
      "|         38|305471|\n",
      "|         39|305480|\n",
      "|         37|305618|\n",
      "|         36|305676|\n",
      "|         35|305871|\n",
      "|         34|305890|\n",
      "|         33|305962|\n",
      "|         32|305971|\n",
      "|         31|306010|\n",
      "|         29|306031|\n",
      "|         30|306038|\n",
      "|         28|306086|\n",
      "|         27|306127|\n",
      "|         26|306402|\n",
      "|         25|306467|\n",
      "|         24|306633|\n",
      "|         23|306731|\n",
      "|         22|307226|\n",
      "|        243|328837|\n",
      "|        242|328975|\n",
      "|        241|329131|\n",
      "|        240|329163|\n",
      "|        239|329209|\n",
      "|        237|329245|\n",
      "|        235|329263|\n",
      "|        238|329263|\n",
      "|        234|329311|\n",
      "|        236|329315|\n",
      "|        232|329332|\n",
      "|        233|329344|\n",
      "|        231|329373|\n",
      "|        228|329389|\n",
      "|        229|329390|\n",
      "|        227|329399|\n",
      "|        226|329410|\n",
      "|        225|329410|\n",
      "|        224|329418|\n",
      "|        230|329427|\n",
      "|        223|329428|\n",
      "|        220|329461|\n",
      "|        222|329481|\n",
      "|        221|329505|\n",
      "|        217|329507|\n",
      "|        218|329513|\n",
      "|        219|329519|\n",
      "|        216|329523|\n",
      "|        214|329533|\n",
      "|        213|329555|\n",
      "|        215|329574|\n",
      "|        211|329587|\n",
      "|        212|329591|\n",
      "|        208|329607|\n",
      "|        210|329623|\n",
      "|        206|329624|\n",
      "|        209|329630|\n",
      "|        207|329633|\n",
      "|        205|329646|\n",
      "|        202|329654|\n",
      "|        204|329673|\n",
      "|        203|329678|\n",
      "|        194|329704|\n",
      "|        201|329708|\n",
      "|        200|329712|\n",
      "|        191|329717|\n",
      "|        189|329728|\n",
      "|        188|329730|\n",
      "|        193|329732|\n",
      "|        199|329732|\n",
      "|        198|329739|\n",
      "|        190|329746|\n",
      "|        195|329748|\n",
      "|        197|329786|\n",
      "|        196|329786|\n",
      "|        186|329786|\n",
      "|        187|329787|\n",
      "|        192|329793|\n",
      "|        183|329804|\n",
      "|        184|329805|\n",
      "|        179|329807|\n",
      "|        182|329814|\n",
      "|        181|329819|\n",
      "|        185|329843|\n",
      "|        178|329849|\n",
      "|        177|329861|\n",
      "|        180|329865|\n",
      "|        172|329866|\n",
      "|        173|329871|\n",
      "|        171|329879|\n",
      "|        175|329889|\n",
      "|        174|329892|\n",
      "|        176|329900|\n",
      "|        170|329937|\n",
      "|        168|329956|\n",
      "|        162|329961|\n",
      "|        167|329962|\n",
      "|        164|329965|\n",
      "|        169|329974|\n",
      "|        165|329980|\n",
      "|        163|329985|\n",
      "|        159|329993|\n",
      "|        166|330000|\n",
      "|        158|330005|\n",
      "|        161|330014|\n",
      "|        157|330021|\n",
      "|        160|330027|\n",
      "|        156|330059|\n",
      "|        154|330066|\n",
      "|        147|330070|\n",
      "|        153|330083|\n",
      "|        155|330084|\n",
      "|        150|330084|\n",
      "|        146|330089|\n",
      "|        152|330090|\n",
      "|        149|330099|\n",
      "|        151|330101|\n",
      "|        148|330103|\n",
      "|        144|330116|\n",
      "|        145|330129|\n",
      "|        140|330133|\n",
      "|        143|330135|\n",
      "|        141|330139|\n",
      "|        142|330148|\n",
      "|        139|330159|\n",
      "|        135|330178|\n",
      "|        137|330181|\n",
      "|        132|330186|\n",
      "|        138|330189|\n",
      "|        136|330205|\n",
      "|        129|330208|\n",
      "|        133|330219|\n",
      "|        125|330220|\n",
      "|        128|330227|\n",
      "|        134|330230|\n",
      "|        127|330236|\n",
      "|        130|330243|\n",
      "|        124|330245|\n",
      "|        117|330249|\n",
      "|        131|330252|\n",
      "|        121|330255|\n",
      "|        122|330258|\n",
      "|        126|330268|\n",
      "|        123|330270|\n",
      "|        118|330275|\n",
      "|        115|330282|\n",
      "|        113|330282|\n",
      "|        120|330296|\n",
      "|        112|330297|\n",
      "|        119|330306|\n",
      "|        114|330308|\n",
      "|        104|330338|\n",
      "|        116|330339|\n",
      "|        109|330355|\n",
      "|        105|330363|\n",
      "|        111|330366|\n",
      "|        110|330372|\n",
      "|        108|330383|\n",
      "|        107|330385|\n",
      "|        106|330402|\n",
      "|         96|330413|\n",
      "|        102|330415|\n",
      "|        100|330418|\n",
      "|         98|330418|\n",
      "|        101|330419|\n",
      "|         94|330425|\n",
      "|         97|330426|\n",
      "|        103|330430|\n",
      "|         99|330430|\n",
      "|         95|330436|\n",
      "|         90|330456|\n",
      "|         92|330470|\n",
      "|         88|330471|\n",
      "|         91|330474|\n",
      "|         93|330477|\n",
      "|         87|330494|\n",
      "|         86|330501|\n",
      "|         89|330512|\n",
      "|         84|330524|\n",
      "|         82|330550|\n",
      "|         80|330570|\n",
      "|         85|330570|\n",
      "|         81|330579|\n",
      "|         83|330585|\n",
      "|         78|330622|\n",
      "|         79|330625|\n",
      "|         76|330625|\n",
      "|         75|330642|\n",
      "|         77|330646|\n",
      "|         71|330651|\n",
      "|         74|330653|\n",
      "|         73|330667|\n",
      "|         70|330690|\n",
      "|         65|330704|\n",
      "|         72|330709|\n",
      "|         67|330721|\n",
      "|         66|330724|\n",
      "|         69|330737|\n",
      "|         62|330758|\n",
      "|         63|330762|\n",
      "|         64|330762|\n",
      "|         68|330766|\n",
      "|         60|330782|\n",
      "|         59|330784|\n",
      "|         56|330801|\n",
      "|         57|330805|\n",
      "|         61|330807|\n",
      "|         58|330837|\n",
      "|         53|330868|\n",
      "|         55|330869|\n",
      "|         54|330885|\n",
      "|         52|330918|\n",
      "|         50|330944|\n",
      "|         51|330963|\n",
      "|         49|331028|\n",
      "|         48|331034|\n",
      "|         47|331050|\n",
      "|         46|331114|\n",
      "|         45|331284|\n",
      "|         44|331416|\n",
      "|        543|364094|\n",
      "|        542|364374|\n",
      "|        541|364493|\n",
      "|        537|364581|\n",
      "|        538|364599|\n",
      "|        539|364616|\n",
      "|        540|364617|\n",
      "|        536|364654|\n",
      "|        534|364709|\n",
      "|        535|364756|\n",
      "|        532|364784|\n",
      "|        533|364810|\n",
      "|        529|364899|\n",
      "|        530|364903|\n",
      "|        531|364944|\n",
      "|        528|364957|\n",
      "|        527|364961|\n",
      "|        524|364971|\n",
      "|        525|364988|\n",
      "|        526|365006|\n",
      "|        522|365011|\n",
      "|        523|365051|\n",
      "|        521|365057|\n",
      "|        520|365079|\n",
      "|        518|365083|\n",
      "|        517|365090|\n",
      "|        519|365097|\n",
      "|        516|365122|\n",
      "|        514|365165|\n",
      "|        515|365179|\n",
      "|        513|365224|\n",
      "|        509|365252|\n",
      "|        506|365253|\n",
      "|        511|365255|\n",
      "|        508|365272|\n",
      "|        510|365277|\n",
      "|        512|365278|\n",
      "|        507|365302|\n",
      "|        505|365347|\n",
      "|        502|365377|\n",
      "|        503|365394|\n",
      "|        504|365395|\n",
      "|        501|365409|\n",
      "|        500|365431|\n",
      "|        498|365447|\n",
      "|        499|365454|\n",
      "|        497|365519|\n",
      "|        496|365528|\n",
      "|        495|365536|\n",
      "|        492|365541|\n",
      "|        489|365547|\n",
      "|        488|365552|\n",
      "|        487|365554|\n",
      "|        490|365569|\n",
      "|        493|365574|\n",
      "|        484|365576|\n",
      "|        494|365595|\n",
      "|        485|365602|\n",
      "|        486|365622|\n",
      "|        491|365622|\n",
      "|        483|365650|\n",
      "|        482|365684|\n",
      "|        481|365705|\n",
      "|        479|365750|\n",
      "|        478|365773|\n",
      "|        477|365793|\n",
      "|        480|365801|\n",
      "|        475|365806|\n",
      "|        474|365806|\n",
      "|        473|365828|\n",
      "|        476|365846|\n",
      "|        472|365909|\n",
      "|        471|365965|\n",
      "|        470|365975|\n",
      "|        469|366026|\n",
      "|        466|366051|\n",
      "|        467|366057|\n",
      "|        468|366080|\n",
      "|        464|366105|\n",
      "|        465|366117|\n",
      "|        462|366150|\n",
      "|        463|366160|\n",
      "|        458|366193|\n",
      "|        461|366200|\n",
      "|        460|366214|\n",
      "|        459|366217|\n",
      "|        456|366297|\n",
      "|        457|366320|\n",
      "|        455|366371|\n",
      "|        454|366383|\n",
      "|        453|366422|\n",
      "|        452|366461|\n",
      "|        451|366589|\n",
      "|        450|366617|\n",
      "|        449|366758|\n",
      "|        448|366799|\n",
      "|        447|366883|\n",
      "|        446|366901|\n",
      "|        445|366940|\n",
      "|        444|367122|\n",
      "|         21|380513|\n",
      "|         20|380565|\n",
      "|         19|380749|\n",
      "|         18|381028|\n",
      "|         17|381069|\n",
      "|         16|381243|\n",
      "|         15|381263|\n",
      "|         14|381438|\n",
      "|         13|381470|\n",
      "|         12|381544|\n",
      "|         11|381646|\n",
      "|         10|381711|\n",
      "|          8|381721|\n",
      "|          9|381753|\n",
      "|          7|381759|\n",
      "|          6|381763|\n",
      "|          5|381783|\n",
      "|          4|381827|\n",
      "|          3|381971|\n",
      "|          1|382022|\n",
      "|          2|382029|\n",
      "|          0|382095|\n",
      "|        342|420259|\n",
      "|        343|420346|\n",
      "|        341|420485|\n",
      "|        340|420525|\n",
      "|        339|420707|\n",
      "|        336|421031|\n",
      "|        337|421040|\n",
      "|        338|421052|\n",
      "|        334|421107|\n",
      "|        335|421142|\n",
      "|        333|421374|\n",
      "|        330|421440|\n",
      "|        332|421479|\n",
      "|        331|421531|\n",
      "|        327|421574|\n",
      "|        328|421603|\n",
      "|        329|421610|\n",
      "|        326|421612|\n",
      "|        322|421670|\n",
      "|        320|421675|\n",
      "|        325|421679|\n",
      "|        324|421681|\n",
      "|        319|421687|\n",
      "|        323|421687|\n",
      "|        321|421699|\n",
      "|        318|421751|\n",
      "|        315|421832|\n",
      "|        310|421867|\n",
      "|        316|421897|\n",
      "|        312|421903|\n",
      "|        317|421911|\n",
      "|        314|421918|\n",
      "|        313|421920|\n",
      "|        311|421950|\n",
      "|        309|421972|\n",
      "|        307|421988|\n",
      "|        308|422019|\n",
      "|        305|422072|\n",
      "|        303|422083|\n",
      "|        306|422091|\n",
      "|        304|422095|\n",
      "|        302|422097|\n",
      "|        298|422103|\n",
      "|        300|422114|\n",
      "|        301|422116|\n",
      "|        295|422134|\n",
      "|        299|422155|\n",
      "|        296|422155|\n",
      "|        290|422185|\n",
      "|        297|422193|\n",
      "|        294|422194|\n",
      "|        292|422207|\n",
      "|        291|422218|\n",
      "|        293|422236|\n",
      "|        288|422238|\n",
      "|        286|422255|\n",
      "|        289|422265|\n",
      "|        287|422266|\n",
      "|        285|422305|\n",
      "|        283|422307|\n",
      "|        284|422346|\n",
      "|        282|422350|\n",
      "|        281|422354|\n",
      "|        280|422372|\n",
      "|        279|422415|\n",
      "|        278|422498|\n",
      "|        277|422501|\n",
      "|        276|422508|\n",
      "|        275|422549|\n",
      "|        274|422557|\n",
      "|        273|422591|\n",
      "|        272|422625|\n",
      "|        270|422634|\n",
      "|        269|422671|\n",
      "|        268|422673|\n",
      "|        271|422692|\n",
      "|        267|422694|\n",
      "|        265|422761|\n",
      "|        262|422777|\n",
      "|        260|422788|\n",
      "|        263|422795|\n",
      "|        266|422803|\n",
      "|        264|422807|\n",
      "|        258|422838|\n",
      "|        259|422839|\n",
      "|        261|422841|\n",
      "|        257|422852|\n",
      "|        256|422891|\n",
      "|        252|422904|\n",
      "|        255|422925|\n",
      "|        254|422986|\n",
      "|        253|423003|\n",
      "|        250|423197|\n",
      "|        251|423202|\n",
      "|        248|423231|\n",
      "|        249|423262|\n",
      "|        246|423376|\n",
      "|        247|423402|\n",
      "|        245|423403|\n",
      "|        244|423762|\n",
      "|         43|457702|\n",
      "|        443|569570|\n",
      "|        442|570154|\n",
      "|        441|570301|\n",
      "|        440|570372|\n",
      "|        439|570572|\n",
      "|        438|570655|\n",
      "|        436|570763|\n",
      "|        437|570781|\n",
      "|        434|570870|\n",
      "|        435|570872|\n",
      "|        433|570953|\n",
      "|        432|570979|\n",
      "|        431|571069|\n",
      "|        429|571096|\n",
      "|        430|571097|\n",
      "|        428|571127|\n",
      "|        427|571153|\n",
      "|        426|571185|\n",
      "|        425|571201|\n",
      "|        424|571286|\n",
      "|        423|571425|\n",
      "|        422|571449|\n",
      "|        417|571506|\n",
      "|        420|571528|\n",
      "|        421|571532|\n",
      "|        419|571553|\n",
      "|        418|571585|\n",
      "|        416|571595|\n",
      "|        414|571645|\n",
      "|        415|571657|\n",
      "|        413|571742|\n",
      "|        412|571766|\n",
      "|        411|571796|\n",
      "|        409|571842|\n",
      "|        410|571847|\n",
      "|        407|571874|\n",
      "|        408|571913|\n",
      "|        406|571925|\n",
      "|        405|571966|\n",
      "|        404|571983|\n",
      "|        402|571993|\n",
      "|        403|572020|\n",
      "|        401|572123|\n",
      "|        397|572181|\n",
      "|        400|572182|\n",
      "|        399|572183|\n",
      "|        398|572189|\n",
      "|        396|572212|\n",
      "|        395|572244|\n",
      "|        393|572249|\n",
      "|        394|572276|\n",
      "|        392|572302|\n",
      "|        391|572344|\n",
      "|        390|572361|\n",
      "|        389|572382|\n",
      "|        388|572394|\n",
      "|        387|572428|\n",
      "|        386|572438|\n",
      "|        385|572493|\n",
      "|        383|572545|\n",
      "|        384|572565|\n",
      "|        382|572569|\n",
      "|        381|572600|\n",
      "|        380|572604|\n",
      "|        379|572634|\n",
      "|        378|572647|\n",
      "|        375|572742|\n",
      "|        376|572742|\n",
      "|        377|572755|\n",
      "|        374|572798|\n",
      "|        372|572800|\n",
      "|        373|572816|\n",
      "|        371|572868|\n",
      "|        370|572895|\n",
      "|        369|572907|\n",
      "|        368|572924|\n",
      "|        367|572957|\n",
      "|        366|573022|\n",
      "|        364|573102|\n",
      "|        365|573104|\n",
      "|        362|573132|\n",
      "|        363|573145|\n",
      "|        361|573173|\n",
      "|        360|573187|\n",
      "|        358|573262|\n",
      "|        359|573270|\n",
      "|        357|573334|\n",
      "|        356|573372|\n",
      "|        355|573425|\n",
      "|        354|573556|\n",
      "|        353|573584|\n",
      "|        352|573658|\n",
      "|        351|573676|\n",
      "|        350|573781|\n",
      "|        349|573977|\n",
      "|        347|574013|\n",
      "|        348|574040|\n",
      "|        346|574185|\n",
      "|        345|574318|\n",
      "|        344|574727|\n",
      "+-----------+------+\n",
      "\n"
     ]
    },
    {
     "name": "stderr",
     "output_type": "stream",
     "text": [
      "                                                                                \r"
     ]
    }
   ],
   "source": [
    "#display number of records by partition\n",
    "def displaypartitions(df):\n",
    "    #number of records by partition\n",
    "    num = df.rdd.getNumPartitions()\n",
    "    print(\"Partitions:\", num)\n",
    "    df.withColumn(\"partitionId\", F.spark_partition_id())\\\n",
    "        .groupBy(\"partitionId\")\\\n",
    "        .count()\\\n",
    "        .orderBy(F.asc(\"count\"))\\\n",
    "        .show(num)\n",
    "\n",
    "df_all.rdd.getNumPartitions()\n",
    "displaypartitions(df_all)\n"
   ]
  },
  {
   "cell_type": "code",
   "execution_count": 3,
   "id": "abf8091a-9662-4378-8fe5-b2ece46a6a14",
   "metadata": {},
   "outputs": [],
   "source": [
    "# repartitioning to 600 partitions, seems to be balanced now. \n",
    "df_all = df_all.repartition(600)\n",
    "#displaypartitions(df_all)"
   ]
  },
  {
   "cell_type": "code",
   "execution_count": 4,
   "id": "9c7c7fa9-7a39-46eb-93fd-c7006d01c03e",
   "metadata": {},
   "outputs": [],
   "source": [
    "# we will need a year column in this model\n",
    "df_all = df_all.withColumn('year', F.year(df_all.start_timestamp))"
   ]
  },
  {
   "cell_type": "code",
   "execution_count": 8,
   "id": "fae5317c-df84-47ae-a003-440c01c25d07",
   "metadata": {},
   "outputs": [
    {
     "name": "stdout",
     "output_type": "stream",
     "text": [
      "root\n",
      " |-- ID: string (nullable = true)\n",
      " |-- start_timestamp: timestamp (nullable = true)\n",
      " |-- end_timestamp: timestamp (nullable = true)\n",
      " |-- seconds: integer (nullable = true)\n",
      " |-- miles: double (nullable = true)\n",
      " |-- pickup_tract: long (nullable = true)\n",
      " |-- dropoff_tract: long (nullable = true)\n",
      " |-- pickup_area: integer (nullable = true)\n",
      " |-- dropoff_area: integer (nullable = true)\n",
      " |-- Fare: double (nullable = true)\n",
      " |-- Tip: integer (nullable = true)\n",
      " |-- total: double (nullable = true)\n",
      " |-- pickup_lat: double (nullable = true)\n",
      " |-- pickup_lon: double (nullable = true)\n",
      " |-- dropoff_lat: double (nullable = true)\n",
      " |-- dropoff_lon: string (nullable = true)\n",
      " |-- month: integer (nullable = true)\n",
      " |-- day_of_month: integer (nullable = true)\n",
      " |-- hour: integer (nullable = true)\n",
      " |-- day: integer (nullable = true)\n",
      " |-- year: integer (nullable = true)\n",
      "\n"
     ]
    }
   ],
   "source": [
    "df_all.printSchema()"
   ]
  },
  {
   "cell_type": "code",
   "execution_count": 5,
   "id": "540c7bff-6eac-40c2-a9fe-9b6843f7d546",
   "metadata": {},
   "outputs": [],
   "source": [
    "# take a sample to test these operations out on first\n",
    "#sample_df = df_all.sample(fraction=1/1000000)\n",
    "\n",
    "# get only the columns needed for the model\n",
    "selected_columns = [\"pickup_area\",\"dropoff_area\",\"day\",\"month\",\"year\",\"ID\"]\n",
    "selected_df = df_all.select(selected_columns)"
   ]
  },
  {
   "cell_type": "markdown",
   "id": "bdccfb9c-6f47-4d6a-a42b-ad7a1f707f4a",
   "metadata": {},
   "source": [
    "**Daily counts for each community area**"
   ]
  },
  {
   "cell_type": "markdown",
   "id": "d23b5405-6491-43ed-90fb-cf7aa2056553",
   "metadata": {},
   "source": [
    "we had to group by pickup area and dropoff area seperately- daily counts of number of trips to that particular community area when it was either a pickup or dropoff area"
   ]
  },
  {
   "cell_type": "code",
   "execution_count": 6,
   "id": "14b0b19a-36ad-4e17-bf30-1e9fcdaea452",
   "metadata": {},
   "outputs": [],
   "source": [
    "# Calculate daily counts for pickup areas\n",
    "pickup_counts = selected_df.groupby('day', 'month', 'year', 'pickup_area').count().withColumnRenamed('count', 'pickup_count')\n",
    "pickup_counts = pickup_counts.withColumnRenamed('pickup_area', 'area')"
   ]
  },
  {
   "cell_type": "code",
   "execution_count": 7,
   "id": "388446e2-2cd4-4bb8-bfa0-f204b1359427",
   "metadata": {},
   "outputs": [],
   "source": [
    "# Calculate daily counts for dropoff areas\n",
    "dropoff_counts = selected_df.groupby('day', 'month', 'year', 'dropoff_area').count().withColumnRenamed('count', 'dropoff_count')\n",
    "dropoff_counts = dropoff_counts.withColumnRenamed('dropoff_area', 'area')"
   ]
  },
  {
   "cell_type": "code",
   "execution_count": 8,
   "id": "3e028095-2ff1-4e5f-aa03-7dafe417168e",
   "metadata": {},
   "outputs": [
    {
     "name": "stderr",
     "output_type": "stream",
     "text": [
      "[Stage 26:==================================================>    (95 + 9) / 104]\r"
     ]
    },
    {
     "name": "stdout",
     "output_type": "stream",
     "text": [
      "+---+-----+----+----+-----------------+------------------+------------+\n",
      "|day|month|year|area|sum(pickup_count)|sum(dropoff_count)|total_counts|\n",
      "+---+-----+----+----+-----------------+------------------+------------+\n",
      "|  6|    7|2022|   8|           167867|            172693|      340560|\n",
      "|  4|    8|2022|   6|            40523|             39734|       80257|\n",
      "|  7|   11|2022|  42|             7351|              7392|       14743|\n",
      "|  7|   12|2022|  76|            18491|             29572|       48063|\n",
      "|  6|    1|2022|  76|            13224|             18168|       31392|\n",
      "|  7|   11|2022|  73|             2196|              2170|        4366|\n",
      "|  2|    1|2022|   1|             6929|              7019|       13948|\n",
      "|  4|    8|2022|  56|             9706|             11844|       21550|\n",
      "|  1|   12|2022|   5|             7162|              7406|       14568|\n",
      "|  5|    4|2022|   1|             7085|              6183|       13268|\n",
      "+---+-----+----+----+-----------------+------------------+------------+\n",
      "only showing top 10 rows\n",
      "\n"
     ]
    },
    {
     "name": "stderr",
     "output_type": "stream",
     "text": [
      "                                                                                \r"
     ]
    }
   ],
   "source": [
    "pickup_counts = pickup_counts.withColumn('dropoff_count', F.lit(0))\n",
    "dropoff_counts = dropoff_counts.withColumn('pickup_count', F.lit(0))\n",
    "\n",
    "# ensuring same column order\n",
    "pickup_counts = pickup_counts.select('day', 'month', 'year', 'area', 'pickup_count', 'dropoff_count')\n",
    "dropoff_counts = dropoff_counts.select('day', 'month', 'year', 'area', 'pickup_count', 'dropoff_count')\n",
    "\n",
    "# Union the pickup and dropoff dataframes\n",
    "combined_df = pickup_counts.union(dropoff_counts)\n",
    "\n",
    "# Group by day, month, year, and area, summing up the counts\n",
    "daily_counts_by_area = combined_df.groupby('day', 'month', 'year', 'area').sum('pickup_count', 'dropoff_count')\n",
    "\n",
    "# the relatively smaller numbers are mostly a result of the sample size, should be fine when we \n",
    "# make it to the entire dataframe\n",
    "daily_counts_by_area = daily_counts_by_area.withColumn('total_counts', F.col('sum(pickup_count)') + F.col('sum(dropoff_count)'))\n",
    "daily_counts_by_area.drop('sum(pickup_count)','sum(dropoff_count)')\n",
    "daily_counts_by_area.show(10)"
   ]
  },
  {
   "cell_type": "markdown",
   "id": "6b68b7b0-9db1-47c2-a896-f1875023ed66",
   "metadata": {},
   "source": [
    "Pivoting the dataset for community areas"
   ]
  },
  {
   "cell_type": "code",
   "execution_count": 9,
   "id": "d57f2088-9ca6-4cc8-a8fe-0cca835fecf9",
   "metadata": {},
   "outputs": [
    {
     "name": "stderr",
     "output_type": "stream",
     "text": [
      "23/11/25 23:32:49 WARN org.apache.spark.sql.catalyst.util.package: Truncated the string representation of a plan since it was too large. This behavior can be adjusted by setting 'spark.sql.debug.maxToStringFields'.\n",
      "                                                                                \r"
     ]
    },
    {
     "name": "stdout",
     "output_type": "stream",
     "text": [
      "+---+-----+----+-----+-----+-----+-----+-----+------+------+------+----+----+----+----+----+-----+-----+-----+----+----+-----+----+-----+-----+-----+------+-----+----+-----+------+-----+-----+-----+------+-----+-----+-----+----+----+-----+-----+----+-----+-----+-----+-----+----+----+----+----+-----+----+----+----+----+----+---+-----+----+----+----+-----+----+----+----+----+----+-----+----+-----+-----+----+-----+----+----+----+----+-----+-----+\n",
      "|day|month|year|    1|    2|    3|    4|    5|     6|     7|     8|   9|  10|  11|  12|  13|   14|   15|   16|  17|  18|   19|  20|   21|   22|   23|    24|   25|  26|   27|    28|   29|   30|   31|    32|   33|   34|   35|  36|  37|   38|   39|  40|   41|   42|   43|   44|  45|  46|  47|  48|   49|  50|  51|  52|  53|  54| 55|   56|  57|  58|  59|   60|  61|  62|  63|  64|  65|   66|  67|   68|   69|  70|   71|  72|  73|  74|  75|   76|   77|\n",
      "+---+-----+----+-----+-----+-----+-----+-----+------+------+------+----+----+----+----+----+-----+-----+-----+----+----+-----+----+-----+-----+-----+------+-----+----+-----+------+-----+-----+-----+------+-----+-----+-----+----+----+-----+-----+----+-----+-----+-----+-----+----+----+----+----+-----+----+----+----+----+----+---+-----+----+----+----+-----+----+----+----+----+----+-----+----+-----+-----+----+-----+----+----+----+----+-----+-----+\n",
      "|  5|   10|2021|12199| 9107|24884|10934|12710| 62904| 55515|180042| 674|3314|3259|1323|3077| 7226| 7209|10819|2898|1116| 8828|3030|11178|34577|10307| 59723|14084|3590| 5678| 99556| 8672| 7147|12736|104048|24877| 3684| 7049|1553| 824| 6866| 5464|3602|21490| 8095|10986| 8677|1848|3884| 560|2047| 6449|2113|2097| 622|2949| 898|326|15899|2444|4881|2795| 5363|6014|1560|3048|1163|2742| 5662|4618| 5772| 7720|3439| 7108|1518|3534| 550|2453|47198|16199|\n",
      "|  2|    7|2021| 9005| 7260|17397| 7642| 7999| 47541| 33715|117551| 521|2660|2410|1168|1936| 5671| 5780| 8063|2010| 913| 6787|2356| 7659|21888| 7997| 36890|12275|3120| 4611| 53566| 7252| 5243| 8074| 64260|16000| 3827| 5687|1408| 671| 5674| 3668|2866| 9282| 5301| 9215| 6354|1275|3264| 461|1337| 4831|1325|1588| 472|2478| 835|255|11814|1417|3425|1885| 4057|4469|1062|2325| 917|2063| 4523|3978| 4877| 6248|2526| 5897|1059|2890| 387|1875|36306|12384|\n",
      "|  2|    7|2023|  452|  347|  900|  431|  381|  2452|  1759|  6299|  27| 131| 135|  59| 113|  331|  309|  460| 114|  44|  345| 130|  398| 1214|  403|  1923|  633| 156|  200|  3404|  379|  264|  452|  4042| 1131|  196|  349|  62|  47|  280|  231| 167|  632|  336|  452|  372|  84| 165|  37|  90|  317|  86| 114|  23| 157|  38| 17|  755|  83| 200| 121|  206| 244|  55| 149|  54|  99|  233| 220|  282|  355| 136|  342|  74| 202|  24| 119| 1999|  624|\n",
      "|  4|   12|2022|13534|10789|26607|13908|14898| 73450| 56285|192604|1031|4105|3962|1865|3414| 8913| 9367|13438|3610|1451|10446|3656|13370|41366|12193| 65188|17799|4458| 7188|124088|11197| 8620|15505|123219|29952| 5589| 8510|2051|1159| 9143| 6917|4444|25007|10275|14128|11708|2262|5106| 862|2495| 8716|2723|2908| 753|4145|1309|439|17321|2865|5458|3348| 5973|7057|1971|3514|1572|3215| 7133|5790| 7826| 9908|4047| 9907|2026|4732| 695|3250|49998|18831|\n",
      "|  6|    1|2022|13941|10289|29467|13586|15451| 94575| 80801|210493|1000|3892|3486|1586|2974| 8731| 9212|13110|3319|1318|10251|3698|13416|46027|12440| 79758|17915|4286| 6360|118913|10588| 8039|15913| 93354|22282| 4688| 8157|1862|1026| 8014| 6155|4489|25584| 9771|13227|10423|2183|4636| 739|2299| 7620|2338|2513| 752|3682|1190|487|10984|2607|5532|3128| 6166|6861|1899|3610|1470|3237| 7135|5899| 7034| 9444|3664| 9049|1921|4355| 746|2923|31392|19582|\n",
      "|  7|    1|2022|18806|12136|42743|19325|22814|172792|143120|352533|1718|5127|4171|2165|3057|11874|10871|16888|3747|1437|11811|4244|18677|72617|14263|127816|19298|4748| 6853|141436|10020| 8756|20224|120688|34626| 7479| 9024|2030|1129| 8667| 6848|4660|28835|11337|14475|10306|2194|4961| 667|2345| 7874|2120|2467| 710|3958|1205|346| 9587|2493|5522|3424| 7502|6996|1920|3879|1636|3363| 7526|6009| 6965|10058|3664| 9436|2334|4479|1115|3095|27717|26732|\n",
      "|  4|    7|2023|  463|  365|  965|  463|  444|  2559|  1962|  7393|  34| 127| 131|  59| 112|  341|  302|  429|  97|  56|  403| 132|  443| 1310|  433|  2120|  759| 192|  267|  4459|  391|  336|  526|  4889| 1197|  239|  321|  56|  46|  344|  243| 175|  792|  343|  541|  363|  83| 191|  31|  84|  375| 132|  92|  28| 155|  41| 13|  700|  90| 197| 120|  223| 256|  69| 149|  41| 109|  247| 257|  267|  370| 152|  375|  74| 194|  25| 124| 1821|  609|\n",
      "|  2|   12|2018|19802|15539|43393|21356|23301|117250| 90763|301912|1100|4603|4795|2425|4764|12802|11522|19919|4383|1636|14022|5417|21532|68183|16957|110900|18190|4607| 8161|171992|12190|11649|23754|198173|29469| 8323|13998|2705|1938|12021|10056|5742|27483|10491|15387|11743|2257|5055| 782|2719| 8513|2142|2348| 713|3407| 864|430|21408|3815|8522|4970|11152|9706|2631|5835|2237|4789| 8749|6969| 8467|11051|4597| 9713|2362|4425| 929|3084|51232|28031|\n",
      "|  1|    8|2022|13296| 9439|32329|13087|15270|105985| 73132|228688|1446|4394|3636|1833|2587| 9013| 8194|13321|3025|1106| 9205|3234|14227|46734|10686| 76607|14257|3440| 5457|101705| 7272| 7232|16326|101827|32238| 8668| 8570|1524| 928| 6713| 5401|3969|17821| 7527|11246| 7882|1540|3706| 520|1768| 6252|1636|1870| 700|3050| 903|280|22217|1966|4391|2438| 6302|5531|1702|3129|1605|2887| 5693|4800| 5282| 7928|2816| 7186|1695|3311| 955|2488|55147|20351|\n",
      "|  3|    5|2023|16807|13341|33578|15704|15697| 86879| 63584|227565| 929|4833|4777|2111|4279|10515|10783|15338|4314|2029|13129|4497|14692|42292|15713| 69735|23553|6249| 9546|138643|14677|11315|17235|155372|44067| 9692|12508|2625|1687|11341| 9104|6239|43562|16333|18605|14355|2980|6865|1210|3395|11945|3708|3893|1018|5759|1775|633|24394|3771|7014|4114| 7801|9179|2355|5080|2115|4261| 9532|8674|10757|14098|5573|14056|2570|6896| 842|4693|71329|22182|\n",
      "|  3|    4|2021|10752| 7700|17863| 8097| 8166| 44654| 31723| 88534| 462|2339|2907| 982|2451| 6301| 6522| 8472|2233|1073| 8403|2923| 8328|22146|10603| 36694|18019|4651| 6295| 52198|10596| 6663| 9319| 47537|11252| 3260| 7161|1718| 942| 7237| 4423|3662|11469| 7158|12603| 8795|1757|4851| 675|2046| 7168|1849|2450| 576|3634|1059|260| 7632|1939|4179|2405| 4556|6223|1398|2987|1097|2590| 6248|5597| 7130| 8685|3223| 8347|1322|3891| 432|2563|15590|12931|\n",
      "|  5|    6|2023|18451|14352|36525|18935|20186|117204| 90040|294778|1256|5320|5346|2493|4144|11275|11802|17490|4709|1878|13671|5098|17893|55472|17084| 92824|26242|6684|10091|173452|15695|11370|20425|191290|51359| 7999|12958|2871|1842|12451| 9709|6780|35207|14715|20536|15518|3404|7328|1271|3774|12771|4065|4041|1064|6282|1765|679|30124|3856|6929|4332| 8925|9870|2420|4868|2239|4358|10023|8958|11184|15503|5661|14911|2880|7158|1015|4907|82087|25320|\n",
      "|  5|    5|2021|11218| 8218|19190| 9168|10185| 52738| 43469|121878| 623|2684|2927|1140|2395| 6527| 7022| 9465|2317|1118| 8419|2878| 9256|27314|10519| 47596|16945|4436| 6204| 65966|10314| 6442|10467| 61026|14390| 3246| 6851|1672| 952| 7261| 4677|3774|12909| 7149|12641| 8868|1756|4445| 633|2014| 6898|1690|2256| 556|3487|1025|298|12786|1859|4265|2512| 4701|6010|1440|2950|1087|2530| 6310|5523| 6606| 8666|3082| 8409|1446|3907| 453|2599|30137|14018|\n",
      "|  7|   12|2022|23637|14853|58130|25327|30532|208802|152553|414877|2300|6833|5894|2958|4240|14899|14723|22845|5023|1855|15093|5562|25574|90194|18059|148096|25837|6463| 9180|176444|13566|10724|27875|164483|41645| 9796|11170|2773|1570|11916| 9239|6316|36135|15092|19341|15278|2961|6456| 812|3017|10799|3019|3245|1041|5472|1697|510|19533|3201|7159|4301| 9625|8666|2587|4921|2288|4379| 9689|8330| 9378|13109|4768|13450|3104|6268|1498|4847|48063|35303|\n",
      "|  6|    6|2021|12371| 8913|24889|11603|13836| 86502| 71364|199110| 988|3458|3230|1648|2548| 7349| 7707|11729|2636|1114| 8371|3000|11113|39300|10637| 72459|16010|4238| 5986| 91405| 9266| 6328|12768| 85373|22234| 5523| 7431|1743| 965| 7506| 5138|3736|15434| 7379|11968| 8401|1773|4176| 562|1845| 6354|1716|2192| 532|3307| 970|295|11939|2007|4147|2444| 5603|5676|1520|2841|1217|2649| 6014|5326| 6131| 8192|3181| 8166|1683|3668| 530|2565|32995|17873|\n",
      "|  5|    7|2019|19329|14198|47419|22225|26378|133951|124257|379055|1178|5080|4944|2693|4217|11916|11382|20303|4299|1760|13068|5321|23236|77784|16224|134828|18868|4342| 8478|207091|12300|11208|24766|241322|48453|11700|16106|2933|1651|12022| 9580|5574|27064|10211|15156|11706|2465|5030| 743|2539| 8769|2205|2576| 883|3502| 863|433|24153|3681|7892|4599|11856|9344|2679|5295|2469|4613| 8268|6481| 8123|10662|4611| 9820|2479|4919| 921|3009|62043|30475|\n",
      "|  3|   11|2022|15880|12131|31078|14865|15863| 73919| 60160|214459| 959|4542|4438|1943|4045| 9870|10023|14586|4147|1719|11962|4314|14547|42118|14140| 67054|20024|4836| 7883|133125|12585|10273|16786|148457|35501| 5557|10284|2489|1280|10137| 8355|5071|39935|14530|16406|13048|2599|5804| 962|2849| 9968|3281|3300| 941|4640|1404|545|22147|3389|6356|3749| 6760|8016|2197|4209|1791|3813| 8234|6939| 9057|11424|4844|11041|2208|5570| 876|3765|63512|20986|\n",
      "|  2|    2|2021| 9183| 7546|14935| 7747| 7354| 33977| 24718| 67195| 409|2337|2404| 833|2225| 5894| 5945| 7652|2068|1018| 7260|2612| 7590|19048| 8670| 30216|13278|3523| 5011| 40704| 8110| 5834| 8311| 35505| 8889| 1823| 5562|1330| 715| 5581| 3495|3075| 9154| 5433|10297| 7210|1345|3967| 598|1805| 5907|1611|2049| 456|3202| 851|291| 6280|1670|4015|2282| 3874|5551|1243|2706| 980|2302| 5554|4482| 5622| 6722|2786| 6740|1064|3181| 389|2023|14378|10746|\n",
      "|  4|    2|2023|15458|11260|28204|14529|14833| 74643| 58242|189020| 864|4181|4240|1726|4031| 9422| 9329|13571|3771|1497|11336|4042|14024|40407|13643| 66096|20899|5449| 8260|129142|13489| 9685|14687|133399|24428| 4547| 9962|2307|1329| 9933| 8143|5676|41225|14456|16586|13385|2594|6035|1137|2847|10257|3385|3169| 804|4796|1549|533|15089|3033|5810|3539| 6367|7949|1994|4156|1693|3454| 8092|7348| 9805|12322|4483|11787|2050|5439| 787|3873|46148|19838|\n",
      "|  6|    2|2021|13911| 9972|22922|11569|11977| 68007| 55550|135886| 760|3083|3241|1270|2707| 7962| 8118|11141|2829|1274| 9956|3524|11010|32483|12558| 59532|20673|5550| 7129| 73369|12222| 7617|12828| 57966|14662| 2978| 8001|1928|1169| 8170| 5241|4483|13561| 8155|14385|10377|2016|5580| 822|2450| 8428|2214|2879| 650|4344|1145|363| 8688|2171|5180|2843| 5245|7489|1767|3403|1369|3128| 7447|6572| 7860|10370|3904| 9873|1713|4660| 554|2927|19113|16875|\n",
      "+---+-----+----+-----+-----+-----+-----+-----+------+------+------+----+----+----+----+----+-----+-----+-----+----+----+-----+----+-----+-----+-----+------+-----+----+-----+------+-----+-----+-----+------+-----+-----+-----+----+----+-----+-----+----+-----+-----+-----+-----+----+----+----+----+-----+----+----+----+----+----+---+-----+----+----+----+-----+----+----+----+----+----+-----+----+-----+-----+----+-----+----+----+----+----+-----+-----+\n",
      "only showing top 20 rows\n",
      "\n"
     ]
    }
   ],
   "source": [
    "#keep datetime as part of the pivot. \n",
    "\n",
    "# pivot so that each community area is a column\n",
    "# one row for each day, each column represents a community area (with its entry being daily count of rides for that area).\n",
    "\n",
    "# Pivot the DataFrame\n",
    "pivoted_df = daily_counts_by_area.groupBy(\"day\", \"month\", \"year\").pivot(\"area\").sum(\"total_counts\")\n",
    "\n",
    "# Show the results\n",
    "pivoted_df.show()"
   ]
  },
  {
   "cell_type": "markdown",
   "id": "a0df4c64-d1e4-48d1-a5fe-ec6bf18f65fe",
   "metadata": {},
   "source": [
    "Read in weather data, merge with rideshare data"
   ]
  },
  {
   "cell_type": "code",
   "execution_count": 10,
   "id": "b501c963-15c8-4341-b9c6-7d2f07cc5015",
   "metadata": {},
   "outputs": [
    {
     "name": "stderr",
     "output_type": "stream",
     "text": [
      "                                                                                \r"
     ]
    }
   ],
   "source": [
    "df_weather_1 = spark.read.csv(\"gs://msca-bdp-student-gcs/bdp-rideshare-project/weather/chicago 2018-01-01 to 2020-01-01.csv\", inferSchema=True, header=True)\n",
    "df_weather_2 = spark.read.csv(\"gs://msca-bdp-student-gcs/bdp-rideshare-project/weather/chicago 2020-01-01 to 2022-08-31.csv\", inferSchema=True, header=True)\n",
    "df_weather_3 = spark.read.csv(\"gs://msca-bdp-student-gcs/bdp-rideshare-project/weather/chicago 2022-09-01 to 2022-12-31.csv\", inferSchema=True, header=True)\n",
    "df_weather_4 = spark.read.csv(\"gs://msca-bdp-student-gcs/bdp-rideshare-project/weather/chicago 2023-01-01 to 2023-11-22.csv\", inferSchema=True, header=True)\n",
    "df_weather = df_weather_1.union(df_weather_2).union(df_weather_3).union(df_weather_4)"
   ]
  },
  {
   "cell_type": "code",
   "execution_count": 11,
   "id": "2858a6da-ef1b-4561-b8e2-f93073b8e803",
   "metadata": {},
   "outputs": [
    {
     "name": "stdout",
     "output_type": "stream",
     "text": [
      "root\n",
      " |-- name: string (nullable = true)\n",
      " |-- datetime: string (nullable = true)\n",
      " |-- temp: double (nullable = true)\n",
      " |-- precip: double (nullable = true)\n",
      " |-- snow: double (nullable = true)\n",
      " |-- snowdepth: double (nullable = true)\n",
      " |-- sunset: string (nullable = true)\n",
      "\n",
      "root\n",
      " |-- day: integer (nullable = true)\n",
      " |-- month: integer (nullable = true)\n",
      " |-- year: integer (nullable = true)\n",
      " |-- 1: long (nullable = true)\n",
      " |-- 2: long (nullable = true)\n",
      " |-- 3: long (nullable = true)\n",
      " |-- 4: long (nullable = true)\n",
      " |-- 5: long (nullable = true)\n",
      " |-- 6: long (nullable = true)\n",
      " |-- 7: long (nullable = true)\n",
      " |-- 8: long (nullable = true)\n",
      " |-- 9: long (nullable = true)\n",
      " |-- 10: long (nullable = true)\n",
      " |-- 11: long (nullable = true)\n",
      " |-- 12: long (nullable = true)\n",
      " |-- 13: long (nullable = true)\n",
      " |-- 14: long (nullable = true)\n",
      " |-- 15: long (nullable = true)\n",
      " |-- 16: long (nullable = true)\n",
      " |-- 17: long (nullable = true)\n",
      " |-- 18: long (nullable = true)\n",
      " |-- 19: long (nullable = true)\n",
      " |-- 20: long (nullable = true)\n",
      " |-- 21: long (nullable = true)\n",
      " |-- 22: long (nullable = true)\n",
      " |-- 23: long (nullable = true)\n",
      " |-- 24: long (nullable = true)\n",
      " |-- 25: long (nullable = true)\n",
      " |-- 26: long (nullable = true)\n",
      " |-- 27: long (nullable = true)\n",
      " |-- 28: long (nullable = true)\n",
      " |-- 29: long (nullable = true)\n",
      " |-- 30: long (nullable = true)\n",
      " |-- 31: long (nullable = true)\n",
      " |-- 32: long (nullable = true)\n",
      " |-- 33: long (nullable = true)\n",
      " |-- 34: long (nullable = true)\n",
      " |-- 35: long (nullable = true)\n",
      " |-- 36: long (nullable = true)\n",
      " |-- 37: long (nullable = true)\n",
      " |-- 38: long (nullable = true)\n",
      " |-- 39: long (nullable = true)\n",
      " |-- 40: long (nullable = true)\n",
      " |-- 41: long (nullable = true)\n",
      " |-- 42: long (nullable = true)\n",
      " |-- 43: long (nullable = true)\n",
      " |-- 44: long (nullable = true)\n",
      " |-- 45: long (nullable = true)\n",
      " |-- 46: long (nullable = true)\n",
      " |-- 47: long (nullable = true)\n",
      " |-- 48: long (nullable = true)\n",
      " |-- 49: long (nullable = true)\n",
      " |-- 50: long (nullable = true)\n",
      " |-- 51: long (nullable = true)\n",
      " |-- 52: long (nullable = true)\n",
      " |-- 53: long (nullable = true)\n",
      " |-- 54: long (nullable = true)\n",
      " |-- 55: long (nullable = true)\n",
      " |-- 56: long (nullable = true)\n",
      " |-- 57: long (nullable = true)\n",
      " |-- 58: long (nullable = true)\n",
      " |-- 59: long (nullable = true)\n",
      " |-- 60: long (nullable = true)\n",
      " |-- 61: long (nullable = true)\n",
      " |-- 62: long (nullable = true)\n",
      " |-- 63: long (nullable = true)\n",
      " |-- 64: long (nullable = true)\n",
      " |-- 65: long (nullable = true)\n",
      " |-- 66: long (nullable = true)\n",
      " |-- 67: long (nullable = true)\n",
      " |-- 68: long (nullable = true)\n",
      " |-- 69: long (nullable = true)\n",
      " |-- 70: long (nullable = true)\n",
      " |-- 71: long (nullable = true)\n",
      " |-- 72: long (nullable = true)\n",
      " |-- 73: long (nullable = true)\n",
      " |-- 74: long (nullable = true)\n",
      " |-- 75: long (nullable = true)\n",
      " |-- 76: long (nullable = true)\n",
      " |-- 77: long (nullable = true)\n",
      "\n"
     ]
    }
   ],
   "source": [
    "df_weather = df_weather.select('name', 'datetime', 'temp','precip','snow','snowdepth','sunset')\n",
    "df_weather = df_weather.withColumn('sunset', F.concat(F.hour(df_weather.sunset),F.minute(df_weather.sunset)))\n",
    "df_weather.printSchema()\n",
    "pivoted_df.printSchema()\n",
    "# name, datetime, temp, precip, snow, snowdepth, sunset.\n",
    "# merge on datetime- keep datetime as part of the pivot. "
   ]
  },
  {
   "cell_type": "code",
   "execution_count": 52,
   "id": "7aba8bfb-6be3-4af5-86ac-39666270bfb9",
   "metadata": {},
   "outputs": [
    {
     "name": "stdout",
     "output_type": "stream",
     "text": [
      "+-------+----------+----+------+----+---------+------+\n",
      "|   name|  datetime|temp|precip|snow|snowdepth|sunset|\n",
      "+-------+----------+----+------+----+---------+------+\n",
      "|chicago|2018-01-01|-2.7|   0.0| 0.0|      0.6|  1630|\n",
      "|chicago|2018-01-02|-0.7|   0.0| 0.0|      0.3|  1631|\n",
      "+-------+----------+----+------+----+---------+------+\n",
      "only showing top 2 rows\n",
      "\n"
     ]
    }
   ],
   "source": [
    "df_weather.show(2)"
   ]
  },
  {
   "cell_type": "code",
   "execution_count": 12,
   "id": "bb54fa3a-399b-4b9d-b67d-6726a362cf9f",
   "metadata": {},
   "outputs": [
    {
     "name": "stderr",
     "output_type": "stream",
     "text": [
      "[Stage 116:==================================================> (578 + 22) / 600]\r"
     ]
    },
    {
     "name": "stdout",
     "output_type": "stream",
     "text": [
      "+---+-----+----+-----+----+-----+-----+-----+-----+-----+------+---+----+----+----+----+----+----+-----+----+----+----+----+-----+-----+-----+-----+-----+----+----+-----+----+----+-----+------+-----+----+----+----+---+----+----+----+-----+----+-----+----+----+----+---+----+----+----+----+---+----+---+---+-----+----+----+----+----+----+----+----+----+----+----+----+----+----+----+----+----+----+---+----+-----+-----+----------+\n",
      "|day|month|year|    1|   2|    3|    4|    5|    6|    7|     8|  9|  10|  11|  12|  13|  14|  15|   16|  17|  18|  19|  20|   21|   22|   23|   24|   25|  26|  27|   28|  29|  30|   31|    32|   33|  34|  35|  36| 37|  38|  39|  40|   41|  42|   43|  44|  45|  46| 47|  48|  49|  50|  51| 52|  53| 54| 55|   56|  57|  58|  59|  60|  61|  62|  63|  64|  65|  66|  67|  68|  69|  70|  71|  72|  73| 74|  75|   76|   77|  datetime|\n",
      "+---+-----+----+-----+----+-----+-----+-----+-----+-----+------+---+----+----+----+----+----+----+-----+----+----+----+----+-----+-----+-----+-----+-----+----+----+-----+----+----+-----+------+-----+----+----+----+---+----+----+----+-----+----+-----+----+----+----+---+----+----+----+----+---+----+---+---+-----+----+----+----+----+----+----+----+----+----+----+----+----+----+----+----+----+----+---+----+-----+-----+----------+\n",
      "|  5|   10|2021|12199|9107|24884|10934|12710|62904|55515|180042|674|3314|3259|1323|3077|7226|7209|10819|2898|1116|8828|3030|11178|34577|10307|59723|14084|3590|5678|99556|8672|7147|12736|104048|24877|3684|7049|1553|824|6866|5464|3602|21490|8095|10986|8677|1848|3884|560|2047|6449|2113|2097|622|2949|898|326|15899|2444|4881|2795|5363|6014|1560|3048|1163|2742|5662|4618|5772|7720|3439|7108|1518|3534|550|2453|47198|16199|2021-10-05|\n",
      "|  2|    7|2021| 9005|7260|17397| 7642| 7999|47541|33715|117551|521|2660|2410|1168|1936|5671|5780| 8063|2010| 913|6787|2356| 7659|21888| 7997|36890|12275|3120|4611|53566|7252|5243| 8074| 64260|16000|3827|5687|1408|671|5674|3668|2866| 9282|5301| 9215|6354|1275|3264|461|1337|4831|1325|1588|472|2478|835|255|11814|1417|3425|1885|4057|4469|1062|2325| 917|2063|4523|3978|4877|6248|2526|5897|1059|2890|387|1875|36306|12384|2021-07-02|\n",
      "+---+-----+----+-----+----+-----+-----+-----+-----+-----+------+---+----+----+----+----+----+----+-----+----+----+----+----+-----+-----+-----+-----+-----+----+----+-----+----+----+-----+------+-----+----+----+----+---+----+----+----+-----+----+-----+----+----+----+---+----+----+----+----+---+----+---+---+-----+----+----+----+----+----+----+----+----+----+----+----+----+----+----+----+----+----+---+----+-----+-----+----------+\n",
      "only showing top 2 rows\n",
      "\n"
     ]
    },
    {
     "name": "stderr",
     "output_type": "stream",
     "text": [
      "                                                                                \r"
     ]
    }
   ],
   "source": [
    "from pyspark.sql.functions import concat_ws, to_date, lpad\n",
    "\n",
    "# pad the days and months with zeros for converting to datetime\n",
    "padded_month = lpad(pivoted_df[\"month\"], 2, \"0\")\n",
    "padded_day = lpad(pivoted_df[\"day\"], 2, \"0\")\n",
    "\n",
    "# concatenate columns and create datetime column for merging\n",
    "date_string_column = concat_ws(\"-\", pivoted_df[\"year\"], padded_month, padded_day)\n",
    "pivoted_df = pivoted_df.withColumn('datetime',F.to_date(date_string_column,'yyy-MM-dd'))\n",
    "pivoted_df.show(2)"
   ]
  },
  {
   "cell_type": "code",
   "execution_count": 13,
   "id": "4d80ab44-61f4-4ef0-9209-7c05710e9023",
   "metadata": {},
   "outputs": [
    {
     "name": "stderr",
     "output_type": "stream",
     "text": [
      "                                                                                \r"
     ]
    },
    {
     "name": "stdout",
     "output_type": "stream",
     "text": [
      "+---+-----+----+-----+----+-----+-----+-----+-----+-----+------+---+----+----+----+----+----+----+-----+----+----+----+----+-----+-----+-----+-----+-----+----+----+-----+----+----+-----+------+-----+----+----+----+---+----+----+----+-----+----+-----+----+----+----+---+----+----+----+----+---+----+---+---+-----+----+----+----+----+----+----+----+----+----+----+----+----+----+----+----+----+----+---+----+-----+-----+----------+---------+\n",
      "|day|month|year|    1|   2|    3|    4|    5|    6|    7|     8|  9|  10|  11|  12|  13|  14|  15|   16|  17|  18|  19|  20|   21|   22|   23|   24|   25|  26|  27|   28|  29|  30|   31|    32|   33|  34|  35|  36| 37|  38|  39|  40|   41|  42|   43|  44|  45|  46| 47|  48|  49|  50|  51| 52|  53| 54| 55|   56|  57|  58|  59|  60|  61|  62|  63|  64|  65|  66|  67|  68|  69|  70|  71|  72|  73| 74|  75|   76|   77|  datetime|area_sums|\n",
      "+---+-----+----+-----+----+-----+-----+-----+-----+-----+------+---+----+----+----+----+----+----+-----+----+----+----+----+-----+-----+-----+-----+-----+----+----+-----+----+----+-----+------+-----+----+----+----+---+----+----+----+-----+----+-----+----+----+----+---+----+----+----+----+---+----+---+---+-----+----+----+----+----+----+----+----+----+----+----+----+----+----+----+----+----+----+---+----+-----+-----+----------+---------+\n",
      "|  5|   10|2021|12199|9107|24884|10934|12710|62904|55515|180042|674|3314|3259|1323|3077|7226|7209|10819|2898|1116|8828|3030|11178|34577|10307|59723|14084|3590|5678|99556|8672|7147|12736|104048|24877|3684|7049|1553|824|6866|5464|3602|21490|8095|10986|8677|1848|3884|560|2047|6449|2113|2097|622|2949|898|326|15899|2444|4881|2795|5363|6014|1560|3048|1163|2742|5662|4618|5772|7720|3439|7108|1518|3534|550|2453|47198|16199|2021-10-05|    35049|\n",
      "|  2|    7|2021| 9005|7260|17397| 7642| 7999|47541|33715|117551|521|2660|2410|1168|1936|5671|5780| 8063|2010| 913|6787|2356| 7659|21888| 7997|36890|12275|3120|4611|53566|7252|5243| 8074| 64260|16000|3827|5687|1408|671|5674|3668|2866| 9282|5301| 9215|6354|1275|3264|461|1337|4831|1325|1588|472|2478|835|255|11814|1417|3425|1885|4057|4469|1062|2325| 917|2063|4523|3978|4877|6248|2526|5897|1059|2890|387|1875|36306|12384|2021-07-02|    18251|\n",
      "+---+-----+----+-----+----+-----+-----+-----+-----+-----+------+---+----+----+----+----+----+----+-----+----+----+----+----+-----+-----+-----+-----+-----+----+----+-----+----+----+-----+------+-----+----+----+----+---+----+----+----+-----+----+-----+----+----+----+---+----+----+----+----+---+----+---+---+-----+----+----+----+----+----+----+----+----+----+----+----+----+----+----+----+----+----+---+----+-----+-----+----------+---------+\n",
      "only showing top 2 rows\n",
      "\n"
     ]
    }
   ],
   "source": [
    "# create the program area sum column\n",
    "pivoted_df = pivoted_df.withColumn('area_sums', pivoted_df['39'] + pivoted_df['41'] + pivoted_df['42'])\n",
    "pivoted_df.show(2)"
   ]
  },
  {
   "cell_type": "code",
   "execution_count": 14,
   "id": "408996cf-b9ff-4f5c-b6c8-8a5211eb3a2c",
   "metadata": {},
   "outputs": [
    {
     "name": "stderr",
     "output_type": "stream",
     "text": [
      "                                                                                \r"
     ]
    },
    {
     "name": "stdout",
     "output_type": "stream",
     "text": [
      "+----------+-----+----+-----+----+-----+-----+-----+-----+-----+------+---+----+----+----+----+----+----+-----+----+----+----+----+-----+-----+-----+-----+-----+----+----+-----+----+----+-----+------+-----+----+----+----+---+----+----+-----+----+----+----+---+----+----+----+----+---+----+---+---+-----+----+----+----+----+----+----+----+----+----+----+----+----+----+----+----+----+----+---+----+-----+-----+---------+-------+----+------+----+---------+------+\n",
      "|  datetime|month|year|    1|   2|    3|    4|    5|    6|    7|     8|  9|  10|  11|  12|  13|  14|  15|   16|  17|  18|  19|  20|   21|   22|   23|   24|   25|  26|  27|   28|  29|  30|   31|    32|   33|  34|  35|  36| 37|  38|  40|   43|  44|  45|  46| 47|  48|  49|  50|  51| 52|  53| 54| 55|   56|  57|  58|  59|  60|  61|  62|  63|  64|  65|  66|  67|  68|  69|  70|  71|  72|  73| 74|  75|   76|   77|area_sums|   name|temp|precip|snow|snowdepth|sunset|\n",
      "+----------+-----+----+-----+----+-----+-----+-----+-----+-----+------+---+----+----+----+----+----+----+-----+----+----+----+----+-----+-----+-----+-----+-----+----+----+-----+----+----+-----+------+-----+----+----+----+---+----+----+-----+----+----+----+---+----+----+----+----+---+----+---+---+-----+----+----+----+----+----+----+----+----+----+----+----+----+----+----+----+----+----+---+----+-----+-----+---------+-------+----+------+----+---------+------+\n",
      "|2021-10-05|   10|2021|12199|9107|24884|10934|12710|62904|55515|180042|674|3314|3259|1323|3077|7226|7209|10819|2898|1116|8828|3030|11178|34577|10307|59723|14084|3590|5678|99556|8672|7147|12736|104048|24877|3684|7049|1553|824|6866|3602|10986|8677|1848|3884|560|2047|6449|2113|2097|622|2949|898|326|15899|2444|4881|2795|5363|6014|1560|3048|1163|2742|5662|4618|5772|7720|3439|7108|1518|3534|550|2453|47198|16199|    35049|chicago|66.6|   0.0| 0.0|      0.0|  1824|\n",
      "|2021-07-02|    7|2021| 9005|7260|17397| 7642| 7999|47541|33715|117551|521|2660|2410|1168|1936|5671|5780| 8063|2010| 913|6787|2356| 7659|21888| 7997|36890|12275|3120|4611|53566|7252|5243| 8074| 64260|16000|3827|5687|1408|671|5674|2866| 9215|6354|1275|3264|461|1337|4831|1325|1588|472|2478|835|255|11814|1417|3425|1885|4057|4469|1062|2325| 917|2063|4523|3978|4877|6248|2526|5897|1059|2890|387|1875|36306|12384|    18251|chicago|66.6|   0.0| 0.0|      0.0|  2029|\n",
      "+----------+-----+----+-----+----+-----+-----+-----+-----+-----+------+---+----+----+----+----+----+----+-----+----+----+----+----+-----+-----+-----+-----+-----+----+----+-----+----+----+-----+------+-----+----+----+----+---+----+----+-----+----+----+----+---+----+----+----+----+---+----+---+---+-----+----+----+----+----+----+----+----+----+----+----+----+----+----+----+----+----+----+---+----+-----+-----+---------+-------+----+------+----+---------+------+\n",
      "only showing top 2 rows\n",
      "\n"
     ]
    }
   ],
   "source": [
    "# Drop day and the community areas that were summed earlier, will use year and month in regression\n",
    "pivoted_df = pivoted_df.drop('day','39','41','42')\n",
    "\n",
    "df_weather = df_weather.withColumn('datetime', F.to_date('datetime', 'yyyy-MM-dd'))\n",
    "\n",
    "# Perform the left join with weather data\n",
    "merged_df = pivoted_df.join(df_weather, on='datetime', how='left')\n",
    "merged_df.show(2)"
   ]
  },
  {
   "cell_type": "code",
   "execution_count": 15,
   "id": "e325a6ba-0463-43db-8275-5708fb3817bc",
   "metadata": {},
   "outputs": [
    {
     "name": "stderr",
     "output_type": "stream",
     "text": [
      "                                                                                \r"
     ]
    },
    {
     "name": "stdout",
     "output_type": "stream",
     "text": [
      "+-----+----+-----+----+-----+-----+-----+-----+-----+------+---+----+----+----+----+----+----+-----+----+----+----+----+-----+-----+-----+-----+-----+----+----+-----+----+----+-----+------+-----+----+----+----+---+----+----+-----+----+----+----+---+----+----+----+----+---+----+---+---+-----+----+----+----+----+----+----+----+----+----+----+----+----+----+----+----+----+----+---+----+-----+-----+---------+----+------+----+---------+------+\n",
      "|month|year|    1|   2|    3|    4|    5|    6|    7|     8|  9|  10|  11|  12|  13|  14|  15|   16|  17|  18|  19|  20|   21|   22|   23|   24|   25|  26|  27|   28|  29|  30|   31|    32|   33|  34|  35|  36| 37|  38|  40|   43|  44|  45|  46| 47|  48|  49|  50|  51| 52|  53| 54| 55|   56|  57|  58|  59|  60|  61|  62|  63|  64|  65|  66|  67|  68|  69|  70|  71|  72|  73| 74|  75|   76|   77|area_sums|temp|precip|snow|snowdepth|sunset|\n",
      "+-----+----+-----+----+-----+-----+-----+-----+-----+------+---+----+----+----+----+----+----+-----+----+----+----+----+-----+-----+-----+-----+-----+----+----+-----+----+----+-----+------+-----+----+----+----+---+----+----+-----+----+----+----+---+----+----+----+----+---+----+---+---+-----+----+----+----+----+----+----+----+----+----+----+----+----+----+----+----+----+----+---+----+-----+-----+---------+----+------+----+---------+------+\n",
      "|    7|2021| 9005|7260|17397| 7642| 7999|47541|33715|117551|521|2660|2410|1168|1936|5671|5780| 8063|2010| 913|6787|2356| 7659|21888| 7997|36890|12275|3120|4611|53566|7252|5243| 8074| 64260|16000|3827|5687|1408|671|5674|2866| 9215|6354|1275|3264|461|1337|4831|1325|1588|472|2478|835|255|11814|1417|3425|1885|4057|4469|1062|2325| 917|2063|4523|3978|4877|6248|2526|5897|1059|2890|387|1875|36306|12384|    18251|66.6|   0.0| 0.0|      0.0|  2029|\n",
      "|   10|2021|12199|9107|24884|10934|12710|62904|55515|180042|674|3314|3259|1323|3077|7226|7209|10819|2898|1116|8828|3030|11178|34577|10307|59723|14084|3590|5678|99556|8672|7147|12736|104048|24877|3684|7049|1553|824|6866|3602|10986|8677|1848|3884|560|2047|6449|2113|2097|622|2949|898|326|15899|2444|4881|2795|5363|6014|1560|3048|1163|2742|5662|4618|5772|7720|3439|7108|1518|3534|550|2453|47198|16199|    35049|66.6|   0.0| 0.0|      0.0|  1824|\n",
      "+-----+----+-----+----+-----+-----+-----+-----+-----+------+---+----+----+----+----+----+----+-----+----+----+----+----+-----+-----+-----+-----+-----+----+----+-----+----+----+-----+------+-----+----+----+----+---+----+----+-----+----+----+----+---+----+----+----+----+---+----+---+---+-----+----+----+----+----+----+----+----+----+----+----+----+----+----+----+----+----+----+---+----+-----+-----+---------+----+------+----+---------+------+\n",
      "only showing top 2 rows\n",
      "\n"
     ]
    }
   ],
   "source": [
    "merged_df = merged_df.drop('datetime','name') #since no longer needed. \n",
    "merged_df.show(2)"
   ]
  },
  {
   "cell_type": "code",
   "execution_count": 16,
   "id": "a2e0d72f-0152-4cf8-83b4-777997cbac56",
   "metadata": {},
   "outputs": [
    {
     "name": "stderr",
     "output_type": "stream",
     "text": [
      "                                                                                \r"
     ]
    }
   ],
   "source": [
    "# write completed data to a GCS bucket so we don't have to rerun things\n",
    "merged_df.write.option(\"header\", \"true\").csv(\"gs://msca-bdp-student-gcs/bdp-rideshare-project/rideshare/processed_data/supervised_dataset_final.csv\")"
   ]
  },
  {
   "cell_type": "markdown",
   "id": "4e6dadc9-db41-4492-adaa-be633c0c4afa",
   "metadata": {},
   "source": [
    "# ML Model\n",
    "\n",
    "1. Create Datasets that are for data pre-program (Oct 2021) and for data between Oct 2021 up to not including july 2023.\n",
    "2. Get Cross Validated Model Running\n",
    "3. Train model on first dataset. predict for october, november, december 2021\n",
    "4. plot predictions (dotted line for predictions, solid line for actual)\n",
    "5. train new model on second dataset\n",
    "6. plot for july, \n"
   ]
  },
  {
   "cell_type": "code",
   "execution_count": 2,
   "id": "52bce528-7f87-4a2d-9e10-c764fefc2e52",
   "metadata": {},
   "outputs": [
    {
     "name": "stderr",
     "output_type": "stream",
     "text": [
      "                                                                                \r"
     ]
    }
   ],
   "source": [
    "# skip all the above and just run this line to get the final dataset loaded in to use with the ML model\n",
    "merged_df = spark.read.csv(\"gs://msca-bdp-student-gcs/bdp-rideshare-project/rideshare/processed_data/supervised_dataset_final.csv\", inferSchema=True, header=True)"
   ]
  },
  {
   "cell_type": "code",
   "execution_count": 38,
   "id": "fe839d92-0f0e-4b33-8a0a-a3e48ff8b0d7",
   "metadata": {},
   "outputs": [],
   "source": [
    "# this is the data for predicting the first policy change\n",
    "df_1 = merged_df.filter((merged_df.year < 2021) | ((merged_df.year == 2021) & (merged_df.month < 10))) \n",
    "# this is the data for predicting the second policy change\n",
    "df_2 = merged_df.filter(((merged_df.year == 2021) & (merged_df.month >= 10)) | (merged_df.year == 2022) | ((merged_df.year == 2023) & (merged_df.month < 7)))\n",
    "# this is the data after the second policy change\n",
    "df_3 = merged_df.filter(((merged_df.year == 2023) & (merged_df.month >= 7)))"
   ]
  },
  {
   "cell_type": "markdown",
   "id": "49227805-612c-4ff6-b714-74f2de65f556",
   "metadata": {},
   "source": [
    "## I'm trying to organize my thoughts about prediction here, hopefully this makes some sense.\n",
    "\n",
    "The way we've been thinking about this model is that it is predicting daily counts, so our predictions should be daily as well.\n",
    "So I think I should take the rows from df2 that are in 10,11,12 and make predictions for each one. put those in a dataframe. Group by month and summ predicted rides.\n",
    "Then take the actual sums from df2, group by month and sum. Plot those against each other\n",
    "\n",
    "I'm going to work on doing this without cross validation first, and then move to cross validation depending on time."
   ]
  },
  {
   "cell_type": "code",
   "execution_count": 19,
   "id": "975dadc7-cb0c-4e75-89fb-b73b8e7ba743",
   "metadata": {},
   "outputs": [],
   "source": [
    "from pyspark.ml.regression import LinearRegression\n",
    "from pyspark.ml.feature import StringIndexer,OneHotEncoder, IndexToString, VectorAssembler\n",
    "from pyspark.ml.feature import VectorAssembler\n",
    "from pyspark.sql.types import FloatType\n",
    "from pyspark.ml.evaluation import RegressionEvaluator\n",
    "from pyspark.ml.tuning import CrossValidator, ParamGridBuilder, CrossValidatorModel"
   ]
  },
  {
   "cell_type": "code",
   "execution_count": 40,
   "id": "ba889428-ef35-43d5-91d3-e49f1ef7bcad",
   "metadata": {},
   "outputs": [],
   "source": [
    "# make sure sunset is an integer so it works in the model\n",
    "df_1 = df_1.withColumn(\"sunset\", F.col(\"sunset\").cast(\"int\"))"
   ]
  },
  {
   "cell_type": "code",
   "execution_count": 41,
   "id": "8682ec74-9d84-454e-980c-074da8e08284",
   "metadata": {},
   "outputs": [],
   "source": [
    "df_2 = df_2.withColumn(\"sunset\", F.col(\"sunset\").cast(\"int\"))\n",
    "df_3 = df_3.withColumn(\"sunset\", F.col(\"sunset\").cast(\"int\"))"
   ]
  },
  {
   "cell_type": "markdown",
   "id": "47d25a14-27b8-4290-abe7-3e5d8411a739",
   "metadata": {},
   "source": [
    "This model will be for predicting the first policy change using df_1"
   ]
  },
  {
   "cell_type": "code",
   "execution_count": 26,
   "id": "e0b37ea7-3f52-4698-8d63-114d69164046",
   "metadata": {},
   "outputs": [],
   "source": [
    "# input features are everythin but the area_sums column which is what we are trying to predict\n",
    "input_features = ['month','year','1','2','3','4','5','6','7','8', '9', '10', '11', '12', '13', '14', '15', '16', '17', '18', '19', '20','21','22','23','24','25',\n",
    " '26','27','28','29','30','31','32','33','34','35','36','37','38','40','43','44','45','46','47','48','49','50','51','52','53','54','55','56','57','58','59','60','61','62','63','64','65','66',\n",
    " '67','68','69','70','71','72','73','74','75','76','77','temp','precip','snow','snowdepth','sunset']\n",
    "\n",
    "# adding the handleInvalid = 'skip' allows this to run- double check what it is doing\n",
    "vectorAssembler = VectorAssembler(inputCols=input_features,\n",
    "                                  outputCol=\"features\", handleInvalid='skip')\n",
    "#df = vectorAssembler.transform(merged_df)\n",
    "#df.show(5)\n",
    "#train_df, test_df =  df.randomSplit([0.7, 0.3],0.0)\n",
    "\n",
    "# splitting first and then doing vector assembly to avoid errors\n",
    "train_df, test_df = df_1.randomSplit([.7,.3],seed=1234)\n",
    "\n",
    "# originally harsh had the vector assembler transforming merged_df which I think was a mistake\n",
    "train_df = vectorAssembler.transform(train_df)\n",
    "test_df = vectorAssembler.transform(test_df)"
   ]
  },
  {
   "cell_type": "code",
   "execution_count": 27,
   "id": "bd8be7aa-1cc7-4753-bf08-6142797364c3",
   "metadata": {},
   "outputs": [
    {
     "name": "stderr",
     "output_type": "stream",
     "text": [
      "23/11/26 00:20:31 WARN com.github.fommil.netlib.BLAS: Failed to load implementation from: com.github.fommil.netlib.NativeSystemBLAS\n",
      "23/11/26 00:20:31 WARN com.github.fommil.netlib.BLAS: Failed to load implementation from: com.github.fommil.netlib.NativeRefBLAS\n",
      "                                                                                \r"
     ]
    },
    {
     "name": "stdout",
     "output_type": "stream",
     "text": [
      "Coefficients: [-141.17821491897232,-745.3452416033055,0.04069589047839324,0.10523630495219816,0.002416215491090195,0.025009680242684473,0.015991560747858,-0.000809268481126041,-0.0003083326046310907,0.001719524462734702,-0.34154509015643614,-0.08238655427681342,-0.0,-0.0,0.779895783342685,0.05086694893622908,0.025653865341783114,0.024961895150708617,0.19582968856485264,0.2782530128506548,0.05452784089546298,0.17385879886338018,0.0187564547338862,0.003440291549253111,0.050322500767793425,0.0028592082630942497,-0.025445117595504444,0.0,0.14513263303240942,0.010301942556421948,0.02382458946533733,0.13529300450184567,0.0461338629846489,0.009441369903795505,0.01915890689447327,0.030501308888032312,0.16639747544742067,0.372961105529036,1.0630578240307724,0.15210946145832405,0.3574990068792217,-0.009678684217525414,0.05007541974459699,0.3291731701458939,-0.13681731725138238,1.8145586373952591,0.17587067975956647,0.10694274072585269,1.1307091745949909,-0.32397755445680976,0.7275761869829841,0.0,-4.3914935300680344,2.803775923420458,0.06630059546553475,0.6118236814711749,0.2231250018854385,0.3552694333131243,0.11002835175648276,0.19352160818980538,0.5766994392678659,0.34223581743721654,0.22754882093817158,0.3015178177562475,0.06567033036361472,0.05159515210734938,0.14042357457635468,0.05271453557563555,0.36247842456150564,0.0,-0.5013060546057359,0.10421665258028001,-0.4851376212929765,-0.03691767085960801,0.029653477467609077,0.014410898627229617,-18.758338427871184,534.5990989483481,1413.626713599575,-197.24250326523736,1.094024899581077]\n",
      "Intercept: 1502177.818453082\n",
      "RMSE: 3547.182496\n",
      "r2: 0.965341\n"
     ]
    },
    {
     "name": "stderr",
     "output_type": "stream",
     "text": [
      "[Stage 448:====================================================>  (19 + 1) / 20]\r"
     ]
    },
    {
     "name": "stdout",
     "output_type": "stream",
     "text": [
      "+----------------------------------------------------------------------------------------------------------------------------------------------------------------------------------------------------------------------------------------------------------------------------------------------------------------------------------------------------------------------------------------------------------------------------------------------------------------------------------------------------------------------------------------------------------------------------------------------------------------------------+---------+------------------+\n",
      "|features                                                                                                                                                                                                                                                                                                                                                                                                                                                                                                                                                                                                                    |area_sums|prediction        |\n",
      "+----------------------------------------------------------------------------------------------------------------------------------------------------------------------------------------------------------------------------------------------------------------------------------------------------------------------------------------------------------------------------------------------------------------------------------------------------------------------------------------------------------------------------------------------------------------------------------------------------------------------------+---------+------------------+\n",
      "|[7.0,2021.0,9005.0,7260.0,17397.0,7642.0,7999.0,47541.0,33715.0,117551.0,521.0,2660.0,2410.0,1168.0,1936.0,5671.0,5780.0,8063.0,2010.0,913.0,6787.0,2356.0,7659.0,21888.0,7997.0,36890.0,12275.0,3120.0,4611.0,53566.0,7252.0,5243.0,8074.0,64260.0,16000.0,3827.0,5687.0,1408.0,671.0,5674.0,2866.0,9215.0,6354.0,1275.0,3264.0,461.0,1337.0,4831.0,1325.0,1588.0,472.0,2478.0,835.0,255.0,11814.0,1417.0,3425.0,1885.0,4057.0,4469.0,1062.0,2325.0,917.0,2063.0,4523.0,3978.0,4877.0,6248.0,2526.0,5897.0,1059.0,2890.0,387.0,1875.0,36306.0,12384.0,66.6,0.0,0.0,0.0,2029.0]                                             |18251    |18633.118334107567|\n",
      "|[11.0,2019.0,31301.0,20571.0,72163.0,34279.0,40909.0,214270.0,184080.0,553240.0,2052.0,7234.0,7293.0,3814.0,6445.0,18618.0,17940.0,30061.0,6311.0,2393.0,20390.0,8016.0,35837.0,124274.0,24830.0,210548.0,28231.0,7284.0,12059.0,313372.0,18903.0,17359.0,40780.0,317356.0,55213.0,15558.0,19109.0,3502.0,2606.0,16664.0,8029.0,23451.0,19175.0,3615.0,8133.0,1312.0,3933.0,13494.0,3497.0,3799.0,1276.0,5579.0,1630.0,890.0,32696.0,5663.0,12046.0,7249.0,17380.0,14692.0,4072.0,8155.0,3444.0,6762.0,13198.0,10621.0,12938.0,17027.0,7086.0,15616.0,3550.0,7423.0,1570.0,4810.0,77674.0,44762.0,40.4,0.003,0.0,0.0,1638.0]|82642    |77658.68311885605 |\n",
      "|[11.0,2018.0,24441.0,15075.0,52214.0,23778.0,26500.0,177030.0,132956.0,359952.0,1817.0,5422.0,4540.0,2236.0,3735.0,14001.0,12197.0,21433.0,4340.0,1529.0,13116.0,5356.0,25214.0,92699.0,15159.0,143693.0,16025.0,3772.0,6588.0,157780.0,8952.0,10114.0,25784.0,161527.0,60265.0,12294.0,12096.0,2217.0,1700.0,10215.0,4856.0,14280.0,9544.0,1864.0,4154.0,488.0,2166.0,6643.0,1346.0,1924.0,676.0,2827.0,796.0,276.0,26145.0,2801.0,7425.0,4322.0,11516.0,8106.0,2490.0,4856.0,2313.0,4084.0,7322.0,5504.0,6204.0,8881.0,3517.0,8240.0,2502.0,3849.0,1464.0,2712.0,56067.0,33937.0,49.6,0.0,0.0,0.0,1744.0]                 |48053    |45113.59325499227 |\n",
      "|[4.0,2021.0,13500.0,8516.0,26863.0,12093.0,13898.0,110488.0,87020.0,200307.0,1233.0,3432.0,3362.0,1559.0,2317.0,7982.0,8325.0,12108.0,2869.0,1202.0,9252.0,3202.0,11952.0,44393.0,11736.0,87212.0,18243.0,4644.0,6120.0,86325.0,9252.0,6761.0,13300.0,68326.0,20362.0,4862.0,6875.0,1657.0,924.0,7051.0,3768.0,12655.0,9209.0,1773.0,4661.0,605.0,1917.0,6639.0,1833.0,2033.0,553.0,3401.0,1073.0,257.0,7300.0,1808.0,4263.0,2628.0,5369.0,6158.0,1565.0,3205.0,1223.0,2857.0,6542.0,5606.0,6420.0,8774.0,2882.0,8396.0,1621.0,3721.0,696.0,2779.0,17087.0,18032.0,70.4,0.0,0.0,0.0,1923.0]                                 |25550    |24605.566335394047|\n",
      "|[9.0,2019.0,19539.0,13004.0,39713.0,20213.0,25689.0,127372.0,112930.0,355301.0,1189.0,4628.0,4699.0,2400.0,5147.0,11212.0,10800.0,19062.0,4815.0,1505.0,12736.0,4831.0,21310.0,68785.0,15359.0,123804.0,17553.0,4304.0,8337.0,211111.0,12235.0,11235.0,23736.0,244834.0,52115.0,9774.0,14359.0,2475.0,1710.0,11178.0,5128.0,14788.0,11767.0,2449.0,4980.0,875.0,2536.0,8806.0,2437.0,2584.0,913.0,3575.0,829.0,568.0,28341.0,4058.0,7966.0,4721.0,11188.0,9751.0,2651.0,4954.0,2468.0,4630.0,8627.0,6540.0,8567.0,10951.0,4686.0,9570.0,2237.0,4867.0,870.0,2990.0,72793.0,26796.0,64.9,0.0,0.0,0.0,1917.0]                 |46530    |53888.15131104388 |\n",
      "+----------------------------------------------------------------------------------------------------------------------------------------------------------------------------------------------------------------------------------------------------------------------------------------------------------------------------------------------------------------------------------------------------------------------------------------------------------------------------------------------------------------------------------------------------------------------------------------------------------------------------+---------+------------------+\n",
      "only showing top 5 rows\n",
      "\n"
     ]
    },
    {
     "name": "stderr",
     "output_type": "stream",
     "text": [
      "                                                                                \r"
     ]
    }
   ],
   "source": [
    "train_df = train_df.na.drop()  # Remove rows with null values\n",
    "\n",
    "# Train Model\n",
    "from pyspark.ml.regression import LinearRegression\n",
    "\n",
    "#Elastic Net\n",
    "lr = LinearRegression(featuresCol = 'features', labelCol='area_sums', regParam=0.3, elasticNetParam=0.8, maxIter=10)\n",
    "lrm = lr.fit(train_df)\n",
    "\n",
    "#coefficients\n",
    "print(\"Coefficients: \" + str(lrm.coefficients))\n",
    "print(\"Intercept: \" + str(lrm.intercept))\n",
    "\n",
    "#model summary\n",
    "print(\"RMSE: %f\" % lrm.summary.rootMeanSquaredError)\n",
    "print(\"r2: %f\" % lrm.summary.r2)\n",
    "\n",
    "# Run the classifier on the test set\n",
    "predictions = lrm.transform(test_df)\n",
    "predictions.select('features','area_sums','prediction').show(5,truncate=False)"
   ]
  },
  {
   "cell_type": "code",
   "execution_count": 29,
   "id": "e904f1bc-2143-439c-a6fd-e30ef8cfac28",
   "metadata": {},
   "outputs": [
    {
     "name": "stderr",
     "output_type": "stream",
     "text": [
      "                                                                                \r"
     ]
    },
    {
     "name": "stdout",
     "output_type": "stream",
     "text": [
      "RMSE: 4090.238\n"
     ]
    },
    {
     "name": "stderr",
     "output_type": "stream",
     "text": [
      "                                                                                \r"
     ]
    },
    {
     "name": "stdout",
     "output_type": "stream",
     "text": [
      "MSE: 16730047.318\n"
     ]
    },
    {
     "name": "stderr",
     "output_type": "stream",
     "text": [
      "                                                                                \r"
     ]
    },
    {
     "name": "stdout",
     "output_type": "stream",
     "text": [
      "MAE: 3102.571\n"
     ]
    },
    {
     "name": "stderr",
     "output_type": "stream",
     "text": [
      "[Stage 538:===================================================> (392 + 8) / 400]\r"
     ]
    },
    {
     "name": "stdout",
     "output_type": "stream",
     "text": [
      "r2: 0.950\n"
     ]
    },
    {
     "name": "stderr",
     "output_type": "stream",
     "text": [
      "                                                                                \r"
     ]
    }
   ],
   "source": [
    "#print evaluation metrics\n",
    "e = RegressionEvaluator(labelCol='area_sums', predictionCol= 'prediction', metricName= 'rmse')\n",
    "\n",
    "# Root Mean Square Error\n",
    "rmse = e.evaluate(predictions)\n",
    "print(\"RMSE: %.3f\" % rmse)\n",
    "\n",
    "# Mean Square Error\n",
    "mse = e.evaluate(predictions, {e.metricName: \"mse\"})\n",
    "print(\"MSE: %.3f\" % mse)\n",
    "\n",
    "# Mean Absolute Error\n",
    "mae = e.evaluate(predictions, {e.metricName: \"mae\"})\n",
    "print(\"MAE: %.3f\" % mae)\n",
    "\n",
    "# r2 - coefficient of determination\n",
    "r2 = e.evaluate(predictions, {e.metricName: \"r2\"})\n",
    "print(\"r2: %.3f\" %r2)"
   ]
  },
  {
   "cell_type": "code",
   "execution_count": 30,
   "id": "296059d9-78af-4ac7-b53a-eee5fad98434",
   "metadata": {},
   "outputs": [
    {
     "name": "stderr",
     "output_type": "stream",
     "text": [
      "                                                                                \r"
     ]
    }
   ],
   "source": [
    "# save model\n",
    "model_path = \"gs://msca-bdp-student-gcs/bdp-rideshare-project/models/pre_program_model\"\n",
    "lrm.save(model_path)"
   ]
  },
  {
   "cell_type": "code",
   "execution_count": 42,
   "id": "8fecbaee-05af-4446-8809-89207ec651c4",
   "metadata": {},
   "outputs": [
    {
     "name": "stderr",
     "output_type": "stream",
     "text": [
      "                                                                                \r"
     ]
    },
    {
     "name": "stdout",
     "output_type": "stream",
     "text": [
      "+-----+----+-----+-----+-----+-----+-----+-----+-----+------+----+----+----+----+----+----+----+-----+----+----+-----+----+-----+-----+-----+-----+-----+----+----+------+-----+----+-----+------+-----+----+----+----+----+----+----+-----+-----+----+----+---+----+----+----+----+---+----+----+---+-----+----+----+----+----+----+----+----+----+----+----+----+----+-----+----+-----+----+----+---+----+-----+-----+---------+----+------+----+---------+------+--------------------+------------------+\n",
      "|month|year|    1|    2|    3|    4|    5|    6|    7|     8|   9|  10|  11|  12|  13|  14|  15|   16|  17|  18|   19|  20|   21|   22|   23|   24|   25|  26|  27|    28|   29|  30|   31|    32|   33|  34|  35|  36|  37|  38|  40|   43|   44|  45|  46| 47|  48|  49|  50|  51| 52|  53|  54| 55|   56|  57|  58|  59|  60|  61|  62|  63|  64|  65|  66|  67|  68|   69|  70|   71|  72|  73| 74|  75|   76|   77|area_sums|temp|precip|snow|snowdepth|sunset|            features|        prediction|\n",
      "+-----+----+-----+-----+-----+-----+-----+-----+-----+------+----+----+----+----+----+----+----+-----+----+----+-----+----+-----+-----+-----+-----+-----+----+----+------+-----+----+-----+------+-----+----+----+----+----+----+----+-----+-----+----+----+---+----+----+----+----+---+----+----+---+-----+----+----+----+----+----+----+----+----+----+----+----+----+-----+----+-----+----+----+---+----+-----+-----+---------+----+------+----+---------+------+--------------------+------------------+\n",
      "|   10|2021|12199| 9107|24884|10934|12710|62904|55515|180042| 674|3314|3259|1323|3077|7226|7209|10819|2898|1116| 8828|3030|11178|34577|10307|59723|14084|3590|5678| 99556| 8672|7147|12736|104048|24877|3684|7049|1553| 824|6866|3602|10986| 8677|1848|3884|560|2047|6449|2113|2097|622|2949| 898|326|15899|2444|4881|2795|5363|6014|1560|3048|1163|2742|5662|4618|5772| 7720|3439| 7108|1518|3534|550|2453|47198|16199|    35049|66.6|   0.0| 0.0|      0.0|  1824|[10.0,2021.0,1219...|27790.442290805047|\n",
      "|   12|2021|15334|11839|30581|14637|15938|84279|72666|232096|1016|4185|4262|1698|3693|9655|9731|14002|3570|1432|11428|4051|14444|44767|13778|75868|19517|4816|7073|118158|11234|9203|17681|126362|27419|5278|9174|2017|1188|9343|4944|14861|11699|2349|5020|848|2660|8718|2824|2832|644|4265|1237|468|17543|3150|6327|3647|6606|7771|2008|4083|1536|3817|7780|6562|8032|10688|4158|10085|1988|4732|744|3144|54636|21202|    44651|38.5| 0.193| 0.0|      0.0|  1619|[12.0,2021.0,1533...| 37059.28123582038|\n",
      "+-----+----+-----+-----+-----+-----+-----+-----+-----+------+----+----+----+----+----+----+----+-----+----+----+-----+----+-----+-----+-----+-----+-----+----+----+------+-----+----+-----+------+-----+----+----+----+----+----+----+-----+-----+----+----+---+----+----+----+----+---+----+----+---+-----+----+----+----+----+----+----+----+----+----+----+----+----+-----+----+-----+----+----+---+----+-----+-----+---------+----+------+----+---------+------+--------------------+------------------+\n",
      "only showing top 2 rows\n",
      "\n"
     ]
    },
    {
     "name": "stderr",
     "output_type": "stream",
     "text": [
      "[Stage 892:================================================>   (564 + 32) / 600]\r"
     ]
    },
    {
     "name": "stdout",
     "output_type": "stream",
     "text": [
      "+-----+----+-----+-----+-----+-----+-----+-----+-----+------+----+----+----+----+----+----+----+-----+----+----+-----+----+-----+-----+-----+-----+-----+----+----+------+-----+----+-----+------+-----+----+----+----+----+----+----+-----+-----+----+----+---+----+----+----+----+---+----+----+---+-----+----+----+----+----+----+----+----+----+----+----+----+----+-----+----+-----+----+----+---+----+-----+-----+---------+----+------+----+---------+------+\n",
      "|month|year|    1|    2|    3|    4|    5|    6|    7|     8|   9|  10|  11|  12|  13|  14|  15|   16|  17|  18|   19|  20|   21|   22|   23|   24|   25|  26|  27|    28|   29|  30|   31|    32|   33|  34|  35|  36|  37|  38|  40|   43|   44|  45|  46| 47|  48|  49|  50|  51| 52|  53|  54| 55|   56|  57|  58|  59|  60|  61|  62|  63|  64|  65|  66|  67|  68|   69|  70|   71|  72|  73| 74|  75|   76|   77|area_sums|temp|precip|snow|snowdepth|sunset|\n",
      "+-----+----+-----+-----+-----+-----+-----+-----+-----+------+----+----+----+----+----+----+----+-----+----+----+-----+----+-----+-----+-----+-----+-----+----+----+------+-----+----+-----+------+-----+----+----+----+----+----+----+-----+-----+----+----+---+----+----+----+----+---+----+----+---+-----+----+----+----+----+----+----+----+----+----+----+----+----+-----+----+-----+----+----+---+----+-----+-----+---------+----+------+----+---------+------+\n",
      "|   10|2021|12199| 9107|24884|10934|12710|62904|55515|180042| 674|3314|3259|1323|3077|7226|7209|10819|2898|1116| 8828|3030|11178|34577|10307|59723|14084|3590|5678| 99556| 8672|7147|12736|104048|24877|3684|7049|1553| 824|6866|3602|10986| 8677|1848|3884|560|2047|6449|2113|2097|622|2949| 898|326|15899|2444|4881|2795|5363|6014|1560|3048|1163|2742|5662|4618|5772| 7720|3439| 7108|1518|3534|550|2453|47198|16199|    35049|66.6|   0.0| 0.0|      0.0|  1824|\n",
      "|   12|2021|15334|11839|30581|14637|15938|84279|72666|232096|1016|4185|4262|1698|3693|9655|9731|14002|3570|1432|11428|4051|14444|44767|13778|75868|19517|4816|7073|118158|11234|9203|17681|126362|27419|5278|9174|2017|1188|9343|4944|14861|11699|2349|5020|848|2660|8718|2824|2832|644|4265|1237|468|17543|3150|6327|3647|6606|7771|2008|4083|1536|3817|7780|6562|8032|10688|4158|10085|1988|4732|744|3144|54636|21202|    44651|38.5| 0.193| 0.0|      0.0|  1619|\n",
      "+-----+----+-----+-----+-----+-----+-----+-----+-----+------+----+----+----+----+----+----+----+-----+----+----+-----+----+-----+-----+-----+-----+-----+----+----+------+-----+----+-----+------+-----+----+----+----+----+----+----+-----+-----+----+----+---+----+----+----+----+---+----+----+---+-----+----+----+----+----+----+----+----+----+----+----+----+----+-----+----+-----+----+----+---+----+-----+-----+---------+----+------+----+---------+------+\n",
      "only showing top 2 rows\n",
      "\n"
     ]
    },
    {
     "name": "stderr",
     "output_type": "stream",
     "text": [
      "                                                                                \r"
     ]
    }
   ],
   "source": [
    "# dataframe that is the true counts\n",
    "df_real = df_2.filter(df_2.year == 2021)\n",
    "\n",
    "# take the real data and create predictions to compare\n",
    "df_real_vector = vectorAssembler.transform(df_real)\n",
    "df_first_predictions = lrm.transform(df_real_vector)\n",
    "\n",
    "df_first_predictions.show(2)\n",
    "df_real.show(2)"
   ]
  },
  {
   "cell_type": "code",
   "execution_count": 43,
   "id": "0c752d74-61ab-4c16-a1f6-62a5eebd3963",
   "metadata": {},
   "outputs": [],
   "source": [
    "# now group by month and sum counts and plot\n",
    "monthly_real = df_real.groupBy('month').sum('area_sums')\n",
    "monthly_first_preds = df_first_predictions.groupby('month').sum('prediction')"
   ]
  },
  {
   "cell_type": "code",
   "execution_count": 47,
   "id": "8dacd81e-05ea-4243-8370-b6b6b56fd75a",
   "metadata": {},
   "outputs": [
    {
     "name": "stderr",
     "output_type": "stream",
     "text": [
      "                                                                                \r"
     ]
    },
    {
     "data": {
      "text/html": [
       "<div>\n",
       "<style scoped>\n",
       "    .dataframe tbody tr th:only-of-type {\n",
       "        vertical-align: middle;\n",
       "    }\n",
       "\n",
       "    .dataframe tbody tr th {\n",
       "        vertical-align: top;\n",
       "    }\n",
       "\n",
       "    .dataframe thead th {\n",
       "        text-align: right;\n",
       "    }\n",
       "</style>\n",
       "<table border=\"1\" class=\"dataframe\">\n",
       "  <thead>\n",
       "    <tr style=\"text-align: right;\">\n",
       "      <th></th>\n",
       "      <th>month</th>\n",
       "      <th>sum(area_sums)</th>\n",
       "      <th>sum(prediction)</th>\n",
       "    </tr>\n",
       "  </thead>\n",
       "  <tbody>\n",
       "    <tr>\n",
       "      <th>0</th>\n",
       "      <td>12</td>\n",
       "      <td>258103</td>\n",
       "      <td>207578.423603</td>\n",
       "    </tr>\n",
       "    <tr>\n",
       "      <th>1</th>\n",
       "      <td>10</td>\n",
       "      <td>265236</td>\n",
       "      <td>210299.350589</td>\n",
       "    </tr>\n",
       "    <tr>\n",
       "      <th>2</th>\n",
       "      <td>11</td>\n",
       "      <td>275975</td>\n",
       "      <td>201316.311757</td>\n",
       "    </tr>\n",
       "  </tbody>\n",
       "</table>\n",
       "</div>"
      ],
      "text/plain": [
       "   month  sum(area_sums)  sum(prediction)\n",
       "0     12          258103    207578.423603\n",
       "1     10          265236    210299.350589\n",
       "2     11          275975    201316.311757"
      ]
     },
     "execution_count": 47,
     "metadata": {},
     "output_type": "execute_result"
    }
   ],
   "source": [
    "monthly_real_pd = monthly_real.toPandas()\n",
    "monthly_first_preds_pd = monthly_first_preds.toPandas()\n",
    "combined_df = monthly_real_pd.merge(monthly_first_preds_pd, left_on='month', right_on='month', how='inner')\n",
    "combined_df"
   ]
  },
  {
   "cell_type": "code",
   "execution_count": 48,
   "id": "cd3da028-b75d-4145-ac69-3caa69704db7",
   "metadata": {},
   "outputs": [
    {
     "data": {
      "text/plain": [
       "<AxesSubplot:xlabel='month'>"
      ]
     },
     "execution_count": 48,
     "metadata": {},
     "output_type": "execute_result"
    },
    {
     "data": {
      "image/png": "[encoded data removed]",
      "text/plain": [
       "<Figure size 640x480 with 1 Axes>"
      ]
     },
     "metadata": {},
     "output_type": "display_data"
    }
   ],
   "source": [
    "combined_df.columns = ['month','actual_post_policy','predicted_without_policy']\n",
    "combined_df = combined_df.sort_values(by=['month']).set_index('month')\n",
    "combined_df.plot(kind='line')"
   ]
  },
  {
   "cell_type": "markdown",
   "id": "f911d2a0-a7d4-4ebd-8bdf-f40b7d50ca7f",
   "metadata": {},
   "source": [
    "Next is the second policy change to 7 rides of 10 dollars in 2022"
   ]
  },
  {
   "cell_type": "code",
   "execution_count": 50,
   "id": "c1994d2c-ca99-4b65-91c6-57fbeee7f2a4",
   "metadata": {},
   "outputs": [],
   "source": [
    "# adding the handleInvalid = 'skip' allows this to run- double check what it is doing\n",
    "vectorAssembler = VectorAssembler(inputCols=input_features,\n",
    "                                  outputCol=\"features\", handleInvalid='skip')\n",
    "\n",
    "# splitting first and then doing vector assembly to avoid errors\n",
    "train_df, test_df = df_2.randomSplit([.7,.3],seed=1234)\n",
    "\n",
    "# originally harsh had the vector assembler transforming merged_df which I think was a mistake\n",
    "train_df = vectorAssembler.transform(train_df)\n",
    "test_df = vectorAssembler.transform(test_df)"
   ]
  },
  {
   "cell_type": "code",
   "execution_count": 51,
   "id": "303cf0e0-f2af-4a84-bdf4-98ec84046c1e",
   "metadata": {},
   "outputs": [
    {
     "name": "stderr",
     "output_type": "stream",
     "text": [
      "                                                                                ]\r"
     ]
    },
    {
     "name": "stdout",
     "output_type": "stream",
     "text": [
      "Coefficients: [-217.34093676028456,1578.480812555171,0.5537942505135528,0.062080882287470274,0.03118791057209453,0.0746681159031738,0.036376208836090634,-0.0013722080654734968,0.0031201423180575566,-0.0014115479528669977,-0.49732250406216444,-0.13616525364015059,0.410592256809017,-0.9702291764676397,1.6554338324869962,0.13647510986857794,0.14239425694967234,0.07276673041681377,0.07688233314150066,0.5481713121277239,0.07727026195361791,0.2571312316898789,0.07029743643850779,0.014518759690937135,0.07243090130519246,0.0026475035032199976,0.07445054051041215,0.33409007019994763,0.21356579199400424,0.010553094784998544,-0.016908040264507998,0.13391110120468358,0.07456021110309917,-0.0035608334233764786,-0.006186040779805305,-0.03033246856426237,-0.5088825212553649,-1.8384196499638998,1.3896041569375672,-0.0,0.31416388620658353,0.13970873112685042,0.16015505985305448,-0.11223977048607371,0.3920010021748861,1.2457638390022423,-0.08761068454762237,0.19243817040700043,0.3077046392950376,0.5080466928030754,-2.239813504731119,0.4562449568458568,2.6740159264962187,2.906894795490214,0.033187424583189684,0.1370322863937649,0.11931712236367185,0.2349254828878703,0.01025824491620768,-0.03861836327340833,-0.7297678258284158,-0.08977684132400188,-0.45683460927084374,-0.23191212747963358,0.056968009822920405,0.2599042680686446,0.2713364919932726,0.16094930470813487,0.25920263791400067,0.14672061954464297,-1.4421085407069856,0.02171346269475358,0.18846555266464746,0.3915217762275989,0.027417483220527512,0.05709267632223363,-41.2056332525515,5571.518111892086,18.525326365068025,1357.3950332795182,1.9281593434528261]\n",
      "Intercept: -3192679.1584404353\n",
      "RMSE: 5061.244492\n",
      "r2: 0.853017\n"
     ]
    },
    {
     "name": "stderr",
     "output_type": "stream",
     "text": [
      "                                                                                \r"
     ]
    },
    {
     "name": "stdout",
     "output_type": "stream",
     "text": [
      "+-------------------------------------------------------------------------------------------------------------------------------------------------------------------------------------------------------------------------------------------------------------------------------------------------------------------------------------------------------------------------------------------------------------------------------------------------------------------------------------------------------------------------------------------------------------------------------------------------------+---------+-----------------+\n",
      "|features                                                                                                                                                                                                                                                                                                                                                                                                                                                                                                                                                                                               |area_sums|prediction       |\n",
      "+-------------------------------------------------------------------------------------------------------------------------------------------------------------------------------------------------------------------------------------------------------------------------------------------------------------------------------------------------------------------------------------------------------------------------------------------------------------------------------------------------------------------------------------------------------------------------------------------------------+---------+-----------------+\n",
      "|[10.0,2021.0,12199.0,9107.0,24884.0,10934.0,12710.0,62904.0,55515.0,180042.0,674.0,3314.0,3259.0,1323.0,3077.0,7226.0,7209.0,10819.0,2898.0,1116.0,8828.0,3030.0,11178.0,34577.0,10307.0,59723.0,14084.0,3590.0,5678.0,99556.0,8672.0,7147.0,12736.0,104048.0,24877.0,3684.0,7049.0,1553.0,824.0,6866.0,3602.0,10986.0,8677.0,1848.0,3884.0,560.0,2047.0,6449.0,2113.0,2097.0,622.0,2949.0,898.0,326.0,15899.0,2444.0,4881.0,2795.0,5363.0,6014.0,1560.0,3048.0,1163.0,2742.0,5662.0,4618.0,5772.0,7720.0,3439.0,7108.0,1518.0,3534.0,550.0,2453.0,47198.0,16199.0,66.6,0.0,0.0,0.0,1824.0]            |35049    |36155.24312346475|\n",
      "|[5.0,2022.0,17302.0,10504.0,41467.0,17711.0,21337.0,149196.0,115617.0,325139.0,1709.0,4991.0,4437.0,2222.0,3102.0,10479.0,10187.0,17046.0,3773.0,1500.0,11274.0,4011.0,18070.0,66516.0,12716.0,112921.0,16796.0,4269.0,6324.0,135076.0,8657.0,8241.0,24360.0,141404.0,49033.0,12462.0,9371.0,1822.0,1172.0,8271.0,5041.0,12605.0,9392.0,1964.0,4288.0,572.0,2034.0,6706.0,1676.0,2233.0,677.0,3726.0,979.0,344.0,13677.0,2385.0,5182.0,3188.0,8379.0,6498.0,1899.0,3368.0,1688.0,3483.0,6736.0,5235.0,6157.0,8949.0,3413.0,8445.0,2252.0,3985.0,932.0,2861.0,38306.0,24753.0,55.9,0.0,0.0,0.0,1955.0]  |54875    |47005.3645400377 |\n",
      "|[12.0,2021.0,15334.0,11839.0,30581.0,14637.0,15938.0,84279.0,72666.0,232096.0,1016.0,4185.0,4262.0,1698.0,3693.0,9655.0,9731.0,14002.0,3570.0,1432.0,11428.0,4051.0,14444.0,44767.0,13778.0,75868.0,19517.0,4816.0,7073.0,118158.0,11234.0,9203.0,17681.0,126362.0,27419.0,5278.0,9174.0,2017.0,1188.0,9343.0,4944.0,14861.0,11699.0,2349.0,5020.0,848.0,2660.0,8718.0,2824.0,2832.0,644.0,4265.0,1237.0,468.0,17543.0,3150.0,6327.0,3647.0,6606.0,7771.0,2008.0,4083.0,1536.0,3817.0,7780.0,6562.0,8032.0,10688.0,4158.0,10085.0,1988.0,4732.0,744.0,3144.0,54636.0,21202.0,38.5,0.193,0.0,0.0,1619.0]|44651    |50539.29755615583|\n",
      "|[12.0,2021.0,11030.0,8798.0,22502.0,9729.0,10909.0,54911.0,44628.0,150773.0,636.0,2999.0,3138.0,1292.0,2647.0,7134.0,7151.0,10014.0,2514.0,999.0,8570.0,2931.0,10060.0,28673.0,9890.0,47390.0,13852.0,3306.0,4965.0,79970.0,8147.0,7049.0,11133.0,90970.0,19143.0,3575.0,6627.0,1462.0,813.0,6489.0,3470.0,10615.0,8189.0,1696.0,3625.0,563.0,1850.0,6121.0,1968.0,1994.0,542.0,2914.0,839.0,348.0,11601.0,2223.0,4611.0,2586.0,4799.0,5586.0,1512.0,3023.0,1181.0,2954.0,5735.0,4590.0,5690.0,7401.0,2985.0,7117.0,1370.0,3270.0,473.0,2189.0,35940.0,14810.0,45.1,0.0,0.0,0.0,1619.0]                |30397    |32994.72140055988|\n",
      "|[11.0,2022.0,12706.0,9878.0,22455.0,11161.0,11416.0,56014.0,43704.0,152851.0,725.0,3513.0,3279.0,1489.0,3409.0,8088.0,7912.0,11317.0,3309.0,1401.0,9693.0,3514.0,11212.0,31451.0,11453.0,48328.0,15547.0,3836.0,6123.0,95624.0,9961.0,8231.0,13713.0,103379.0,29815.0,4813.0,8222.0,1874.0,981.0,7902.0,4159.0,13198.0,10010.0,1921.0,4570.0,853.0,2244.0,7891.0,2716.0,2833.0,686.0,3649.0,1160.0,419.0,21663.0,2670.0,5213.0,2846.0,5413.0,6384.0,1742.0,3472.0,1429.0,3113.0,6546.0,5476.0,7342.0,9143.0,3745.0,8607.0,1675.0,4305.0,666.0,3018.0,60583.0,16149.0,59.9,0.0,0.0,0.0,1743.0]          |48964    |43063.5390418279 |\n",
      "+-------------------------------------------------------------------------------------------------------------------------------------------------------------------------------------------------------------------------------------------------------------------------------------------------------------------------------------------------------------------------------------------------------------------------------------------------------------------------------------------------------------------------------------------------------------------------------------------------------+---------+-----------------+\n",
      "only showing top 5 rows\n",
      "\n"
     ]
    }
   ],
   "source": [
    "train_df = train_df.na.drop()  # Remove rows with null values\n",
    "\n",
    "# Train Model\n",
    "from pyspark.ml.regression import LinearRegression\n",
    "\n",
    "#Elastic Net\n",
    "lr = LinearRegression(featuresCol = 'features', labelCol='area_sums', regParam=0.3, elasticNetParam=0.8, maxIter=10)\n",
    "lrm = lr.fit(train_df)\n",
    "\n",
    "#coefficients\n",
    "print(\"Coefficients: \" + str(lrm.coefficients))\n",
    "print(\"Intercept: \" + str(lrm.intercept))\n",
    "\n",
    "#model summary\n",
    "print(\"RMSE: %f\" % lrm.summary.rootMeanSquaredError)\n",
    "print(\"r2: %f\" % lrm.summary.r2)\n",
    "\n",
    "# Run the classifier on the test set\n",
    "predictions = lrm.transform(test_df)\n",
    "predictions.select('features','area_sums','prediction').show(5,truncate=False)"
   ]
  },
  {
   "cell_type": "code",
   "execution_count": 52,
   "id": "4a85f573-488a-40f1-b502-642a52298c99",
   "metadata": {},
   "outputs": [
    {
     "name": "stderr",
     "output_type": "stream",
     "text": [
      "                                                                                \r"
     ]
    },
    {
     "name": "stdout",
     "output_type": "stream",
     "text": [
      "RMSE: 5874.389\n"
     ]
    },
    {
     "name": "stderr",
     "output_type": "stream",
     "text": [
      "                                                                                \r"
     ]
    },
    {
     "name": "stdout",
     "output_type": "stream",
     "text": [
      "MSE: 34508445.347\n"
     ]
    },
    {
     "name": "stderr",
     "output_type": "stream",
     "text": [
      "                                                                                \r"
     ]
    },
    {
     "name": "stdout",
     "output_type": "stream",
     "text": [
      "MAE: 4927.196\n"
     ]
    },
    {
     "name": "stderr",
     "output_type": "stream",
     "text": [
      "[Stage 1225:==================================================> (195 + 5) / 200]]\r"
     ]
    },
    {
     "name": "stdout",
     "output_type": "stream",
     "text": [
      "r2: 0.851\n"
     ]
    },
    {
     "name": "stderr",
     "output_type": "stream",
     "text": [
      "                                                                                \r"
     ]
    }
   ],
   "source": [
    "#print evaluation metrics\n",
    "e = RegressionEvaluator(labelCol='area_sums', predictionCol= 'prediction', metricName= 'rmse')\n",
    "\n",
    "# Root Mean Square Error\n",
    "rmse = e.evaluate(predictions)\n",
    "print(\"RMSE: %.3f\" % rmse)\n",
    "\n",
    "# Mean Square Error\n",
    "mse = e.evaluate(predictions, {e.metricName: \"mse\"})\n",
    "print(\"MSE: %.3f\" % mse)\n",
    "\n",
    "# Mean Absolute Error\n",
    "mae = e.evaluate(predictions, {e.metricName: \"mae\"})\n",
    "print(\"MAE: %.3f\" % mae)\n",
    "\n",
    "# r2 - coefficient of determination\n",
    "r2 = e.evaluate(predictions, {e.metricName: \"r2\"})\n",
    "print(\"r2: %.3f\" %r2)"
   ]
  },
  {
   "cell_type": "code",
   "execution_count": 53,
   "id": "0b2dad59-d006-4aaf-ad0a-0d8be9843801",
   "metadata": {},
   "outputs": [
    {
     "name": "stderr",
     "output_type": "stream",
     "text": [
      "                                                                                \r"
     ]
    },
    {
     "name": "stdout",
     "output_type": "stream",
     "text": [
      "+-----+----+---+---+---+---+---+----+----+----+---+---+---+---+---+---+---+---+---+---+---+---+---+----+---+----+---+---+---+----+---+---+---+----+----+---+---+---+---+---+---+---+---+---+---+---+---+---+---+---+---+---+---+---+---+---+---+---+---+---+---+---+---+---+---+---+---+---+---+---+---+---+---+---+----+---+---------+----+------+----+---------+------+--------------------+------------------+\n",
      "|month|year|  1|  2|  3|  4|  5|   6|   7|   8|  9| 10| 11| 12| 13| 14| 15| 16| 17| 18| 19| 20| 21|  22| 23|  24| 25| 26| 27|  28| 29| 30| 31|  32|  33| 34| 35| 36| 37| 38| 40| 43| 44| 45| 46| 47| 48| 49| 50| 51| 52| 53| 54| 55| 56| 57| 58| 59| 60| 61| 62| 63| 64| 65| 66| 67| 68| 69| 70| 71| 72| 73| 74| 75|  76| 77|area_sums|temp|precip|snow|snowdepth|sunset|            features|        prediction|\n",
      "+-----+----+---+---+---+---+---+----+----+----+---+---+---+---+---+---+---+---+---+---+---+---+---+----+---+----+---+---+---+----+---+---+---+----+----+---+---+---+---+---+---+---+---+---+---+---+---+---+---+---+---+---+---+---+---+---+---+---+---+---+---+---+---+---+---+---+---+---+---+---+---+---+---+---+----+---+---------+----+------+----+---------+------+--------------------+------------------+\n",
      "|    7|2023|452|347|900|431|381|2452|1759|6299| 27|131|135| 59|113|331|309|460|114| 44|345|130|398|1214|403|1923|633|156|200|3404|379|264|452|4042|1131|196|349| 62| 47|280|167|452|372| 84|165| 37| 90|317| 86|114| 23|157| 38| 17|755| 83|200|121|206|244| 55|149| 54| 99|233|220|282|355|136|342| 74|202| 24|119|1999|624|     1199|69.8| 3.278| 0.0|      0.0|  2029|[7.0,2023.0,452.0...| 20035.46479816595|\n",
      "|    7|2023|463|365|965|463|444|2559|1962|7393| 34|127|131| 59|112|341|302|429| 97| 56|403|132|443|1310|433|2120|759|192|267|4459|391|336|526|4889|1197|239|321| 56| 46|344|175|541|363| 83|191| 31| 84|375|132| 92| 28|155| 41| 13|700| 90|197|120|223|256| 69|149| 41|109|247|257|267|370|152|375| 74|194| 25|124|1821|609|     1378|81.5|   0.0| 0.0|      0.0|  2028|[7.0,2023.0,463.0...|1412.1392092686146|\n",
      "+-----+----+---+---+---+---+---+----+----+----+---+---+---+---+---+---+---+---+---+---+---+---+---+----+---+----+---+---+---+----+---+---+---+----+----+---+---+---+---+---+---+---+---+---+---+---+---+---+---+---+---+---+---+---+---+---+---+---+---+---+---+---+---+---+---+---+---+---+---+---+---+---+---+---+----+---+---------+----+------+----+---------+------+--------------------+------------------+\n",
      "only showing top 2 rows\n",
      "\n"
     ]
    },
    {
     "name": "stderr",
     "output_type": "stream",
     "text": [
      "                                                                                \r"
     ]
    },
    {
     "name": "stdout",
     "output_type": "stream",
     "text": [
      "+-----+----+---+---+---+---+---+----+----+----+---+---+---+---+---+---+---+---+---+---+---+---+---+----+---+----+---+---+---+----+---+---+---+----+----+---+---+---+---+---+---+---+---+---+---+---+---+---+---+---+---+---+---+---+---+---+---+---+---+---+---+---+---+---+---+---+---+---+---+---+---+---+---+---+----+---+---------+----+------+----+---------+------+\n",
      "|month|year|  1|  2|  3|  4|  5|   6|   7|   8|  9| 10| 11| 12| 13| 14| 15| 16| 17| 18| 19| 20| 21|  22| 23|  24| 25| 26| 27|  28| 29| 30| 31|  32|  33| 34| 35| 36| 37| 38| 40| 43| 44| 45| 46| 47| 48| 49| 50| 51| 52| 53| 54| 55| 56| 57| 58| 59| 60| 61| 62| 63| 64| 65| 66| 67| 68| 69| 70| 71| 72| 73| 74| 75|  76| 77|area_sums|temp|precip|snow|snowdepth|sunset|\n",
      "+-----+----+---+---+---+---+---+----+----+----+---+---+---+---+---+---+---+---+---+---+---+---+---+----+---+----+---+---+---+----+---+---+---+----+----+---+---+---+---+---+---+---+---+---+---+---+---+---+---+---+---+---+---+---+---+---+---+---+---+---+---+---+---+---+---+---+---+---+---+---+---+---+---+---+----+---+---------+----+------+----+---------+------+\n",
      "|    7|2023|452|347|900|431|381|2452|1759|6299| 27|131|135| 59|113|331|309|460|114| 44|345|130|398|1214|403|1923|633|156|200|3404|379|264|452|4042|1131|196|349| 62| 47|280|167|452|372| 84|165| 37| 90|317| 86|114| 23|157| 38| 17|755| 83|200|121|206|244| 55|149| 54| 99|233|220|282|355|136|342| 74|202| 24|119|1999|624|     1199|69.8| 3.278| 0.0|      0.0|  2029|\n",
      "|    7|2023|463|365|965|463|444|2559|1962|7393| 34|127|131| 59|112|341|302|429| 97| 56|403|132|443|1310|433|2120|759|192|267|4459|391|336|526|4889|1197|239|321| 56| 46|344|175|541|363| 83|191| 31| 84|375|132| 92| 28|155| 41| 13|700| 90|197|120|223|256| 69|149| 41|109|247|257|267|370|152|375| 74|194| 25|124|1821|609|     1378|81.5|   0.0| 0.0|      0.0|  2028|\n",
      "+-----+----+---+---+---+---+---+----+----+----+---+---+---+---+---+---+---+---+---+---+---+---+---+----+---+----+---+---+---+----+---+---+---+----+----+---+---+---+---+---+---+---+---+---+---+---+---+---+---+---+---+---+---+---+---+---+---+---+---+---+---+---+---+---+---+---+---+---+---+---+---+---+---+---+----+---+---------+----+------+----+---------+------+\n",
      "only showing top 2 rows\n",
      "\n"
     ]
    },
    {
     "name": "stderr",
     "output_type": "stream",
     "text": [
      "                                                                                \r"
     ]
    },
    {
     "data": {
      "text/plain": [
       "<AxesSubplot:xlabel='month'>"
      ]
     },
     "execution_count": 53,
     "metadata": {},
     "output_type": "execute_result"
    },
    {
     "data": {
      "image/png": "[encoded data removed]",
      "text/plain": [
       "<Figure size 640x480 with 1 Axes>"
      ]
     },
     "metadata": {},
     "output_type": "display_data"
    }
   ],
   "source": [
    "# save model\n",
    "model_path = \"gs://msca-bdp-student-gcs/bdp-rideshare-project/models/program_reduction_model\"\n",
    "lrm.save(model_path)\n",
    "\n",
    "# dataframe that is the true counts\n",
    "df_real = df_3\n",
    "\n",
    "# take the real data and create predictions to compare\n",
    "df_real_vector = vectorAssembler.transform(df_real)\n",
    "df_first_predictions = lrm.transform(df_real_vector)\n",
    "\n",
    "# now group by month and sum counts and plot\n",
    "monthly_real = df_real.groupBy('month').sum('area_sums')\n",
    "monthly_first_preds = df_first_predictions.groupby('month').sum('prediction')\n",
    "\n",
    "monthly_real_pd = monthly_real.toPandas()\n",
    "monthly_first_preds_pd = monthly_first_preds.toPandas()\n",
    "combined_df = monthly_real_pd.merge(monthly_first_preds_pd, left_on='month', right_on='month', how='inner')\n",
    "\n",
    "combined_df.columns = ['month','actual_post_reduction','predicted_post_reduction']\n",
    "combined_df = combined_df.sort_values(by=['month']).set_index('month')\n",
    "combined_df.plot(kind='line')"
   ]
  },
  {
   "cell_type": "code",
   "execution_count": 54,
   "id": "7ebfd0b8-ca59-4947-9a06-56fd08b4bbd2",
   "metadata": {},
   "outputs": [
    {
     "data": {
      "text/html": [
       "<div>\n",
       "<style scoped>\n",
       "    .dataframe tbody tr th:only-of-type {\n",
       "        vertical-align: middle;\n",
       "    }\n",
       "\n",
       "    .dataframe tbody tr th {\n",
       "        vertical-align: top;\n",
       "    }\n",
       "\n",
       "    .dataframe thead th {\n",
       "        text-align: right;\n",
       "    }\n",
       "</style>\n",
       "<table border=\"1\" class=\"dataframe\">\n",
       "  <thead>\n",
       "    <tr style=\"text-align: right;\">\n",
       "      <th></th>\n",
       "      <th>actual_post_reduction</th>\n",
       "      <th>predicted_post_reduction</th>\n",
       "    </tr>\n",
       "    <tr>\n",
       "      <th>month</th>\n",
       "      <th></th>\n",
       "      <th></th>\n",
       "    </tr>\n",
       "  </thead>\n",
       "  <tbody>\n",
       "    <tr>\n",
       "      <th>7</th>\n",
       "      <td>10666</td>\n",
       "      <td>36928.352373</td>\n",
       "    </tr>\n",
       "    <tr>\n",
       "      <th>8</th>\n",
       "      <td>6681</td>\n",
       "      <td>6186.443012</td>\n",
       "    </tr>\n",
       "    <tr>\n",
       "      <th>9</th>\n",
       "      <td>228913</td>\n",
       "      <td>262678.673214</td>\n",
       "    </tr>\n",
       "  </tbody>\n",
       "</table>\n",
       "</div>"
      ],
      "text/plain": [
       "       actual_post_reduction  predicted_post_reduction\n",
       "month                                                 \n",
       "7                      10666              36928.352373\n",
       "8                       6681               6186.443012\n",
       "9                     228913             262678.673214"
      ]
     },
     "execution_count": 54,
     "metadata": {},
     "output_type": "execute_result"
    }
   ],
   "source": [
    "combined_df"
   ]
  },
  {
   "cell_type": "markdown",
   "id": "54413c6b-49f7-418a-a9b9-97862a4976a9",
   "metadata": {},
   "source": [
    "## Abe Notes for harsh\n",
    "\n",
    "Ok so I ran these models without cross validation and saved them to the models folder in GCS. We can do cross validation if you have time to debug and run. If you have to rerun any of my code, I would consider repartitioning because its still going through 600 partitions for the tiny datset we're working with. The plots could be improved by  putting in the pre-trends and giving them better titles and labels as well I just ran out of time to do that. It shouldn't take long to do that. Let me know if you're confused about anything I did. I think its possible this is good enough for a final product once the plots have pre-trends added and things are cleaned up. That could also give you more time to check on our groupmates if necessary haha. We're getting close."
   ]
  },
  {
   "cell_type": "markdown",
   "id": "4a8f0db1-4c39-4a3f-a340-303747b3ae29",
   "metadata": {},
   "source": [
    "# pseudocode if we want to do cross validation"
   ]
  },
  {
   "cell_type": "code",
   "execution_count": null,
   "id": "a2a0a967-aa2f-4a97-bb0d-811bf528eb0a",
   "metadata": {},
   "outputs": [],
   "source": [
    "#taken from ashish's notebook- to check if we need to convert anything to labels\n",
    "def labelForResults(s):\n",
    "    if s == 'Fail':\n",
    "        return 0.0\n",
    "    elif s == 'Pass w/ Conditions' or s == 'Pass':\n",
    "        return 1.0\n",
    "    else:\n",
    "        return -1.0\n",
    "    \n",
    "#add labels to the original dataset    \n",
    "label = UserDefinedFunction(labelForResults, DoubleType())\n",
    "labeledData = df.select(df.Violations,label(df.Results).alias('label')).where('label >= 0')\n",
    "labeledData.show(10, truncate=False)"
   ]
  },
  {
   "cell_type": "code",
   "execution_count": 45,
   "id": "115c0a40-ec37-419a-ae05-4115adad625f",
   "metadata": {},
   "outputs": [
    {
     "name": "stderr",
     "output_type": "stream",
     "text": [
      "23/11/25 03:43:39 WARN org.apache.spark.sql.execution.CacheManager: Asked to cache already cached data.\n",
      "23/11/25 03:43:39 WARN org.apache.spark.sql.execution.CacheManager: Asked to cache already cached data.\n"
     ]
    },
    {
     "ename": "IllegalArgumentException",
     "evalue": "label does not exist. Available: month, year, 1, 2, 3, 4, 5, 6, 7, 8, 9, 10, 11, 12, 13, 14, 15, 16, 17, 18, 19, 20, 21, 22, 23, 24, 25, 26, 27, 28, 29, 30, 31, 32, 33, 34, 35, 36, 37, 38, 40, 43, 44, 45, 46, 47, 48, 49, 50, 51, 52, 53, 54, 55, 56, 57, 58, 59, 60, 61, 62, 63, 64, 65, 66, 67, 68, 69, 70, 71, 72, 73, 74, 75, 76, 77, area_sums, temp, precip, snow, snowdepth, sunset, features, CrossValidator_82ced15f4dc7_rand, prediction",
     "output_type": "error",
     "traceback": [
      "\u001b[0;31m---------------------------------------------------------------------------\u001b[0m",
      "\u001b[0;31mIllegalArgumentException\u001b[0m                  Traceback (most recent call last)",
      "Cell \u001b[0;32mIn[45], line 14\u001b[0m\n\u001b[1;32m      8\u001b[0m crossval \u001b[38;5;241m=\u001b[39m CrossValidator(estimator\u001b[38;5;241m=\u001b[39mlr,\n\u001b[1;32m      9\u001b[0m                           estimatorParamMaps\u001b[38;5;241m=\u001b[39mparamGrid,\n\u001b[1;32m     10\u001b[0m                           evaluator\u001b[38;5;241m=\u001b[39mRegressionEvaluator(),\n\u001b[1;32m     11\u001b[0m                           numFolds\u001b[38;5;241m=\u001b[39m\u001b[38;5;241m10\u001b[39m) \n\u001b[1;32m     13\u001b[0m \u001b[38;5;66;03m# Run cross-validation, and choose the best set of parameters.\u001b[39;00m\n\u001b[0;32m---> 14\u001b[0m cvModel \u001b[38;5;241m=\u001b[39m \u001b[43mcrossval\u001b[49m\u001b[38;5;241;43m.\u001b[39;49m\u001b[43mfit\u001b[49m\u001b[43m(\u001b[49m\u001b[43mtrain_df\u001b[49m\u001b[43m)\u001b[49m\n",
      "File \u001b[0;32m/usr/lib/spark/python/pyspark/ml/base.py:161\u001b[0m, in \u001b[0;36mEstimator.fit\u001b[0;34m(self, dataset, params)\u001b[0m\n\u001b[1;32m    159\u001b[0m         \u001b[38;5;28;01mreturn\u001b[39;00m \u001b[38;5;28mself\u001b[39m\u001b[38;5;241m.\u001b[39mcopy(params)\u001b[38;5;241m.\u001b[39m_fit(dataset)\n\u001b[1;32m    160\u001b[0m     \u001b[38;5;28;01melse\u001b[39;00m:\n\u001b[0;32m--> 161\u001b[0m         \u001b[38;5;28;01mreturn\u001b[39;00m \u001b[38;5;28;43mself\u001b[39;49m\u001b[38;5;241;43m.\u001b[39;49m\u001b[43m_fit\u001b[49m\u001b[43m(\u001b[49m\u001b[43mdataset\u001b[49m\u001b[43m)\u001b[49m\n\u001b[1;32m    162\u001b[0m \u001b[38;5;28;01melse\u001b[39;00m:\n\u001b[1;32m    163\u001b[0m     \u001b[38;5;28;01mraise\u001b[39;00m \u001b[38;5;167;01mValueError\u001b[39;00m(\u001b[38;5;124m\"\u001b[39m\u001b[38;5;124mParams must be either a param map or a list/tuple of param maps, \u001b[39m\u001b[38;5;124m\"\u001b[39m\n\u001b[1;32m    164\u001b[0m                      \u001b[38;5;124m\"\u001b[39m\u001b[38;5;124mbut got \u001b[39m\u001b[38;5;132;01m%s\u001b[39;00m\u001b[38;5;124m.\u001b[39m\u001b[38;5;124m\"\u001b[39m \u001b[38;5;241m%\u001b[39m \u001b[38;5;28mtype\u001b[39m(params))\n",
      "File \u001b[0;32m/usr/lib/spark/python/pyspark/ml/tuning.py:687\u001b[0m, in \u001b[0;36mCrossValidator._fit\u001b[0;34m(self, dataset)\u001b[0m\n\u001b[1;32m    684\u001b[0m train \u001b[38;5;241m=\u001b[39m datasets[i][\u001b[38;5;241m0\u001b[39m]\u001b[38;5;241m.\u001b[39mcache()\n\u001b[1;32m    686\u001b[0m tasks \u001b[38;5;241m=\u001b[39m _parallelFitTasks(est, train, eva, validation, epm, collectSubModelsParam)\n\u001b[0;32m--> 687\u001b[0m \u001b[38;5;28;01mfor\u001b[39;00m j, metric, subModel \u001b[38;5;129;01min\u001b[39;00m pool\u001b[38;5;241m.\u001b[39mimap_unordered(\u001b[38;5;28;01mlambda\u001b[39;00m f: f(), tasks):\n\u001b[1;32m    688\u001b[0m     metrics[j] \u001b[38;5;241m+\u001b[39m\u001b[38;5;241m=\u001b[39m (metric \u001b[38;5;241m/\u001b[39m nFolds)\n\u001b[1;32m    689\u001b[0m     \u001b[38;5;28;01mif\u001b[39;00m collectSubModelsParam:\n",
      "File \u001b[0;32m/opt/conda/miniconda3/lib/python3.8/multiprocessing/pool.py:868\u001b[0m, in \u001b[0;36mIMapIterator.next\u001b[0;34m(self, timeout)\u001b[0m\n\u001b[1;32m    866\u001b[0m \u001b[38;5;28;01mif\u001b[39;00m success:\n\u001b[1;32m    867\u001b[0m     \u001b[38;5;28;01mreturn\u001b[39;00m value\n\u001b[0;32m--> 868\u001b[0m \u001b[38;5;28;01mraise\u001b[39;00m value\n",
      "File \u001b[0;32m/opt/conda/miniconda3/lib/python3.8/multiprocessing/pool.py:125\u001b[0m, in \u001b[0;36mworker\u001b[0;34m(inqueue, outqueue, initializer, initargs, maxtasks, wrap_exception)\u001b[0m\n\u001b[1;32m    123\u001b[0m job, i, func, args, kwds \u001b[38;5;241m=\u001b[39m task\n\u001b[1;32m    124\u001b[0m \u001b[38;5;28;01mtry\u001b[39;00m:\n\u001b[0;32m--> 125\u001b[0m     result \u001b[38;5;241m=\u001b[39m (\u001b[38;5;28;01mTrue\u001b[39;00m, \u001b[43mfunc\u001b[49m\u001b[43m(\u001b[49m\u001b[38;5;241;43m*\u001b[39;49m\u001b[43margs\u001b[49m\u001b[43m,\u001b[49m\u001b[43m \u001b[49m\u001b[38;5;241;43m*\u001b[39;49m\u001b[38;5;241;43m*\u001b[39;49m\u001b[43mkwds\u001b[49m\u001b[43m)\u001b[49m)\n\u001b[1;32m    126\u001b[0m \u001b[38;5;28;01mexcept\u001b[39;00m \u001b[38;5;167;01mException\u001b[39;00m \u001b[38;5;28;01mas\u001b[39;00m e:\n\u001b[1;32m    127\u001b[0m     \u001b[38;5;28;01mif\u001b[39;00m wrap_exception \u001b[38;5;129;01mand\u001b[39;00m func \u001b[38;5;129;01mis\u001b[39;00m \u001b[38;5;129;01mnot\u001b[39;00m _helper_reraises_exception:\n",
      "File \u001b[0;32m/usr/lib/spark/python/pyspark/ml/tuning.py:687\u001b[0m, in \u001b[0;36mCrossValidator._fit.<locals>.<lambda>\u001b[0;34m(f)\u001b[0m\n\u001b[1;32m    684\u001b[0m train \u001b[38;5;241m=\u001b[39m datasets[i][\u001b[38;5;241m0\u001b[39m]\u001b[38;5;241m.\u001b[39mcache()\n\u001b[1;32m    686\u001b[0m tasks \u001b[38;5;241m=\u001b[39m _parallelFitTasks(est, train, eva, validation, epm, collectSubModelsParam)\n\u001b[0;32m--> 687\u001b[0m \u001b[38;5;28;01mfor\u001b[39;00m j, metric, subModel \u001b[38;5;129;01min\u001b[39;00m pool\u001b[38;5;241m.\u001b[39mimap_unordered(\u001b[38;5;28;01mlambda\u001b[39;00m f: \u001b[43mf\u001b[49m\u001b[43m(\u001b[49m\u001b[43m)\u001b[49m, tasks):\n\u001b[1;32m    688\u001b[0m     metrics[j] \u001b[38;5;241m+\u001b[39m\u001b[38;5;241m=\u001b[39m (metric \u001b[38;5;241m/\u001b[39m nFolds)\n\u001b[1;32m    689\u001b[0m     \u001b[38;5;28;01mif\u001b[39;00m collectSubModelsParam:\n",
      "File \u001b[0;32m/usr/lib/spark/python/pyspark/ml/tuning.py:74\u001b[0m, in \u001b[0;36m_parallelFitTasks.<locals>.singleTask\u001b[0;34m()\u001b[0m\n\u001b[1;32m     69\u001b[0m index, model \u001b[38;5;241m=\u001b[39m \u001b[38;5;28mnext\u001b[39m(modelIter)\n\u001b[1;32m     70\u001b[0m \u001b[38;5;66;03m# TODO: duplicate evaluator to take extra params from input\u001b[39;00m\n\u001b[1;32m     71\u001b[0m \u001b[38;5;66;03m#  Note: Supporting tuning params in evaluator need update method\u001b[39;00m\n\u001b[1;32m     72\u001b[0m \u001b[38;5;66;03m#  `MetaAlgorithmReadWrite.getAllNestedStages`, make it return\u001b[39;00m\n\u001b[1;32m     73\u001b[0m \u001b[38;5;66;03m#  all nested stages and evaluators\u001b[39;00m\n\u001b[0;32m---> 74\u001b[0m metric \u001b[38;5;241m=\u001b[39m \u001b[43meva\u001b[49m\u001b[38;5;241;43m.\u001b[39;49m\u001b[43mevaluate\u001b[49m\u001b[43m(\u001b[49m\u001b[43mmodel\u001b[49m\u001b[38;5;241;43m.\u001b[39;49m\u001b[43mtransform\u001b[49m\u001b[43m(\u001b[49m\u001b[43mvalidation\u001b[49m\u001b[43m,\u001b[49m\u001b[43m \u001b[49m\u001b[43mepm\u001b[49m\u001b[43m[\u001b[49m\u001b[43mindex\u001b[49m\u001b[43m]\u001b[49m\u001b[43m)\u001b[49m\u001b[43m)\u001b[49m\n\u001b[1;32m     75\u001b[0m \u001b[38;5;28;01mreturn\u001b[39;00m index, metric, model \u001b[38;5;28;01mif\u001b[39;00m collectSubModel \u001b[38;5;28;01melse\u001b[39;00m \u001b[38;5;28;01mNone\u001b[39;00m\n",
      "File \u001b[0;32m/usr/lib/spark/python/pyspark/ml/evaluation.py:84\u001b[0m, in \u001b[0;36mEvaluator.evaluate\u001b[0;34m(self, dataset, params)\u001b[0m\n\u001b[1;32m     82\u001b[0m         \u001b[38;5;28;01mreturn\u001b[39;00m \u001b[38;5;28mself\u001b[39m\u001b[38;5;241m.\u001b[39mcopy(params)\u001b[38;5;241m.\u001b[39m_evaluate(dataset)\n\u001b[1;32m     83\u001b[0m     \u001b[38;5;28;01melse\u001b[39;00m:\n\u001b[0;32m---> 84\u001b[0m         \u001b[38;5;28;01mreturn\u001b[39;00m \u001b[38;5;28;43mself\u001b[39;49m\u001b[38;5;241;43m.\u001b[39;49m\u001b[43m_evaluate\u001b[49m\u001b[43m(\u001b[49m\u001b[43mdataset\u001b[49m\u001b[43m)\u001b[49m\n\u001b[1;32m     85\u001b[0m \u001b[38;5;28;01melse\u001b[39;00m:\n\u001b[1;32m     86\u001b[0m     \u001b[38;5;28;01mraise\u001b[39;00m \u001b[38;5;167;01mValueError\u001b[39;00m(\u001b[38;5;124m\"\u001b[39m\u001b[38;5;124mParams must be a param map but got \u001b[39m\u001b[38;5;132;01m%s\u001b[39;00m\u001b[38;5;124m.\u001b[39m\u001b[38;5;124m\"\u001b[39m \u001b[38;5;241m%\u001b[39m \u001b[38;5;28mtype\u001b[39m(params))\n",
      "File \u001b[0;32m/usr/lib/spark/python/pyspark/ml/evaluation.py:120\u001b[0m, in \u001b[0;36mJavaEvaluator._evaluate\u001b[0;34m(self, dataset)\u001b[0m\n\u001b[1;32m    106\u001b[0m \u001b[38;5;250m\u001b[39m\u001b[38;5;124;03m\"\"\"\u001b[39;00m\n\u001b[1;32m    107\u001b[0m \u001b[38;5;124;03mEvaluates the output.\u001b[39;00m\n\u001b[1;32m    108\u001b[0m \n\u001b[0;32m   (...)\u001b[0m\n\u001b[1;32m    117\u001b[0m \u001b[38;5;124;03m    evaluation metric\u001b[39;00m\n\u001b[1;32m    118\u001b[0m \u001b[38;5;124;03m\"\"\"\u001b[39;00m\n\u001b[1;32m    119\u001b[0m \u001b[38;5;28mself\u001b[39m\u001b[38;5;241m.\u001b[39m_transfer_params_to_java()\n\u001b[0;32m--> 120\u001b[0m \u001b[38;5;28;01mreturn\u001b[39;00m \u001b[38;5;28;43mself\u001b[39;49m\u001b[38;5;241;43m.\u001b[39;49m\u001b[43m_java_obj\u001b[49m\u001b[38;5;241;43m.\u001b[39;49m\u001b[43mevaluate\u001b[49m\u001b[43m(\u001b[49m\u001b[43mdataset\u001b[49m\u001b[38;5;241;43m.\u001b[39;49m\u001b[43m_jdf\u001b[49m\u001b[43m)\u001b[49m\n",
      "File \u001b[0;32m/usr/lib/spark/python/lib/py4j-0.10.9-src.zip/py4j/java_gateway.py:1304\u001b[0m, in \u001b[0;36mJavaMember.__call__\u001b[0;34m(self, *args)\u001b[0m\n\u001b[1;32m   1298\u001b[0m command \u001b[38;5;241m=\u001b[39m proto\u001b[38;5;241m.\u001b[39mCALL_COMMAND_NAME \u001b[38;5;241m+\u001b[39m\\\n\u001b[1;32m   1299\u001b[0m     \u001b[38;5;28mself\u001b[39m\u001b[38;5;241m.\u001b[39mcommand_header \u001b[38;5;241m+\u001b[39m\\\n\u001b[1;32m   1300\u001b[0m     args_command \u001b[38;5;241m+\u001b[39m\\\n\u001b[1;32m   1301\u001b[0m     proto\u001b[38;5;241m.\u001b[39mEND_COMMAND_PART\n\u001b[1;32m   1303\u001b[0m answer \u001b[38;5;241m=\u001b[39m \u001b[38;5;28mself\u001b[39m\u001b[38;5;241m.\u001b[39mgateway_client\u001b[38;5;241m.\u001b[39msend_command(command)\n\u001b[0;32m-> 1304\u001b[0m return_value \u001b[38;5;241m=\u001b[39m \u001b[43mget_return_value\u001b[49m\u001b[43m(\u001b[49m\n\u001b[1;32m   1305\u001b[0m \u001b[43m    \u001b[49m\u001b[43manswer\u001b[49m\u001b[43m,\u001b[49m\u001b[43m \u001b[49m\u001b[38;5;28;43mself\u001b[39;49m\u001b[38;5;241;43m.\u001b[39;49m\u001b[43mgateway_client\u001b[49m\u001b[43m,\u001b[49m\u001b[43m \u001b[49m\u001b[38;5;28;43mself\u001b[39;49m\u001b[38;5;241;43m.\u001b[39;49m\u001b[43mtarget_id\u001b[49m\u001b[43m,\u001b[49m\u001b[43m \u001b[49m\u001b[38;5;28;43mself\u001b[39;49m\u001b[38;5;241;43m.\u001b[39;49m\u001b[43mname\u001b[49m\u001b[43m)\u001b[49m\n\u001b[1;32m   1307\u001b[0m \u001b[38;5;28;01mfor\u001b[39;00m temp_arg \u001b[38;5;129;01min\u001b[39;00m temp_args:\n\u001b[1;32m   1308\u001b[0m     temp_arg\u001b[38;5;241m.\u001b[39m_detach()\n",
      "File \u001b[0;32m/usr/lib/spark/python/pyspark/sql/utils.py:117\u001b[0m, in \u001b[0;36mcapture_sql_exception.<locals>.deco\u001b[0;34m(*a, **kw)\u001b[0m\n\u001b[1;32m    113\u001b[0m converted \u001b[38;5;241m=\u001b[39m convert_exception(e\u001b[38;5;241m.\u001b[39mjava_exception)\n\u001b[1;32m    114\u001b[0m \u001b[38;5;28;01mif\u001b[39;00m \u001b[38;5;129;01mnot\u001b[39;00m \u001b[38;5;28misinstance\u001b[39m(converted, UnknownException):\n\u001b[1;32m    115\u001b[0m     \u001b[38;5;66;03m# Hide where the exception came from that shows a non-Pythonic\u001b[39;00m\n\u001b[1;32m    116\u001b[0m     \u001b[38;5;66;03m# JVM exception message.\u001b[39;00m\n\u001b[0;32m--> 117\u001b[0m     \u001b[38;5;28;01mraise\u001b[39;00m converted \u001b[38;5;28;01mfrom\u001b[39;00m \u001b[38;5;28;01mNone\u001b[39;00m\n\u001b[1;32m    118\u001b[0m \u001b[38;5;28;01melse\u001b[39;00m:\n\u001b[1;32m    119\u001b[0m     \u001b[38;5;28;01mraise\u001b[39;00m\n",
      "\u001b[0;31mIllegalArgumentException\u001b[0m: label does not exist. Available: month, year, 1, 2, 3, 4, 5, 6, 7, 8, 9, 10, 11, 12, 13, 14, 15, 16, 17, 18, 19, 20, 21, 22, 23, 24, 25, 26, 27, 28, 29, 30, 31, 32, 33, 34, 35, 36, 37, 38, 40, 43, 44, 45, 46, 47, 48, 49, 50, 51, 52, 53, 54, 55, 56, 57, 58, 59, 60, 61, 62, 63, 64, 65, 66, 67, 68, 69, 70, 71, 72, 73, 74, 75, 76, 77, area_sums, temp, precip, snow, snowdepth, sunset, features, CrossValidator_82ced15f4dc7_rand, prediction"
     ]
    }
   ],
   "source": [
    "# an open question for me is that in Ashish's code and online examples, the model is fit and tested on the same full dataset. which is confusing to me\n",
    "# I would think you would fit on training and transform the test set. Something to look into.\n",
    "\n",
    "# look to adjust the parameters regparam and elastic net\n",
    "\n",
    "paramGrid = ParamGridBuilder().addGrid(lr.regParam, [0.1, 0.01]).addGrid(\n",
    "    lr.elasticNetParam, [0.2, 0.4,0.6, 0.8,1.0]).build() \n",
    "crossval = CrossValidator(estimator=lr,\n",
    "                          estimatorParamMaps=paramGrid,\n",
    "                          evaluator=RegressionEvaluator(),\n",
    "                          numFolds=10) \n",
    "\n",
    "# Run cross-validation, and choose the best set of parameters.\n",
    "cvModel = crossval.fit(train_df)\n"
   ]
  },
  {
   "cell_type": "code",
   "execution_count": null,
   "id": "7296e8c3-ddff-4124-bf9d-01755471bda1",
   "metadata": {},
   "outputs": [],
   "source": [
    "\n",
    "# Save the model in a location so we don't have to rerun this\n",
    "model_path = \"gs://msca-bdp-student-gcs/bdp-rideshare-project/models/supervised_model/\"\n",
    "cvModel.write().save(model_path)\n",
    "\n",
    "# Read the model back in\n",
    "cvModelRead = CrossValidatorModel.read().load(model_path)\n",
    "\n",
    "# Make predictions on test documents. cvModel uses the best model found (lrModel).\n",
    "predictions = cvModel.transform(test_df)"
   ]
  }
 ],
 "metadata": {
  "kernelspec": {
   "display_name": "PySpark",
   "language": "python",
   "name": "pyspark"
  },
  "language_info": {
   "codemirror_mode": {
    "name": "ipython",
    "version": 3
   },
   "file_extension": ".py",
   "mimetype": "text/x-python",
   "name": "python",
   "nbconvert_exporter": "python",
   "pygments_lexer": "ipython3",
   "version": "3.8.15"
  }
 },
 "nbformat": 4,
 "nbformat_minor": 5
}
